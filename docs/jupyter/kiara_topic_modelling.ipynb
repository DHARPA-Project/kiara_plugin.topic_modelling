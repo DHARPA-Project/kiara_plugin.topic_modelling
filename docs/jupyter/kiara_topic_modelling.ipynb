{
 "cells": [
  {
   "cell_type": "code",
   "execution_count": 2,
   "metadata": {},
   "outputs": [],
   "source": [
    "# install the package by running the command \"pip install git+https://github.com/DHARPA-Project/kiara_plugin.topic_modelling\"\n",
    "# in your virtual environment.\n",
    "# Alternatively, uncomment and run the line below.\n",
    "# ! pip install git+https://github.com/DHARPA-Project/kiara_plugin.topic_modelling"
   ]
  },
  {
   "cell_type": "code",
   "execution_count": 3,
   "metadata": {},
   "outputs": [],
   "source": [
    "from kiara.api import KiaraAPI\n",
    "kiara = KiaraAPI.instance()"
   ]
  },
  {
   "cell_type": "markdown",
   "metadata": {},
   "source": [
    "## 1. Data onboarding"
   ]
  },
  {
   "cell_type": "markdown",
   "metadata": {},
   "source": [
    "Choose one of the two options below (1.1, 1.2 or 1.3) to onboard data.\n",
    "Option 1.3 uses example data present in the topic modelling plugin."
   ]
  },
  {
   "cell_type": "markdown",
   "metadata": {},
   "source": [
    "### 1.1. Get files from zenodo"
   ]
  },
  {
   "cell_type": "code",
   "execution_count": 4,
   "metadata": {},
   "outputs": [
    {
     "name": "stdout",
     "output_type": "stream",
     "text": [
      "\n",
      "╭─ Operation: \u001b[1;3mtopic_modelling.create_table_from_zenodo\u001b[0m ────────────────────────╮\n",
      "│                                                                              │\n",
      "│  \u001b[3m \u001b[0m\u001b[3mDocumentation\u001b[0m\u001b[3m \u001b[0m  This module retrieves text files from a specified folder   │\n",
      "│  \u001b[3m               \u001b[0m  hosted on Zenodo.                                          │\n",
      "│  \u001b[3m               \u001b[0m                                                             │\n",
      "│  \u001b[3m               \u001b[0m  It takes the DOI and the name of the file as inputs. It    │\n",
      "│  \u001b[3m               \u001b[0m  outputs a table with two columns: one for the file names   │\n",
      "│  \u001b[3m               \u001b[0m  and the other for the content of these files.              │\n",
      "│  \u001b[3m               \u001b[0m                                                             │\n",
      "│  \u001b[3m               \u001b[0m  Dependencies:                                              │\n",
      "│  \u001b[3m               \u001b[0m                                                             │\n",
      "│  \u001b[3m               \u001b[0m  \u001b[1;33m • \u001b[0murllib.request:                                         │\n",
      "│  \u001b[3m               \u001b[0m  \u001b[1;33m   \u001b[0mhttps://docs.python.org/3/library/urllib.request.html   │\n",
      "│  \u001b[3m               \u001b[0m  \u001b[1;33m • \u001b[0mzipfile:                                                │\n",
      "│  \u001b[3m               \u001b[0m  \u001b[1;33m   \u001b[0mhttps://docs.python.org/3/library/zipfile.html          │\n",
      "│  \u001b[3m               \u001b[0m  \u001b[1;33m • \u001b[0mpolars: https://www.pola.rs/                            │\n",
      "│                                                                              │\n",
      "│  \u001b[3m \u001b[0m\u001b[3mInputs       \u001b[0m\u001b[3m \u001b[0m                                                             │\n",
      "│  \u001b[3m               \u001b[0m   \u001b[1m \u001b[0m\u001b[1mfield    \u001b[0m\u001b[1m \u001b[0m \u001b[1m        \u001b[0m \u001b[1m          \u001b[0m \u001b[1m          \u001b[0m \u001b[1m           \u001b[0m    │\n",
      "│  \u001b[3m               \u001b[0m   \u001b[1m \u001b[0m\u001b[1mname     \u001b[0m\u001b[1m \u001b[0m \u001b[1m \u001b[0m\u001b[1mtype  \u001b[0m\u001b[1m \u001b[0m \u001b[1m \u001b[0m\u001b[1mdescrip…\u001b[0m\u001b[1m \u001b[0m \u001b[1m \u001b[0m\u001b[1mRequired\u001b[0m\u001b[1m \u001b[0m \u001b[1m \u001b[0m\u001b[1mDefault  \u001b[0m\u001b[1m \u001b[0m    │\n",
      "│  \u001b[3m               \u001b[0m   ──────────────────────────────────────────────────────    │\n",
      "│  \u001b[3m               \u001b[0m   \u001b[3m \u001b[0m\u001b[3mdoi      \u001b[0m\u001b[3m \u001b[0m  string   The        \u001b[1myes\u001b[0m        -- no         │\n",
      "│  \u001b[3m               \u001b[0m   \u001b[3m           \u001b[0m           Digital               default       │\n",
      "│  \u001b[3m               \u001b[0m   \u001b[3m           \u001b[0m           Object                --            │\n",
      "│  \u001b[3m               \u001b[0m   \u001b[3m           \u001b[0m           Identif…                            │\n",
      "│  \u001b[3m               \u001b[0m   \u001b[3m           \u001b[0m           for the                             │\n",
      "│  \u001b[3m               \u001b[0m   \u001b[3m           \u001b[0m           resourc…                            │\n",
      "│  \u001b[3m               \u001b[0m   \u001b[3m \u001b[0m\u001b[3mfile_name\u001b[0m\u001b[3m \u001b[0m  string   The name   \u001b[1myes\u001b[0m        -- no         │\n",
      "│  \u001b[3m               \u001b[0m   \u001b[3m           \u001b[0m           of the                default       │\n",
      "│  \u001b[3m               \u001b[0m   \u001b[3m           \u001b[0m           file to               --            │\n",
      "│  \u001b[3m               \u001b[0m   \u001b[3m           \u001b[0m           be                                  │\n",
      "│  \u001b[3m               \u001b[0m   \u001b[3m           \u001b[0m           process…                            │\n",
      "│  \u001b[3m               \u001b[0m                                                             │\n",
      "│                                                                              │\n",
      "│  \u001b[3m \u001b[0m\u001b[3mOutputs      \u001b[0m\u001b[3m \u001b[0m                                                             │\n",
      "│  \u001b[3m               \u001b[0m   \u001b[1m \u001b[0m\u001b[1mfield name  \u001b[0m\u001b[1m \u001b[0m \u001b[1m \u001b[0m\u001b[1mtype \u001b[0m\u001b[1m \u001b[0m \u001b[1m \u001b[0m\u001b[1mdescription                  \u001b[0m\u001b[1m \u001b[0m    │\n",
      "│  \u001b[3m               \u001b[0m   ──────────────────────────────────────────────────────    │\n",
      "│  \u001b[3m               \u001b[0m   \u001b[3m \u001b[0m\u001b[3mcorpus_table\u001b[0m\u001b[3m \u001b[0m  table   A table with two columns:         │\n",
      "│  \u001b[3m               \u001b[0m   \u001b[3m              \u001b[0m          file names and their              │\n",
      "│  \u001b[3m               \u001b[0m   \u001b[3m              \u001b[0m          contents.                         │\n",
      "│  \u001b[3m               \u001b[0m                                                             │\n",
      "│                                                                              │\n",
      "╰──────────────────────────────────────────────────────────────────────────────╯\n"
     ]
    }
   ],
   "source": [
    "! kiara operation explain topic_modelling.create_table_from_zenodo"
   ]
  },
  {
   "cell_type": "code",
   "execution_count": 5,
   "metadata": {},
   "outputs": [],
   "source": [
    "create_table_from_zenodo_inputs = {\n",
    "    \"doi\": \"4596345\",\n",
    "    \"file_name\": \"ChroniclItaly_3.0_original.zip\"\n",
    "}"
   ]
  },
  {
   "cell_type": "code",
   "execution_count": 6,
   "metadata": {},
   "outputs": [],
   "source": [
    "create_table_from_zenodo_results = kiara.run_job('topic_modelling.create_table_from_zenodo', inputs=create_table_from_zenodo_inputs)"
   ]
  },
  {
   "cell_type": "code",
   "execution_count": 7,
   "metadata": {},
   "outputs": [
    {
     "data": {
      "text/html": [
       "<pre style=\"white-space:pre;overflow-x:auto;line-height:normal;font-family:Menlo,'DejaVu Sans Mono',consolas,'Courier New',monospace\">╭──────────────────────────────────────────────────────────────────────────────────────────────────────────────────────────────────────────╮\n",
       "│                                                                                                                                          │\n",
       "│  <span style=\"font-weight: bold\"> field        </span> <span style=\"font-weight: bold\"> value                                                                                                                 </span>  │\n",
       "│  ──────────────────────────────────────────────────────────────────────────────────────────────────────────────────────────────────────  │\n",
       "│  <span style=\"font-weight: bold\"> corpus_table </span> <span style=\"font-style: italic\">                                                                                                                       </span>  │\n",
       "│  <span style=\"font-weight: bold\">              </span> <span style=\"font-style: italic\">  </span><span style=\"font-weight: bold; font-style: italic\"> file_name                                </span><span style=\"font-style: italic\"> </span><span style=\"font-weight: bold; font-style: italic\"> content                                                                </span><span style=\"font-style: italic\">  </span>  │\n",
       "│  <span style=\"font-weight: bold\">              </span> <span style=\"font-style: italic\">  ───────────────────────────────────────────────────────────────────────────────────────────────────────────────────  </span>  │\n",
       "│  <span style=\"font-weight: bold\">              </span> <span style=\"font-style: italic\">   2012271201_1918-03-30_ed-1_seq-1_ocr.txt   -A Ci                                                                    </span>  │\n",
       "│  <span style=\"font-weight: bold\">              </span> <span style=\"font-style: italic\">   2012271201_1918-03-16_ed-1_seq-1_ocr.txt   This newspaper has no objection                                          </span>  │\n",
       "│  <span style=\"font-weight: bold\">              </span> <span style=\"font-style: italic\">   2012271201_1918-02-02_ed-1_seq-1_ocr.txt   4                                                                        </span>  │\n",
       "│  <span style=\"font-weight: bold\">              </span> <span style=\"font-style: italic\">   2012271201_1918-02-09_ed-1_seq-1_ocr.txt   M                                                                        </span>  │\n",
       "│  <span style=\"font-weight: bold\">              </span> <span style=\"font-style: italic\">   2012271201_1918-01-05_ed-1_seq-1_ocr.txt   This newspaper has no objection                                          </span>  │\n",
       "│  <span style=\"font-weight: bold\">              </span> <span style=\"font-style: italic\">   2012271201_1918-03-23_ed-1_seq-1_ocr.txt   This newspaper. has no bjèction                                          </span>  │\n",
       "│  <span style=\"font-weight: bold\">              </span> <span style=\"font-style: italic\">   2012271201_1918-04-13_ed-1_seq-1_ocr.txt   a !                                                                      </span>  │\n",
       "│  <span style=\"font-weight: bold\">              </span> <span style=\"font-style: italic\">   2012271201_1918-01-19_ed-1_seq-1_ocr.txt   This newspaper has no objection to filiti? with the Postmasterof Lynn,   </span>  │\n",
       "│  <span style=\"font-weight: bold\">              </span> <span style=\"font-style: italic\">   2012271201_1918-06-06_ed-1_seq-1_ocr.txt   ANNO XVI                                                                 </span>  │\n",
       "│  <span style=\"font-weight: bold\">              </span> <span style=\"font-style: italic\">   2012271201_1918-03-09_ed-1_seq-1_ocr.txt   This newspapet, has no objection                                         </span>  │\n",
       "│  <span style=\"font-weight: bold\">              </span> <span style=\"font-style: italic\">   2012271201_1918-04-06_ed-1_seq-1_ocr.txt   Tfcis iscwspaper has no obectioa                                         </span>  │\n",
       "│  <span style=\"font-weight: bold\">              </span> <span style=\"font-style: italic\">   2012271201_1917-12-29_ed-1_seq-1_ocr.txt   !                                                                        </span>  │\n",
       "│  <span style=\"font-weight: bold\">              </span> <span style=\"font-style: italic\">   2012271201_1918-01-12_ed-1_seq-1_ocr.txt   This newspaper has no objection                                          </span>  │\n",
       "│  <span style=\"font-weight: bold\">              </span> <span style=\"font-style: italic\">   2012271201_1917-11-24_ed-1_seq-1_ocr.txt   This ncwspapcr has no objectlon to filini: with the Postmasterof Lynn,   </span>  │\n",
       "│  <span style=\"font-weight: bold\">              </span> <span style=\"font-style: italic\">   2012271201_1918-02-23_ed-1_seq-1_ocr.txt   1                                                                        </span>  │\n",
       "│  <span style=\"font-weight: bold\">              </span> <span style=\"font-style: italic\">   2012271201_1918-01-26_ed-1_seq-1_ocr.txt   This newspaper has no objection                                          </span>  │\n",
       "│  <span style=\"font-weight: bold\">              </span> <span style=\"font-style: italic\">   ...                                        ...                                                                      </span>  │\n",
       "│  <span style=\"font-weight: bold\">              </span> <span style=\"font-style: italic\">   ...                                        ...                                                                      </span>  │\n",
       "│  <span style=\"font-weight: bold\">              </span> <span style=\"font-style: italic\">   sn84020351_1920-09-25_ed-1_seq-1_ocr.txt   A Cesare quel che                                                        </span>  │\n",
       "│  <span style=\"font-weight: bold\">              </span> <span style=\"font-style: italic\">   sn84020351_1926-11-27_ed-1_seq-1_ocr.txt   I Fatti E                                                                </span>  │\n",
       "│  <span style=\"font-weight: bold\">              </span> <span style=\"font-style: italic\">   sn84020351_1921-02-19_ed-1_seq-1_ocr.txt   Il Comitato Generale Italiano                                            </span>  │\n",
       "│  <span style=\"font-weight: bold\">              </span> <span style=\"font-style: italic\">   sn84020351_1922-11-25_ed-1_seq-1_ocr.txt   ANCORA DI QU1GLEY!                                                       </span>  │\n",
       "│  <span style=\"font-weight: bold\">              </span> <span style=\"font-style: italic\">   sn84020351_1925-10-03_ed-1_seq-1_ocr.txt   R. L. VOLPE. MGR.                                                        </span>  │\n",
       "│  <span style=\"font-weight: bold\">              </span> <span style=\"font-style: italic\">   sn84020351_1929-11-09_ed-1_seq-1_ocr.txt   PICCOLE NOTE                                                             </span>  │\n",
       "│  <span style=\"font-weight: bold\">              </span> <span style=\"font-style: italic\">   sn84020351_1925-06-20_ed-1_seq-1_ocr.txt   P. ALTIERI. Editot                                                       </span>  │\n",
       "│  <span style=\"font-weight: bold\">              </span> <span style=\"font-style: italic\">   sn84020351_1925-02-21_ed-1_seq-1_ocr.txt   R. L. VOLPE., MGR.                                                       </span>  │\n",
       "│  <span style=\"font-weight: bold\">              </span> <span style=\"font-style: italic\">   sn84020351_1923-02-24_ed-1_seq-1_ocr.txt   IL CONC                                                                  </span>  │\n",
       "│  <span style=\"font-weight: bold\">              </span> <span style=\"font-style: italic\">   sn84020351_1921-02-12_ed-1_seq-1_ocr.txt   Published Every Saturday                                                 </span>  │\n",
       "│  <span style=\"font-weight: bold\">              </span> <span style=\"font-style: italic\">   sn84020351_1925-09-26_ed-1_seq-1_ocr.txt   P. ALTIERI. Editoi                                                       </span>  │\n",
       "│  <span style=\"font-weight: bold\">              </span> <span style=\"font-style: italic\">   sn84020351_1922-09-02_ed-1_seq-1_ocr.txt   I nuovi venuti, che hanno abilita'                                       </span>  │\n",
       "│  <span style=\"font-weight: bold\">              </span> <span style=\"font-style: italic\">   sn84020351_1927-10-29_ed-1_seq-1_ocr.txt   epoca ha fatto onore nor                                                 </span>  │\n",
       "│  <span style=\"font-weight: bold\">              </span> <span style=\"font-style: italic\">   sn84020351_1921-08-27_ed-1_seq-1_ocr.txt   By P. ALTIERI                                                            </span>  │\n",
       "│  <span style=\"font-weight: bold\">              </span> <span style=\"font-style: italic\">   sn84020351_1922-02-04_ed-1_seq-1_ocr.txt   Published Every Saturday                                                 </span>  │\n",
       "│  <span style=\"font-weight: bold\">              </span> <span style=\"font-style: italic\">   sn84020351_1922-08-05_ed-1_seq-1_ocr.txt   Sono stato fra i primi in Italia,                                        </span>  │\n",
       "│  <span style=\"font-weight: bold\">              </span> <span style=\"font-style: italic\">                                                                                                                       </span>  │\n",
       "│                                                                                                                                          │\n",
       "╰──────────────────────────────────────────────────────────────────────────────────────────────────────────────────────────────────────────╯\n",
       "</pre>\n"
      ],
      "text/plain": [
       "╭──────────────────────────────────────────────────────────────────────────────────────────────────────────────────────────────────────────╮\n",
       "│                                                                                                                                          │\n",
       "│  \u001b[1m \u001b[0m\u001b[1mfield       \u001b[0m\u001b[1m \u001b[0m \u001b[1m \u001b[0m\u001b[1mvalue                                                                                                                \u001b[0m\u001b[1m \u001b[0m  │\n",
       "│  ──────────────────────────────────────────────────────────────────────────────────────────────────────────────────────────────────────  │\n",
       "│  \u001b[1m \u001b[0m\u001b[1mcorpus_table\u001b[0m\u001b[1m \u001b[0m \u001b[3m \u001b[0m\u001b[3m                                                                                                                     \u001b[0m\u001b[3m \u001b[0m  │\n",
       "│  \u001b[1m              \u001b[0m \u001b[3m \u001b[0m\u001b[3m \u001b[0m\u001b[1;3m \u001b[0m\u001b[1;3mfile_name\u001b[0m\u001b[1;3m                               \u001b[0m\u001b[1;3m \u001b[0m\u001b[3m \u001b[0m\u001b[1;3m \u001b[0m\u001b[1;3mcontent\u001b[0m\u001b[1;3m                                                               \u001b[0m\u001b[1;3m \u001b[0m\u001b[3m \u001b[0m\u001b[3m \u001b[0m  │\n",
       "│  \u001b[1m              \u001b[0m \u001b[3m \u001b[0m\u001b[3m ─────────────────────────────────────────────────────────────────────────────────────────────────────────────────── \u001b[0m\u001b[3m \u001b[0m  │\n",
       "│  \u001b[1m              \u001b[0m \u001b[3m \u001b[0m\u001b[3m \u001b[0m\u001b[3m \u001b[0m\u001b[3m2012271201_1918-03-30_ed-1_seq-1_ocr.txt\u001b[0m\u001b[3m \u001b[0m\u001b[3m \u001b[0m\u001b[3m \u001b[0m\u001b[3m-A Ci\u001b[0m\u001b[3m                                                                 \u001b[0m\u001b[3m \u001b[0m\u001b[3m \u001b[0m\u001b[3m \u001b[0m  │\n",
       "│  \u001b[1m              \u001b[0m \u001b[3m \u001b[0m\u001b[3m \u001b[0m\u001b[3m \u001b[0m\u001b[3m2012271201_1918-03-16_ed-1_seq-1_ocr.txt\u001b[0m\u001b[3m \u001b[0m\u001b[3m \u001b[0m\u001b[3m \u001b[0m\u001b[3mThis newspaper has no objection\u001b[0m\u001b[3m                                       \u001b[0m\u001b[3m \u001b[0m\u001b[3m \u001b[0m\u001b[3m \u001b[0m  │\n",
       "│  \u001b[1m              \u001b[0m \u001b[3m \u001b[0m\u001b[3m \u001b[0m\u001b[3m \u001b[0m\u001b[3m2012271201_1918-02-02_ed-1_seq-1_ocr.txt\u001b[0m\u001b[3m \u001b[0m\u001b[3m \u001b[0m\u001b[3m \u001b[0m\u001b[3m4\u001b[0m\u001b[3m                                                                     \u001b[0m\u001b[3m \u001b[0m\u001b[3m \u001b[0m\u001b[3m \u001b[0m  │\n",
       "│  \u001b[1m              \u001b[0m \u001b[3m \u001b[0m\u001b[3m \u001b[0m\u001b[3m \u001b[0m\u001b[3m2012271201_1918-02-09_ed-1_seq-1_ocr.txt\u001b[0m\u001b[3m \u001b[0m\u001b[3m \u001b[0m\u001b[3m \u001b[0m\u001b[3mM\u001b[0m\u001b[3m                                                                     \u001b[0m\u001b[3m \u001b[0m\u001b[3m \u001b[0m\u001b[3m \u001b[0m  │\n",
       "│  \u001b[1m              \u001b[0m \u001b[3m \u001b[0m\u001b[3m \u001b[0m\u001b[3m \u001b[0m\u001b[3m2012271201_1918-01-05_ed-1_seq-1_ocr.txt\u001b[0m\u001b[3m \u001b[0m\u001b[3m \u001b[0m\u001b[3m \u001b[0m\u001b[3mThis newspaper has no objection\u001b[0m\u001b[3m                                       \u001b[0m\u001b[3m \u001b[0m\u001b[3m \u001b[0m\u001b[3m \u001b[0m  │\n",
       "│  \u001b[1m              \u001b[0m \u001b[3m \u001b[0m\u001b[3m \u001b[0m\u001b[3m \u001b[0m\u001b[3m2012271201_1918-03-23_ed-1_seq-1_ocr.txt\u001b[0m\u001b[3m \u001b[0m\u001b[3m \u001b[0m\u001b[3m \u001b[0m\u001b[3mThis newspaper. has no bjèction\u001b[0m\u001b[3m                                       \u001b[0m\u001b[3m \u001b[0m\u001b[3m \u001b[0m\u001b[3m \u001b[0m  │\n",
       "│  \u001b[1m              \u001b[0m \u001b[3m \u001b[0m\u001b[3m \u001b[0m\u001b[3m \u001b[0m\u001b[3m2012271201_1918-04-13_ed-1_seq-1_ocr.txt\u001b[0m\u001b[3m \u001b[0m\u001b[3m \u001b[0m\u001b[3m \u001b[0m\u001b[3ma !\u001b[0m\u001b[3m                                                                   \u001b[0m\u001b[3m \u001b[0m\u001b[3m \u001b[0m\u001b[3m \u001b[0m  │\n",
       "│  \u001b[1m              \u001b[0m \u001b[3m \u001b[0m\u001b[3m \u001b[0m\u001b[3m \u001b[0m\u001b[3m2012271201_1918-01-19_ed-1_seq-1_ocr.txt\u001b[0m\u001b[3m \u001b[0m\u001b[3m \u001b[0m\u001b[3m \u001b[0m\u001b[3mThis newspaper has no objection to filiti? with the Postmasterof Lynn,\u001b[0m\u001b[3m \u001b[0m\u001b[3m \u001b[0m\u001b[3m \u001b[0m  │\n",
       "│  \u001b[1m              \u001b[0m \u001b[3m \u001b[0m\u001b[3m \u001b[0m\u001b[3m \u001b[0m\u001b[3m2012271201_1918-06-06_ed-1_seq-1_ocr.txt\u001b[0m\u001b[3m \u001b[0m\u001b[3m \u001b[0m\u001b[3m \u001b[0m\u001b[3mANNO XVI\u001b[0m\u001b[3m                                                              \u001b[0m\u001b[3m \u001b[0m\u001b[3m \u001b[0m\u001b[3m \u001b[0m  │\n",
       "│  \u001b[1m              \u001b[0m \u001b[3m \u001b[0m\u001b[3m \u001b[0m\u001b[3m \u001b[0m\u001b[3m2012271201_1918-03-09_ed-1_seq-1_ocr.txt\u001b[0m\u001b[3m \u001b[0m\u001b[3m \u001b[0m\u001b[3m \u001b[0m\u001b[3mThis newspapet, has no objection\u001b[0m\u001b[3m                                      \u001b[0m\u001b[3m \u001b[0m\u001b[3m \u001b[0m\u001b[3m \u001b[0m  │\n",
       "│  \u001b[1m              \u001b[0m \u001b[3m \u001b[0m\u001b[3m \u001b[0m\u001b[3m \u001b[0m\u001b[3m2012271201_1918-04-06_ed-1_seq-1_ocr.txt\u001b[0m\u001b[3m \u001b[0m\u001b[3m \u001b[0m\u001b[3m \u001b[0m\u001b[3mTfcis iscwspaper has no obectioa\u001b[0m\u001b[3m                                      \u001b[0m\u001b[3m \u001b[0m\u001b[3m \u001b[0m\u001b[3m \u001b[0m  │\n",
       "│  \u001b[1m              \u001b[0m \u001b[3m \u001b[0m\u001b[3m \u001b[0m\u001b[3m \u001b[0m\u001b[3m2012271201_1917-12-29_ed-1_seq-1_ocr.txt\u001b[0m\u001b[3m \u001b[0m\u001b[3m \u001b[0m\u001b[3m \u001b[0m\u001b[3m!\u001b[0m\u001b[3m                                                                     \u001b[0m\u001b[3m \u001b[0m\u001b[3m \u001b[0m\u001b[3m \u001b[0m  │\n",
       "│  \u001b[1m              \u001b[0m \u001b[3m \u001b[0m\u001b[3m \u001b[0m\u001b[3m \u001b[0m\u001b[3m2012271201_1918-01-12_ed-1_seq-1_ocr.txt\u001b[0m\u001b[3m \u001b[0m\u001b[3m \u001b[0m\u001b[3m \u001b[0m\u001b[3mThis newspaper has no objection\u001b[0m\u001b[3m                                       \u001b[0m\u001b[3m \u001b[0m\u001b[3m \u001b[0m\u001b[3m \u001b[0m  │\n",
       "│  \u001b[1m              \u001b[0m \u001b[3m \u001b[0m\u001b[3m \u001b[0m\u001b[3m \u001b[0m\u001b[3m2012271201_1917-11-24_ed-1_seq-1_ocr.txt\u001b[0m\u001b[3m \u001b[0m\u001b[3m \u001b[0m\u001b[3m \u001b[0m\u001b[3mThis ncwspapcr has no objectlon to filini: with the Postmasterof Lynn,\u001b[0m\u001b[3m \u001b[0m\u001b[3m \u001b[0m\u001b[3m \u001b[0m  │\n",
       "│  \u001b[1m              \u001b[0m \u001b[3m \u001b[0m\u001b[3m \u001b[0m\u001b[3m \u001b[0m\u001b[3m2012271201_1918-02-23_ed-1_seq-1_ocr.txt\u001b[0m\u001b[3m \u001b[0m\u001b[3m \u001b[0m\u001b[3m \u001b[0m\u001b[3m1\u001b[0m\u001b[3m                                                                     \u001b[0m\u001b[3m \u001b[0m\u001b[3m \u001b[0m\u001b[3m \u001b[0m  │\n",
       "│  \u001b[1m              \u001b[0m \u001b[3m \u001b[0m\u001b[3m \u001b[0m\u001b[3m \u001b[0m\u001b[3m2012271201_1918-01-26_ed-1_seq-1_ocr.txt\u001b[0m\u001b[3m \u001b[0m\u001b[3m \u001b[0m\u001b[3m \u001b[0m\u001b[3mThis newspaper has no objection\u001b[0m\u001b[3m                                       \u001b[0m\u001b[3m \u001b[0m\u001b[3m \u001b[0m\u001b[3m \u001b[0m  │\n",
       "│  \u001b[1m              \u001b[0m \u001b[3m \u001b[0m\u001b[3m \u001b[0m\u001b[3m \u001b[0m\u001b[3m...\u001b[0m\u001b[3m                                     \u001b[0m\u001b[3m \u001b[0m\u001b[3m \u001b[0m\u001b[3m \u001b[0m\u001b[3m...\u001b[0m\u001b[3m                                                                   \u001b[0m\u001b[3m \u001b[0m\u001b[3m \u001b[0m\u001b[3m \u001b[0m  │\n",
       "│  \u001b[1m              \u001b[0m \u001b[3m \u001b[0m\u001b[3m \u001b[0m\u001b[3m \u001b[0m\u001b[3m...\u001b[0m\u001b[3m                                     \u001b[0m\u001b[3m \u001b[0m\u001b[3m \u001b[0m\u001b[3m \u001b[0m\u001b[3m...\u001b[0m\u001b[3m                                                                   \u001b[0m\u001b[3m \u001b[0m\u001b[3m \u001b[0m\u001b[3m \u001b[0m  │\n",
       "│  \u001b[1m              \u001b[0m \u001b[3m \u001b[0m\u001b[3m \u001b[0m\u001b[3m \u001b[0m\u001b[3msn84020351_1920-09-25_ed-1_seq-1_ocr.txt\u001b[0m\u001b[3m \u001b[0m\u001b[3m \u001b[0m\u001b[3m \u001b[0m\u001b[3mA Cesare quel che\u001b[0m\u001b[3m                                                     \u001b[0m\u001b[3m \u001b[0m\u001b[3m \u001b[0m\u001b[3m \u001b[0m  │\n",
       "│  \u001b[1m              \u001b[0m \u001b[3m \u001b[0m\u001b[3m \u001b[0m\u001b[3m \u001b[0m\u001b[3msn84020351_1926-11-27_ed-1_seq-1_ocr.txt\u001b[0m\u001b[3m \u001b[0m\u001b[3m \u001b[0m\u001b[3m \u001b[0m\u001b[3mI Fatti E\u001b[0m\u001b[3m                                                             \u001b[0m\u001b[3m \u001b[0m\u001b[3m \u001b[0m\u001b[3m \u001b[0m  │\n",
       "│  \u001b[1m              \u001b[0m \u001b[3m \u001b[0m\u001b[3m \u001b[0m\u001b[3m \u001b[0m\u001b[3msn84020351_1921-02-19_ed-1_seq-1_ocr.txt\u001b[0m\u001b[3m \u001b[0m\u001b[3m \u001b[0m\u001b[3m \u001b[0m\u001b[3mIl Comitato Generale Italiano\u001b[0m\u001b[3m                                         \u001b[0m\u001b[3m \u001b[0m\u001b[3m \u001b[0m\u001b[3m \u001b[0m  │\n",
       "│  \u001b[1m              \u001b[0m \u001b[3m \u001b[0m\u001b[3m \u001b[0m\u001b[3m \u001b[0m\u001b[3msn84020351_1922-11-25_ed-1_seq-1_ocr.txt\u001b[0m\u001b[3m \u001b[0m\u001b[3m \u001b[0m\u001b[3m \u001b[0m\u001b[3mANCORA DI QU1GLEY!\u001b[0m\u001b[3m                                                    \u001b[0m\u001b[3m \u001b[0m\u001b[3m \u001b[0m\u001b[3m \u001b[0m  │\n",
       "│  \u001b[1m              \u001b[0m \u001b[3m \u001b[0m\u001b[3m \u001b[0m\u001b[3m \u001b[0m\u001b[3msn84020351_1925-10-03_ed-1_seq-1_ocr.txt\u001b[0m\u001b[3m \u001b[0m\u001b[3m \u001b[0m\u001b[3m \u001b[0m\u001b[3mR. L. VOLPE. MGR.\u001b[0m\u001b[3m                                                     \u001b[0m\u001b[3m \u001b[0m\u001b[3m \u001b[0m\u001b[3m \u001b[0m  │\n",
       "│  \u001b[1m              \u001b[0m \u001b[3m \u001b[0m\u001b[3m \u001b[0m\u001b[3m \u001b[0m\u001b[3msn84020351_1929-11-09_ed-1_seq-1_ocr.txt\u001b[0m\u001b[3m \u001b[0m\u001b[3m \u001b[0m\u001b[3m \u001b[0m\u001b[3mPICCOLE NOTE\u001b[0m\u001b[3m                                                          \u001b[0m\u001b[3m \u001b[0m\u001b[3m \u001b[0m\u001b[3m \u001b[0m  │\n",
       "│  \u001b[1m              \u001b[0m \u001b[3m \u001b[0m\u001b[3m \u001b[0m\u001b[3m \u001b[0m\u001b[3msn84020351_1925-06-20_ed-1_seq-1_ocr.txt\u001b[0m\u001b[3m \u001b[0m\u001b[3m \u001b[0m\u001b[3m \u001b[0m\u001b[3mP. ALTIERI. Editot\u001b[0m\u001b[3m                                                    \u001b[0m\u001b[3m \u001b[0m\u001b[3m \u001b[0m\u001b[3m \u001b[0m  │\n",
       "│  \u001b[1m              \u001b[0m \u001b[3m \u001b[0m\u001b[3m \u001b[0m\u001b[3m \u001b[0m\u001b[3msn84020351_1925-02-21_ed-1_seq-1_ocr.txt\u001b[0m\u001b[3m \u001b[0m\u001b[3m \u001b[0m\u001b[3m \u001b[0m\u001b[3mR. L. VOLPE., MGR.\u001b[0m\u001b[3m                                                    \u001b[0m\u001b[3m \u001b[0m\u001b[3m \u001b[0m\u001b[3m \u001b[0m  │\n",
       "│  \u001b[1m              \u001b[0m \u001b[3m \u001b[0m\u001b[3m \u001b[0m\u001b[3m \u001b[0m\u001b[3msn84020351_1923-02-24_ed-1_seq-1_ocr.txt\u001b[0m\u001b[3m \u001b[0m\u001b[3m \u001b[0m\u001b[3m \u001b[0m\u001b[3mIL CONC\u001b[0m\u001b[3m                                                               \u001b[0m\u001b[3m \u001b[0m\u001b[3m \u001b[0m\u001b[3m \u001b[0m  │\n",
       "│  \u001b[1m              \u001b[0m \u001b[3m \u001b[0m\u001b[3m \u001b[0m\u001b[3m \u001b[0m\u001b[3msn84020351_1921-02-12_ed-1_seq-1_ocr.txt\u001b[0m\u001b[3m \u001b[0m\u001b[3m \u001b[0m\u001b[3m \u001b[0m\u001b[3mPublished Every Saturday\u001b[0m\u001b[3m                                              \u001b[0m\u001b[3m \u001b[0m\u001b[3m \u001b[0m\u001b[3m \u001b[0m  │\n",
       "│  \u001b[1m              \u001b[0m \u001b[3m \u001b[0m\u001b[3m \u001b[0m\u001b[3m \u001b[0m\u001b[3msn84020351_1925-09-26_ed-1_seq-1_ocr.txt\u001b[0m\u001b[3m \u001b[0m\u001b[3m \u001b[0m\u001b[3m \u001b[0m\u001b[3mP. ALTIERI. Editoi\u001b[0m\u001b[3m                                                    \u001b[0m\u001b[3m \u001b[0m\u001b[3m \u001b[0m\u001b[3m \u001b[0m  │\n",
       "│  \u001b[1m              \u001b[0m \u001b[3m \u001b[0m\u001b[3m \u001b[0m\u001b[3m \u001b[0m\u001b[3msn84020351_1922-09-02_ed-1_seq-1_ocr.txt\u001b[0m\u001b[3m \u001b[0m\u001b[3m \u001b[0m\u001b[3m \u001b[0m\u001b[3mI nuovi venuti, che hanno abilita'\u001b[0m\u001b[3m                                    \u001b[0m\u001b[3m \u001b[0m\u001b[3m \u001b[0m\u001b[3m \u001b[0m  │\n",
       "│  \u001b[1m              \u001b[0m \u001b[3m \u001b[0m\u001b[3m \u001b[0m\u001b[3m \u001b[0m\u001b[3msn84020351_1927-10-29_ed-1_seq-1_ocr.txt\u001b[0m\u001b[3m \u001b[0m\u001b[3m \u001b[0m\u001b[3m \u001b[0m\u001b[3mepoca ha fatto onore nor\u001b[0m\u001b[3m                                              \u001b[0m\u001b[3m \u001b[0m\u001b[3m \u001b[0m\u001b[3m \u001b[0m  │\n",
       "│  \u001b[1m              \u001b[0m \u001b[3m \u001b[0m\u001b[3m \u001b[0m\u001b[3m \u001b[0m\u001b[3msn84020351_1921-08-27_ed-1_seq-1_ocr.txt\u001b[0m\u001b[3m \u001b[0m\u001b[3m \u001b[0m\u001b[3m \u001b[0m\u001b[3mBy P. ALTIERI\u001b[0m\u001b[3m                                                         \u001b[0m\u001b[3m \u001b[0m\u001b[3m \u001b[0m\u001b[3m \u001b[0m  │\n",
       "│  \u001b[1m              \u001b[0m \u001b[3m \u001b[0m\u001b[3m \u001b[0m\u001b[3m \u001b[0m\u001b[3msn84020351_1922-02-04_ed-1_seq-1_ocr.txt\u001b[0m\u001b[3m \u001b[0m\u001b[3m \u001b[0m\u001b[3m \u001b[0m\u001b[3mPublished Every Saturday\u001b[0m\u001b[3m                                              \u001b[0m\u001b[3m \u001b[0m\u001b[3m \u001b[0m\u001b[3m \u001b[0m  │\n",
       "│  \u001b[1m              \u001b[0m \u001b[3m \u001b[0m\u001b[3m \u001b[0m\u001b[3m \u001b[0m\u001b[3msn84020351_1922-08-05_ed-1_seq-1_ocr.txt\u001b[0m\u001b[3m \u001b[0m\u001b[3m \u001b[0m\u001b[3m \u001b[0m\u001b[3mSono stato fra i primi in Italia,\u001b[0m\u001b[3m                                     \u001b[0m\u001b[3m \u001b[0m\u001b[3m \u001b[0m\u001b[3m \u001b[0m  │\n",
       "│  \u001b[1m              \u001b[0m \u001b[3m \u001b[0m\u001b[3m                                                                                                                     \u001b[0m\u001b[3m \u001b[0m  │\n",
       "│                                                                                                                                          │\n",
       "╰──────────────────────────────────────────────────────────────────────────────────────────────────────────────────────────────────────────╯\n"
      ]
     },
     "execution_count": 7,
     "metadata": {},
     "output_type": "execute_result"
    }
   ],
   "source": [
    "create_table_from_zenodo_results"
   ]
  },
  {
   "cell_type": "code",
   "execution_count": 8,
   "metadata": {},
   "outputs": [],
   "source": [
    "corpus_table_zenodo = create_table_from_zenodo_results['corpus_table']"
   ]
  },
  {
   "cell_type": "markdown",
   "metadata": {},
   "source": [
    "### 1.2. Get files from .zip url"
   ]
  },
  {
   "cell_type": "code",
   "execution_count": 9,
   "metadata": {},
   "outputs": [
    {
     "name": "stdout",
     "output_type": "stream",
     "text": [
      "\n",
      "╭─ Operation: \u001b[1;3mtopic_modelling.create_table_from_url\u001b[0m ───────────────────────────╮\n",
      "│                                                                              │\n",
      "│  \u001b[3m \u001b[0m\u001b[3mDocumentation\u001b[0m\u001b[3m \u001b[0m  This module retrieves text files from a specified          │\n",
      "│  \u001b[3m               \u001b[0m  sub-path within a zip file hosted at a given URL.          │\n",
      "│  \u001b[3m               \u001b[0m                                                             │\n",
      "│  \u001b[3m               \u001b[0m  It outputs a table with two columns: one for the file      │\n",
      "│  \u001b[3m               \u001b[0m  names and the other for the content of these files.        │\n",
      "│  \u001b[3m               \u001b[0m                                                             │\n",
      "│  \u001b[3m               \u001b[0m  Dependencies:                                              │\n",
      "│  \u001b[3m               \u001b[0m                                                             │\n",
      "│  \u001b[3m               \u001b[0m  \u001b[1;33m • \u001b[0murllib.request:                                         │\n",
      "│  \u001b[3m               \u001b[0m  \u001b[1;33m   \u001b[0mhttps://docs.python.org/3/library/urllib.request.html   │\n",
      "│  \u001b[3m               \u001b[0m  \u001b[1;33m • \u001b[0mzipfile:                                                │\n",
      "│  \u001b[3m               \u001b[0m  \u001b[1;33m   \u001b[0mhttps://docs.python.org/3/library/zipfile.html          │\n",
      "│  \u001b[3m               \u001b[0m  \u001b[1;33m • \u001b[0mpolars: https://www.pola.rs/                            │\n",
      "│                                                                              │\n",
      "│  \u001b[3m \u001b[0m\u001b[3mInputs       \u001b[0m\u001b[3m \u001b[0m                                                             │\n",
      "│  \u001b[3m               \u001b[0m   \u001b[1m \u001b[0m\u001b[1mfield    \u001b[0m\u001b[1m \u001b[0m \u001b[1m        \u001b[0m \u001b[1m          \u001b[0m \u001b[1m          \u001b[0m \u001b[1m           \u001b[0m    │\n",
      "│  \u001b[3m               \u001b[0m   \u001b[1m \u001b[0m\u001b[1mname     \u001b[0m\u001b[1m \u001b[0m \u001b[1m \u001b[0m\u001b[1mtype  \u001b[0m\u001b[1m \u001b[0m \u001b[1m \u001b[0m\u001b[1mdescrip…\u001b[0m\u001b[1m \u001b[0m \u001b[1m \u001b[0m\u001b[1mRequired\u001b[0m\u001b[1m \u001b[0m \u001b[1m \u001b[0m\u001b[1mDefault  \u001b[0m\u001b[1m \u001b[0m    │\n",
      "│  \u001b[3m               \u001b[0m   ──────────────────────────────────────────────────────    │\n",
      "│  \u001b[3m               \u001b[0m   \u001b[3m \u001b[0m\u001b[3murl      \u001b[0m\u001b[3m \u001b[0m  string   URL of     \u001b[1myes\u001b[0m        -- no         │\n",
      "│  \u001b[3m               \u001b[0m   \u001b[3m           \u001b[0m           the zip               default       │\n",
      "│  \u001b[3m               \u001b[0m   \u001b[3m           \u001b[0m           file to               --            │\n",
      "│  \u001b[3m               \u001b[0m   \u001b[3m           \u001b[0m           retrieve                            │\n",
      "│  \u001b[3m               \u001b[0m   \u001b[3m           \u001b[0m           text                                │\n",
      "│  \u001b[3m               \u001b[0m   \u001b[3m           \u001b[0m           files                               │\n",
      "│  \u001b[3m               \u001b[0m   \u001b[3m           \u001b[0m           from.                               │\n",
      "│  \u001b[3m               \u001b[0m   \u001b[3m \u001b[0m\u001b[3msub_path \u001b[0m\u001b[3m \u001b[0m  string   Sub-path   no         -- no         │\n",
      "│  \u001b[3m               \u001b[0m   \u001b[3m           \u001b[0m           within                default       │\n",
      "│  \u001b[3m               \u001b[0m   \u001b[3m           \u001b[0m           the zip               --            │\n",
      "│  \u001b[3m               \u001b[0m   \u001b[3m           \u001b[0m           file to                             │\n",
      "│  \u001b[3m               \u001b[0m   \u001b[3m           \u001b[0m           look for                            │\n",
      "│  \u001b[3m               \u001b[0m   \u001b[3m           \u001b[0m           text                                │\n",
      "│  \u001b[3m               \u001b[0m   \u001b[3m           \u001b[0m           files.                              │\n",
      "│  \u001b[3m               \u001b[0m                                                             │\n",
      "│                                                                              │\n",
      "│  \u001b[3m \u001b[0m\u001b[3mOutputs      \u001b[0m\u001b[3m \u001b[0m                                                             │\n",
      "│  \u001b[3m               \u001b[0m   \u001b[1m \u001b[0m\u001b[1mfield name  \u001b[0m\u001b[1m \u001b[0m \u001b[1m \u001b[0m\u001b[1mtype \u001b[0m\u001b[1m \u001b[0m \u001b[1m \u001b[0m\u001b[1mdescription                  \u001b[0m\u001b[1m \u001b[0m    │\n",
      "│  \u001b[3m               \u001b[0m   ──────────────────────────────────────────────────────    │\n",
      "│  \u001b[3m               \u001b[0m   \u001b[3m \u001b[0m\u001b[3mcorpus_table\u001b[0m\u001b[3m \u001b[0m  table   Table with file names and         │\n",
      "│  \u001b[3m               \u001b[0m   \u001b[3m              \u001b[0m          contents.                         │\n",
      "│  \u001b[3m               \u001b[0m                                                             │\n",
      "│                                                                              │\n",
      "╰──────────────────────────────────────────────────────────────────────────────╯\n"
     ]
    }
   ],
   "source": [
    "! kiara operation explain topic_modelling.create_table_from_url"
   ]
  },
  {
   "cell_type": "code",
   "execution_count": 10,
   "metadata": {},
   "outputs": [],
   "source": [
    "create_table_from_url_inputs = {\n",
    "    \"url\": \"https://github.com/DHARPA-Project/kiara.examples/archive/refs/heads/main.zip\",\n",
    "    \"sub_path\": \"kiara.examples-main/examples/workshops/dh_benelux_2023/data\"\n",
    "}"
   ]
  },
  {
   "cell_type": "code",
   "execution_count": 11,
   "metadata": {},
   "outputs": [],
   "source": [
    "create_table_from_url_results = kiara.run_job('topic_modelling.create_table_from_url', inputs=create_table_from_url_inputs)"
   ]
  },
  {
   "cell_type": "code",
   "execution_count": 12,
   "metadata": {},
   "outputs": [
    {
     "data": {
      "text/html": [
       "<pre style=\"white-space:pre;overflow-x:auto;line-height:normal;font-family:Menlo,'DejaVu Sans Mono',consolas,'Courier New',monospace\">╭──────────────────────────────────────────────────────────────────────────────────────────────────────────────────────────────────────────╮\n",
       "│                                                                                                                                          │\n",
       "│  <span style=\"font-weight: bold\"> field        </span> <span style=\"font-weight: bold\"> value                                                                                               </span>                    │\n",
       "│  ────────────────────────────────────────────────────────────────────────────────────────────────────────────────────                    │\n",
       "│  <span style=\"font-weight: bold\"> corpus_table </span> <span style=\"font-style: italic\">                                                                                                     </span>                    │\n",
       "│  <span style=\"font-weight: bold\">              </span> <span style=\"font-style: italic\">  </span><span style=\"font-weight: bold; font-style: italic\"> file_name                                </span><span style=\"font-style: italic\"> </span><span style=\"font-weight: bold; font-style: italic\"> content                                              </span><span style=\"font-style: italic\">  </span>                    │\n",
       "│  <span style=\"font-weight: bold\">              </span> <span style=\"font-style: italic\">  ─────────────────────────────────────────────────────────────────────────────────────────────────  </span>                    │\n",
       "│  <span style=\"font-weight: bold\">              </span> <span style=\"font-style: italic\">   2012271201_1903-06-06_ed-1_seq-1_ocr.txt   LI 1,111 \"\"\"\"                                          </span>                    │\n",
       "│  <span style=\"font-weight: bold\">              </span> <span style=\"font-style: italic\">   2012271201_1903-06-13_ed-1_seq-1_ocr.txt   Ebdomadario anarchico di propaganda rivoluzionaria.    </span>                    │\n",
       "│  <span style=\"font-weight: bold\">              </span> <span style=\"font-style: italic\">   2012271201_1903-06-20_ed-1_seq-1_ocr.txt   ANNO I.                                                </span>                    │\n",
       "│  <span style=\"font-weight: bold\">              </span> <span style=\"font-style: italic\">   2012271201_1903-06-27_ed-1_seq-1_ocr.txt   Ebdomadàrio anarchico di propaganda rivoluzionaria.    </span>                    │\n",
       "│  <span style=\"font-weight: bold\">              </span> <span style=\"font-style: italic\">   2012271201_1903-07-04_ed-1_seq-1_ocr.txt   NUMERO 5                                               </span>                    │\n",
       "│  <span style=\"font-weight: bold\">              </span> <span style=\"font-style: italic\">   2012271201_1903-07-25_ed-1_seq-1_ocr.txt   ANNO I.                                                </span>                    │\n",
       "│  <span style=\"font-weight: bold\">              </span> <span style=\"font-style: italic\">   2012271201_1903-08-01_ed-1_seq-1_ocr.txt   ANNO I.                                                </span>                    │\n",
       "│  <span style=\"font-weight: bold\">              </span> <span style=\"font-style: italic\">   2012271201_1903-08-08_ed-1_seq-1_ocr.txt   Ciac vtj'y inn                                         </span>                    │\n",
       "│  <span style=\"font-weight: bold\">              </span> <span style=\"font-style: italic\">   2012271201_1903-08-15_ed-1_seq-1_ocr.txt   NUMERO 11                                              </span>                    │\n",
       "│  <span style=\"font-weight: bold\">              </span> <span style=\"font-style: italic\">   2012271201_1903-08-22_ed-1_seq-1_ocr.txt   Ebdomadario anarchico di propaganda: rivoluzionaria.   </span>                    │\n",
       "│  <span style=\"font-weight: bold\">              </span> <span style=\"font-style: italic\">   2012271201_1903-08-29_ed-1_seq-1_ocr.txt   SUMERO 13                                              </span>                    │\n",
       "│  <span style=\"font-weight: bold\">              </span> <span style=\"font-style: italic\">   2012271201_1903-09-05_ed-1_seq-1_ocr.txt   Ebdomadario anarchico di propaganda rh                 </span>                    │\n",
       "│  <span style=\"font-weight: bold\">              </span> <span style=\"font-style: italic\">   2012271201_1903-09-12_ed-1_seq-1_ocr.txt   ANNO I.                                                </span>                    │\n",
       "│  <span style=\"font-weight: bold\">              </span> <span style=\"font-style: italic\">   2012271201_1903-09-19_ed-1_seq-1_ocr.txt   ANNO I.                                                </span>                    │\n",
       "│  <span style=\"font-weight: bold\">              </span> <span style=\"font-style: italic\">   2012271201_1903-09-26_ed-1_seq-1_ocr.txt   NUMERO 17                                              </span>                    │\n",
       "│  <span style=\"font-weight: bold\">              </span> <span style=\"font-style: italic\">   2012271201_1903-10-03_ed-1_seq-1_ocr.txt   li                                                     </span>                    │\n",
       "│  <span style=\"font-weight: bold\">              </span> <span style=\"font-style: italic\">   ...                                        ...                                                    </span>                    │\n",
       "│  <span style=\"font-weight: bold\">              </span> <span style=\"font-style: italic\">   ...                                        ...                                                    </span>                    │\n",
       "│  <span style=\"font-weight: bold\">              </span> <span style=\"font-style: italic\">   sn85066408_1919-12-15_ed-1_seq-1_ocr.txt   ANNO XXXIII-                                           </span>                    │\n",
       "│  <span style=\"font-weight: bold\">              </span> <span style=\"font-style: italic\">   sn85066408_1919-12-16_ed-1_seq-1_ocr.txt   anno xxxiii.                                           </span>                    │\n",
       "│  <span style=\"font-weight: bold\">              </span> <span style=\"font-style: italic\">   sn85066408_1919-12-17_ed-1_seq-1_ocr.txt   ANNO XXXIII                                            </span>                    │\n",
       "│  <span style=\"font-weight: bold\">              </span> <span style=\"font-style: italic\">   sn85066408_1919-12-18_ed-1_seq-1_ocr.txt   anno xxxiil                                            </span>                    │\n",
       "│  <span style=\"font-weight: bold\">              </span> <span style=\"font-style: italic\">   sn85066408_1919-12-19_ed-1_seq-1_ocr.txt   anno XXXIII-                                           </span>                    │\n",
       "│  <span style=\"font-weight: bold\">              </span> <span style=\"font-style: italic\">   sn85066408_1919-12-20_ed-1_seq-1_ocr.txt   anno xxxiii-                                           </span>                    │\n",
       "│  <span style=\"font-weight: bold\">              </span> <span style=\"font-style: italic\">   sn85066408_1919-12-21_ed-1_seq-1_ocr.txt   FIRST SECTION                                          </span>                    │\n",
       "│  <span style=\"font-weight: bold\">              </span> <span style=\"font-style: italic\">   sn85066408_1919-12-22_ed-1_seq-1_ocr.txt   ANNO XXXIII                                            </span>                    │\n",
       "│  <span style=\"font-weight: bold\">              </span> <span style=\"font-style: italic\">   sn85066408_1919-12-23_ed-1_seq-1_ocr.txt   ANNO XXXIII                                            </span>                    │\n",
       "│  <span style=\"font-weight: bold\">              </span> <span style=\"font-style: italic\">   sn85066408_1919-12-24_ed-1_seq-1_ocr.txt   ANNO XXXIII                                            </span>                    │\n",
       "│  <span style=\"font-weight: bold\">              </span> <span style=\"font-style: italic\">   sn85066408_1919-12-25_ed-1_seq-1_ocr.txt   ANNO XXXI li-                                          </span>                    │\n",
       "│  <span style=\"font-weight: bold\">              </span> <span style=\"font-style: italic\">   sn85066408_1919-12-27_ed-1_seq-1_ocr.txt   ANNO XXXIII                                            </span>                    │\n",
       "│  <span style=\"font-weight: bold\">              </span> <span style=\"font-style: italic\">   sn85066408_1919-12-28_ed-1_seq-1_ocr.txt   PATRIA e umanità*                                      </span>                    │\n",
       "│  <span style=\"font-weight: bold\">              </span> <span style=\"font-style: italic\">   sn85066408_1919-12-29_ed-1_seq-1_ocr.txt   ANNO XXXIII*                                           </span>                    │\n",
       "│  <span style=\"font-weight: bold\">              </span> <span style=\"font-style: italic\">   sn85066408_1919-12-30_ed-1_seq-1_ocr.txt   ANNO XXXIII-                                           </span>                    │\n",
       "│  <span style=\"font-weight: bold\">              </span> <span style=\"font-style: italic\">   sn85066408_1919-12-31_ed-1_seq-1_ocr.txt   \\\\\\ll XXXIII                                           </span>                    │\n",
       "│  <span style=\"font-weight: bold\">              </span> <span style=\"font-style: italic\">                                                                                                     </span>                    │\n",
       "│                                                                                                                                          │\n",
       "╰──────────────────────────────────────────────────────────────────────────────────────────────────────────────────────────────────────────╯\n",
       "</pre>\n"
      ],
      "text/plain": [
       "╭──────────────────────────────────────────────────────────────────────────────────────────────────────────────────────────────────────────╮\n",
       "│                                                                                                                                          │\n",
       "│  \u001b[1m \u001b[0m\u001b[1mfield       \u001b[0m\u001b[1m \u001b[0m \u001b[1m \u001b[0m\u001b[1mvalue                                                                                              \u001b[0m\u001b[1m \u001b[0m                    │\n",
       "│  ────────────────────────────────────────────────────────────────────────────────────────────────────────────────────                    │\n",
       "│  \u001b[1m \u001b[0m\u001b[1mcorpus_table\u001b[0m\u001b[1m \u001b[0m \u001b[3m \u001b[0m\u001b[3m                                                                                                   \u001b[0m\u001b[3m \u001b[0m                    │\n",
       "│  \u001b[1m              \u001b[0m \u001b[3m \u001b[0m\u001b[3m \u001b[0m\u001b[1;3m \u001b[0m\u001b[1;3mfile_name\u001b[0m\u001b[1;3m                               \u001b[0m\u001b[1;3m \u001b[0m\u001b[3m \u001b[0m\u001b[1;3m \u001b[0m\u001b[1;3mcontent\u001b[0m\u001b[1;3m                                             \u001b[0m\u001b[1;3m \u001b[0m\u001b[3m \u001b[0m\u001b[3m \u001b[0m                    │\n",
       "│  \u001b[1m              \u001b[0m \u001b[3m \u001b[0m\u001b[3m ───────────────────────────────────────────────────────────────────────────────────────────────── \u001b[0m\u001b[3m \u001b[0m                    │\n",
       "│  \u001b[1m              \u001b[0m \u001b[3m \u001b[0m\u001b[3m \u001b[0m\u001b[3m \u001b[0m\u001b[3m2012271201_1903-06-06_ed-1_seq-1_ocr.txt\u001b[0m\u001b[3m \u001b[0m\u001b[3m \u001b[0m\u001b[3m \u001b[0m\u001b[3mLI 1,111 \"\"\"\"\u001b[0m\u001b[3m                                       \u001b[0m\u001b[3m \u001b[0m\u001b[3m \u001b[0m\u001b[3m \u001b[0m                    │\n",
       "│  \u001b[1m              \u001b[0m \u001b[3m \u001b[0m\u001b[3m \u001b[0m\u001b[3m \u001b[0m\u001b[3m2012271201_1903-06-13_ed-1_seq-1_ocr.txt\u001b[0m\u001b[3m \u001b[0m\u001b[3m \u001b[0m\u001b[3m \u001b[0m\u001b[3mEbdomadario anarchico di propaganda rivoluzionaria.\u001b[0m\u001b[3m \u001b[0m\u001b[3m \u001b[0m\u001b[3m \u001b[0m\u001b[3m \u001b[0m                    │\n",
       "│  \u001b[1m              \u001b[0m \u001b[3m \u001b[0m\u001b[3m \u001b[0m\u001b[3m \u001b[0m\u001b[3m2012271201_1903-06-20_ed-1_seq-1_ocr.txt\u001b[0m\u001b[3m \u001b[0m\u001b[3m \u001b[0m\u001b[3m \u001b[0m\u001b[3mANNO I.\u001b[0m\u001b[3m                                             \u001b[0m\u001b[3m \u001b[0m\u001b[3m \u001b[0m\u001b[3m \u001b[0m                    │\n",
       "│  \u001b[1m              \u001b[0m \u001b[3m \u001b[0m\u001b[3m \u001b[0m\u001b[3m \u001b[0m\u001b[3m2012271201_1903-06-27_ed-1_seq-1_ocr.txt\u001b[0m\u001b[3m \u001b[0m\u001b[3m \u001b[0m\u001b[3m \u001b[0m\u001b[3mEbdomadàrio anarchico di propaganda rivoluzionaria.\u001b[0m\u001b[3m \u001b[0m\u001b[3m \u001b[0m\u001b[3m \u001b[0m\u001b[3m \u001b[0m                    │\n",
       "│  \u001b[1m              \u001b[0m \u001b[3m \u001b[0m\u001b[3m \u001b[0m\u001b[3m \u001b[0m\u001b[3m2012271201_1903-07-04_ed-1_seq-1_ocr.txt\u001b[0m\u001b[3m \u001b[0m\u001b[3m \u001b[0m\u001b[3m \u001b[0m\u001b[3mNUMERO 5\u001b[0m\u001b[3m                                            \u001b[0m\u001b[3m \u001b[0m\u001b[3m \u001b[0m\u001b[3m \u001b[0m                    │\n",
       "│  \u001b[1m              \u001b[0m \u001b[3m \u001b[0m\u001b[3m \u001b[0m\u001b[3m \u001b[0m\u001b[3m2012271201_1903-07-25_ed-1_seq-1_ocr.txt\u001b[0m\u001b[3m \u001b[0m\u001b[3m \u001b[0m\u001b[3m \u001b[0m\u001b[3mANNO I.\u001b[0m\u001b[3m                                             \u001b[0m\u001b[3m \u001b[0m\u001b[3m \u001b[0m\u001b[3m \u001b[0m                    │\n",
       "│  \u001b[1m              \u001b[0m \u001b[3m \u001b[0m\u001b[3m \u001b[0m\u001b[3m \u001b[0m\u001b[3m2012271201_1903-08-01_ed-1_seq-1_ocr.txt\u001b[0m\u001b[3m \u001b[0m\u001b[3m \u001b[0m\u001b[3m \u001b[0m\u001b[3mANNO I.\u001b[0m\u001b[3m                                             \u001b[0m\u001b[3m \u001b[0m\u001b[3m \u001b[0m\u001b[3m \u001b[0m                    │\n",
       "│  \u001b[1m              \u001b[0m \u001b[3m \u001b[0m\u001b[3m \u001b[0m\u001b[3m \u001b[0m\u001b[3m2012271201_1903-08-08_ed-1_seq-1_ocr.txt\u001b[0m\u001b[3m \u001b[0m\u001b[3m \u001b[0m\u001b[3m \u001b[0m\u001b[3mCiac vtj'y inn\u001b[0m\u001b[3m                                      \u001b[0m\u001b[3m \u001b[0m\u001b[3m \u001b[0m\u001b[3m \u001b[0m                    │\n",
       "│  \u001b[1m              \u001b[0m \u001b[3m \u001b[0m\u001b[3m \u001b[0m\u001b[3m \u001b[0m\u001b[3m2012271201_1903-08-15_ed-1_seq-1_ocr.txt\u001b[0m\u001b[3m \u001b[0m\u001b[3m \u001b[0m\u001b[3m \u001b[0m\u001b[3mNUMERO 11\u001b[0m\u001b[3m                                           \u001b[0m\u001b[3m \u001b[0m\u001b[3m \u001b[0m\u001b[3m \u001b[0m                    │\n",
       "│  \u001b[1m              \u001b[0m \u001b[3m \u001b[0m\u001b[3m \u001b[0m\u001b[3m \u001b[0m\u001b[3m2012271201_1903-08-22_ed-1_seq-1_ocr.txt\u001b[0m\u001b[3m \u001b[0m\u001b[3m \u001b[0m\u001b[3m \u001b[0m\u001b[3mEbdomadario anarchico di propaganda: rivoluzionaria.\u001b[0m\u001b[3m \u001b[0m\u001b[3m \u001b[0m\u001b[3m \u001b[0m                    │\n",
       "│  \u001b[1m              \u001b[0m \u001b[3m \u001b[0m\u001b[3m \u001b[0m\u001b[3m \u001b[0m\u001b[3m2012271201_1903-08-29_ed-1_seq-1_ocr.txt\u001b[0m\u001b[3m \u001b[0m\u001b[3m \u001b[0m\u001b[3m \u001b[0m\u001b[3mSUMERO 13\u001b[0m\u001b[3m                                           \u001b[0m\u001b[3m \u001b[0m\u001b[3m \u001b[0m\u001b[3m \u001b[0m                    │\n",
       "│  \u001b[1m              \u001b[0m \u001b[3m \u001b[0m\u001b[3m \u001b[0m\u001b[3m \u001b[0m\u001b[3m2012271201_1903-09-05_ed-1_seq-1_ocr.txt\u001b[0m\u001b[3m \u001b[0m\u001b[3m \u001b[0m\u001b[3m \u001b[0m\u001b[3mEbdomadario anarchico di propaganda rh\u001b[0m\u001b[3m              \u001b[0m\u001b[3m \u001b[0m\u001b[3m \u001b[0m\u001b[3m \u001b[0m                    │\n",
       "│  \u001b[1m              \u001b[0m \u001b[3m \u001b[0m\u001b[3m \u001b[0m\u001b[3m \u001b[0m\u001b[3m2012271201_1903-09-12_ed-1_seq-1_ocr.txt\u001b[0m\u001b[3m \u001b[0m\u001b[3m \u001b[0m\u001b[3m \u001b[0m\u001b[3mANNO I.\u001b[0m\u001b[3m                                             \u001b[0m\u001b[3m \u001b[0m\u001b[3m \u001b[0m\u001b[3m \u001b[0m                    │\n",
       "│  \u001b[1m              \u001b[0m \u001b[3m \u001b[0m\u001b[3m \u001b[0m\u001b[3m \u001b[0m\u001b[3m2012271201_1903-09-19_ed-1_seq-1_ocr.txt\u001b[0m\u001b[3m \u001b[0m\u001b[3m \u001b[0m\u001b[3m \u001b[0m\u001b[3mANNO I.\u001b[0m\u001b[3m                                             \u001b[0m\u001b[3m \u001b[0m\u001b[3m \u001b[0m\u001b[3m \u001b[0m                    │\n",
       "│  \u001b[1m              \u001b[0m \u001b[3m \u001b[0m\u001b[3m \u001b[0m\u001b[3m \u001b[0m\u001b[3m2012271201_1903-09-26_ed-1_seq-1_ocr.txt\u001b[0m\u001b[3m \u001b[0m\u001b[3m \u001b[0m\u001b[3m \u001b[0m\u001b[3mNUMERO 17\u001b[0m\u001b[3m                                           \u001b[0m\u001b[3m \u001b[0m\u001b[3m \u001b[0m\u001b[3m \u001b[0m                    │\n",
       "│  \u001b[1m              \u001b[0m \u001b[3m \u001b[0m\u001b[3m \u001b[0m\u001b[3m \u001b[0m\u001b[3m2012271201_1903-10-03_ed-1_seq-1_ocr.txt\u001b[0m\u001b[3m \u001b[0m\u001b[3m \u001b[0m\u001b[3m \u001b[0m\u001b[3mli\u001b[0m\u001b[3m                                                  \u001b[0m\u001b[3m \u001b[0m\u001b[3m \u001b[0m\u001b[3m \u001b[0m                    │\n",
       "│  \u001b[1m              \u001b[0m \u001b[3m \u001b[0m\u001b[3m \u001b[0m\u001b[3m \u001b[0m\u001b[3m...\u001b[0m\u001b[3m                                     \u001b[0m\u001b[3m \u001b[0m\u001b[3m \u001b[0m\u001b[3m \u001b[0m\u001b[3m...\u001b[0m\u001b[3m                                                 \u001b[0m\u001b[3m \u001b[0m\u001b[3m \u001b[0m\u001b[3m \u001b[0m                    │\n",
       "│  \u001b[1m              \u001b[0m \u001b[3m \u001b[0m\u001b[3m \u001b[0m\u001b[3m \u001b[0m\u001b[3m...\u001b[0m\u001b[3m                                     \u001b[0m\u001b[3m \u001b[0m\u001b[3m \u001b[0m\u001b[3m \u001b[0m\u001b[3m...\u001b[0m\u001b[3m                                                 \u001b[0m\u001b[3m \u001b[0m\u001b[3m \u001b[0m\u001b[3m \u001b[0m                    │\n",
       "│  \u001b[1m              \u001b[0m \u001b[3m \u001b[0m\u001b[3m \u001b[0m\u001b[3m \u001b[0m\u001b[3msn85066408_1919-12-15_ed-1_seq-1_ocr.txt\u001b[0m\u001b[3m \u001b[0m\u001b[3m \u001b[0m\u001b[3m \u001b[0m\u001b[3mANNO XXXIII-\u001b[0m\u001b[3m                                        \u001b[0m\u001b[3m \u001b[0m\u001b[3m \u001b[0m\u001b[3m \u001b[0m                    │\n",
       "│  \u001b[1m              \u001b[0m \u001b[3m \u001b[0m\u001b[3m \u001b[0m\u001b[3m \u001b[0m\u001b[3msn85066408_1919-12-16_ed-1_seq-1_ocr.txt\u001b[0m\u001b[3m \u001b[0m\u001b[3m \u001b[0m\u001b[3m \u001b[0m\u001b[3manno xxxiii.\u001b[0m\u001b[3m                                        \u001b[0m\u001b[3m \u001b[0m\u001b[3m \u001b[0m\u001b[3m \u001b[0m                    │\n",
       "│  \u001b[1m              \u001b[0m \u001b[3m \u001b[0m\u001b[3m \u001b[0m\u001b[3m \u001b[0m\u001b[3msn85066408_1919-12-17_ed-1_seq-1_ocr.txt\u001b[0m\u001b[3m \u001b[0m\u001b[3m \u001b[0m\u001b[3m \u001b[0m\u001b[3mANNO XXXIII\u001b[0m\u001b[3m                                         \u001b[0m\u001b[3m \u001b[0m\u001b[3m \u001b[0m\u001b[3m \u001b[0m                    │\n",
       "│  \u001b[1m              \u001b[0m \u001b[3m \u001b[0m\u001b[3m \u001b[0m\u001b[3m \u001b[0m\u001b[3msn85066408_1919-12-18_ed-1_seq-1_ocr.txt\u001b[0m\u001b[3m \u001b[0m\u001b[3m \u001b[0m\u001b[3m \u001b[0m\u001b[3manno xxxiil\u001b[0m\u001b[3m                                         \u001b[0m\u001b[3m \u001b[0m\u001b[3m \u001b[0m\u001b[3m \u001b[0m                    │\n",
       "│  \u001b[1m              \u001b[0m \u001b[3m \u001b[0m\u001b[3m \u001b[0m\u001b[3m \u001b[0m\u001b[3msn85066408_1919-12-19_ed-1_seq-1_ocr.txt\u001b[0m\u001b[3m \u001b[0m\u001b[3m \u001b[0m\u001b[3m \u001b[0m\u001b[3manno XXXIII-\u001b[0m\u001b[3m                                        \u001b[0m\u001b[3m \u001b[0m\u001b[3m \u001b[0m\u001b[3m \u001b[0m                    │\n",
       "│  \u001b[1m              \u001b[0m \u001b[3m \u001b[0m\u001b[3m \u001b[0m\u001b[3m \u001b[0m\u001b[3msn85066408_1919-12-20_ed-1_seq-1_ocr.txt\u001b[0m\u001b[3m \u001b[0m\u001b[3m \u001b[0m\u001b[3m \u001b[0m\u001b[3manno xxxiii-\u001b[0m\u001b[3m                                        \u001b[0m\u001b[3m \u001b[0m\u001b[3m \u001b[0m\u001b[3m \u001b[0m                    │\n",
       "│  \u001b[1m              \u001b[0m \u001b[3m \u001b[0m\u001b[3m \u001b[0m\u001b[3m \u001b[0m\u001b[3msn85066408_1919-12-21_ed-1_seq-1_ocr.txt\u001b[0m\u001b[3m \u001b[0m\u001b[3m \u001b[0m\u001b[3m \u001b[0m\u001b[3mFIRST SECTION\u001b[0m\u001b[3m                                       \u001b[0m\u001b[3m \u001b[0m\u001b[3m \u001b[0m\u001b[3m \u001b[0m                    │\n",
       "│  \u001b[1m              \u001b[0m \u001b[3m \u001b[0m\u001b[3m \u001b[0m\u001b[3m \u001b[0m\u001b[3msn85066408_1919-12-22_ed-1_seq-1_ocr.txt\u001b[0m\u001b[3m \u001b[0m\u001b[3m \u001b[0m\u001b[3m \u001b[0m\u001b[3mANNO XXXIII\u001b[0m\u001b[3m                                         \u001b[0m\u001b[3m \u001b[0m\u001b[3m \u001b[0m\u001b[3m \u001b[0m                    │\n",
       "│  \u001b[1m              \u001b[0m \u001b[3m \u001b[0m\u001b[3m \u001b[0m\u001b[3m \u001b[0m\u001b[3msn85066408_1919-12-23_ed-1_seq-1_ocr.txt\u001b[0m\u001b[3m \u001b[0m\u001b[3m \u001b[0m\u001b[3m \u001b[0m\u001b[3mANNO XXXIII\u001b[0m\u001b[3m                                         \u001b[0m\u001b[3m \u001b[0m\u001b[3m \u001b[0m\u001b[3m \u001b[0m                    │\n",
       "│  \u001b[1m              \u001b[0m \u001b[3m \u001b[0m\u001b[3m \u001b[0m\u001b[3m \u001b[0m\u001b[3msn85066408_1919-12-24_ed-1_seq-1_ocr.txt\u001b[0m\u001b[3m \u001b[0m\u001b[3m \u001b[0m\u001b[3m \u001b[0m\u001b[3mANNO XXXIII\u001b[0m\u001b[3m                                         \u001b[0m\u001b[3m \u001b[0m\u001b[3m \u001b[0m\u001b[3m \u001b[0m                    │\n",
       "│  \u001b[1m              \u001b[0m \u001b[3m \u001b[0m\u001b[3m \u001b[0m\u001b[3m \u001b[0m\u001b[3msn85066408_1919-12-25_ed-1_seq-1_ocr.txt\u001b[0m\u001b[3m \u001b[0m\u001b[3m \u001b[0m\u001b[3m \u001b[0m\u001b[3mANNO XXXI li-\u001b[0m\u001b[3m                                       \u001b[0m\u001b[3m \u001b[0m\u001b[3m \u001b[0m\u001b[3m \u001b[0m                    │\n",
       "│  \u001b[1m              \u001b[0m \u001b[3m \u001b[0m\u001b[3m \u001b[0m\u001b[3m \u001b[0m\u001b[3msn85066408_1919-12-27_ed-1_seq-1_ocr.txt\u001b[0m\u001b[3m \u001b[0m\u001b[3m \u001b[0m\u001b[3m \u001b[0m\u001b[3mANNO XXXIII\u001b[0m\u001b[3m                                         \u001b[0m\u001b[3m \u001b[0m\u001b[3m \u001b[0m\u001b[3m \u001b[0m                    │\n",
       "│  \u001b[1m              \u001b[0m \u001b[3m \u001b[0m\u001b[3m \u001b[0m\u001b[3m \u001b[0m\u001b[3msn85066408_1919-12-28_ed-1_seq-1_ocr.txt\u001b[0m\u001b[3m \u001b[0m\u001b[3m \u001b[0m\u001b[3m \u001b[0m\u001b[3mPATRIA e umanità*\u001b[0m\u001b[3m                                   \u001b[0m\u001b[3m \u001b[0m\u001b[3m \u001b[0m\u001b[3m \u001b[0m                    │\n",
       "│  \u001b[1m              \u001b[0m \u001b[3m \u001b[0m\u001b[3m \u001b[0m\u001b[3m \u001b[0m\u001b[3msn85066408_1919-12-29_ed-1_seq-1_ocr.txt\u001b[0m\u001b[3m \u001b[0m\u001b[3m \u001b[0m\u001b[3m \u001b[0m\u001b[3mANNO XXXIII*\u001b[0m\u001b[3m                                        \u001b[0m\u001b[3m \u001b[0m\u001b[3m \u001b[0m\u001b[3m \u001b[0m                    │\n",
       "│  \u001b[1m              \u001b[0m \u001b[3m \u001b[0m\u001b[3m \u001b[0m\u001b[3m \u001b[0m\u001b[3msn85066408_1919-12-30_ed-1_seq-1_ocr.txt\u001b[0m\u001b[3m \u001b[0m\u001b[3m \u001b[0m\u001b[3m \u001b[0m\u001b[3mANNO XXXIII-\u001b[0m\u001b[3m                                        \u001b[0m\u001b[3m \u001b[0m\u001b[3m \u001b[0m\u001b[3m \u001b[0m                    │\n",
       "│  \u001b[1m              \u001b[0m \u001b[3m \u001b[0m\u001b[3m \u001b[0m\u001b[3m \u001b[0m\u001b[3msn85066408_1919-12-31_ed-1_seq-1_ocr.txt\u001b[0m\u001b[3m \u001b[0m\u001b[3m \u001b[0m\u001b[3m \u001b[0m\u001b[3m\\\\\\ll XXXIII\u001b[0m\u001b[3m                                        \u001b[0m\u001b[3m \u001b[0m\u001b[3m \u001b[0m\u001b[3m \u001b[0m                    │\n",
       "│  \u001b[1m              \u001b[0m \u001b[3m \u001b[0m\u001b[3m                                                                                                   \u001b[0m\u001b[3m \u001b[0m                    │\n",
       "│                                                                                                                                          │\n",
       "╰──────────────────────────────────────────────────────────────────────────────────────────────────────────────────────────────────────────╯\n"
      ]
     },
     "execution_count": 12,
     "metadata": {},
     "output_type": "execute_result"
    }
   ],
   "source": [
    "create_table_from_url_results"
   ]
  },
  {
   "cell_type": "code",
   "execution_count": 13,
   "metadata": {},
   "outputs": [],
   "source": [
    "corpus_table_url = create_table_from_url_results['corpus_table']"
   ]
  },
  {
   "cell_type": "markdown",
   "metadata": {},
   "source": [
    "### 1.3 Get files from file bundle"
   ]
  },
  {
   "cell_type": "code",
   "execution_count": 14,
   "metadata": {},
   "outputs": [
    {
     "name": "stdout",
     "output_type": "stream",
     "text": [
      "\n",
      "╭─ Operation: \u001b[1;3mcreate.table.from.file_bundle\u001b[0m ───────────────────────────────────╮\n",
      "│                                                                              │\n",
      "│  \u001b[3m \u001b[0m\u001b[3mDocumentation\u001b[0m\u001b[3m \u001b[0m  Create a table value from a text file_bundle.              │\n",
      "│  \u001b[3m               \u001b[0m                                                             │\n",
      "│  \u001b[3m               \u001b[0m  The resulting table will have (at a minimum) the           │\n",
      "│  \u001b[3m               \u001b[0m  following columns:                                         │\n",
      "│  \u001b[3m               \u001b[0m                                                             │\n",
      "│  \u001b[3m               \u001b[0m  \u001b[1;33m • \u001b[0mid: an auto-assigned index                              │\n",
      "│  \u001b[3m               \u001b[0m  \u001b[1;33m • \u001b[0mrel_path: the relative path of the file (from the       │\n",
      "│  \u001b[3m               \u001b[0m  \u001b[1;33m   \u001b[0mprovided base path)                                     │\n",
      "│  \u001b[3m               \u001b[0m  \u001b[1;33m • \u001b[0mcontent: the text file content                          │\n",
      "│                                                                              │\n",
      "│  \u001b[3m \u001b[0m\u001b[3mInputs       \u001b[0m\u001b[3m \u001b[0m                                                             │\n",
      "│  \u001b[3m               \u001b[0m   \u001b[1m \u001b[0m\u001b[1mfield   \u001b[0m\u001b[1m \u001b[0m \u001b[1m          \u001b[0m \u001b[1m          \u001b[0m \u001b[1m          \u001b[0m \u001b[1m          \u001b[0m    │\n",
      "│  \u001b[3m               \u001b[0m   \u001b[1m \u001b[0m\u001b[1mname    \u001b[0m\u001b[1m \u001b[0m \u001b[1m \u001b[0m\u001b[1mtype    \u001b[0m\u001b[1m \u001b[0m \u001b[1m \u001b[0m\u001b[1mdescrip…\u001b[0m\u001b[1m \u001b[0m \u001b[1m \u001b[0m\u001b[1mRequired\u001b[0m\u001b[1m \u001b[0m \u001b[1m \u001b[0m\u001b[1mDefault \u001b[0m\u001b[1m \u001b[0m    │\n",
      "│  \u001b[3m               \u001b[0m   ──────────────────────────────────────────────────────    │\n",
      "│  \u001b[3m               \u001b[0m   \u001b[3m \u001b[0m\u001b[3mfile_bun\u001b[0m\u001b[3m \u001b[0m  file_bu…   The        \u001b[1myes\u001b[0m        -- no        │\n",
      "│  \u001b[3m               \u001b[0m   \u001b[3m \u001b[0m\u001b[3mdle     \u001b[0m\u001b[3m \u001b[0m             source                default      │\n",
      "│  \u001b[3m               \u001b[0m   \u001b[3m          \u001b[0m             value                 --           │\n",
      "│  \u001b[3m               \u001b[0m   \u001b[3m          \u001b[0m             (of type                           │\n",
      "│  \u001b[3m               \u001b[0m   \u001b[3m          \u001b[0m             'file_b…                           │\n",
      "│  \u001b[3m               \u001b[0m                                                             │\n",
      "│                                                                              │\n",
      "│  \u001b[3m \u001b[0m\u001b[3mOutputs      \u001b[0m\u001b[3m \u001b[0m                                                             │\n",
      "│  \u001b[3m               \u001b[0m   \u001b[1m \u001b[0m\u001b[1mfield name\u001b[0m\u001b[1m \u001b[0m \u001b[1m \u001b[0m\u001b[1mtype \u001b[0m\u001b[1m \u001b[0m \u001b[1m \u001b[0m\u001b[1mdescription                    \u001b[0m\u001b[1m \u001b[0m    │\n",
      "│  \u001b[3m               \u001b[0m   ──────────────────────────────────────────────────────    │\n",
      "│  \u001b[3m               \u001b[0m   \u001b[3m \u001b[0m\u001b[3mtable     \u001b[0m\u001b[3m \u001b[0m  table   The result value (of type           │\n",
      "│  \u001b[3m               \u001b[0m   \u001b[3m            \u001b[0m          'table').                           │\n",
      "│  \u001b[3m               \u001b[0m                                                             │\n",
      "│                                                                              │\n",
      "╰──────────────────────────────────────────────────────────────────────────────╯\n"
     ]
    }
   ],
   "source": [
    "! kiara operation explain create.table.from.file_bundle"
   ]
  },
  {
   "cell_type": "code",
   "execution_count": 25,
   "metadata": {},
   "outputs": [],
   "source": [
    "# replace path with your local path to the data folder\n",
    "create_table_from_bundle_inputs = {\n",
    "    \"file_bundle\": \"/Users/mariella.decrouychan/Documents/GitHub/kiara_plugin.topic_modelling/examples/data/text_corpus/data\"\n",
    "}"
   ]
  },
  {
   "cell_type": "code",
   "execution_count": 26,
   "metadata": {},
   "outputs": [],
   "source": [
    "create_table_from_bundle_results = kiara.run_job('create.table.from.file_bundle', inputs=create_table_from_bundle_inputs)"
   ]
  },
  {
   "cell_type": "code",
   "execution_count": 30,
   "metadata": {},
   "outputs": [
    {
     "data": {
      "text/html": [
       "<pre style=\"white-space:pre;overflow-x:auto;line-height:normal;font-family:Menlo,'DejaVu Sans Mono',consolas,'Courier New',monospace\">╭──────────────────────────────────────────────────────────────────────────────────────────────────────────────────────────────────────────╮\n",
       "│                                                                                                                                          │\n",
       "│  <span style=\"font-weight: bold\"> field </span> <span style=\"font-weight: bold\"> value                                                                                                                        </span>  │\n",
       "│  ──────────────────────────────────────────────────────────────────────────────────────────────────────────────────────────────────────  │\n",
       "│  <span style=\"font-weight: bold\"> table </span> <span style=\"font-style: italic\">                                                                                                                              </span>  │\n",
       "│  <span style=\"font-weight: bold\">       </span> <span style=\"font-style: italic\">  </span><span style=\"font-weight: bold; font-style: italic\"> id </span><span style=\"font-style: italic\"> </span><span style=\"font-weight: bold; font-style: italic\"> rel_path                      </span><span style=\"font-style: italic\"> </span><span style=\"font-weight: bold; font-style: italic\"> mime_type  </span><span style=\"font-style: italic\"> </span><span style=\"font-weight: bold; font-style: italic\"> size  </span><span style=\"font-style: italic\"> </span><span style=\"font-weight: bold; font-style: italic\"> content                        </span><span style=\"font-style: italic\"> </span><span style=\"font-weight: bold; font-style: italic\"> file_name                     </span><span style=\"font-style: italic\">  </span>  │\n",
       "│  <span style=\"font-weight: bold\">       </span> <span style=\"font-style: italic\">  ──────────────────────────────────────────────────────────────────────────────────────────────────────────────────────────  </span>  │\n",
       "│  <span style=\"font-weight: bold\">       </span> <span style=\"font-style: italic\">   0    La_Ragione/sn84037024_1917-04   text/plain   16613   LA RAGIONE                       sn84037024_1917-04-25_ed-1_se   </span>  │\n",
       "│  <span style=\"font-weight: bold\">       </span> <span style=\"font-style: italic\">   1    La_Ragione/sn84037024_1917-04   text/plain   16679   LA RAG ONE                       sn84037024_1917-04-25_ed-2_se   </span>  │\n",
       "│  <span style=\"font-weight: bold\">       </span> <span style=\"font-style: italic\">   2    La_Ragione/sn84037024_1917-04   text/plain   16793   LA RAGIONE                       sn84037024_1917-04-25_ed-3_se   </span>  │\n",
       "│  <span style=\"font-weight: bold\">       </span> <span style=\"font-style: italic\">   3    La_Ragione/sn84037024_1917-04   text/plain   16235   contro i vili, i camorristi, i   sn84037024_1917-04-25_ed-4_se   </span>  │\n",
       "│  <span style=\"font-weight: bold\">       </span> <span style=\"font-style: italic\">   4    La_Ragione/sn84037024_1917-05   text/plain   18346   contro i vili, i camorristi, i   sn84037024_1917-05-05_ed-1_se   </span>  │\n",
       "│  <span style=\"font-weight: bold\">       </span> <span style=\"font-style: italic\">   5    La_Ragione/sn84037024_1917-05   text/plain   18474   LA RAGIONA                       sn84037024_1917-05-05_ed-2_se   </span>  │\n",
       "│  <span style=\"font-weight: bold\">       </span> <span style=\"font-style: italic\">   6    La_Ragione/sn84037024_1917-05   text/plain   18280   LA RAGIONE                       sn84037024_1917-05-05_ed-3_se   </span>  │\n",
       "│  <span style=\"font-weight: bold\">       </span> <span style=\"font-style: italic\">   7    La_Ragione/sn84037024_1917-05   text/plain   18481   LA RAGIONE                       sn84037024_1917-05-05_ed-4_se   </span>  │\n",
       "│  <span style=\"font-weight: bold\">       </span> <span style=\"font-style: italic\">   8    La_Ragione/sn84037024_1917-05   text/plain   18620   contro i vili, i camorristi, i   sn84037024_1917-05-16_ed-1_se   </span>  │\n",
       "│  <span style=\"font-weight: bold\">       </span> <span style=\"font-style: italic\">   9    La_Ragione/sn84037024_1917-05   text/plain   18698   LA RAG ONE                       sn84037024_1917-05-16_ed-2_se   </span>  │\n",
       "│  <span style=\"font-weight: bold\">       </span> <span style=\"font-style: italic\">   10   La_Ragione/sn84037024_1917-05   text/plain   18540   contro 1 vili, i camorristi, i   sn84037024_1917-05-16_ed-3_se   </span>  │\n",
       "│  <span style=\"font-weight: bold\">       </span> <span style=\"font-style: italic\">   11   La_Rassegna/sn84037025_1917-0   text/plain   19397   ■■■                              sn84037025_1917-04-07_ed-1_se   </span>  │\n",
       "│  <span style=\"font-weight: bold\">       </span> <span style=\"font-style: italic\">   12   La_Rassegna/sn84037025_1917-0   text/plain   20647   La Rassegna                      sn84037025_1917-04-14_ed-1_se   </span>  │\n",
       "│  <span style=\"font-weight: bold\">       </span> <span style=\"font-style: italic\">   13   La_Rassegna/sn84037025_1917-0   text/plain   20650   Both Phones                      sn84037025_1917-04-14_ed-2_se   </span>  │\n",
       "│  <span style=\"font-weight: bold\">       </span> <span style=\"font-style: italic\">   14   La_Rassegna/sn84037025_1917-0   text/plain   21017   ■ jSrìt** W?? iIK 38®f- i^M      sn84037025_1917-04-21_ed-1_se   </span>  │\n",
       "│  <span style=\"font-weight: bold\">       </span> <span style=\"font-style: italic\">   15   La_Rassegna/sn84037025_1917-0   text/plain   20982   ■Both Phones                     sn84037025_1917-04-21_ed-2_se   </span>  │\n",
       "│  <span style=\"font-weight: bold\">       </span> <span style=\"font-style: italic\">                                                                                                                              </span>  │\n",
       "│                                                                                                                                          │\n",
       "╰──────────────────────────────────────────────────────────────────────────────────────────────────────────────────────────────────────────╯\n",
       "</pre>\n"
      ],
      "text/plain": [
       "╭──────────────────────────────────────────────────────────────────────────────────────────────────────────────────────────────────────────╮\n",
       "│                                                                                                                                          │\n",
       "│  \u001b[1m \u001b[0m\u001b[1mfield\u001b[0m\u001b[1m \u001b[0m \u001b[1m \u001b[0m\u001b[1mvalue                                                                                                                       \u001b[0m\u001b[1m \u001b[0m  │\n",
       "│  ──────────────────────────────────────────────────────────────────────────────────────────────────────────────────────────────────────  │\n",
       "│  \u001b[1m \u001b[0m\u001b[1mtable\u001b[0m\u001b[1m \u001b[0m \u001b[3m \u001b[0m\u001b[3m                                                                                                                            \u001b[0m\u001b[3m \u001b[0m  │\n",
       "│  \u001b[1m       \u001b[0m \u001b[3m \u001b[0m\u001b[3m \u001b[0m\u001b[1;3m \u001b[0m\u001b[1;3mid\u001b[0m\u001b[1;3m \u001b[0m\u001b[3m \u001b[0m\u001b[1;3m \u001b[0m\u001b[1;3mrel_path\u001b[0m\u001b[1;3m                     \u001b[0m\u001b[1;3m \u001b[0m\u001b[3m \u001b[0m\u001b[1;3m \u001b[0m\u001b[1;3mmime_type\u001b[0m\u001b[1;3m \u001b[0m\u001b[1;3m \u001b[0m\u001b[3m \u001b[0m\u001b[1;3m \u001b[0m\u001b[1;3msize\u001b[0m\u001b[1;3m \u001b[0m\u001b[1;3m \u001b[0m\u001b[3m \u001b[0m\u001b[1;3m \u001b[0m\u001b[1;3mcontent\u001b[0m\u001b[1;3m                       \u001b[0m\u001b[1;3m \u001b[0m\u001b[3m \u001b[0m\u001b[1;3m \u001b[0m\u001b[1;3mfile_name\u001b[0m\u001b[1;3m                    \u001b[0m\u001b[1;3m \u001b[0m\u001b[3m \u001b[0m\u001b[3m \u001b[0m  │\n",
       "│  \u001b[1m       \u001b[0m \u001b[3m \u001b[0m\u001b[3m ────────────────────────────────────────────────────────────────────────────────────────────────────────────────────────── \u001b[0m\u001b[3m \u001b[0m  │\n",
       "│  \u001b[1m       \u001b[0m \u001b[3m \u001b[0m\u001b[3m \u001b[0m\u001b[3m \u001b[0m\u001b[3m0\u001b[0m\u001b[3m \u001b[0m\u001b[3m \u001b[0m\u001b[3m \u001b[0m\u001b[3m \u001b[0m\u001b[3mLa_Ragione/sn84037024_1917-04\u001b[0m\u001b[3m \u001b[0m\u001b[3m \u001b[0m\u001b[3m \u001b[0m\u001b[3mtext/plain\u001b[0m\u001b[3m \u001b[0m\u001b[3m \u001b[0m\u001b[3m \u001b[0m\u001b[3m16613\u001b[0m\u001b[3m \u001b[0m\u001b[3m \u001b[0m\u001b[3m \u001b[0m\u001b[3mLA RAGIONE\u001b[0m\u001b[3m                    \u001b[0m\u001b[3m \u001b[0m\u001b[3m \u001b[0m\u001b[3m \u001b[0m\u001b[3msn84037024_1917-04-25_ed-1_se\u001b[0m\u001b[3m \u001b[0m\u001b[3m \u001b[0m\u001b[3m \u001b[0m  │\n",
       "│  \u001b[1m       \u001b[0m \u001b[3m \u001b[0m\u001b[3m \u001b[0m\u001b[3m \u001b[0m\u001b[3m1\u001b[0m\u001b[3m \u001b[0m\u001b[3m \u001b[0m\u001b[3m \u001b[0m\u001b[3m \u001b[0m\u001b[3mLa_Ragione/sn84037024_1917-04\u001b[0m\u001b[3m \u001b[0m\u001b[3m \u001b[0m\u001b[3m \u001b[0m\u001b[3mtext/plain\u001b[0m\u001b[3m \u001b[0m\u001b[3m \u001b[0m\u001b[3m \u001b[0m\u001b[3m16679\u001b[0m\u001b[3m \u001b[0m\u001b[3m \u001b[0m\u001b[3m \u001b[0m\u001b[3mLA RAG ONE\u001b[0m\u001b[3m                    \u001b[0m\u001b[3m \u001b[0m\u001b[3m \u001b[0m\u001b[3m \u001b[0m\u001b[3msn84037024_1917-04-25_ed-2_se\u001b[0m\u001b[3m \u001b[0m\u001b[3m \u001b[0m\u001b[3m \u001b[0m  │\n",
       "│  \u001b[1m       \u001b[0m \u001b[3m \u001b[0m\u001b[3m \u001b[0m\u001b[3m \u001b[0m\u001b[3m2\u001b[0m\u001b[3m \u001b[0m\u001b[3m \u001b[0m\u001b[3m \u001b[0m\u001b[3m \u001b[0m\u001b[3mLa_Ragione/sn84037024_1917-04\u001b[0m\u001b[3m \u001b[0m\u001b[3m \u001b[0m\u001b[3m \u001b[0m\u001b[3mtext/plain\u001b[0m\u001b[3m \u001b[0m\u001b[3m \u001b[0m\u001b[3m \u001b[0m\u001b[3m16793\u001b[0m\u001b[3m \u001b[0m\u001b[3m \u001b[0m\u001b[3m \u001b[0m\u001b[3mLA RAGIONE\u001b[0m\u001b[3m                    \u001b[0m\u001b[3m \u001b[0m\u001b[3m \u001b[0m\u001b[3m \u001b[0m\u001b[3msn84037024_1917-04-25_ed-3_se\u001b[0m\u001b[3m \u001b[0m\u001b[3m \u001b[0m\u001b[3m \u001b[0m  │\n",
       "│  \u001b[1m       \u001b[0m \u001b[3m \u001b[0m\u001b[3m \u001b[0m\u001b[3m \u001b[0m\u001b[3m3\u001b[0m\u001b[3m \u001b[0m\u001b[3m \u001b[0m\u001b[3m \u001b[0m\u001b[3m \u001b[0m\u001b[3mLa_Ragione/sn84037024_1917-04\u001b[0m\u001b[3m \u001b[0m\u001b[3m \u001b[0m\u001b[3m \u001b[0m\u001b[3mtext/plain\u001b[0m\u001b[3m \u001b[0m\u001b[3m \u001b[0m\u001b[3m \u001b[0m\u001b[3m16235\u001b[0m\u001b[3m \u001b[0m\u001b[3m \u001b[0m\u001b[3m \u001b[0m\u001b[3mcontro i vili, i camorristi, i\u001b[0m\u001b[3m \u001b[0m\u001b[3m \u001b[0m\u001b[3m \u001b[0m\u001b[3msn84037024_1917-04-25_ed-4_se\u001b[0m\u001b[3m \u001b[0m\u001b[3m \u001b[0m\u001b[3m \u001b[0m  │\n",
       "│  \u001b[1m       \u001b[0m \u001b[3m \u001b[0m\u001b[3m \u001b[0m\u001b[3m \u001b[0m\u001b[3m4\u001b[0m\u001b[3m \u001b[0m\u001b[3m \u001b[0m\u001b[3m \u001b[0m\u001b[3m \u001b[0m\u001b[3mLa_Ragione/sn84037024_1917-05\u001b[0m\u001b[3m \u001b[0m\u001b[3m \u001b[0m\u001b[3m \u001b[0m\u001b[3mtext/plain\u001b[0m\u001b[3m \u001b[0m\u001b[3m \u001b[0m\u001b[3m \u001b[0m\u001b[3m18346\u001b[0m\u001b[3m \u001b[0m\u001b[3m \u001b[0m\u001b[3m \u001b[0m\u001b[3mcontro i vili, i camorristi, i\u001b[0m\u001b[3m \u001b[0m\u001b[3m \u001b[0m\u001b[3m \u001b[0m\u001b[3msn84037024_1917-05-05_ed-1_se\u001b[0m\u001b[3m \u001b[0m\u001b[3m \u001b[0m\u001b[3m \u001b[0m  │\n",
       "│  \u001b[1m       \u001b[0m \u001b[3m \u001b[0m\u001b[3m \u001b[0m\u001b[3m \u001b[0m\u001b[3m5\u001b[0m\u001b[3m \u001b[0m\u001b[3m \u001b[0m\u001b[3m \u001b[0m\u001b[3m \u001b[0m\u001b[3mLa_Ragione/sn84037024_1917-05\u001b[0m\u001b[3m \u001b[0m\u001b[3m \u001b[0m\u001b[3m \u001b[0m\u001b[3mtext/plain\u001b[0m\u001b[3m \u001b[0m\u001b[3m \u001b[0m\u001b[3m \u001b[0m\u001b[3m18474\u001b[0m\u001b[3m \u001b[0m\u001b[3m \u001b[0m\u001b[3m \u001b[0m\u001b[3mLA RAGIONA\u001b[0m\u001b[3m                    \u001b[0m\u001b[3m \u001b[0m\u001b[3m \u001b[0m\u001b[3m \u001b[0m\u001b[3msn84037024_1917-05-05_ed-2_se\u001b[0m\u001b[3m \u001b[0m\u001b[3m \u001b[0m\u001b[3m \u001b[0m  │\n",
       "│  \u001b[1m       \u001b[0m \u001b[3m \u001b[0m\u001b[3m \u001b[0m\u001b[3m \u001b[0m\u001b[3m6\u001b[0m\u001b[3m \u001b[0m\u001b[3m \u001b[0m\u001b[3m \u001b[0m\u001b[3m \u001b[0m\u001b[3mLa_Ragione/sn84037024_1917-05\u001b[0m\u001b[3m \u001b[0m\u001b[3m \u001b[0m\u001b[3m \u001b[0m\u001b[3mtext/plain\u001b[0m\u001b[3m \u001b[0m\u001b[3m \u001b[0m\u001b[3m \u001b[0m\u001b[3m18280\u001b[0m\u001b[3m \u001b[0m\u001b[3m \u001b[0m\u001b[3m \u001b[0m\u001b[3mLA RAGIONE\u001b[0m\u001b[3m                    \u001b[0m\u001b[3m \u001b[0m\u001b[3m \u001b[0m\u001b[3m \u001b[0m\u001b[3msn84037024_1917-05-05_ed-3_se\u001b[0m\u001b[3m \u001b[0m\u001b[3m \u001b[0m\u001b[3m \u001b[0m  │\n",
       "│  \u001b[1m       \u001b[0m \u001b[3m \u001b[0m\u001b[3m \u001b[0m\u001b[3m \u001b[0m\u001b[3m7\u001b[0m\u001b[3m \u001b[0m\u001b[3m \u001b[0m\u001b[3m \u001b[0m\u001b[3m \u001b[0m\u001b[3mLa_Ragione/sn84037024_1917-05\u001b[0m\u001b[3m \u001b[0m\u001b[3m \u001b[0m\u001b[3m \u001b[0m\u001b[3mtext/plain\u001b[0m\u001b[3m \u001b[0m\u001b[3m \u001b[0m\u001b[3m \u001b[0m\u001b[3m18481\u001b[0m\u001b[3m \u001b[0m\u001b[3m \u001b[0m\u001b[3m \u001b[0m\u001b[3mLA RAGIONE\u001b[0m\u001b[3m                    \u001b[0m\u001b[3m \u001b[0m\u001b[3m \u001b[0m\u001b[3m \u001b[0m\u001b[3msn84037024_1917-05-05_ed-4_se\u001b[0m\u001b[3m \u001b[0m\u001b[3m \u001b[0m\u001b[3m \u001b[0m  │\n",
       "│  \u001b[1m       \u001b[0m \u001b[3m \u001b[0m\u001b[3m \u001b[0m\u001b[3m \u001b[0m\u001b[3m8\u001b[0m\u001b[3m \u001b[0m\u001b[3m \u001b[0m\u001b[3m \u001b[0m\u001b[3m \u001b[0m\u001b[3mLa_Ragione/sn84037024_1917-05\u001b[0m\u001b[3m \u001b[0m\u001b[3m \u001b[0m\u001b[3m \u001b[0m\u001b[3mtext/plain\u001b[0m\u001b[3m \u001b[0m\u001b[3m \u001b[0m\u001b[3m \u001b[0m\u001b[3m18620\u001b[0m\u001b[3m \u001b[0m\u001b[3m \u001b[0m\u001b[3m \u001b[0m\u001b[3mcontro i vili, i camorristi, i\u001b[0m\u001b[3m \u001b[0m\u001b[3m \u001b[0m\u001b[3m \u001b[0m\u001b[3msn84037024_1917-05-16_ed-1_se\u001b[0m\u001b[3m \u001b[0m\u001b[3m \u001b[0m\u001b[3m \u001b[0m  │\n",
       "│  \u001b[1m       \u001b[0m \u001b[3m \u001b[0m\u001b[3m \u001b[0m\u001b[3m \u001b[0m\u001b[3m9\u001b[0m\u001b[3m \u001b[0m\u001b[3m \u001b[0m\u001b[3m \u001b[0m\u001b[3m \u001b[0m\u001b[3mLa_Ragione/sn84037024_1917-05\u001b[0m\u001b[3m \u001b[0m\u001b[3m \u001b[0m\u001b[3m \u001b[0m\u001b[3mtext/plain\u001b[0m\u001b[3m \u001b[0m\u001b[3m \u001b[0m\u001b[3m \u001b[0m\u001b[3m18698\u001b[0m\u001b[3m \u001b[0m\u001b[3m \u001b[0m\u001b[3m \u001b[0m\u001b[3mLA RAG ONE\u001b[0m\u001b[3m                    \u001b[0m\u001b[3m \u001b[0m\u001b[3m \u001b[0m\u001b[3m \u001b[0m\u001b[3msn84037024_1917-05-16_ed-2_se\u001b[0m\u001b[3m \u001b[0m\u001b[3m \u001b[0m\u001b[3m \u001b[0m  │\n",
       "│  \u001b[1m       \u001b[0m \u001b[3m \u001b[0m\u001b[3m \u001b[0m\u001b[3m \u001b[0m\u001b[3m10\u001b[0m\u001b[3m \u001b[0m\u001b[3m \u001b[0m\u001b[3m \u001b[0m\u001b[3mLa_Ragione/sn84037024_1917-05\u001b[0m\u001b[3m \u001b[0m\u001b[3m \u001b[0m\u001b[3m \u001b[0m\u001b[3mtext/plain\u001b[0m\u001b[3m \u001b[0m\u001b[3m \u001b[0m\u001b[3m \u001b[0m\u001b[3m18540\u001b[0m\u001b[3m \u001b[0m\u001b[3m \u001b[0m\u001b[3m \u001b[0m\u001b[3mcontro 1 vili, i camorristi, i\u001b[0m\u001b[3m \u001b[0m\u001b[3m \u001b[0m\u001b[3m \u001b[0m\u001b[3msn84037024_1917-05-16_ed-3_se\u001b[0m\u001b[3m \u001b[0m\u001b[3m \u001b[0m\u001b[3m \u001b[0m  │\n",
       "│  \u001b[1m       \u001b[0m \u001b[3m \u001b[0m\u001b[3m \u001b[0m\u001b[3m \u001b[0m\u001b[3m11\u001b[0m\u001b[3m \u001b[0m\u001b[3m \u001b[0m\u001b[3m \u001b[0m\u001b[3mLa_Rassegna/sn84037025_1917-0\u001b[0m\u001b[3m \u001b[0m\u001b[3m \u001b[0m\u001b[3m \u001b[0m\u001b[3mtext/plain\u001b[0m\u001b[3m \u001b[0m\u001b[3m \u001b[0m\u001b[3m \u001b[0m\u001b[3m19397\u001b[0m\u001b[3m \u001b[0m\u001b[3m \u001b[0m\u001b[3m \u001b[0m\u001b[3m■■■\u001b[0m\u001b[3m                           \u001b[0m\u001b[3m \u001b[0m\u001b[3m \u001b[0m\u001b[3m \u001b[0m\u001b[3msn84037025_1917-04-07_ed-1_se\u001b[0m\u001b[3m \u001b[0m\u001b[3m \u001b[0m\u001b[3m \u001b[0m  │\n",
       "│  \u001b[1m       \u001b[0m \u001b[3m \u001b[0m\u001b[3m \u001b[0m\u001b[3m \u001b[0m\u001b[3m12\u001b[0m\u001b[3m \u001b[0m\u001b[3m \u001b[0m\u001b[3m \u001b[0m\u001b[3mLa_Rassegna/sn84037025_1917-0\u001b[0m\u001b[3m \u001b[0m\u001b[3m \u001b[0m\u001b[3m \u001b[0m\u001b[3mtext/plain\u001b[0m\u001b[3m \u001b[0m\u001b[3m \u001b[0m\u001b[3m \u001b[0m\u001b[3m20647\u001b[0m\u001b[3m \u001b[0m\u001b[3m \u001b[0m\u001b[3m \u001b[0m\u001b[3mLa Rassegna\u001b[0m\u001b[3m                   \u001b[0m\u001b[3m \u001b[0m\u001b[3m \u001b[0m\u001b[3m \u001b[0m\u001b[3msn84037025_1917-04-14_ed-1_se\u001b[0m\u001b[3m \u001b[0m\u001b[3m \u001b[0m\u001b[3m \u001b[0m  │\n",
       "│  \u001b[1m       \u001b[0m \u001b[3m \u001b[0m\u001b[3m \u001b[0m\u001b[3m \u001b[0m\u001b[3m13\u001b[0m\u001b[3m \u001b[0m\u001b[3m \u001b[0m\u001b[3m \u001b[0m\u001b[3mLa_Rassegna/sn84037025_1917-0\u001b[0m\u001b[3m \u001b[0m\u001b[3m \u001b[0m\u001b[3m \u001b[0m\u001b[3mtext/plain\u001b[0m\u001b[3m \u001b[0m\u001b[3m \u001b[0m\u001b[3m \u001b[0m\u001b[3m20650\u001b[0m\u001b[3m \u001b[0m\u001b[3m \u001b[0m\u001b[3m \u001b[0m\u001b[3mBoth Phones\u001b[0m\u001b[3m                   \u001b[0m\u001b[3m \u001b[0m\u001b[3m \u001b[0m\u001b[3m \u001b[0m\u001b[3msn84037025_1917-04-14_ed-2_se\u001b[0m\u001b[3m \u001b[0m\u001b[3m \u001b[0m\u001b[3m \u001b[0m  │\n",
       "│  \u001b[1m       \u001b[0m \u001b[3m \u001b[0m\u001b[3m \u001b[0m\u001b[3m \u001b[0m\u001b[3m14\u001b[0m\u001b[3m \u001b[0m\u001b[3m \u001b[0m\u001b[3m \u001b[0m\u001b[3mLa_Rassegna/sn84037025_1917-0\u001b[0m\u001b[3m \u001b[0m\u001b[3m \u001b[0m\u001b[3m \u001b[0m\u001b[3mtext/plain\u001b[0m\u001b[3m \u001b[0m\u001b[3m \u001b[0m\u001b[3m \u001b[0m\u001b[3m21017\u001b[0m\u001b[3m \u001b[0m\u001b[3m \u001b[0m\u001b[3m \u001b[0m\u001b[3m■ jSrìt** W?? iIK 38®f- i^M\u001b[0m\u001b[3m   \u001b[0m\u001b[3m \u001b[0m\u001b[3m \u001b[0m\u001b[3m \u001b[0m\u001b[3msn84037025_1917-04-21_ed-1_se\u001b[0m\u001b[3m \u001b[0m\u001b[3m \u001b[0m\u001b[3m \u001b[0m  │\n",
       "│  \u001b[1m       \u001b[0m \u001b[3m \u001b[0m\u001b[3m \u001b[0m\u001b[3m \u001b[0m\u001b[3m15\u001b[0m\u001b[3m \u001b[0m\u001b[3m \u001b[0m\u001b[3m \u001b[0m\u001b[3mLa_Rassegna/sn84037025_1917-0\u001b[0m\u001b[3m \u001b[0m\u001b[3m \u001b[0m\u001b[3m \u001b[0m\u001b[3mtext/plain\u001b[0m\u001b[3m \u001b[0m\u001b[3m \u001b[0m\u001b[3m \u001b[0m\u001b[3m20982\u001b[0m\u001b[3m \u001b[0m\u001b[3m \u001b[0m\u001b[3m \u001b[0m\u001b[3m■Both Phones\u001b[0m\u001b[3m                  \u001b[0m\u001b[3m \u001b[0m\u001b[3m \u001b[0m\u001b[3m \u001b[0m\u001b[3msn84037025_1917-04-21_ed-2_se\u001b[0m\u001b[3m \u001b[0m\u001b[3m \u001b[0m\u001b[3m \u001b[0m  │\n",
       "│  \u001b[1m       \u001b[0m \u001b[3m \u001b[0m\u001b[3m                                                                                                                            \u001b[0m\u001b[3m \u001b[0m  │\n",
       "│                                                                                                                                          │\n",
       "╰──────────────────────────────────────────────────────────────────────────────────────────────────────────────────────────────────────────╯\n"
      ]
     },
     "execution_count": 30,
     "metadata": {},
     "output_type": "execute_result"
    }
   ],
   "source": [
    "create_table_from_bundle_results"
   ]
  }
 ],
 "metadata": {
  "kernelspec": {
   "display_name": "tm_2023",
   "language": "python",
   "name": "python3"
  },
  "language_info": {
   "codemirror_mode": {
    "name": "ipython",
    "version": 3
   },
   "file_extension": ".py",
   "mimetype": "text/x-python",
   "name": "python",
   "nbconvert_exporter": "python",
   "pygments_lexer": "ipython3",
   "version": "3.11.5"
  }
 },
 "nbformat": 4,
 "nbformat_minor": 2
}
