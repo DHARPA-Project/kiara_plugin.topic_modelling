{
 "cells": [
  {
   "cell_type": "code",
   "execution_count": null,
   "metadata": {},
   "outputs": [
    {
     "ename": "",
     "evalue": "",
     "output_type": "error",
     "traceback": [
      "\u001b[1;31mRunning cells with 'tm_2024_05 (Python 3.12.3)' requires the ipykernel package.\n",
      "\u001b[1;31mRun the following command to install 'ipykernel' into the Python environment. \n",
      "\u001b[1;31mCommand: 'conda install -n tm_2024_05 ipykernel --update-deps --force-reinstall'"
     ]
    }
   ],
   "source": [
    "# install the package by running the command \"pip install git+https://github.com/DHARPA-Project/kiara_plugin.topic_modelling\"\n",
    "# in your virtual environment.\n",
    "# Alternatively, uncomment and run the line below.\n",
    "# ! pip install git+https://github.com/DHARPA-Project/kiara_plugin.topic_modelling"
   ]
  },
  {
   "cell_type": "code",
   "execution_count": 1,
   "metadata": {},
   "outputs": [],
   "source": [
    "from kiara.api import KiaraAPI\n",
    "kiara = KiaraAPI.instance()"
   ]
  },
  {
   "cell_type": "markdown",
   "metadata": {},
   "source": [
    "## 1. Data onboarding"
   ]
  },
  {
   "cell_type": "markdown",
   "metadata": {},
   "source": [
    "Choose one of the two options below (1.1, 1.2 or 1.3) to onboard data.\n",
    "Option 1.3 uses example data present in the topic modelling plugin."
   ]
  },
  {
   "cell_type": "markdown",
   "metadata": {},
   "source": [
    "### 1.1. Get files from zenodo"
   ]
  },
  {
   "cell_type": "code",
   "execution_count": 2,
   "metadata": {},
   "outputs": [
    {
     "name": "stdout",
     "output_type": "stream",
     "text": [
      "\n",
      "╭─ Operation: \u001b[1;3mtopic_modelling.create_table_from_zenodo\u001b[0m ────────────────────────╮\n",
      "│                                                                              │\n",
      "│  \u001b[3m \u001b[0m\u001b[3mDocumentation\u001b[0m\u001b[3m \u001b[0m  This module retrieves text files from a specified folder   │\n",
      "│  \u001b[3m               \u001b[0m  hosted on Zenodo.                                          │\n",
      "│  \u001b[3m               \u001b[0m                                                             │\n",
      "│  \u001b[3m               \u001b[0m  It takes the DOI and the name of the file as inputs. It    │\n",
      "│  \u001b[3m               \u001b[0m  outputs a table with two columns: one for the file names   │\n",
      "│  \u001b[3m               \u001b[0m  and the other for the content of these files.              │\n",
      "│                                                                              │\n",
      "│  \u001b[3m \u001b[0m\u001b[3mInputs       \u001b[0m\u001b[3m \u001b[0m                                                             │\n",
      "│  \u001b[3m               \u001b[0m   \u001b[1m \u001b[0m\u001b[1mfield    \u001b[0m\u001b[1m \u001b[0m \u001b[1m        \u001b[0m \u001b[1m          \u001b[0m \u001b[1m          \u001b[0m \u001b[1m           \u001b[0m    │\n",
      "│  \u001b[3m               \u001b[0m   \u001b[1m \u001b[0m\u001b[1mname     \u001b[0m\u001b[1m \u001b[0m \u001b[1m \u001b[0m\u001b[1mtype  \u001b[0m\u001b[1m \u001b[0m \u001b[1m \u001b[0m\u001b[1mdescrip…\u001b[0m\u001b[1m \u001b[0m \u001b[1m \u001b[0m\u001b[1mRequired\u001b[0m\u001b[1m \u001b[0m \u001b[1m \u001b[0m\u001b[1mDefault  \u001b[0m\u001b[1m \u001b[0m    │\n",
      "│  \u001b[3m               \u001b[0m   ──────────────────────────────────────────────────────    │\n",
      "│  \u001b[3m               \u001b[0m   \u001b[3m \u001b[0m\u001b[3mdoi      \u001b[0m\u001b[3m \u001b[0m  string   The        \u001b[1myes\u001b[0m        -- no         │\n",
      "│  \u001b[3m               \u001b[0m   \u001b[3m           \u001b[0m           Digital               default       │\n",
      "│  \u001b[3m               \u001b[0m   \u001b[3m           \u001b[0m           Object                --            │\n",
      "│  \u001b[3m               \u001b[0m   \u001b[3m           \u001b[0m           Identif…                            │\n",
      "│  \u001b[3m               \u001b[0m   \u001b[3m           \u001b[0m           for the                             │\n",
      "│  \u001b[3m               \u001b[0m   \u001b[3m           \u001b[0m           resourc…                            │\n",
      "│  \u001b[3m               \u001b[0m   \u001b[3m \u001b[0m\u001b[3mfile_name\u001b[0m\u001b[3m \u001b[0m  string   The name   \u001b[1myes\u001b[0m        -- no         │\n",
      "│  \u001b[3m               \u001b[0m   \u001b[3m           \u001b[0m           of the                default       │\n",
      "│  \u001b[3m               \u001b[0m   \u001b[3m           \u001b[0m           file to               --            │\n",
      "│  \u001b[3m               \u001b[0m   \u001b[3m           \u001b[0m           be                                  │\n",
      "│  \u001b[3m               \u001b[0m   \u001b[3m           \u001b[0m           process…                            │\n",
      "│  \u001b[3m               \u001b[0m                                                             │\n",
      "│                                                                              │\n",
      "│  \u001b[3m \u001b[0m\u001b[3mOutputs      \u001b[0m\u001b[3m \u001b[0m                                                             │\n",
      "│  \u001b[3m               \u001b[0m   \u001b[1m \u001b[0m\u001b[1mfield name  \u001b[0m\u001b[1m \u001b[0m \u001b[1m \u001b[0m\u001b[1mtype \u001b[0m\u001b[1m \u001b[0m \u001b[1m \u001b[0m\u001b[1mdescription                  \u001b[0m\u001b[1m \u001b[0m    │\n",
      "│  \u001b[3m               \u001b[0m   ──────────────────────────────────────────────────────    │\n",
      "│  \u001b[3m               \u001b[0m   \u001b[3m \u001b[0m\u001b[3mcorpus_table\u001b[0m\u001b[3m \u001b[0m  table   A table with two columns:         │\n",
      "│  \u001b[3m               \u001b[0m   \u001b[3m              \u001b[0m          file names and their              │\n",
      "│  \u001b[3m               \u001b[0m   \u001b[3m              \u001b[0m          contents.                         │\n",
      "│  \u001b[3m               \u001b[0m                                                             │\n",
      "│                                                                              │\n",
      "╰──────────────────────────────────────────────────────────────────────────────╯\n"
     ]
    }
   ],
   "source": [
    "! kiara operation explain topic_modelling.create_table_from_zenodo"
   ]
  },
  {
   "cell_type": "code",
   "execution_count": 3,
   "metadata": {},
   "outputs": [],
   "source": [
    "create_table_from_zenodo_inputs = {\n",
    "    \"doi\": \"4596345\",\n",
    "    \"file_name\": \"ChroniclItaly_3.0_original.zip\"\n",
    "}"
   ]
  },
  {
   "cell_type": "code",
   "execution_count": 4,
   "metadata": {},
   "outputs": [],
   "source": [
    "create_table_from_zenodo_results = kiara.run_job('topic_modelling.create_table_from_zenodo', inputs=create_table_from_zenodo_inputs, comment= \" \")"
   ]
  },
  {
   "cell_type": "code",
   "execution_count": 5,
   "metadata": {},
   "outputs": [],
   "source": [
    "corpus_table_zenodo = create_table_from_zenodo_results['corpus_table']"
   ]
  },
  {
   "cell_type": "code",
   "execution_count": 6,
   "metadata": {},
   "outputs": [
    {
     "data": {
      "text/html": [
       "<pre style=\"white-space:pre;overflow-x:auto;line-height:normal;font-family:Menlo,'DejaVu Sans Mono',consolas,'Courier New',monospace\">╭──────────────────────────────────────────────────────────────────────────────────────────────────────────────────────────────────────────╮\n",
       "│                                                                                                                                          │\n",
       "│  <span style=\"font-weight: bold\"> field        </span> <span style=\"font-weight: bold\"> value                                                                                                                 </span>  │\n",
       "│  ──────────────────────────────────────────────────────────────────────────────────────────────────────────────────────────────────────  │\n",
       "│  <span style=\"font-weight: bold\"> corpus_table </span> <span style=\"font-style: italic\">                                                                                                                       </span>  │\n",
       "│  <span style=\"font-weight: bold\">              </span> <span style=\"font-style: italic\">  </span><span style=\"font-weight: bold; font-style: italic\"> file_name                                </span><span style=\"font-style: italic\"> </span><span style=\"font-weight: bold; font-style: italic\"> content                                                                </span><span style=\"font-style: italic\">  </span>  │\n",
       "│  <span style=\"font-weight: bold\">              </span> <span style=\"font-style: italic\">  ───────────────────────────────────────────────────────────────────────────────────────────────────────────────────  </span>  │\n",
       "│  <span style=\"font-weight: bold\">              </span> <span style=\"font-style: italic\">   2012271201_1918-03-30_ed-1_seq-1_ocr.txt   -A Ci                                                                    </span>  │\n",
       "│  <span style=\"font-weight: bold\">              </span> <span style=\"font-style: italic\">   2012271201_1918-03-16_ed-1_seq-1_ocr.txt   This newspaper has no objection                                          </span>  │\n",
       "│  <span style=\"font-weight: bold\">              </span> <span style=\"font-style: italic\">   2012271201_1918-02-02_ed-1_seq-1_ocr.txt   4                                                                        </span>  │\n",
       "│  <span style=\"font-weight: bold\">              </span> <span style=\"font-style: italic\">   2012271201_1918-02-09_ed-1_seq-1_ocr.txt   M                                                                        </span>  │\n",
       "│  <span style=\"font-weight: bold\">              </span> <span style=\"font-style: italic\">   2012271201_1918-01-05_ed-1_seq-1_ocr.txt   This newspaper has no objection                                          </span>  │\n",
       "│  <span style=\"font-weight: bold\">              </span> <span style=\"font-style: italic\">   2012271201_1918-03-23_ed-1_seq-1_ocr.txt   This newspaper. has no bjèction                                          </span>  │\n",
       "│  <span style=\"font-weight: bold\">              </span> <span style=\"font-style: italic\">   2012271201_1918-04-13_ed-1_seq-1_ocr.txt   a !                                                                      </span>  │\n",
       "│  <span style=\"font-weight: bold\">              </span> <span style=\"font-style: italic\">   2012271201_1918-01-19_ed-1_seq-1_ocr.txt   This newspaper has no objection to filiti? with the Postmasterof Lynn,   </span>  │\n",
       "│  <span style=\"font-weight: bold\">              </span> <span style=\"font-style: italic\">   2012271201_1918-06-06_ed-1_seq-1_ocr.txt   ANNO XVI                                                                 </span>  │\n",
       "│  <span style=\"font-weight: bold\">              </span> <span style=\"font-style: italic\">   2012271201_1918-03-09_ed-1_seq-1_ocr.txt   This newspapet, has no objection                                         </span>  │\n",
       "│  <span style=\"font-weight: bold\">              </span> <span style=\"font-style: italic\">   2012271201_1918-04-06_ed-1_seq-1_ocr.txt   Tfcis iscwspaper has no obectioa                                         </span>  │\n",
       "│  <span style=\"font-weight: bold\">              </span> <span style=\"font-style: italic\">   2012271201_1917-12-29_ed-1_seq-1_ocr.txt   !                                                                        </span>  │\n",
       "│  <span style=\"font-weight: bold\">              </span> <span style=\"font-style: italic\">   2012271201_1918-01-12_ed-1_seq-1_ocr.txt   This newspaper has no objection                                          </span>  │\n",
       "│  <span style=\"font-weight: bold\">              </span> <span style=\"font-style: italic\">   2012271201_1917-11-24_ed-1_seq-1_ocr.txt   This ncwspapcr has no objectlon to filini: with the Postmasterof Lynn,   </span>  │\n",
       "│  <span style=\"font-weight: bold\">              </span> <span style=\"font-style: italic\">   2012271201_1918-02-23_ed-1_seq-1_ocr.txt   1                                                                        </span>  │\n",
       "│  <span style=\"font-weight: bold\">              </span> <span style=\"font-style: italic\">   2012271201_1918-01-26_ed-1_seq-1_ocr.txt   This newspaper has no objection                                          </span>  │\n",
       "│  <span style=\"font-weight: bold\">              </span> <span style=\"font-style: italic\">   ...                                        ...                                                                      </span>  │\n",
       "│  <span style=\"font-weight: bold\">              </span> <span style=\"font-style: italic\">   ...                                        ...                                                                      </span>  │\n",
       "│  <span style=\"font-weight: bold\">              </span> <span style=\"font-style: italic\">   sn84020351_1920-09-25_ed-1_seq-1_ocr.txt   A Cesare quel che                                                        </span>  │\n",
       "│  <span style=\"font-weight: bold\">              </span> <span style=\"font-style: italic\">   sn84020351_1926-11-27_ed-1_seq-1_ocr.txt   I Fatti E                                                                </span>  │\n",
       "│  <span style=\"font-weight: bold\">              </span> <span style=\"font-style: italic\">   sn84020351_1921-02-19_ed-1_seq-1_ocr.txt   Il Comitato Generale Italiano                                            </span>  │\n",
       "│  <span style=\"font-weight: bold\">              </span> <span style=\"font-style: italic\">   sn84020351_1922-11-25_ed-1_seq-1_ocr.txt   ANCORA DI QU1GLEY!                                                       </span>  │\n",
       "│  <span style=\"font-weight: bold\">              </span> <span style=\"font-style: italic\">   sn84020351_1925-10-03_ed-1_seq-1_ocr.txt   R. L. VOLPE. MGR.                                                        </span>  │\n",
       "│  <span style=\"font-weight: bold\">              </span> <span style=\"font-style: italic\">   sn84020351_1929-11-09_ed-1_seq-1_ocr.txt   PICCOLE NOTE                                                             </span>  │\n",
       "│  <span style=\"font-weight: bold\">              </span> <span style=\"font-style: italic\">   sn84020351_1925-06-20_ed-1_seq-1_ocr.txt   P. ALTIERI. Editot                                                       </span>  │\n",
       "│  <span style=\"font-weight: bold\">              </span> <span style=\"font-style: italic\">   sn84020351_1925-02-21_ed-1_seq-1_ocr.txt   R. L. VOLPE., MGR.                                                       </span>  │\n",
       "│  <span style=\"font-weight: bold\">              </span> <span style=\"font-style: italic\">   sn84020351_1923-02-24_ed-1_seq-1_ocr.txt   IL CONC                                                                  </span>  │\n",
       "│  <span style=\"font-weight: bold\">              </span> <span style=\"font-style: italic\">   sn84020351_1921-02-12_ed-1_seq-1_ocr.txt   Published Every Saturday                                                 </span>  │\n",
       "│  <span style=\"font-weight: bold\">              </span> <span style=\"font-style: italic\">   sn84020351_1925-09-26_ed-1_seq-1_ocr.txt   P. ALTIERI. Editoi                                                       </span>  │\n",
       "│  <span style=\"font-weight: bold\">              </span> <span style=\"font-style: italic\">   sn84020351_1922-09-02_ed-1_seq-1_ocr.txt   I nuovi venuti, che hanno abilita'                                       </span>  │\n",
       "│  <span style=\"font-weight: bold\">              </span> <span style=\"font-style: italic\">   sn84020351_1927-10-29_ed-1_seq-1_ocr.txt   epoca ha fatto onore nor                                                 </span>  │\n",
       "│  <span style=\"font-weight: bold\">              </span> <span style=\"font-style: italic\">   sn84020351_1921-08-27_ed-1_seq-1_ocr.txt   By P. ALTIERI                                                            </span>  │\n",
       "│  <span style=\"font-weight: bold\">              </span> <span style=\"font-style: italic\">   sn84020351_1922-02-04_ed-1_seq-1_ocr.txt   Published Every Saturday                                                 </span>  │\n",
       "│  <span style=\"font-weight: bold\">              </span> <span style=\"font-style: italic\">   sn84020351_1922-08-05_ed-1_seq-1_ocr.txt   Sono stato fra i primi in Italia,                                        </span>  │\n",
       "│  <span style=\"font-weight: bold\">              </span> <span style=\"font-style: italic\">                                                                                                                       </span>  │\n",
       "│                                                                                                                                          │\n",
       "╰──────────────────────────────────────────────────────────────────────────────────────────────────────────────────────────────────────────╯\n",
       "</pre>\n"
      ],
      "text/plain": [
       "╭──────────────────────────────────────────────────────────────────────────────────────────────────────────────────────────────────────────╮\n",
       "│                                                                                                                                          │\n",
       "│  \u001b[1m \u001b[0m\u001b[1mfield       \u001b[0m\u001b[1m \u001b[0m \u001b[1m \u001b[0m\u001b[1mvalue                                                                                                                \u001b[0m\u001b[1m \u001b[0m  │\n",
       "│  ──────────────────────────────────────────────────────────────────────────────────────────────────────────────────────────────────────  │\n",
       "│  \u001b[1m \u001b[0m\u001b[1mcorpus_table\u001b[0m\u001b[1m \u001b[0m \u001b[3m \u001b[0m\u001b[3m                                                                                                                     \u001b[0m\u001b[3m \u001b[0m  │\n",
       "│  \u001b[1m              \u001b[0m \u001b[3m \u001b[0m\u001b[3m \u001b[0m\u001b[1;3m \u001b[0m\u001b[1;3mfile_name\u001b[0m\u001b[1;3m                               \u001b[0m\u001b[1;3m \u001b[0m\u001b[3m \u001b[0m\u001b[1;3m \u001b[0m\u001b[1;3mcontent\u001b[0m\u001b[1;3m                                                               \u001b[0m\u001b[1;3m \u001b[0m\u001b[3m \u001b[0m\u001b[3m \u001b[0m  │\n",
       "│  \u001b[1m              \u001b[0m \u001b[3m \u001b[0m\u001b[3m ─────────────────────────────────────────────────────────────────────────────────────────────────────────────────── \u001b[0m\u001b[3m \u001b[0m  │\n",
       "│  \u001b[1m              \u001b[0m \u001b[3m \u001b[0m\u001b[3m \u001b[0m\u001b[3m \u001b[0m\u001b[3m2012271201_1918-03-30_ed-1_seq-1_ocr.txt\u001b[0m\u001b[3m \u001b[0m\u001b[3m \u001b[0m\u001b[3m \u001b[0m\u001b[3m-A Ci\u001b[0m\u001b[3m                                                                 \u001b[0m\u001b[3m \u001b[0m\u001b[3m \u001b[0m\u001b[3m \u001b[0m  │\n",
       "│  \u001b[1m              \u001b[0m \u001b[3m \u001b[0m\u001b[3m \u001b[0m\u001b[3m \u001b[0m\u001b[3m2012271201_1918-03-16_ed-1_seq-1_ocr.txt\u001b[0m\u001b[3m \u001b[0m\u001b[3m \u001b[0m\u001b[3m \u001b[0m\u001b[3mThis newspaper has no objection\u001b[0m\u001b[3m                                       \u001b[0m\u001b[3m \u001b[0m\u001b[3m \u001b[0m\u001b[3m \u001b[0m  │\n",
       "│  \u001b[1m              \u001b[0m \u001b[3m \u001b[0m\u001b[3m \u001b[0m\u001b[3m \u001b[0m\u001b[3m2012271201_1918-02-02_ed-1_seq-1_ocr.txt\u001b[0m\u001b[3m \u001b[0m\u001b[3m \u001b[0m\u001b[3m \u001b[0m\u001b[3m4\u001b[0m\u001b[3m                                                                     \u001b[0m\u001b[3m \u001b[0m\u001b[3m \u001b[0m\u001b[3m \u001b[0m  │\n",
       "│  \u001b[1m              \u001b[0m \u001b[3m \u001b[0m\u001b[3m \u001b[0m\u001b[3m \u001b[0m\u001b[3m2012271201_1918-02-09_ed-1_seq-1_ocr.txt\u001b[0m\u001b[3m \u001b[0m\u001b[3m \u001b[0m\u001b[3m \u001b[0m\u001b[3mM\u001b[0m\u001b[3m                                                                     \u001b[0m\u001b[3m \u001b[0m\u001b[3m \u001b[0m\u001b[3m \u001b[0m  │\n",
       "│  \u001b[1m              \u001b[0m \u001b[3m \u001b[0m\u001b[3m \u001b[0m\u001b[3m \u001b[0m\u001b[3m2012271201_1918-01-05_ed-1_seq-1_ocr.txt\u001b[0m\u001b[3m \u001b[0m\u001b[3m \u001b[0m\u001b[3m \u001b[0m\u001b[3mThis newspaper has no objection\u001b[0m\u001b[3m                                       \u001b[0m\u001b[3m \u001b[0m\u001b[3m \u001b[0m\u001b[3m \u001b[0m  │\n",
       "│  \u001b[1m              \u001b[0m \u001b[3m \u001b[0m\u001b[3m \u001b[0m\u001b[3m \u001b[0m\u001b[3m2012271201_1918-03-23_ed-1_seq-1_ocr.txt\u001b[0m\u001b[3m \u001b[0m\u001b[3m \u001b[0m\u001b[3m \u001b[0m\u001b[3mThis newspaper. has no bjèction\u001b[0m\u001b[3m                                       \u001b[0m\u001b[3m \u001b[0m\u001b[3m \u001b[0m\u001b[3m \u001b[0m  │\n",
       "│  \u001b[1m              \u001b[0m \u001b[3m \u001b[0m\u001b[3m \u001b[0m\u001b[3m \u001b[0m\u001b[3m2012271201_1918-04-13_ed-1_seq-1_ocr.txt\u001b[0m\u001b[3m \u001b[0m\u001b[3m \u001b[0m\u001b[3m \u001b[0m\u001b[3ma !\u001b[0m\u001b[3m                                                                   \u001b[0m\u001b[3m \u001b[0m\u001b[3m \u001b[0m\u001b[3m \u001b[0m  │\n",
       "│  \u001b[1m              \u001b[0m \u001b[3m \u001b[0m\u001b[3m \u001b[0m\u001b[3m \u001b[0m\u001b[3m2012271201_1918-01-19_ed-1_seq-1_ocr.txt\u001b[0m\u001b[3m \u001b[0m\u001b[3m \u001b[0m\u001b[3m \u001b[0m\u001b[3mThis newspaper has no objection to filiti? with the Postmasterof Lynn,\u001b[0m\u001b[3m \u001b[0m\u001b[3m \u001b[0m\u001b[3m \u001b[0m  │\n",
       "│  \u001b[1m              \u001b[0m \u001b[3m \u001b[0m\u001b[3m \u001b[0m\u001b[3m \u001b[0m\u001b[3m2012271201_1918-06-06_ed-1_seq-1_ocr.txt\u001b[0m\u001b[3m \u001b[0m\u001b[3m \u001b[0m\u001b[3m \u001b[0m\u001b[3mANNO XVI\u001b[0m\u001b[3m                                                              \u001b[0m\u001b[3m \u001b[0m\u001b[3m \u001b[0m\u001b[3m \u001b[0m  │\n",
       "│  \u001b[1m              \u001b[0m \u001b[3m \u001b[0m\u001b[3m \u001b[0m\u001b[3m \u001b[0m\u001b[3m2012271201_1918-03-09_ed-1_seq-1_ocr.txt\u001b[0m\u001b[3m \u001b[0m\u001b[3m \u001b[0m\u001b[3m \u001b[0m\u001b[3mThis newspapet, has no objection\u001b[0m\u001b[3m                                      \u001b[0m\u001b[3m \u001b[0m\u001b[3m \u001b[0m\u001b[3m \u001b[0m  │\n",
       "│  \u001b[1m              \u001b[0m \u001b[3m \u001b[0m\u001b[3m \u001b[0m\u001b[3m \u001b[0m\u001b[3m2012271201_1918-04-06_ed-1_seq-1_ocr.txt\u001b[0m\u001b[3m \u001b[0m\u001b[3m \u001b[0m\u001b[3m \u001b[0m\u001b[3mTfcis iscwspaper has no obectioa\u001b[0m\u001b[3m                                      \u001b[0m\u001b[3m \u001b[0m\u001b[3m \u001b[0m\u001b[3m \u001b[0m  │\n",
       "│  \u001b[1m              \u001b[0m \u001b[3m \u001b[0m\u001b[3m \u001b[0m\u001b[3m \u001b[0m\u001b[3m2012271201_1917-12-29_ed-1_seq-1_ocr.txt\u001b[0m\u001b[3m \u001b[0m\u001b[3m \u001b[0m\u001b[3m \u001b[0m\u001b[3m!\u001b[0m\u001b[3m                                                                     \u001b[0m\u001b[3m \u001b[0m\u001b[3m \u001b[0m\u001b[3m \u001b[0m  │\n",
       "│  \u001b[1m              \u001b[0m \u001b[3m \u001b[0m\u001b[3m \u001b[0m\u001b[3m \u001b[0m\u001b[3m2012271201_1918-01-12_ed-1_seq-1_ocr.txt\u001b[0m\u001b[3m \u001b[0m\u001b[3m \u001b[0m\u001b[3m \u001b[0m\u001b[3mThis newspaper has no objection\u001b[0m\u001b[3m                                       \u001b[0m\u001b[3m \u001b[0m\u001b[3m \u001b[0m\u001b[3m \u001b[0m  │\n",
       "│  \u001b[1m              \u001b[0m \u001b[3m \u001b[0m\u001b[3m \u001b[0m\u001b[3m \u001b[0m\u001b[3m2012271201_1917-11-24_ed-1_seq-1_ocr.txt\u001b[0m\u001b[3m \u001b[0m\u001b[3m \u001b[0m\u001b[3m \u001b[0m\u001b[3mThis ncwspapcr has no objectlon to filini: with the Postmasterof Lynn,\u001b[0m\u001b[3m \u001b[0m\u001b[3m \u001b[0m\u001b[3m \u001b[0m  │\n",
       "│  \u001b[1m              \u001b[0m \u001b[3m \u001b[0m\u001b[3m \u001b[0m\u001b[3m \u001b[0m\u001b[3m2012271201_1918-02-23_ed-1_seq-1_ocr.txt\u001b[0m\u001b[3m \u001b[0m\u001b[3m \u001b[0m\u001b[3m \u001b[0m\u001b[3m1\u001b[0m\u001b[3m                                                                     \u001b[0m\u001b[3m \u001b[0m\u001b[3m \u001b[0m\u001b[3m \u001b[0m  │\n",
       "│  \u001b[1m              \u001b[0m \u001b[3m \u001b[0m\u001b[3m \u001b[0m\u001b[3m \u001b[0m\u001b[3m2012271201_1918-01-26_ed-1_seq-1_ocr.txt\u001b[0m\u001b[3m \u001b[0m\u001b[3m \u001b[0m\u001b[3m \u001b[0m\u001b[3mThis newspaper has no objection\u001b[0m\u001b[3m                                       \u001b[0m\u001b[3m \u001b[0m\u001b[3m \u001b[0m\u001b[3m \u001b[0m  │\n",
       "│  \u001b[1m              \u001b[0m \u001b[3m \u001b[0m\u001b[3m \u001b[0m\u001b[3m \u001b[0m\u001b[3m...\u001b[0m\u001b[3m                                     \u001b[0m\u001b[3m \u001b[0m\u001b[3m \u001b[0m\u001b[3m \u001b[0m\u001b[3m...\u001b[0m\u001b[3m                                                                   \u001b[0m\u001b[3m \u001b[0m\u001b[3m \u001b[0m\u001b[3m \u001b[0m  │\n",
       "│  \u001b[1m              \u001b[0m \u001b[3m \u001b[0m\u001b[3m \u001b[0m\u001b[3m \u001b[0m\u001b[3m...\u001b[0m\u001b[3m                                     \u001b[0m\u001b[3m \u001b[0m\u001b[3m \u001b[0m\u001b[3m \u001b[0m\u001b[3m...\u001b[0m\u001b[3m                                                                   \u001b[0m\u001b[3m \u001b[0m\u001b[3m \u001b[0m\u001b[3m \u001b[0m  │\n",
       "│  \u001b[1m              \u001b[0m \u001b[3m \u001b[0m\u001b[3m \u001b[0m\u001b[3m \u001b[0m\u001b[3msn84020351_1920-09-25_ed-1_seq-1_ocr.txt\u001b[0m\u001b[3m \u001b[0m\u001b[3m \u001b[0m\u001b[3m \u001b[0m\u001b[3mA Cesare quel che\u001b[0m\u001b[3m                                                     \u001b[0m\u001b[3m \u001b[0m\u001b[3m \u001b[0m\u001b[3m \u001b[0m  │\n",
       "│  \u001b[1m              \u001b[0m \u001b[3m \u001b[0m\u001b[3m \u001b[0m\u001b[3m \u001b[0m\u001b[3msn84020351_1926-11-27_ed-1_seq-1_ocr.txt\u001b[0m\u001b[3m \u001b[0m\u001b[3m \u001b[0m\u001b[3m \u001b[0m\u001b[3mI Fatti E\u001b[0m\u001b[3m                                                             \u001b[0m\u001b[3m \u001b[0m\u001b[3m \u001b[0m\u001b[3m \u001b[0m  │\n",
       "│  \u001b[1m              \u001b[0m \u001b[3m \u001b[0m\u001b[3m \u001b[0m\u001b[3m \u001b[0m\u001b[3msn84020351_1921-02-19_ed-1_seq-1_ocr.txt\u001b[0m\u001b[3m \u001b[0m\u001b[3m \u001b[0m\u001b[3m \u001b[0m\u001b[3mIl Comitato Generale Italiano\u001b[0m\u001b[3m                                         \u001b[0m\u001b[3m \u001b[0m\u001b[3m \u001b[0m\u001b[3m \u001b[0m  │\n",
       "│  \u001b[1m              \u001b[0m \u001b[3m \u001b[0m\u001b[3m \u001b[0m\u001b[3m \u001b[0m\u001b[3msn84020351_1922-11-25_ed-1_seq-1_ocr.txt\u001b[0m\u001b[3m \u001b[0m\u001b[3m \u001b[0m\u001b[3m \u001b[0m\u001b[3mANCORA DI QU1GLEY!\u001b[0m\u001b[3m                                                    \u001b[0m\u001b[3m \u001b[0m\u001b[3m \u001b[0m\u001b[3m \u001b[0m  │\n",
       "│  \u001b[1m              \u001b[0m \u001b[3m \u001b[0m\u001b[3m \u001b[0m\u001b[3m \u001b[0m\u001b[3msn84020351_1925-10-03_ed-1_seq-1_ocr.txt\u001b[0m\u001b[3m \u001b[0m\u001b[3m \u001b[0m\u001b[3m \u001b[0m\u001b[3mR. L. VOLPE. MGR.\u001b[0m\u001b[3m                                                     \u001b[0m\u001b[3m \u001b[0m\u001b[3m \u001b[0m\u001b[3m \u001b[0m  │\n",
       "│  \u001b[1m              \u001b[0m \u001b[3m \u001b[0m\u001b[3m \u001b[0m\u001b[3m \u001b[0m\u001b[3msn84020351_1929-11-09_ed-1_seq-1_ocr.txt\u001b[0m\u001b[3m \u001b[0m\u001b[3m \u001b[0m\u001b[3m \u001b[0m\u001b[3mPICCOLE NOTE\u001b[0m\u001b[3m                                                          \u001b[0m\u001b[3m \u001b[0m\u001b[3m \u001b[0m\u001b[3m \u001b[0m  │\n",
       "│  \u001b[1m              \u001b[0m \u001b[3m \u001b[0m\u001b[3m \u001b[0m\u001b[3m \u001b[0m\u001b[3msn84020351_1925-06-20_ed-1_seq-1_ocr.txt\u001b[0m\u001b[3m \u001b[0m\u001b[3m \u001b[0m\u001b[3m \u001b[0m\u001b[3mP. ALTIERI. Editot\u001b[0m\u001b[3m                                                    \u001b[0m\u001b[3m \u001b[0m\u001b[3m \u001b[0m\u001b[3m \u001b[0m  │\n",
       "│  \u001b[1m              \u001b[0m \u001b[3m \u001b[0m\u001b[3m \u001b[0m\u001b[3m \u001b[0m\u001b[3msn84020351_1925-02-21_ed-1_seq-1_ocr.txt\u001b[0m\u001b[3m \u001b[0m\u001b[3m \u001b[0m\u001b[3m \u001b[0m\u001b[3mR. L. VOLPE., MGR.\u001b[0m\u001b[3m                                                    \u001b[0m\u001b[3m \u001b[0m\u001b[3m \u001b[0m\u001b[3m \u001b[0m  │\n",
       "│  \u001b[1m              \u001b[0m \u001b[3m \u001b[0m\u001b[3m \u001b[0m\u001b[3m \u001b[0m\u001b[3msn84020351_1923-02-24_ed-1_seq-1_ocr.txt\u001b[0m\u001b[3m \u001b[0m\u001b[3m \u001b[0m\u001b[3m \u001b[0m\u001b[3mIL CONC\u001b[0m\u001b[3m                                                               \u001b[0m\u001b[3m \u001b[0m\u001b[3m \u001b[0m\u001b[3m \u001b[0m  │\n",
       "│  \u001b[1m              \u001b[0m \u001b[3m \u001b[0m\u001b[3m \u001b[0m\u001b[3m \u001b[0m\u001b[3msn84020351_1921-02-12_ed-1_seq-1_ocr.txt\u001b[0m\u001b[3m \u001b[0m\u001b[3m \u001b[0m\u001b[3m \u001b[0m\u001b[3mPublished Every Saturday\u001b[0m\u001b[3m                                              \u001b[0m\u001b[3m \u001b[0m\u001b[3m \u001b[0m\u001b[3m \u001b[0m  │\n",
       "│  \u001b[1m              \u001b[0m \u001b[3m \u001b[0m\u001b[3m \u001b[0m\u001b[3m \u001b[0m\u001b[3msn84020351_1925-09-26_ed-1_seq-1_ocr.txt\u001b[0m\u001b[3m \u001b[0m\u001b[3m \u001b[0m\u001b[3m \u001b[0m\u001b[3mP. ALTIERI. Editoi\u001b[0m\u001b[3m                                                    \u001b[0m\u001b[3m \u001b[0m\u001b[3m \u001b[0m\u001b[3m \u001b[0m  │\n",
       "│  \u001b[1m              \u001b[0m \u001b[3m \u001b[0m\u001b[3m \u001b[0m\u001b[3m \u001b[0m\u001b[3msn84020351_1922-09-02_ed-1_seq-1_ocr.txt\u001b[0m\u001b[3m \u001b[0m\u001b[3m \u001b[0m\u001b[3m \u001b[0m\u001b[3mI nuovi venuti, che hanno abilita'\u001b[0m\u001b[3m                                    \u001b[0m\u001b[3m \u001b[0m\u001b[3m \u001b[0m\u001b[3m \u001b[0m  │\n",
       "│  \u001b[1m              \u001b[0m \u001b[3m \u001b[0m\u001b[3m \u001b[0m\u001b[3m \u001b[0m\u001b[3msn84020351_1927-10-29_ed-1_seq-1_ocr.txt\u001b[0m\u001b[3m \u001b[0m\u001b[3m \u001b[0m\u001b[3m \u001b[0m\u001b[3mepoca ha fatto onore nor\u001b[0m\u001b[3m                                              \u001b[0m\u001b[3m \u001b[0m\u001b[3m \u001b[0m\u001b[3m \u001b[0m  │\n",
       "│  \u001b[1m              \u001b[0m \u001b[3m \u001b[0m\u001b[3m \u001b[0m\u001b[3m \u001b[0m\u001b[3msn84020351_1921-08-27_ed-1_seq-1_ocr.txt\u001b[0m\u001b[3m \u001b[0m\u001b[3m \u001b[0m\u001b[3m \u001b[0m\u001b[3mBy P. ALTIERI\u001b[0m\u001b[3m                                                         \u001b[0m\u001b[3m \u001b[0m\u001b[3m \u001b[0m\u001b[3m \u001b[0m  │\n",
       "│  \u001b[1m              \u001b[0m \u001b[3m \u001b[0m\u001b[3m \u001b[0m\u001b[3m \u001b[0m\u001b[3msn84020351_1922-02-04_ed-1_seq-1_ocr.txt\u001b[0m\u001b[3m \u001b[0m\u001b[3m \u001b[0m\u001b[3m \u001b[0m\u001b[3mPublished Every Saturday\u001b[0m\u001b[3m                                              \u001b[0m\u001b[3m \u001b[0m\u001b[3m \u001b[0m\u001b[3m \u001b[0m  │\n",
       "│  \u001b[1m              \u001b[0m \u001b[3m \u001b[0m\u001b[3m \u001b[0m\u001b[3m \u001b[0m\u001b[3msn84020351_1922-08-05_ed-1_seq-1_ocr.txt\u001b[0m\u001b[3m \u001b[0m\u001b[3m \u001b[0m\u001b[3m \u001b[0m\u001b[3mSono stato fra i primi in Italia,\u001b[0m\u001b[3m                                     \u001b[0m\u001b[3m \u001b[0m\u001b[3m \u001b[0m\u001b[3m \u001b[0m  │\n",
       "│  \u001b[1m              \u001b[0m \u001b[3m \u001b[0m\u001b[3m                                                                                                                     \u001b[0m\u001b[3m \u001b[0m  │\n",
       "│                                                                                                                                          │\n",
       "╰──────────────────────────────────────────────────────────────────────────────────────────────────────────────────────────────────────────╯\n"
      ]
     },
     "execution_count": 6,
     "metadata": {},
     "output_type": "execute_result"
    }
   ],
   "source": [
    "create_table_from_zenodo_results"
   ]
  },
  {
   "cell_type": "markdown",
   "metadata": {},
   "source": [
    "### 1.2. Get files from github"
   ]
  },
  {
   "cell_type": "code",
   "execution_count": 7,
   "metadata": {},
   "outputs": [
    {
     "name": "stdout",
     "output_type": "stream",
     "text": [
      "\n",
      "╭─ Operation: \u001b[1;3mcreate.table_from_github_files\u001b[0m ──────────────────────────────────╮\n",
      "│                                                                              │\n",
      "│  \u001b[3m \u001b[0m\u001b[3mDocumentation\u001b[0m\u001b[3m \u001b[0m  Onboards text files from a Github repository.              │\n",
      "│                                                                              │\n",
      "│  \u001b[3m \u001b[0m\u001b[3mInputs       \u001b[0m\u001b[3m \u001b[0m                                                             │\n",
      "│  \u001b[3m               \u001b[0m   \u001b[1m \u001b[0m\u001b[1mfield    \u001b[0m\u001b[1m \u001b[0m \u001b[1m        \u001b[0m \u001b[1m          \u001b[0m \u001b[1m          \u001b[0m \u001b[1m           \u001b[0m    │\n",
      "│  \u001b[3m               \u001b[0m   \u001b[1m \u001b[0m\u001b[1mname     \u001b[0m\u001b[1m \u001b[0m \u001b[1m \u001b[0m\u001b[1mtype  \u001b[0m\u001b[1m \u001b[0m \u001b[1m \u001b[0m\u001b[1mdescrip…\u001b[0m\u001b[1m \u001b[0m \u001b[1m \u001b[0m\u001b[1mRequired\u001b[0m\u001b[1m \u001b[0m \u001b[1m \u001b[0m\u001b[1mDefault  \u001b[0m\u001b[1m \u001b[0m    │\n",
      "│  \u001b[3m               \u001b[0m   ──────────────────────────────────────────────────────    │\n",
      "│  \u001b[3m               \u001b[0m   \u001b[3m \u001b[0m\u001b[3mdownload_\u001b[0m\u001b[3m \u001b[0m  string   The        \u001b[1myes\u001b[0m        -- no         │\n",
      "│  \u001b[3m               \u001b[0m   \u001b[3m \u001b[0m\u001b[3mgithub_fi\u001b[0m\u001b[3m \u001b[0m           usernam…              default       │\n",
      "│  \u001b[3m               \u001b[0m   \u001b[3m \u001b[0m\u001b[3mles__user\u001b[0m\u001b[3m \u001b[0m                                 --            │\n",
      "│  \u001b[3m               \u001b[0m   \u001b[3m \u001b[0m\u001b[3mdownload_\u001b[0m\u001b[3m \u001b[0m  string   The        \u001b[1myes\u001b[0m        -- no         │\n",
      "│  \u001b[3m               \u001b[0m   \u001b[3m \u001b[0m\u001b[3mgithub_fi\u001b[0m\u001b[3m \u001b[0m           reposit…              default       │\n",
      "│  \u001b[3m               \u001b[0m   \u001b[3m \u001b[0m\u001b[3mles__repo\u001b[0m\u001b[3m \u001b[0m           name.                 --            │\n",
      "│  \u001b[3m               \u001b[0m   \u001b[3m \u001b[0m\u001b[3mdownload_\u001b[0m\u001b[3m \u001b[0m  string   The        no         -- no         │\n",
      "│  \u001b[3m               \u001b[0m   \u001b[3m \u001b[0m\u001b[3mgithub_fi\u001b[0m\u001b[3m \u001b[0m           branch                default       │\n",
      "│  \u001b[3m               \u001b[0m   \u001b[3m \u001b[0m\u001b[3mles__bran\u001b[0m\u001b[3m \u001b[0m           (or tag)              --            │\n",
      "│  \u001b[3m               \u001b[0m   \u001b[3m \u001b[0m\u001b[3mch       \u001b[0m\u001b[3m \u001b[0m           name. If                            │\n",
      "│  \u001b[3m               \u001b[0m   \u001b[3m           \u001b[0m           not                                 │\n",
      "│  \u001b[3m               \u001b[0m   \u001b[3m           \u001b[0m           specifi…                            │\n",
      "│  \u001b[3m               \u001b[0m   \u001b[3m           \u001b[0m           the                                 │\n",
      "│  \u001b[3m               \u001b[0m   \u001b[3m           \u001b[0m           default                             │\n",
      "│  \u001b[3m               \u001b[0m   \u001b[3m           \u001b[0m           branch                              │\n",
      "│  \u001b[3m               \u001b[0m   \u001b[3m           \u001b[0m           will be                             │\n",
      "│  \u001b[3m               \u001b[0m   \u001b[3m           \u001b[0m           used.                               │\n",
      "│  \u001b[3m               \u001b[0m   \u001b[3m \u001b[0m\u001b[3mdownload_\u001b[0m\u001b[3m \u001b[0m  string   The        no         -- no         │\n",
      "│  \u001b[3m               \u001b[0m   \u001b[3m \u001b[0m\u001b[3mgithub_fi\u001b[0m\u001b[3m \u001b[0m           bundle                default       │\n",
      "│  \u001b[3m               \u001b[0m   \u001b[3m \u001b[0m\u001b[3mles__bund\u001b[0m\u001b[3m \u001b[0m           name use              --            │\n",
      "│  \u001b[3m               \u001b[0m   \u001b[3m \u001b[0m\u001b[3mle_name  \u001b[0m\u001b[3m \u001b[0m           for the                             │\n",
      "│  \u001b[3m               \u001b[0m   \u001b[3m           \u001b[0m           downloa…                            │\n",
      "│  \u001b[3m               \u001b[0m   \u001b[3m           \u001b[0m           file, if                            │\n",
      "│  \u001b[3m               \u001b[0m   \u001b[3m           \u001b[0m           not                                 │\n",
      "│  \u001b[3m               \u001b[0m   \u001b[3m           \u001b[0m           provided                            │\n",
      "│  \u001b[3m               \u001b[0m   \u001b[3m           \u001b[0m           it will                             │\n",
      "│  \u001b[3m               \u001b[0m   \u001b[3m           \u001b[0m           be                                  │\n",
      "│  \u001b[3m               \u001b[0m   \u001b[3m           \u001b[0m           autogen…                            │\n",
      "│  \u001b[3m               \u001b[0m   \u001b[3m \u001b[0m\u001b[3mdownload_\u001b[0m\u001b[3m \u001b[0m  string   The sub    no         -- no         │\n",
      "│  \u001b[3m               \u001b[0m   \u001b[3m \u001b[0m\u001b[3mgithub_fi\u001b[0m\u001b[3m \u001b[0m           path to               default       │\n",
      "│  \u001b[3m               \u001b[0m   \u001b[3m \u001b[0m\u001b[3mles__sub_\u001b[0m\u001b[3m \u001b[0m           use. If               --            │\n",
      "│  \u001b[3m               \u001b[0m   \u001b[3m \u001b[0m\u001b[3mpath     \u001b[0m\u001b[3m \u001b[0m           not                                 │\n",
      "│  \u001b[3m               \u001b[0m   \u001b[3m           \u001b[0m           specifi…                            │\n",
      "│  \u001b[3m               \u001b[0m   \u001b[3m           \u001b[0m           the root                            │\n",
      "│  \u001b[3m               \u001b[0m   \u001b[3m           \u001b[0m           of the                              │\n",
      "│  \u001b[3m               \u001b[0m   \u001b[3m           \u001b[0m           source                              │\n",
      "│  \u001b[3m               \u001b[0m   \u001b[3m           \u001b[0m           folder                              │\n",
      "│  \u001b[3m               \u001b[0m   \u001b[3m           \u001b[0m           will be                             │\n",
      "│  \u001b[3m               \u001b[0m   \u001b[3m           \u001b[0m           used.                               │\n",
      "│  \u001b[3m               \u001b[0m   \u001b[3m \u001b[0m\u001b[3mdownload_\u001b[0m\u001b[3m \u001b[0m  list     Include    no         -- no         │\n",
      "│  \u001b[3m               \u001b[0m   \u001b[3m \u001b[0m\u001b[3mgithub_fi\u001b[0m\u001b[3m \u001b[0m           files                 default       │\n",
      "│  \u001b[3m               \u001b[0m   \u001b[3m \u001b[0m\u001b[3mles__incl\u001b[0m\u001b[3m \u001b[0m           that end              --            │\n",
      "│  \u001b[3m               \u001b[0m   \u001b[3m \u001b[0m\u001b[3mude_files\u001b[0m\u001b[3m \u001b[0m           with one                            │\n",
      "│  \u001b[3m               \u001b[0m   \u001b[3m           \u001b[0m           of those                            │\n",
      "│  \u001b[3m               \u001b[0m   \u001b[3m           \u001b[0m           tokens.                             │\n",
      "│  \u001b[3m               \u001b[0m   \u001b[3m           \u001b[0m           If not                              │\n",
      "│  \u001b[3m               \u001b[0m   \u001b[3m           \u001b[0m           specifi…                            │\n",
      "│  \u001b[3m               \u001b[0m   \u001b[3m           \u001b[0m           all file                            │\n",
      "│  \u001b[3m               \u001b[0m   \u001b[3m           \u001b[0m           extensi…                            │\n",
      "│  \u001b[3m               \u001b[0m   \u001b[3m           \u001b[0m           are                                 │\n",
      "│  \u001b[3m               \u001b[0m   \u001b[3m           \u001b[0m           include…                            │\n",
      "│  \u001b[3m               \u001b[0m   \u001b[3m \u001b[0m\u001b[3mdownload_\u001b[0m\u001b[3m \u001b[0m  list     Exclude    no         -- no         │\n",
      "│  \u001b[3m               \u001b[0m   \u001b[3m \u001b[0m\u001b[3mgithub_fi\u001b[0m\u001b[3m \u001b[0m           files                 default       │\n",
      "│  \u001b[3m               \u001b[0m   \u001b[3m \u001b[0m\u001b[3mles__excl\u001b[0m\u001b[3m \u001b[0m           that end              --            │\n",
      "│  \u001b[3m               \u001b[0m   \u001b[3m \u001b[0m\u001b[3mude_files\u001b[0m\u001b[3m \u001b[0m           with one                            │\n",
      "│  \u001b[3m               \u001b[0m   \u001b[3m           \u001b[0m           of those                            │\n",
      "│  \u001b[3m               \u001b[0m   \u001b[3m           \u001b[0m           tokens.                             │\n",
      "│  \u001b[3m               \u001b[0m   \u001b[3m           \u001b[0m           If not                              │\n",
      "│  \u001b[3m               \u001b[0m   \u001b[3m           \u001b[0m           specifi…                            │\n",
      "│  \u001b[3m               \u001b[0m   \u001b[3m           \u001b[0m           no file                             │\n",
      "│  \u001b[3m               \u001b[0m   \u001b[3m           \u001b[0m           extensi…                            │\n",
      "│  \u001b[3m               \u001b[0m   \u001b[3m           \u001b[0m           are                                 │\n",
      "│  \u001b[3m               \u001b[0m   \u001b[3m           \u001b[0m           exclude…                            │\n",
      "│  \u001b[3m               \u001b[0m   \u001b[3m \u001b[0m\u001b[3mdownload_\u001b[0m\u001b[3m \u001b[0m  list     Exclude    no         -- no         │\n",
      "│  \u001b[3m               \u001b[0m   \u001b[3m \u001b[0m\u001b[3mgithub_fi\u001b[0m\u001b[3m \u001b[0m           directo…              default       │\n",
      "│  \u001b[3m               \u001b[0m   \u001b[3m \u001b[0m\u001b[3mles__excl\u001b[0m\u001b[3m \u001b[0m           that end              --            │\n",
      "│  \u001b[3m               \u001b[0m   \u001b[3m \u001b[0m\u001b[3mude_dirs \u001b[0m\u001b[3m \u001b[0m           with one                            │\n",
      "│  \u001b[3m               \u001b[0m   \u001b[3m           \u001b[0m           of those                            │\n",
      "│  \u001b[3m               \u001b[0m   \u001b[3m           \u001b[0m           tokens.                             │\n",
      "│  \u001b[3m               \u001b[0m   \u001b[3m           \u001b[0m           If not                              │\n",
      "│  \u001b[3m               \u001b[0m   \u001b[3m           \u001b[0m           specifi…                            │\n",
      "│  \u001b[3m               \u001b[0m   \u001b[3m           \u001b[0m           no                                  │\n",
      "│  \u001b[3m               \u001b[0m   \u001b[3m           \u001b[0m           directo…                            │\n",
      "│  \u001b[3m               \u001b[0m   \u001b[3m           \u001b[0m           are                                 │\n",
      "│  \u001b[3m               \u001b[0m   \u001b[3m           \u001b[0m           exclude…                            │\n",
      "│  \u001b[3m               \u001b[0m                                                             │\n",
      "│                                                                              │\n",
      "│  \u001b[3m \u001b[0m\u001b[3mOutputs      \u001b[0m\u001b[3m \u001b[0m                                                             │\n",
      "│  \u001b[3m               \u001b[0m   \u001b[1m \u001b[0m\u001b[1mfield name        \u001b[0m\u001b[1m \u001b[0m \u001b[1m \u001b[0m\u001b[1mtype       \u001b[0m\u001b[1m \u001b[0m \u001b[1m \u001b[0m\u001b[1mdescription      \u001b[0m\u001b[1m \u001b[0m    │\n",
      "│  \u001b[3m               \u001b[0m   ──────────────────────────────────────────────────────    │\n",
      "│  \u001b[3m               \u001b[0m   \u001b[3m \u001b[0m\u001b[3mdownload_github_fi\u001b[0m\u001b[3m \u001b[0m  file_bundle   The file_bundle       │\n",
      "│  \u001b[3m               \u001b[0m   \u001b[3m \u001b[0m\u001b[3mles__file_bundle  \u001b[0m\u001b[3m \u001b[0m                that was              │\n",
      "│  \u001b[3m               \u001b[0m   \u001b[3m                    \u001b[0m                onboarded.            │\n",
      "│  \u001b[3m               \u001b[0m   \u001b[3m \u001b[0m\u001b[3mcreate_table_from_\u001b[0m\u001b[3m \u001b[0m  table         The result value      │\n",
      "│  \u001b[3m               \u001b[0m   \u001b[3m \u001b[0m\u001b[3mfiles__table      \u001b[0m\u001b[3m \u001b[0m                (of type              │\n",
      "│  \u001b[3m               \u001b[0m   \u001b[3m                    \u001b[0m                'table').             │\n",
      "│  \u001b[3m               \u001b[0m                                                             │\n",
      "│                                                                              │\n",
      "╰──────────────────────────────────────────────────────────────────────────────╯\n"
     ]
    }
   ],
   "source": [
    "! kiara operation explain create.table_from_github_files"
   ]
  },
  {
   "cell_type": "code",
   "execution_count": 9,
   "metadata": {},
   "outputs": [],
   "source": [
    "create_table_from_github_files_inputs = {\n",
    "    \"download_github_files__user\": \"DHARPA-Project\",\n",
    "    \"download_github_files__repo\": \"kiara.examples\",\n",
    "    \"download_github_files__sub_path\": \"kiara.examples-main/examples/workshops/dh_benelux_2023/data\",\n",
    "    \"download_github_files__include_files\": [\"txt\"]\n",
    "}"
   ]
  },
  {
   "cell_type": "code",
   "execution_count": 10,
   "metadata": {},
   "outputs": [],
   "source": [
    "create_table_from_github_files_results = kiara.run_job('create.table_from_github_files', inputs=create_table_from_github_files_inputs, comment=\" \")"
   ]
  },
  {
   "cell_type": "code",
   "execution_count": 11,
   "metadata": {},
   "outputs": [
    {
     "ename": "NameError",
     "evalue": "name 'dl_file_bundle_gh_results' is not defined",
     "output_type": "error",
     "traceback": [
      "\u001b[0;31m---------------------------------------------------------------------------\u001b[0m",
      "\u001b[0;31mNameError\u001b[0m                                 Traceback (most recent call last)",
      "Cell \u001b[0;32mIn[11], line 1\u001b[0m\n\u001b[0;32m----> 1\u001b[0m \u001b[43mdl_file_bundle_gh_results\u001b[49m\n",
      "\u001b[0;31mNameError\u001b[0m: name 'dl_file_bundle_gh_results' is not defined"
     ]
    }
   ],
   "source": [
    "dl_file_bundle_gh_results"
   ]
  },
  {
   "cell_type": "code",
   "execution_count": 7,
   "metadata": {},
   "outputs": [],
   "source": [
    "dl_file_bundle_gh = dl_file_bundle_gh_results['file_bundle']"
   ]
  },
  {
   "cell_type": "markdown",
   "metadata": {},
   "source": [
    "### 1.3 Get files from file bundle"
   ]
  },
  {
   "cell_type": "code",
   "execution_count": 8,
   "metadata": {},
   "outputs": [
    {
     "name": "stdout",
     "output_type": "stream",
     "text": [
      "\n",
      "╭─ Operation: \u001b[1;3mcreate.table.from.file_bundle\u001b[0m ───────────────────────────────────╮\n",
      "│                                                                              │\n",
      "│  \u001b[3m \u001b[0m\u001b[3mDocumentation\u001b[0m\u001b[3m \u001b[0m  Create a table value from a text file_bundle.              │\n",
      "│  \u001b[3m               \u001b[0m                                                             │\n",
      "│  \u001b[3m               \u001b[0m  The resulting table will have (at a minimum) the           │\n",
      "│  \u001b[3m               \u001b[0m  following columns:                                         │\n",
      "│  \u001b[3m               \u001b[0m                                                             │\n",
      "│  \u001b[3m               \u001b[0m  \u001b[1;33m • \u001b[0mid: an auto-assigned index                              │\n",
      "│  \u001b[3m               \u001b[0m  \u001b[1;33m • \u001b[0mrel_path: the relative path of the file (from the       │\n",
      "│  \u001b[3m               \u001b[0m  \u001b[1;33m   \u001b[0mprovided base path)                                     │\n",
      "│  \u001b[3m               \u001b[0m  \u001b[1;33m • \u001b[0mcontent: the text file content                          │\n",
      "│                                                                              │\n",
      "│  \u001b[3m \u001b[0m\u001b[3mInputs       \u001b[0m\u001b[3m \u001b[0m                                                             │\n",
      "│  \u001b[3m               \u001b[0m   \u001b[1m \u001b[0m\u001b[1mfield   \u001b[0m\u001b[1m \u001b[0m \u001b[1m          \u001b[0m \u001b[1m          \u001b[0m \u001b[1m          \u001b[0m \u001b[1m          \u001b[0m    │\n",
      "│  \u001b[3m               \u001b[0m   \u001b[1m \u001b[0m\u001b[1mname    \u001b[0m\u001b[1m \u001b[0m \u001b[1m \u001b[0m\u001b[1mtype    \u001b[0m\u001b[1m \u001b[0m \u001b[1m \u001b[0m\u001b[1mdescrip…\u001b[0m\u001b[1m \u001b[0m \u001b[1m \u001b[0m\u001b[1mRequired\u001b[0m\u001b[1m \u001b[0m \u001b[1m \u001b[0m\u001b[1mDefault \u001b[0m\u001b[1m \u001b[0m    │\n",
      "│  \u001b[3m               \u001b[0m   ──────────────────────────────────────────────────────    │\n",
      "│  \u001b[3m               \u001b[0m   \u001b[3m \u001b[0m\u001b[3mfile_bun\u001b[0m\u001b[3m \u001b[0m  file_bu…   The        \u001b[1myes\u001b[0m        -- no        │\n",
      "│  \u001b[3m               \u001b[0m   \u001b[3m \u001b[0m\u001b[3mdle     \u001b[0m\u001b[3m \u001b[0m             source                default      │\n",
      "│  \u001b[3m               \u001b[0m   \u001b[3m          \u001b[0m             value                 --           │\n",
      "│  \u001b[3m               \u001b[0m   \u001b[3m          \u001b[0m             (of type                           │\n",
      "│  \u001b[3m               \u001b[0m   \u001b[3m          \u001b[0m             'file_b…                           │\n",
      "│  \u001b[3m               \u001b[0m                                                             │\n",
      "│                                                                              │\n",
      "│  \u001b[3m \u001b[0m\u001b[3mOutputs      \u001b[0m\u001b[3m \u001b[0m                                                             │\n",
      "│  \u001b[3m               \u001b[0m   \u001b[1m \u001b[0m\u001b[1mfield name\u001b[0m\u001b[1m \u001b[0m \u001b[1m \u001b[0m\u001b[1mtype \u001b[0m\u001b[1m \u001b[0m \u001b[1m \u001b[0m\u001b[1mdescription                    \u001b[0m\u001b[1m \u001b[0m    │\n",
      "│  \u001b[3m               \u001b[0m   ──────────────────────────────────────────────────────    │\n",
      "│  \u001b[3m               \u001b[0m   \u001b[3m \u001b[0m\u001b[3mtable     \u001b[0m\u001b[3m \u001b[0m  table   The result value (of type           │\n",
      "│  \u001b[3m               \u001b[0m   \u001b[3m            \u001b[0m          'table').                           │\n",
      "│  \u001b[3m               \u001b[0m                                                             │\n",
      "│                                                                              │\n",
      "╰──────────────────────────────────────────────────────────────────────────────╯\n"
     ]
    }
   ],
   "source": [
    "! kiara operation explain create.table.from.file_bundle"
   ]
  },
  {
   "cell_type": "code",
   "execution_count": 9,
   "metadata": {},
   "outputs": [],
   "source": [
    "# replace path with your local path to the data folder\n",
    "create_table_from_bundle_inputs = {\n",
    "    \"file_bundle\": dl_file_bundle_gh\n",
    "}"
   ]
  },
  {
   "cell_type": "code",
   "execution_count": 12,
   "metadata": {},
   "outputs": [],
   "source": [
    "create_table_from_bundle_results = kiara.run_job('create.table.from.file_bundle', inputs=create_table_from_bundle_inputs, comment=\" \")"
   ]
  },
  {
   "cell_type": "code",
   "execution_count": 13,
   "metadata": {},
   "outputs": [
    {
     "data": {
      "text/html": [
       "<pre style=\"white-space:pre;overflow-x:auto;line-height:normal;font-family:Menlo,'DejaVu Sans Mono',consolas,'Courier New',monospace\">╭──────────────────────────────────────────────────────────────────────────────────────────────────────────────────────────────────────────╮\n",
       "│                                                                                                                                          │\n",
       "│  <span style=\"font-weight: bold\"> field </span> <span style=\"font-weight: bold\"> value                                                                                                                        </span>  │\n",
       "│  ──────────────────────────────────────────────────────────────────────────────────────────────────────────────────────────────────────  │\n",
       "│  <span style=\"font-weight: bold\"> table </span> <span style=\"font-style: italic\">                                                                                                                              </span>  │\n",
       "│  <span style=\"font-weight: bold\">       </span> <span style=\"font-style: italic\">  </span><span style=\"font-weight: bold; font-style: italic\"> id   </span><span style=\"font-style: italic\"> </span><span style=\"font-weight: bold; font-style: italic\"> rel_path                      </span><span style=\"font-style: italic\"> </span><span style=\"font-weight: bold; font-style: italic\"> mime_type  </span><span style=\"font-style: italic\"> </span><span style=\"font-weight: bold; font-style: italic\"> size  </span><span style=\"font-style: italic\"> </span><span style=\"font-weight: bold; font-style: italic\"> content                      </span><span style=\"font-style: italic\"> </span><span style=\"font-weight: bold; font-style: italic\"> file_name                     </span><span style=\"font-style: italic\">  </span>  │\n",
       "│  <span style=\"font-weight: bold\">       </span> <span style=\"font-style: italic\">  ──────────────────────────────────────────────────────────────────────────────────────────────────────────────────────────  </span>  │\n",
       "│  <span style=\"font-weight: bold\">       </span> <span style=\"font-style: italic\">   0      Cronaca_Sovversiva/2012271201   text/plain   10428   LI 1,111 \"\"\"\"                  2012271201_1903-06-06_ed-1_se   </span>  │\n",
       "│  <span style=\"font-weight: bold\">       </span> <span style=\"font-style: italic\">   1      Cronaca_Sovversiva/2012271201   text/plain   11730   Ebdomadario anarchico di pro   2012271201_1903-06-13_ed-1_se   </span>  │\n",
       "│  <span style=\"font-weight: bold\">       </span> <span style=\"font-style: italic\">   2      Cronaca_Sovversiva/2012271201   text/plain   11482   ANNO I.                        2012271201_1903-06-20_ed-1_se   </span>  │\n",
       "│  <span style=\"font-weight: bold\">       </span> <span style=\"font-style: italic\">   3      Cronaca_Sovversiva/2012271201   text/plain   10839   Ebdomadàrio anarchico di pro   2012271201_1903-06-27_ed-1_se   </span>  │\n",
       "│  <span style=\"font-weight: bold\">       </span> <span style=\"font-style: italic\">   4      Cronaca_Sovversiva/2012271201   text/plain   11032   NUMERO 5                       2012271201_1903-07-04_ed-1_se   </span>  │\n",
       "│  <span style=\"font-weight: bold\">       </span> <span style=\"font-style: italic\">   5      Cronaca_Sovversiva/2012271201   text/plain   10648   ANNO I.                        2012271201_1903-07-25_ed-1_se   </span>  │\n",
       "│  <span style=\"font-weight: bold\">       </span> <span style=\"font-style: italic\">   6      Cronaca_Sovversiva/2012271201   text/plain   10682   ANNO I.                        2012271201_1903-08-01_ed-1_se   </span>  │\n",
       "│  <span style=\"font-weight: bold\">       </span> <span style=\"font-style: italic\">   7      Cronaca_Sovversiva/2012271201   text/plain   11522   Ciac vtj'y inn                 2012271201_1903-08-08_ed-1_se   </span>  │\n",
       "│  <span style=\"font-weight: bold\">       </span> <span style=\"font-style: italic\">   8      Cronaca_Sovversiva/2012271201   text/plain   11988   NUMERO 11                      2012271201_1903-08-15_ed-1_se   </span>  │\n",
       "│  <span style=\"font-weight: bold\">       </span> <span style=\"font-style: italic\">   9      Cronaca_Sovversiva/2012271201   text/plain   11286   Ebdomadario anarchico di pro   2012271201_1903-08-22_ed-1_se   </span>  │\n",
       "│  <span style=\"font-weight: bold\">       </span> <span style=\"font-style: italic\">   10     Cronaca_Sovversiva/2012271201   text/plain   10835   SUMERO 13                      2012271201_1903-08-29_ed-1_se   </span>  │\n",
       "│  <span style=\"font-weight: bold\">       </span> <span style=\"font-style: italic\">   11     Cronaca_Sovversiva/2012271201   text/plain   10750   Ebdomadario anarchico di pro   2012271201_1903-09-05_ed-1_se   </span>  │\n",
       "│  <span style=\"font-weight: bold\">       </span> <span style=\"font-style: italic\">   12     Cronaca_Sovversiva/2012271201   text/plain   11003   ANNO I.                        2012271201_1903-09-12_ed-1_se   </span>  │\n",
       "│  <span style=\"font-weight: bold\">       </span> <span style=\"font-style: italic\">   13     Cronaca_Sovversiva/2012271201   text/plain   11198   ANNO I.                        2012271201_1903-09-19_ed-1_se   </span>  │\n",
       "│  <span style=\"font-weight: bold\">       </span> <span style=\"font-style: italic\">   14     Cronaca_Sovversiva/2012271201   text/plain   10860   NUMERO 17                      2012271201_1903-09-26_ed-1_se   </span>  │\n",
       "│  <span style=\"font-weight: bold\">       </span> <span style=\"font-style: italic\">   15     Cronaca_Sovversiva/2012271201   text/plain   10778   li                             2012271201_1903-10-03_ed-1_se   </span>  │\n",
       "│  <span style=\"font-weight: bold\">       </span> <span style=\"font-style: italic\">   ...    ...                             ...          ...     ...                            ...                             </span>  │\n",
       "│  <span style=\"font-weight: bold\">       </span> <span style=\"font-style: italic\">   ...    ...                             ...          ...     ...                            ...                             </span>  │\n",
       "│  <span style=\"font-weight: bold\">       </span> <span style=\"font-style: italic\">   7244   L'Italia/sn85066408_1919-12-1   text/plain   18674   ANNO XXXIII-                   sn85066408_1919-12-15_ed-1_se   </span>  │\n",
       "│  <span style=\"font-weight: bold\">       </span> <span style=\"font-style: italic\">   7245   L'Italia/sn85066408_1919-12-1   text/plain   19692   anno xxxiii.                   sn85066408_1919-12-16_ed-1_se   </span>  │\n",
       "│  <span style=\"font-weight: bold\">       </span> <span style=\"font-style: italic\">   7246   L'Italia/sn85066408_1919-12-1   text/plain   24491   ANNO XXXIII                    sn85066408_1919-12-17_ed-1_se   </span>  │\n",
       "│  <span style=\"font-weight: bold\">       </span> <span style=\"font-style: italic\">   7247   L'Italia/sn85066408_1919-12-1   text/plain   20644   anno xxxiil                    sn85066408_1919-12-18_ed-1_se   </span>  │\n",
       "│  <span style=\"font-weight: bold\">       </span> <span style=\"font-style: italic\">   7248   L'Italia/sn85066408_1919-12-1   text/plain   19833   anno XXXIII-                   sn85066408_1919-12-19_ed-1_se   </span>  │\n",
       "│  <span style=\"font-weight: bold\">       </span> <span style=\"font-style: italic\">   7249   L'Italia/sn85066408_1919-12-2   text/plain   19810   anno xxxiii-                   sn85066408_1919-12-20_ed-1_se   </span>  │\n",
       "│  <span style=\"font-weight: bold\">       </span> <span style=\"font-style: italic\">   7250   L'Italia/sn85066408_1919-12-2   text/plain   15193   FIRST SECTION                  sn85066408_1919-12-21_ed-1_se   </span>  │\n",
       "│  <span style=\"font-weight: bold\">       </span> <span style=\"font-style: italic\">   7251   L'Italia/sn85066408_1919-12-2   text/plain   19737   ANNO XXXIII                    sn85066408_1919-12-22_ed-1_se   </span>  │\n",
       "│  <span style=\"font-weight: bold\">       </span> <span style=\"font-style: italic\">   7252   L'Italia/sn85066408_1919-12-2   text/plain   21267   ANNO XXXIII                    sn85066408_1919-12-23_ed-1_se   </span>  │\n",
       "│  <span style=\"font-weight: bold\">       </span> <span style=\"font-style: italic\">   7253   L'Italia/sn85066408_1919-12-2   text/plain   19738   ANNO XXXIII                    sn85066408_1919-12-24_ed-1_se   </span>  │\n",
       "│  <span style=\"font-weight: bold\">       </span> <span style=\"font-style: italic\">   7254   L'Italia/sn85066408_1919-12-2   text/plain   23539   ANNO XXXI li-                  sn85066408_1919-12-25_ed-1_se   </span>  │\n",
       "│  <span style=\"font-weight: bold\">       </span> <span style=\"font-style: italic\">   7255   L'Italia/sn85066408_1919-12-2   text/plain   20528   ANNO XXXIII                    sn85066408_1919-12-27_ed-1_se   </span>  │\n",
       "│  <span style=\"font-weight: bold\">       </span> <span style=\"font-style: italic\">   7256   L'Italia/sn85066408_1919-12-2   text/plain   19818   PATRIA e umanità*              sn85066408_1919-12-28_ed-1_se   </span>  │\n",
       "│  <span style=\"font-weight: bold\">       </span> <span style=\"font-style: italic\">   7257   L'Italia/sn85066408_1919-12-2   text/plain   21006   ANNO XXXIII*                   sn85066408_1919-12-29_ed-1_se   </span>  │\n",
       "│  <span style=\"font-weight: bold\">       </span> <span style=\"font-style: italic\">   7258   L'Italia/sn85066408_1919-12-3   text/plain   19627   ANNO XXXIII-                   sn85066408_1919-12-30_ed-1_se   </span>  │\n",
       "│  <span style=\"font-weight: bold\">       </span> <span style=\"font-style: italic\">   7259   L'Italia/sn85066408_1919-12-3   text/plain   23636   \\\\\\ll XXXIII                   sn85066408_1919-12-31_ed-1_se   </span>  │\n",
       "│  <span style=\"font-weight: bold\">       </span> <span style=\"font-style: italic\">                                                                                                                              </span>  │\n",
       "│                                                                                                                                          │\n",
       "╰──────────────────────────────────────────────────────────────────────────────────────────────────────────────────────────────────────────╯\n",
       "</pre>\n"
      ],
      "text/plain": [
       "╭──────────────────────────────────────────────────────────────────────────────────────────────────────────────────────────────────────────╮\n",
       "│                                                                                                                                          │\n",
       "│  \u001b[1m \u001b[0m\u001b[1mfield\u001b[0m\u001b[1m \u001b[0m \u001b[1m \u001b[0m\u001b[1mvalue                                                                                                                       \u001b[0m\u001b[1m \u001b[0m  │\n",
       "│  ──────────────────────────────────────────────────────────────────────────────────────────────────────────────────────────────────────  │\n",
       "│  \u001b[1m \u001b[0m\u001b[1mtable\u001b[0m\u001b[1m \u001b[0m \u001b[3m \u001b[0m\u001b[3m                                                                                                                            \u001b[0m\u001b[3m \u001b[0m  │\n",
       "│  \u001b[1m       \u001b[0m \u001b[3m \u001b[0m\u001b[3m \u001b[0m\u001b[1;3m \u001b[0m\u001b[1;3mid\u001b[0m\u001b[1;3m  \u001b[0m\u001b[1;3m \u001b[0m\u001b[3m \u001b[0m\u001b[1;3m \u001b[0m\u001b[1;3mrel_path\u001b[0m\u001b[1;3m                     \u001b[0m\u001b[1;3m \u001b[0m\u001b[3m \u001b[0m\u001b[1;3m \u001b[0m\u001b[1;3mmime_type\u001b[0m\u001b[1;3m \u001b[0m\u001b[1;3m \u001b[0m\u001b[3m \u001b[0m\u001b[1;3m \u001b[0m\u001b[1;3msize\u001b[0m\u001b[1;3m \u001b[0m\u001b[1;3m \u001b[0m\u001b[3m \u001b[0m\u001b[1;3m \u001b[0m\u001b[1;3mcontent\u001b[0m\u001b[1;3m                     \u001b[0m\u001b[1;3m \u001b[0m\u001b[3m \u001b[0m\u001b[1;3m \u001b[0m\u001b[1;3mfile_name\u001b[0m\u001b[1;3m                    \u001b[0m\u001b[1;3m \u001b[0m\u001b[3m \u001b[0m\u001b[3m \u001b[0m  │\n",
       "│  \u001b[1m       \u001b[0m \u001b[3m \u001b[0m\u001b[3m ────────────────────────────────────────────────────────────────────────────────────────────────────────────────────────── \u001b[0m\u001b[3m \u001b[0m  │\n",
       "│  \u001b[1m       \u001b[0m \u001b[3m \u001b[0m\u001b[3m \u001b[0m\u001b[3m \u001b[0m\u001b[3m0\u001b[0m\u001b[3m   \u001b[0m\u001b[3m \u001b[0m\u001b[3m \u001b[0m\u001b[3m \u001b[0m\u001b[3mCronaca_Sovversiva/2012271201\u001b[0m\u001b[3m \u001b[0m\u001b[3m \u001b[0m\u001b[3m \u001b[0m\u001b[3mtext/plain\u001b[0m\u001b[3m \u001b[0m\u001b[3m \u001b[0m\u001b[3m \u001b[0m\u001b[3m10428\u001b[0m\u001b[3m \u001b[0m\u001b[3m \u001b[0m\u001b[3m \u001b[0m\u001b[3mLI 1,111 \"\"\"\"\u001b[0m\u001b[3m               \u001b[0m\u001b[3m \u001b[0m\u001b[3m \u001b[0m\u001b[3m \u001b[0m\u001b[3m2012271201_1903-06-06_ed-1_se\u001b[0m\u001b[3m \u001b[0m\u001b[3m \u001b[0m\u001b[3m \u001b[0m  │\n",
       "│  \u001b[1m       \u001b[0m \u001b[3m \u001b[0m\u001b[3m \u001b[0m\u001b[3m \u001b[0m\u001b[3m1\u001b[0m\u001b[3m   \u001b[0m\u001b[3m \u001b[0m\u001b[3m \u001b[0m\u001b[3m \u001b[0m\u001b[3mCronaca_Sovversiva/2012271201\u001b[0m\u001b[3m \u001b[0m\u001b[3m \u001b[0m\u001b[3m \u001b[0m\u001b[3mtext/plain\u001b[0m\u001b[3m \u001b[0m\u001b[3m \u001b[0m\u001b[3m \u001b[0m\u001b[3m11730\u001b[0m\u001b[3m \u001b[0m\u001b[3m \u001b[0m\u001b[3m \u001b[0m\u001b[3mEbdomadario anarchico di pro\u001b[0m\u001b[3m \u001b[0m\u001b[3m \u001b[0m\u001b[3m \u001b[0m\u001b[3m2012271201_1903-06-13_ed-1_se\u001b[0m\u001b[3m \u001b[0m\u001b[3m \u001b[0m\u001b[3m \u001b[0m  │\n",
       "│  \u001b[1m       \u001b[0m \u001b[3m \u001b[0m\u001b[3m \u001b[0m\u001b[3m \u001b[0m\u001b[3m2\u001b[0m\u001b[3m   \u001b[0m\u001b[3m \u001b[0m\u001b[3m \u001b[0m\u001b[3m \u001b[0m\u001b[3mCronaca_Sovversiva/2012271201\u001b[0m\u001b[3m \u001b[0m\u001b[3m \u001b[0m\u001b[3m \u001b[0m\u001b[3mtext/plain\u001b[0m\u001b[3m \u001b[0m\u001b[3m \u001b[0m\u001b[3m \u001b[0m\u001b[3m11482\u001b[0m\u001b[3m \u001b[0m\u001b[3m \u001b[0m\u001b[3m \u001b[0m\u001b[3mANNO I.\u001b[0m\u001b[3m                     \u001b[0m\u001b[3m \u001b[0m\u001b[3m \u001b[0m\u001b[3m \u001b[0m\u001b[3m2012271201_1903-06-20_ed-1_se\u001b[0m\u001b[3m \u001b[0m\u001b[3m \u001b[0m\u001b[3m \u001b[0m  │\n",
       "│  \u001b[1m       \u001b[0m \u001b[3m \u001b[0m\u001b[3m \u001b[0m\u001b[3m \u001b[0m\u001b[3m3\u001b[0m\u001b[3m   \u001b[0m\u001b[3m \u001b[0m\u001b[3m \u001b[0m\u001b[3m \u001b[0m\u001b[3mCronaca_Sovversiva/2012271201\u001b[0m\u001b[3m \u001b[0m\u001b[3m \u001b[0m\u001b[3m \u001b[0m\u001b[3mtext/plain\u001b[0m\u001b[3m \u001b[0m\u001b[3m \u001b[0m\u001b[3m \u001b[0m\u001b[3m10839\u001b[0m\u001b[3m \u001b[0m\u001b[3m \u001b[0m\u001b[3m \u001b[0m\u001b[3mEbdomadàrio anarchico di pro\u001b[0m\u001b[3m \u001b[0m\u001b[3m \u001b[0m\u001b[3m \u001b[0m\u001b[3m2012271201_1903-06-27_ed-1_se\u001b[0m\u001b[3m \u001b[0m\u001b[3m \u001b[0m\u001b[3m \u001b[0m  │\n",
       "│  \u001b[1m       \u001b[0m \u001b[3m \u001b[0m\u001b[3m \u001b[0m\u001b[3m \u001b[0m\u001b[3m4\u001b[0m\u001b[3m   \u001b[0m\u001b[3m \u001b[0m\u001b[3m \u001b[0m\u001b[3m \u001b[0m\u001b[3mCronaca_Sovversiva/2012271201\u001b[0m\u001b[3m \u001b[0m\u001b[3m \u001b[0m\u001b[3m \u001b[0m\u001b[3mtext/plain\u001b[0m\u001b[3m \u001b[0m\u001b[3m \u001b[0m\u001b[3m \u001b[0m\u001b[3m11032\u001b[0m\u001b[3m \u001b[0m\u001b[3m \u001b[0m\u001b[3m \u001b[0m\u001b[3mNUMERO 5\u001b[0m\u001b[3m                    \u001b[0m\u001b[3m \u001b[0m\u001b[3m \u001b[0m\u001b[3m \u001b[0m\u001b[3m2012271201_1903-07-04_ed-1_se\u001b[0m\u001b[3m \u001b[0m\u001b[3m \u001b[0m\u001b[3m \u001b[0m  │\n",
       "│  \u001b[1m       \u001b[0m \u001b[3m \u001b[0m\u001b[3m \u001b[0m\u001b[3m \u001b[0m\u001b[3m5\u001b[0m\u001b[3m   \u001b[0m\u001b[3m \u001b[0m\u001b[3m \u001b[0m\u001b[3m \u001b[0m\u001b[3mCronaca_Sovversiva/2012271201\u001b[0m\u001b[3m \u001b[0m\u001b[3m \u001b[0m\u001b[3m \u001b[0m\u001b[3mtext/plain\u001b[0m\u001b[3m \u001b[0m\u001b[3m \u001b[0m\u001b[3m \u001b[0m\u001b[3m10648\u001b[0m\u001b[3m \u001b[0m\u001b[3m \u001b[0m\u001b[3m \u001b[0m\u001b[3mANNO I.\u001b[0m\u001b[3m                     \u001b[0m\u001b[3m \u001b[0m\u001b[3m \u001b[0m\u001b[3m \u001b[0m\u001b[3m2012271201_1903-07-25_ed-1_se\u001b[0m\u001b[3m \u001b[0m\u001b[3m \u001b[0m\u001b[3m \u001b[0m  │\n",
       "│  \u001b[1m       \u001b[0m \u001b[3m \u001b[0m\u001b[3m \u001b[0m\u001b[3m \u001b[0m\u001b[3m6\u001b[0m\u001b[3m   \u001b[0m\u001b[3m \u001b[0m\u001b[3m \u001b[0m\u001b[3m \u001b[0m\u001b[3mCronaca_Sovversiva/2012271201\u001b[0m\u001b[3m \u001b[0m\u001b[3m \u001b[0m\u001b[3m \u001b[0m\u001b[3mtext/plain\u001b[0m\u001b[3m \u001b[0m\u001b[3m \u001b[0m\u001b[3m \u001b[0m\u001b[3m10682\u001b[0m\u001b[3m \u001b[0m\u001b[3m \u001b[0m\u001b[3m \u001b[0m\u001b[3mANNO I.\u001b[0m\u001b[3m                     \u001b[0m\u001b[3m \u001b[0m\u001b[3m \u001b[0m\u001b[3m \u001b[0m\u001b[3m2012271201_1903-08-01_ed-1_se\u001b[0m\u001b[3m \u001b[0m\u001b[3m \u001b[0m\u001b[3m \u001b[0m  │\n",
       "│  \u001b[1m       \u001b[0m \u001b[3m \u001b[0m\u001b[3m \u001b[0m\u001b[3m \u001b[0m\u001b[3m7\u001b[0m\u001b[3m   \u001b[0m\u001b[3m \u001b[0m\u001b[3m \u001b[0m\u001b[3m \u001b[0m\u001b[3mCronaca_Sovversiva/2012271201\u001b[0m\u001b[3m \u001b[0m\u001b[3m \u001b[0m\u001b[3m \u001b[0m\u001b[3mtext/plain\u001b[0m\u001b[3m \u001b[0m\u001b[3m \u001b[0m\u001b[3m \u001b[0m\u001b[3m11522\u001b[0m\u001b[3m \u001b[0m\u001b[3m \u001b[0m\u001b[3m \u001b[0m\u001b[3mCiac vtj'y inn\u001b[0m\u001b[3m              \u001b[0m\u001b[3m \u001b[0m\u001b[3m \u001b[0m\u001b[3m \u001b[0m\u001b[3m2012271201_1903-08-08_ed-1_se\u001b[0m\u001b[3m \u001b[0m\u001b[3m \u001b[0m\u001b[3m \u001b[0m  │\n",
       "│  \u001b[1m       \u001b[0m \u001b[3m \u001b[0m\u001b[3m \u001b[0m\u001b[3m \u001b[0m\u001b[3m8\u001b[0m\u001b[3m   \u001b[0m\u001b[3m \u001b[0m\u001b[3m \u001b[0m\u001b[3m \u001b[0m\u001b[3mCronaca_Sovversiva/2012271201\u001b[0m\u001b[3m \u001b[0m\u001b[3m \u001b[0m\u001b[3m \u001b[0m\u001b[3mtext/plain\u001b[0m\u001b[3m \u001b[0m\u001b[3m \u001b[0m\u001b[3m \u001b[0m\u001b[3m11988\u001b[0m\u001b[3m \u001b[0m\u001b[3m \u001b[0m\u001b[3m \u001b[0m\u001b[3mNUMERO 11\u001b[0m\u001b[3m                   \u001b[0m\u001b[3m \u001b[0m\u001b[3m \u001b[0m\u001b[3m \u001b[0m\u001b[3m2012271201_1903-08-15_ed-1_se\u001b[0m\u001b[3m \u001b[0m\u001b[3m \u001b[0m\u001b[3m \u001b[0m  │\n",
       "│  \u001b[1m       \u001b[0m \u001b[3m \u001b[0m\u001b[3m \u001b[0m\u001b[3m \u001b[0m\u001b[3m9\u001b[0m\u001b[3m   \u001b[0m\u001b[3m \u001b[0m\u001b[3m \u001b[0m\u001b[3m \u001b[0m\u001b[3mCronaca_Sovversiva/2012271201\u001b[0m\u001b[3m \u001b[0m\u001b[3m \u001b[0m\u001b[3m \u001b[0m\u001b[3mtext/plain\u001b[0m\u001b[3m \u001b[0m\u001b[3m \u001b[0m\u001b[3m \u001b[0m\u001b[3m11286\u001b[0m\u001b[3m \u001b[0m\u001b[3m \u001b[0m\u001b[3m \u001b[0m\u001b[3mEbdomadario anarchico di pro\u001b[0m\u001b[3m \u001b[0m\u001b[3m \u001b[0m\u001b[3m \u001b[0m\u001b[3m2012271201_1903-08-22_ed-1_se\u001b[0m\u001b[3m \u001b[0m\u001b[3m \u001b[0m\u001b[3m \u001b[0m  │\n",
       "│  \u001b[1m       \u001b[0m \u001b[3m \u001b[0m\u001b[3m \u001b[0m\u001b[3m \u001b[0m\u001b[3m10\u001b[0m\u001b[3m  \u001b[0m\u001b[3m \u001b[0m\u001b[3m \u001b[0m\u001b[3m \u001b[0m\u001b[3mCronaca_Sovversiva/2012271201\u001b[0m\u001b[3m \u001b[0m\u001b[3m \u001b[0m\u001b[3m \u001b[0m\u001b[3mtext/plain\u001b[0m\u001b[3m \u001b[0m\u001b[3m \u001b[0m\u001b[3m \u001b[0m\u001b[3m10835\u001b[0m\u001b[3m \u001b[0m\u001b[3m \u001b[0m\u001b[3m \u001b[0m\u001b[3mSUMERO 13\u001b[0m\u001b[3m                   \u001b[0m\u001b[3m \u001b[0m\u001b[3m \u001b[0m\u001b[3m \u001b[0m\u001b[3m2012271201_1903-08-29_ed-1_se\u001b[0m\u001b[3m \u001b[0m\u001b[3m \u001b[0m\u001b[3m \u001b[0m  │\n",
       "│  \u001b[1m       \u001b[0m \u001b[3m \u001b[0m\u001b[3m \u001b[0m\u001b[3m \u001b[0m\u001b[3m11\u001b[0m\u001b[3m  \u001b[0m\u001b[3m \u001b[0m\u001b[3m \u001b[0m\u001b[3m \u001b[0m\u001b[3mCronaca_Sovversiva/2012271201\u001b[0m\u001b[3m \u001b[0m\u001b[3m \u001b[0m\u001b[3m \u001b[0m\u001b[3mtext/plain\u001b[0m\u001b[3m \u001b[0m\u001b[3m \u001b[0m\u001b[3m \u001b[0m\u001b[3m10750\u001b[0m\u001b[3m \u001b[0m\u001b[3m \u001b[0m\u001b[3m \u001b[0m\u001b[3mEbdomadario anarchico di pro\u001b[0m\u001b[3m \u001b[0m\u001b[3m \u001b[0m\u001b[3m \u001b[0m\u001b[3m2012271201_1903-09-05_ed-1_se\u001b[0m\u001b[3m \u001b[0m\u001b[3m \u001b[0m\u001b[3m \u001b[0m  │\n",
       "│  \u001b[1m       \u001b[0m \u001b[3m \u001b[0m\u001b[3m \u001b[0m\u001b[3m \u001b[0m\u001b[3m12\u001b[0m\u001b[3m  \u001b[0m\u001b[3m \u001b[0m\u001b[3m \u001b[0m\u001b[3m \u001b[0m\u001b[3mCronaca_Sovversiva/2012271201\u001b[0m\u001b[3m \u001b[0m\u001b[3m \u001b[0m\u001b[3m \u001b[0m\u001b[3mtext/plain\u001b[0m\u001b[3m \u001b[0m\u001b[3m \u001b[0m\u001b[3m \u001b[0m\u001b[3m11003\u001b[0m\u001b[3m \u001b[0m\u001b[3m \u001b[0m\u001b[3m \u001b[0m\u001b[3mANNO I.\u001b[0m\u001b[3m                     \u001b[0m\u001b[3m \u001b[0m\u001b[3m \u001b[0m\u001b[3m \u001b[0m\u001b[3m2012271201_1903-09-12_ed-1_se\u001b[0m\u001b[3m \u001b[0m\u001b[3m \u001b[0m\u001b[3m \u001b[0m  │\n",
       "│  \u001b[1m       \u001b[0m \u001b[3m \u001b[0m\u001b[3m \u001b[0m\u001b[3m \u001b[0m\u001b[3m13\u001b[0m\u001b[3m  \u001b[0m\u001b[3m \u001b[0m\u001b[3m \u001b[0m\u001b[3m \u001b[0m\u001b[3mCronaca_Sovversiva/2012271201\u001b[0m\u001b[3m \u001b[0m\u001b[3m \u001b[0m\u001b[3m \u001b[0m\u001b[3mtext/plain\u001b[0m\u001b[3m \u001b[0m\u001b[3m \u001b[0m\u001b[3m \u001b[0m\u001b[3m11198\u001b[0m\u001b[3m \u001b[0m\u001b[3m \u001b[0m\u001b[3m \u001b[0m\u001b[3mANNO I.\u001b[0m\u001b[3m                     \u001b[0m\u001b[3m \u001b[0m\u001b[3m \u001b[0m\u001b[3m \u001b[0m\u001b[3m2012271201_1903-09-19_ed-1_se\u001b[0m\u001b[3m \u001b[0m\u001b[3m \u001b[0m\u001b[3m \u001b[0m  │\n",
       "│  \u001b[1m       \u001b[0m \u001b[3m \u001b[0m\u001b[3m \u001b[0m\u001b[3m \u001b[0m\u001b[3m14\u001b[0m\u001b[3m  \u001b[0m\u001b[3m \u001b[0m\u001b[3m \u001b[0m\u001b[3m \u001b[0m\u001b[3mCronaca_Sovversiva/2012271201\u001b[0m\u001b[3m \u001b[0m\u001b[3m \u001b[0m\u001b[3m \u001b[0m\u001b[3mtext/plain\u001b[0m\u001b[3m \u001b[0m\u001b[3m \u001b[0m\u001b[3m \u001b[0m\u001b[3m10860\u001b[0m\u001b[3m \u001b[0m\u001b[3m \u001b[0m\u001b[3m \u001b[0m\u001b[3mNUMERO 17\u001b[0m\u001b[3m                   \u001b[0m\u001b[3m \u001b[0m\u001b[3m \u001b[0m\u001b[3m \u001b[0m\u001b[3m2012271201_1903-09-26_ed-1_se\u001b[0m\u001b[3m \u001b[0m\u001b[3m \u001b[0m\u001b[3m \u001b[0m  │\n",
       "│  \u001b[1m       \u001b[0m \u001b[3m \u001b[0m\u001b[3m \u001b[0m\u001b[3m \u001b[0m\u001b[3m15\u001b[0m\u001b[3m  \u001b[0m\u001b[3m \u001b[0m\u001b[3m \u001b[0m\u001b[3m \u001b[0m\u001b[3mCronaca_Sovversiva/2012271201\u001b[0m\u001b[3m \u001b[0m\u001b[3m \u001b[0m\u001b[3m \u001b[0m\u001b[3mtext/plain\u001b[0m\u001b[3m \u001b[0m\u001b[3m \u001b[0m\u001b[3m \u001b[0m\u001b[3m10778\u001b[0m\u001b[3m \u001b[0m\u001b[3m \u001b[0m\u001b[3m \u001b[0m\u001b[3mli\u001b[0m\u001b[3m                          \u001b[0m\u001b[3m \u001b[0m\u001b[3m \u001b[0m\u001b[3m \u001b[0m\u001b[3m2012271201_1903-10-03_ed-1_se\u001b[0m\u001b[3m \u001b[0m\u001b[3m \u001b[0m\u001b[3m \u001b[0m  │\n",
       "│  \u001b[1m       \u001b[0m \u001b[3m \u001b[0m\u001b[3m \u001b[0m\u001b[3m \u001b[0m\u001b[3m...\u001b[0m\u001b[3m \u001b[0m\u001b[3m \u001b[0m\u001b[3m \u001b[0m\u001b[3m \u001b[0m\u001b[3m...\u001b[0m\u001b[3m                          \u001b[0m\u001b[3m \u001b[0m\u001b[3m \u001b[0m\u001b[3m \u001b[0m\u001b[3m...\u001b[0m\u001b[3m       \u001b[0m\u001b[3m \u001b[0m\u001b[3m \u001b[0m\u001b[3m \u001b[0m\u001b[3m...\u001b[0m\u001b[3m  \u001b[0m\u001b[3m \u001b[0m\u001b[3m \u001b[0m\u001b[3m \u001b[0m\u001b[3m...\u001b[0m\u001b[3m                         \u001b[0m\u001b[3m \u001b[0m\u001b[3m \u001b[0m\u001b[3m \u001b[0m\u001b[3m...\u001b[0m\u001b[3m                          \u001b[0m\u001b[3m \u001b[0m\u001b[3m \u001b[0m\u001b[3m \u001b[0m  │\n",
       "│  \u001b[1m       \u001b[0m \u001b[3m \u001b[0m\u001b[3m \u001b[0m\u001b[3m \u001b[0m\u001b[3m...\u001b[0m\u001b[3m \u001b[0m\u001b[3m \u001b[0m\u001b[3m \u001b[0m\u001b[3m \u001b[0m\u001b[3m...\u001b[0m\u001b[3m                          \u001b[0m\u001b[3m \u001b[0m\u001b[3m \u001b[0m\u001b[3m \u001b[0m\u001b[3m...\u001b[0m\u001b[3m       \u001b[0m\u001b[3m \u001b[0m\u001b[3m \u001b[0m\u001b[3m \u001b[0m\u001b[3m...\u001b[0m\u001b[3m  \u001b[0m\u001b[3m \u001b[0m\u001b[3m \u001b[0m\u001b[3m \u001b[0m\u001b[3m...\u001b[0m\u001b[3m                         \u001b[0m\u001b[3m \u001b[0m\u001b[3m \u001b[0m\u001b[3m \u001b[0m\u001b[3m...\u001b[0m\u001b[3m                          \u001b[0m\u001b[3m \u001b[0m\u001b[3m \u001b[0m\u001b[3m \u001b[0m  │\n",
       "│  \u001b[1m       \u001b[0m \u001b[3m \u001b[0m\u001b[3m \u001b[0m\u001b[3m \u001b[0m\u001b[3m7244\u001b[0m\u001b[3m \u001b[0m\u001b[3m \u001b[0m\u001b[3m \u001b[0m\u001b[3mL'Italia/sn85066408_1919-12-1\u001b[0m\u001b[3m \u001b[0m\u001b[3m \u001b[0m\u001b[3m \u001b[0m\u001b[3mtext/plain\u001b[0m\u001b[3m \u001b[0m\u001b[3m \u001b[0m\u001b[3m \u001b[0m\u001b[3m18674\u001b[0m\u001b[3m \u001b[0m\u001b[3m \u001b[0m\u001b[3m \u001b[0m\u001b[3mANNO XXXIII-\u001b[0m\u001b[3m                \u001b[0m\u001b[3m \u001b[0m\u001b[3m \u001b[0m\u001b[3m \u001b[0m\u001b[3msn85066408_1919-12-15_ed-1_se\u001b[0m\u001b[3m \u001b[0m\u001b[3m \u001b[0m\u001b[3m \u001b[0m  │\n",
       "│  \u001b[1m       \u001b[0m \u001b[3m \u001b[0m\u001b[3m \u001b[0m\u001b[3m \u001b[0m\u001b[3m7245\u001b[0m\u001b[3m \u001b[0m\u001b[3m \u001b[0m\u001b[3m \u001b[0m\u001b[3mL'Italia/sn85066408_1919-12-1\u001b[0m\u001b[3m \u001b[0m\u001b[3m \u001b[0m\u001b[3m \u001b[0m\u001b[3mtext/plain\u001b[0m\u001b[3m \u001b[0m\u001b[3m \u001b[0m\u001b[3m \u001b[0m\u001b[3m19692\u001b[0m\u001b[3m \u001b[0m\u001b[3m \u001b[0m\u001b[3m \u001b[0m\u001b[3manno xxxiii.\u001b[0m\u001b[3m                \u001b[0m\u001b[3m \u001b[0m\u001b[3m \u001b[0m\u001b[3m \u001b[0m\u001b[3msn85066408_1919-12-16_ed-1_se\u001b[0m\u001b[3m \u001b[0m\u001b[3m \u001b[0m\u001b[3m \u001b[0m  │\n",
       "│  \u001b[1m       \u001b[0m \u001b[3m \u001b[0m\u001b[3m \u001b[0m\u001b[3m \u001b[0m\u001b[3m7246\u001b[0m\u001b[3m \u001b[0m\u001b[3m \u001b[0m\u001b[3m \u001b[0m\u001b[3mL'Italia/sn85066408_1919-12-1\u001b[0m\u001b[3m \u001b[0m\u001b[3m \u001b[0m\u001b[3m \u001b[0m\u001b[3mtext/plain\u001b[0m\u001b[3m \u001b[0m\u001b[3m \u001b[0m\u001b[3m \u001b[0m\u001b[3m24491\u001b[0m\u001b[3m \u001b[0m\u001b[3m \u001b[0m\u001b[3m \u001b[0m\u001b[3mANNO XXXIII\u001b[0m\u001b[3m                 \u001b[0m\u001b[3m \u001b[0m\u001b[3m \u001b[0m\u001b[3m \u001b[0m\u001b[3msn85066408_1919-12-17_ed-1_se\u001b[0m\u001b[3m \u001b[0m\u001b[3m \u001b[0m\u001b[3m \u001b[0m  │\n",
       "│  \u001b[1m       \u001b[0m \u001b[3m \u001b[0m\u001b[3m \u001b[0m\u001b[3m \u001b[0m\u001b[3m7247\u001b[0m\u001b[3m \u001b[0m\u001b[3m \u001b[0m\u001b[3m \u001b[0m\u001b[3mL'Italia/sn85066408_1919-12-1\u001b[0m\u001b[3m \u001b[0m\u001b[3m \u001b[0m\u001b[3m \u001b[0m\u001b[3mtext/plain\u001b[0m\u001b[3m \u001b[0m\u001b[3m \u001b[0m\u001b[3m \u001b[0m\u001b[3m20644\u001b[0m\u001b[3m \u001b[0m\u001b[3m \u001b[0m\u001b[3m \u001b[0m\u001b[3manno xxxiil\u001b[0m\u001b[3m                 \u001b[0m\u001b[3m \u001b[0m\u001b[3m \u001b[0m\u001b[3m \u001b[0m\u001b[3msn85066408_1919-12-18_ed-1_se\u001b[0m\u001b[3m \u001b[0m\u001b[3m \u001b[0m\u001b[3m \u001b[0m  │\n",
       "│  \u001b[1m       \u001b[0m \u001b[3m \u001b[0m\u001b[3m \u001b[0m\u001b[3m \u001b[0m\u001b[3m7248\u001b[0m\u001b[3m \u001b[0m\u001b[3m \u001b[0m\u001b[3m \u001b[0m\u001b[3mL'Italia/sn85066408_1919-12-1\u001b[0m\u001b[3m \u001b[0m\u001b[3m \u001b[0m\u001b[3m \u001b[0m\u001b[3mtext/plain\u001b[0m\u001b[3m \u001b[0m\u001b[3m \u001b[0m\u001b[3m \u001b[0m\u001b[3m19833\u001b[0m\u001b[3m \u001b[0m\u001b[3m \u001b[0m\u001b[3m \u001b[0m\u001b[3manno XXXIII-\u001b[0m\u001b[3m                \u001b[0m\u001b[3m \u001b[0m\u001b[3m \u001b[0m\u001b[3m \u001b[0m\u001b[3msn85066408_1919-12-19_ed-1_se\u001b[0m\u001b[3m \u001b[0m\u001b[3m \u001b[0m\u001b[3m \u001b[0m  │\n",
       "│  \u001b[1m       \u001b[0m \u001b[3m \u001b[0m\u001b[3m \u001b[0m\u001b[3m \u001b[0m\u001b[3m7249\u001b[0m\u001b[3m \u001b[0m\u001b[3m \u001b[0m\u001b[3m \u001b[0m\u001b[3mL'Italia/sn85066408_1919-12-2\u001b[0m\u001b[3m \u001b[0m\u001b[3m \u001b[0m\u001b[3m \u001b[0m\u001b[3mtext/plain\u001b[0m\u001b[3m \u001b[0m\u001b[3m \u001b[0m\u001b[3m \u001b[0m\u001b[3m19810\u001b[0m\u001b[3m \u001b[0m\u001b[3m \u001b[0m\u001b[3m \u001b[0m\u001b[3manno xxxiii-\u001b[0m\u001b[3m                \u001b[0m\u001b[3m \u001b[0m\u001b[3m \u001b[0m\u001b[3m \u001b[0m\u001b[3msn85066408_1919-12-20_ed-1_se\u001b[0m\u001b[3m \u001b[0m\u001b[3m \u001b[0m\u001b[3m \u001b[0m  │\n",
       "│  \u001b[1m       \u001b[0m \u001b[3m \u001b[0m\u001b[3m \u001b[0m\u001b[3m \u001b[0m\u001b[3m7250\u001b[0m\u001b[3m \u001b[0m\u001b[3m \u001b[0m\u001b[3m \u001b[0m\u001b[3mL'Italia/sn85066408_1919-12-2\u001b[0m\u001b[3m \u001b[0m\u001b[3m \u001b[0m\u001b[3m \u001b[0m\u001b[3mtext/plain\u001b[0m\u001b[3m \u001b[0m\u001b[3m \u001b[0m\u001b[3m \u001b[0m\u001b[3m15193\u001b[0m\u001b[3m \u001b[0m\u001b[3m \u001b[0m\u001b[3m \u001b[0m\u001b[3mFIRST SECTION\u001b[0m\u001b[3m               \u001b[0m\u001b[3m \u001b[0m\u001b[3m \u001b[0m\u001b[3m \u001b[0m\u001b[3msn85066408_1919-12-21_ed-1_se\u001b[0m\u001b[3m \u001b[0m\u001b[3m \u001b[0m\u001b[3m \u001b[0m  │\n",
       "│  \u001b[1m       \u001b[0m \u001b[3m \u001b[0m\u001b[3m \u001b[0m\u001b[3m \u001b[0m\u001b[3m7251\u001b[0m\u001b[3m \u001b[0m\u001b[3m \u001b[0m\u001b[3m \u001b[0m\u001b[3mL'Italia/sn85066408_1919-12-2\u001b[0m\u001b[3m \u001b[0m\u001b[3m \u001b[0m\u001b[3m \u001b[0m\u001b[3mtext/plain\u001b[0m\u001b[3m \u001b[0m\u001b[3m \u001b[0m\u001b[3m \u001b[0m\u001b[3m19737\u001b[0m\u001b[3m \u001b[0m\u001b[3m \u001b[0m\u001b[3m \u001b[0m\u001b[3mANNO XXXIII\u001b[0m\u001b[3m                 \u001b[0m\u001b[3m \u001b[0m\u001b[3m \u001b[0m\u001b[3m \u001b[0m\u001b[3msn85066408_1919-12-22_ed-1_se\u001b[0m\u001b[3m \u001b[0m\u001b[3m \u001b[0m\u001b[3m \u001b[0m  │\n",
       "│  \u001b[1m       \u001b[0m \u001b[3m \u001b[0m\u001b[3m \u001b[0m\u001b[3m \u001b[0m\u001b[3m7252\u001b[0m\u001b[3m \u001b[0m\u001b[3m \u001b[0m\u001b[3m \u001b[0m\u001b[3mL'Italia/sn85066408_1919-12-2\u001b[0m\u001b[3m \u001b[0m\u001b[3m \u001b[0m\u001b[3m \u001b[0m\u001b[3mtext/plain\u001b[0m\u001b[3m \u001b[0m\u001b[3m \u001b[0m\u001b[3m \u001b[0m\u001b[3m21267\u001b[0m\u001b[3m \u001b[0m\u001b[3m \u001b[0m\u001b[3m \u001b[0m\u001b[3mANNO XXXIII\u001b[0m\u001b[3m                 \u001b[0m\u001b[3m \u001b[0m\u001b[3m \u001b[0m\u001b[3m \u001b[0m\u001b[3msn85066408_1919-12-23_ed-1_se\u001b[0m\u001b[3m \u001b[0m\u001b[3m \u001b[0m\u001b[3m \u001b[0m  │\n",
       "│  \u001b[1m       \u001b[0m \u001b[3m \u001b[0m\u001b[3m \u001b[0m\u001b[3m \u001b[0m\u001b[3m7253\u001b[0m\u001b[3m \u001b[0m\u001b[3m \u001b[0m\u001b[3m \u001b[0m\u001b[3mL'Italia/sn85066408_1919-12-2\u001b[0m\u001b[3m \u001b[0m\u001b[3m \u001b[0m\u001b[3m \u001b[0m\u001b[3mtext/plain\u001b[0m\u001b[3m \u001b[0m\u001b[3m \u001b[0m\u001b[3m \u001b[0m\u001b[3m19738\u001b[0m\u001b[3m \u001b[0m\u001b[3m \u001b[0m\u001b[3m \u001b[0m\u001b[3mANNO XXXIII\u001b[0m\u001b[3m                 \u001b[0m\u001b[3m \u001b[0m\u001b[3m \u001b[0m\u001b[3m \u001b[0m\u001b[3msn85066408_1919-12-24_ed-1_se\u001b[0m\u001b[3m \u001b[0m\u001b[3m \u001b[0m\u001b[3m \u001b[0m  │\n",
       "│  \u001b[1m       \u001b[0m \u001b[3m \u001b[0m\u001b[3m \u001b[0m\u001b[3m \u001b[0m\u001b[3m7254\u001b[0m\u001b[3m \u001b[0m\u001b[3m \u001b[0m\u001b[3m \u001b[0m\u001b[3mL'Italia/sn85066408_1919-12-2\u001b[0m\u001b[3m \u001b[0m\u001b[3m \u001b[0m\u001b[3m \u001b[0m\u001b[3mtext/plain\u001b[0m\u001b[3m \u001b[0m\u001b[3m \u001b[0m\u001b[3m \u001b[0m\u001b[3m23539\u001b[0m\u001b[3m \u001b[0m\u001b[3m \u001b[0m\u001b[3m \u001b[0m\u001b[3mANNO XXXI li-\u001b[0m\u001b[3m               \u001b[0m\u001b[3m \u001b[0m\u001b[3m \u001b[0m\u001b[3m \u001b[0m\u001b[3msn85066408_1919-12-25_ed-1_se\u001b[0m\u001b[3m \u001b[0m\u001b[3m \u001b[0m\u001b[3m \u001b[0m  │\n",
       "│  \u001b[1m       \u001b[0m \u001b[3m \u001b[0m\u001b[3m \u001b[0m\u001b[3m \u001b[0m\u001b[3m7255\u001b[0m\u001b[3m \u001b[0m\u001b[3m \u001b[0m\u001b[3m \u001b[0m\u001b[3mL'Italia/sn85066408_1919-12-2\u001b[0m\u001b[3m \u001b[0m\u001b[3m \u001b[0m\u001b[3m \u001b[0m\u001b[3mtext/plain\u001b[0m\u001b[3m \u001b[0m\u001b[3m \u001b[0m\u001b[3m \u001b[0m\u001b[3m20528\u001b[0m\u001b[3m \u001b[0m\u001b[3m \u001b[0m\u001b[3m \u001b[0m\u001b[3mANNO XXXIII\u001b[0m\u001b[3m                 \u001b[0m\u001b[3m \u001b[0m\u001b[3m \u001b[0m\u001b[3m \u001b[0m\u001b[3msn85066408_1919-12-27_ed-1_se\u001b[0m\u001b[3m \u001b[0m\u001b[3m \u001b[0m\u001b[3m \u001b[0m  │\n",
       "│  \u001b[1m       \u001b[0m \u001b[3m \u001b[0m\u001b[3m \u001b[0m\u001b[3m \u001b[0m\u001b[3m7256\u001b[0m\u001b[3m \u001b[0m\u001b[3m \u001b[0m\u001b[3m \u001b[0m\u001b[3mL'Italia/sn85066408_1919-12-2\u001b[0m\u001b[3m \u001b[0m\u001b[3m \u001b[0m\u001b[3m \u001b[0m\u001b[3mtext/plain\u001b[0m\u001b[3m \u001b[0m\u001b[3m \u001b[0m\u001b[3m \u001b[0m\u001b[3m19818\u001b[0m\u001b[3m \u001b[0m\u001b[3m \u001b[0m\u001b[3m \u001b[0m\u001b[3mPATRIA e umanità*\u001b[0m\u001b[3m           \u001b[0m\u001b[3m \u001b[0m\u001b[3m \u001b[0m\u001b[3m \u001b[0m\u001b[3msn85066408_1919-12-28_ed-1_se\u001b[0m\u001b[3m \u001b[0m\u001b[3m \u001b[0m\u001b[3m \u001b[0m  │\n",
       "│  \u001b[1m       \u001b[0m \u001b[3m \u001b[0m\u001b[3m \u001b[0m\u001b[3m \u001b[0m\u001b[3m7257\u001b[0m\u001b[3m \u001b[0m\u001b[3m \u001b[0m\u001b[3m \u001b[0m\u001b[3mL'Italia/sn85066408_1919-12-2\u001b[0m\u001b[3m \u001b[0m\u001b[3m \u001b[0m\u001b[3m \u001b[0m\u001b[3mtext/plain\u001b[0m\u001b[3m \u001b[0m\u001b[3m \u001b[0m\u001b[3m \u001b[0m\u001b[3m21006\u001b[0m\u001b[3m \u001b[0m\u001b[3m \u001b[0m\u001b[3m \u001b[0m\u001b[3mANNO XXXIII*\u001b[0m\u001b[3m                \u001b[0m\u001b[3m \u001b[0m\u001b[3m \u001b[0m\u001b[3m \u001b[0m\u001b[3msn85066408_1919-12-29_ed-1_se\u001b[0m\u001b[3m \u001b[0m\u001b[3m \u001b[0m\u001b[3m \u001b[0m  │\n",
       "│  \u001b[1m       \u001b[0m \u001b[3m \u001b[0m\u001b[3m \u001b[0m\u001b[3m \u001b[0m\u001b[3m7258\u001b[0m\u001b[3m \u001b[0m\u001b[3m \u001b[0m\u001b[3m \u001b[0m\u001b[3mL'Italia/sn85066408_1919-12-3\u001b[0m\u001b[3m \u001b[0m\u001b[3m \u001b[0m\u001b[3m \u001b[0m\u001b[3mtext/plain\u001b[0m\u001b[3m \u001b[0m\u001b[3m \u001b[0m\u001b[3m \u001b[0m\u001b[3m19627\u001b[0m\u001b[3m \u001b[0m\u001b[3m \u001b[0m\u001b[3m \u001b[0m\u001b[3mANNO XXXIII-\u001b[0m\u001b[3m                \u001b[0m\u001b[3m \u001b[0m\u001b[3m \u001b[0m\u001b[3m \u001b[0m\u001b[3msn85066408_1919-12-30_ed-1_se\u001b[0m\u001b[3m \u001b[0m\u001b[3m \u001b[0m\u001b[3m \u001b[0m  │\n",
       "│  \u001b[1m       \u001b[0m \u001b[3m \u001b[0m\u001b[3m \u001b[0m\u001b[3m \u001b[0m\u001b[3m7259\u001b[0m\u001b[3m \u001b[0m\u001b[3m \u001b[0m\u001b[3m \u001b[0m\u001b[3mL'Italia/sn85066408_1919-12-3\u001b[0m\u001b[3m \u001b[0m\u001b[3m \u001b[0m\u001b[3m \u001b[0m\u001b[3mtext/plain\u001b[0m\u001b[3m \u001b[0m\u001b[3m \u001b[0m\u001b[3m \u001b[0m\u001b[3m23636\u001b[0m\u001b[3m \u001b[0m\u001b[3m \u001b[0m\u001b[3m \u001b[0m\u001b[3m\\\\\\ll XXXIII\u001b[0m\u001b[3m                \u001b[0m\u001b[3m \u001b[0m\u001b[3m \u001b[0m\u001b[3m \u001b[0m\u001b[3msn85066408_1919-12-31_ed-1_se\u001b[0m\u001b[3m \u001b[0m\u001b[3m \u001b[0m\u001b[3m \u001b[0m  │\n",
       "│  \u001b[1m       \u001b[0m \u001b[3m \u001b[0m\u001b[3m                                                                                                                            \u001b[0m\u001b[3m \u001b[0m  │\n",
       "│                                                                                                                                          │\n",
       "╰──────────────────────────────────────────────────────────────────────────────────────────────────────────────────────────────────────────╯\n"
      ]
     },
     "execution_count": 13,
     "metadata": {},
     "output_type": "execute_result"
    }
   ],
   "source": [
    "create_table_from_bundle_results"
   ]
  },
  {
   "cell_type": "markdown",
   "metadata": {},
   "source": [
    "## 2. Tokenize corpus"
   ]
  },
  {
   "cell_type": "code",
   "execution_count": 14,
   "metadata": {},
   "outputs": [
    {
     "name": "stdout",
     "output_type": "stream",
     "text": [
      "\n",
      "╭─ Operation: \u001b[1;3mtopic_modelling.tokenize_array\u001b[0m ──────────────────────────────────╮\n",
      "│                                                                              │\n",
      "│  \u001b[3m \u001b[0m\u001b[3mDocumentation\u001b[0m\u001b[3m \u001b[0m  This module creates tokens from an array or from a         │\n",
      "│  \u001b[3m               \u001b[0m  table.                                                     │\n",
      "│  \u001b[3m               \u001b[0m                                                             │\n",
      "│  \u001b[3m               \u001b[0m  It returns a table containing the initial array or         │\n",
      "│  \u001b[3m               \u001b[0m  table, and the tokens as a new column. It is possible to   │\n",
      "│  \u001b[3m               \u001b[0m  tokenize by word or by character. If not specified,        │\n",
      "│  \u001b[3m               \u001b[0m  tokenization is done by word.                              │\n",
      "│  \u001b[3m               \u001b[0m                                                             │\n",
      "│  \u001b[3m               \u001b[0m  Dependencies:                                              │\n",
      "│  \u001b[3m               \u001b[0m                                                             │\n",
      "│  \u001b[3m               \u001b[0m  \u001b[1;33m • \u001b[0mNLTK: https://www.nltk.org/                             │\n",
      "│                                                                              │\n",
      "│  \u001b[3m \u001b[0m\u001b[3mInputs       \u001b[0m\u001b[3m \u001b[0m                                                             │\n",
      "│  \u001b[3m               \u001b[0m   \u001b[1m \u001b[0m\u001b[1mfield   \u001b[0m\u001b[1m \u001b[0m \u001b[1m         \u001b[0m \u001b[1m          \u001b[0m \u001b[1m          \u001b[0m \u001b[1m           \u001b[0m    │\n",
      "│  \u001b[3m               \u001b[0m   \u001b[1m \u001b[0m\u001b[1mname    \u001b[0m\u001b[1m \u001b[0m \u001b[1m \u001b[0m\u001b[1mtype   \u001b[0m\u001b[1m \u001b[0m \u001b[1m \u001b[0m\u001b[1mdescrip…\u001b[0m\u001b[1m \u001b[0m \u001b[1m \u001b[0m\u001b[1mRequired\u001b[0m\u001b[1m \u001b[0m \u001b[1m \u001b[0m\u001b[1mDefault  \u001b[0m\u001b[1m \u001b[0m    │\n",
      "│  \u001b[3m               \u001b[0m   ──────────────────────────────────────────────────────    │\n",
      "│  \u001b[3m               \u001b[0m   \u001b[3m \u001b[0m\u001b[3mcorpus_a\u001b[0m\u001b[3m \u001b[0m  array     Array      \u001b[1myes\u001b[0m        -- no         │\n",
      "│  \u001b[3m               \u001b[0m   \u001b[3m \u001b[0m\u001b[3mrray    \u001b[0m\u001b[3m \u001b[0m            that                  default       │\n",
      "│  \u001b[3m               \u001b[0m   \u001b[3m          \u001b[0m            contains              --            │\n",
      "│  \u001b[3m               \u001b[0m   \u001b[3m          \u001b[0m            the text                            │\n",
      "│  \u001b[3m               \u001b[0m   \u001b[3m          \u001b[0m            to                                  │\n",
      "│  \u001b[3m               \u001b[0m   \u001b[3m          \u001b[0m            tokeniz…                            │\n",
      "│  \u001b[3m               \u001b[0m   \u001b[3m \u001b[0m\u001b[3mtokenize\u001b[0m\u001b[3m \u001b[0m  boolean   Tokeniz…   no         False         │\n",
      "│  \u001b[3m               \u001b[0m   \u001b[3m \u001b[0m\u001b[3m_by_char\u001b[0m\u001b[3m \u001b[0m                                                │\n",
      "│  \u001b[3m               \u001b[0m   \u001b[3m \u001b[0m\u001b[3macter   \u001b[0m\u001b[3m \u001b[0m                                                │\n",
      "│  \u001b[3m               \u001b[0m                                                             │\n",
      "│                                                                              │\n",
      "│  \u001b[3m \u001b[0m\u001b[3mOutputs      \u001b[0m\u001b[3m \u001b[0m                                                             │\n",
      "│  \u001b[3m               \u001b[0m   \u001b[1m \u001b[0m\u001b[1mfield name  \u001b[0m\u001b[1m \u001b[0m \u001b[1m \u001b[0m\u001b[1mtype \u001b[0m\u001b[1m \u001b[0m \u001b[1m \u001b[0m\u001b[1mdescription                  \u001b[0m\u001b[1m \u001b[0m    │\n",
      "│  \u001b[3m               \u001b[0m   ──────────────────────────────────────────────────────    │\n",
      "│  \u001b[3m               \u001b[0m   \u001b[3m \u001b[0m\u001b[3mtokens_array\u001b[0m\u001b[3m \u001b[0m  array   The tokenized array.              │\n",
      "│  \u001b[3m               \u001b[0m                                                             │\n",
      "│                                                                              │\n",
      "╰──────────────────────────────────────────────────────────────────────────────╯\n"
     ]
    }
   ],
   "source": [
    "! kiara operation explain topic_modelling.tokenize_array"
   ]
  },
  {
   "cell_type": "markdown",
   "metadata": {},
   "source": [
    "We start by getting an array from the table that contains the content to tokenize."
   ]
  },
  {
   "cell_type": "code",
   "execution_count": 15,
   "metadata": {},
   "outputs": [
    {
     "name": "stdout",
     "output_type": "stream",
     "text": [
      "\n",
      "╭─ Operation: \u001b[1;3mtable.pick.column\u001b[0m ───────────────────────────────────────────────╮\n",
      "│                                                                              │\n",
      "│  \u001b[3m \u001b[0m\u001b[3mDocumentation\u001b[0m\u001b[3m \u001b[0m  Pick one column from a table, returning an array.          │\n",
      "│                                                                              │\n",
      "│  \u001b[3m \u001b[0m\u001b[3mInputs       \u001b[0m\u001b[3m \u001b[0m                                                             │\n",
      "│  \u001b[3m               \u001b[0m   \u001b[1m \u001b[0m\u001b[1mfield    \u001b[0m\u001b[1m \u001b[0m \u001b[1m        \u001b[0m \u001b[1m           \u001b[0m \u001b[1m          \u001b[0m \u001b[1m          \u001b[0m    │\n",
      "│  \u001b[3m               \u001b[0m   \u001b[1m \u001b[0m\u001b[1mname     \u001b[0m\u001b[1m \u001b[0m \u001b[1m \u001b[0m\u001b[1mtype  \u001b[0m\u001b[1m \u001b[0m \u001b[1m \u001b[0m\u001b[1mdescript…\u001b[0m\u001b[1m \u001b[0m \u001b[1m \u001b[0m\u001b[1mRequired\u001b[0m\u001b[1m \u001b[0m \u001b[1m \u001b[0m\u001b[1mDefault \u001b[0m\u001b[1m \u001b[0m    │\n",
      "│  \u001b[3m               \u001b[0m   ──────────────────────────────────────────────────────    │\n",
      "│  \u001b[3m               \u001b[0m   \u001b[3m \u001b[0m\u001b[3mtable    \u001b[0m\u001b[3m \u001b[0m  table    A table.    \u001b[1myes\u001b[0m        -- no        │\n",
      "│  \u001b[3m               \u001b[0m   \u001b[3m           \u001b[0m                                  default      │\n",
      "│  \u001b[3m               \u001b[0m   \u001b[3m           \u001b[0m                                  --           │\n",
      "│  \u001b[3m               \u001b[0m   \u001b[3m \u001b[0m\u001b[3mcolumn_na\u001b[0m\u001b[3m \u001b[0m  string   The name    \u001b[1myes\u001b[0m        -- no        │\n",
      "│  \u001b[3m               \u001b[0m   \u001b[3m \u001b[0m\u001b[3mme       \u001b[0m\u001b[3m \u001b[0m           of the                 default      │\n",
      "│  \u001b[3m               \u001b[0m   \u001b[3m           \u001b[0m           column to              --           │\n",
      "│  \u001b[3m               \u001b[0m   \u001b[3m           \u001b[0m           extract.                            │\n",
      "│  \u001b[3m               \u001b[0m                                                             │\n",
      "│                                                                              │\n",
      "│  \u001b[3m \u001b[0m\u001b[3mOutputs      \u001b[0m\u001b[3m \u001b[0m                                                             │\n",
      "│  \u001b[3m               \u001b[0m   \u001b[1m \u001b[0m\u001b[1mfield name\u001b[0m\u001b[1m \u001b[0m \u001b[1m \u001b[0m\u001b[1mtype \u001b[0m\u001b[1m \u001b[0m \u001b[1m \u001b[0m\u001b[1mdescription                    \u001b[0m\u001b[1m \u001b[0m    │\n",
      "│  \u001b[3m               \u001b[0m   ──────────────────────────────────────────────────────    │\n",
      "│  \u001b[3m               \u001b[0m   \u001b[3m \u001b[0m\u001b[3marray     \u001b[0m\u001b[3m \u001b[0m  array   The column.                         │\n",
      "│  \u001b[3m               \u001b[0m                                                             │\n",
      "│                                                                              │\n",
      "╰──────────────────────────────────────────────────────────────────────────────╯\n"
     ]
    }
   ],
   "source": [
    "! kiara operation explain table.pick.column"
   ]
  },
  {
   "cell_type": "code",
   "execution_count": 16,
   "metadata": {},
   "outputs": [],
   "source": [
    "pick_column_inputs = {\n",
    "    \"table\": create_table_from_bundle_results['table'],\n",
    "    \"column_name\": \"content\"   \n",
    "}"
   ]
  },
  {
   "cell_type": "code",
   "execution_count": 17,
   "metadata": {},
   "outputs": [],
   "source": [
    "pick_column_results = kiara.run_job('table.pick.column', inputs=pick_column_inputs, comment = \" \")"
   ]
  },
  {
   "cell_type": "markdown",
   "metadata": {},
   "source": [
    "We can now use the array as input for the tokenize_array operation."
   ]
  },
  {
   "cell_type": "code",
   "execution_count": 18,
   "metadata": {},
   "outputs": [],
   "source": [
    "tokenize_array_inputs = {\n",
    "    \"corpus_array\": pick_column_results['array'],\n",
    "    \"column_name\": \"content\"   \n",
    "}"
   ]
  },
  {
   "cell_type": "code",
   "execution_count": 19,
   "metadata": {},
   "outputs": [
    {
     "name": "stderr",
     "output_type": "stream",
     "text": [
      "[nltk_data] Downloading package punkt to\n",
      "[nltk_data]     /Users/mariella.decrouychan/nltk_data...\n",
      "[nltk_data]   Package punkt is already up-to-date!\n"
     ]
    }
   ],
   "source": [
    "tokenize_array_results = kiara.run_job('topic_modelling.tokenize_array', inputs=tokenize_array_inputs, comment= \" \")"
   ]
  },
  {
   "cell_type": "code",
   "execution_count": 20,
   "metadata": {},
   "outputs": [
    {
     "data": {
      "text/html": [
       "<pre style=\"white-space:pre;overflow-x:auto;line-height:normal;font-family:Menlo,'DejaVu Sans Mono',consolas,'Courier New',monospace\">╭──────────────────────────────────────────────────────────────────────────────────────────────────────────────────────────────────────────╮\n",
       "│                                                                                                                                          │\n",
       "│  <span style=\"font-weight: bold\"> field        </span> <span style=\"font-weight: bold\"> value                                                                                    </span>                               │\n",
       "│  ─────────────────────────────────────────────────────────────────────────────────────────────────────────                               │\n",
       "│  <span style=\"font-weight: bold\"> tokens_array </span> <span style=\"font-style: italic\">                                                                                          </span>                               │\n",
       "│  <span style=\"font-weight: bold\">              </span> <span style=\"font-style: italic\">   ['LI', '1,111', '``', \"''\", \"''\", \"''\", '?', '$', ':', 'NUMERO', '1.', 'li', '!' ...   </span>                               │\n",
       "│  <span style=\"font-weight: bold\">              </span> <span style=\"font-style: italic\">   ['Ebdomadario', 'anarchico', 'di', 'propaganda', 'rivoluzionaria', '.', 'XJt', ' ...   </span>                               │\n",
       "│  <span style=\"font-weight: bold\">              </span> <span style=\"font-style: italic\">   ['ANNO', 'I.', 'NUMERO', '31', 'VVER', 'Ebdomadario', 'anarchico', 'di', 'propag ...   </span>                               │\n",
       "│  <span style=\"font-weight: bold\">              </span> <span style=\"font-style: italic\">   ['Ebdomadàrio', 'anarchico', 'di', 'propaganda', 'rivoluzionaria', '.', 'Ut', 'r ...   </span>                               │\n",
       "│  <span style=\"font-weight: bold\">              </span> <span style=\"font-style: italic\">   ['NUMERO', '5', 'Ebdomadario', 'anarchico', 'di', 'propaganda', 'rivoluzionaria' ...   </span>                               │\n",
       "│  <span style=\"font-weight: bold\">              </span> <span style=\"font-style: italic\">   ['ANNO', 'I.', 'KtJ', 'SIERO', '8', 'Ebdomadario', 'anarchico', 'di', 'propagand ...   </span>                               │\n",
       "│  <span style=\"font-weight: bold\">              </span> <span style=\"font-style: italic\">   ['ANNO', 'I.', 'NUMEHO', '9', 'Ebdomadario', 'anarchico', 'di', 'propaganda', 'r ...   </span>                               │\n",
       "│  <span style=\"font-weight: bold\">              </span> <span style=\"font-style: italic\">   ['Ciac', 'vtj', \"'\", 'y', 'inn', 'NUMERO', '10', 'Ebdomadario', 'anarchico', 'di ...   </span>                               │\n",
       "│  <span style=\"font-weight: bold\">              </span> <span style=\"font-style: italic\">   ['NUMERO', '11', 'Ebdomadario', 'anarchico', 'di', 'propaganda', 'rivoluzionaria ...   </span>                               │\n",
       "│  <span style=\"font-weight: bold\">              </span> <span style=\"font-style: italic\">   ['Ebdomadario', 'anarchico', 'di', 'propaganda', ':', 'rivoluzionaria', '.', 'Ut ...   </span>                               │\n",
       "│  <span style=\"font-weight: bold\">              </span> <span style=\"font-style: italic\">   ['SUMERO', '13', 'Ebdomadario', 'anarchico', 'di', 'propaganda', 'rivoluzionaria ...   </span>                               │\n",
       "│  <span style=\"font-weight: bold\">              </span> <span style=\"font-style: italic\">   ['Ebdomadario', 'anarchico', 'di', 'propaganda', 'rh', '.', \"'-'-\", \"'\", '--', \" ...   </span>                               │\n",
       "│  <span style=\"font-weight: bold\">              </span> <span style=\"font-style: italic\">   ['ANNO', 'I.', 'NUMERO', '15', '-', 'Ebdomadario', 'anarchico', 'di', 'propagand ...   </span>                               │\n",
       "│  <span style=\"font-weight: bold\">              </span> <span style=\"font-style: italic\">   ['ANNO', 'I.', 'NtLNJEKO', '16', 'SOVVERSIVA', 'Ebdomadario', 'anarchico', 'di', ...   </span>                               │\n",
       "│  <span style=\"font-weight: bold\">              </span> <span style=\"font-style: italic\">   ['NUMERO', '17', 'Ebdomadario', 'anarchico', 'di', 'propaganda', 'rivoluzionaria ...   </span>                               │\n",
       "│  <span style=\"font-weight: bold\">              </span> <span style=\"font-style: italic\">   ['li', 'ANNO', 'I.', 'NUMERO', '1S', '....', '.', 'Ebdomadario', 'anarchico', 'd ...   </span>                               │\n",
       "│  <span style=\"font-weight: bold\">              </span> <span style=\"font-style: italic\">   ...                                                                                    </span>                               │\n",
       "│  <span style=\"font-weight: bold\">              </span> <span style=\"font-style: italic\">   ...                                                                                    </span>                               │\n",
       "│  <span style=\"font-weight: bold\">              </span> <span style=\"font-style: italic\">   ['ANNO', 'XXXIII-', '«', 'PATRIA', 'E', 'UMANITÀ', '’', 'li', 'Piu', '*', 'Vecch ...   </span>                               │\n",
       "│  <span style=\"font-weight: bold\">              </span> <span style=\"font-style: italic\">   ['anno', 'xxxiii', '.', 'PATRIA', 'E', \"UMANITÀ'\", 'Il', 'Piu', '’', 'Vecchio',  ...   </span>                               │\n",
       "│  <span style=\"font-weight: bold\">              </span> <span style=\"font-style: italic\">   ['ANNO', 'XXXIII', 'PATRIA', 'E', 'UMANITÀ', '’', 'Il', 'Piu', '*', 'Vecchio', ' ...   </span>                               │\n",
       "│  <span style=\"font-weight: bold\">              </span> <span style=\"font-style: italic\">   ['anno', 'xxxiil', 'PATRIA', 'E', \"UMANITÀ'\", 'Il', 'Phi', '*', 'Vecchio', 'e',  ...   </span>                               │\n",
       "│  <span style=\"font-weight: bold\">              </span> <span style=\"font-style: italic\">   ['anno', 'XXXIII-', 'PATRIA', 'E', 'UMANITÀ', '’', 'Il', 'Piu', '’', 'Vecchio',  ...   </span>                               │\n",
       "│  <span style=\"font-weight: bold\">              </span> <span style=\"font-style: italic\">   ['anno', 'xxxiii-', 'PATRIA', 'E', 'UMANITÀ', '’', 'Il', 'Piu', '’', 'Vecchio',  ...   </span>                               │\n",
       "│  <span style=\"font-weight: bold\">              </span> <span style=\"font-style: italic\">   ['FIRST', 'SECTION', 'anno', 'XXXIII-', 'PATRIA', 'E', 'UMANITÀ', '’', 'Il', 'Pi ...   </span>                               │\n",
       "│  <span style=\"font-weight: bold\">              </span> <span style=\"font-style: italic\">   ['ANNO', 'XXXIII', 'PATRIA', 'E', 'UMANITÀ', '»', 'Il', 'Piu', '*', 'Vecchio', ' ...   </span>                               │\n",
       "│  <span style=\"font-weight: bold\">              </span> <span style=\"font-style: italic\">   ['ANNO', 'XXXIII', 'PATRIA', 'E', 'UMANITÀ', '’', 'Il', 'Piu', '’', 'Vecchio', ' ...   </span>                               │\n",
       "│  <span style=\"font-weight: bold\">              </span> <span style=\"font-style: italic\">   ['ANNO', 'XXXIII', 'PATRIA', 'E', 'UMANITÀ', '’', 'Il', 'Piu', '’', 'Vecchio', ' ...   </span>                               │\n",
       "│  <span style=\"font-weight: bold\">              </span> <span style=\"font-style: italic\">   ['ANNO', 'XXXI', 'li-', 'PATRIA', 'E', 'UMANITÀ', '’', 'Il', 'Piu', '*', 'Vecchi ...   </span>                               │\n",
       "│  <span style=\"font-weight: bold\">              </span> <span style=\"font-style: italic\">   ['ANNO', 'XXXIII', 'PATRIA', 'E', 'UMANITÀ', '’', 'li', 'PUT', 'Vecchio', 'e', ' ...   </span>                               │\n",
       "│  <span style=\"font-weight: bold\">              </span> <span style=\"font-style: italic\">   ['PATRIA', 'e', 'umanità', '*', 'il', 'Piu', '’', 'Vecchio', 'e', 'Diffuso', 'Qu ...   </span>                               │\n",
       "│  <span style=\"font-weight: bold\">              </span> <span style=\"font-style: italic\">   ['ANNO', 'XXXIII', '*', 'PATRIA', 'E', 'UMANITÀ', '’', 'li', 'Piu', '*', 'Vecchi ...   </span>                               │\n",
       "│  <span style=\"font-weight: bold\">              </span> <span style=\"font-style: italic\">   ['ANNO', 'XXXIII-', 'PATRIA', 'E', 'UMANITÀ', '’', 'Il', 'Piu', '’', 'Vecchio',  ...   </span>                               │\n",
       "│  <span style=\"font-weight: bold\">              </span> <span style=\"font-style: italic\">   ['\\\\\\\\\\\\ll', 'XXXIII', 'PATRIA', 'E', 'UMANITÀ', '’', 'Il', 'Piu', '’', 'Vecchio ...   </span>                               │\n",
       "│  <span style=\"font-weight: bold\">              </span> <span style=\"font-style: italic\">                                                                                          </span>                               │\n",
       "│                                                                                                                                          │\n",
       "╰──────────────────────────────────────────────────────────────────────────────────────────────────────────────────────────────────────────╯\n",
       "</pre>\n"
      ],
      "text/plain": [
       "╭──────────────────────────────────────────────────────────────────────────────────────────────────────────────────────────────────────────╮\n",
       "│                                                                                                                                          │\n",
       "│  \u001b[1m \u001b[0m\u001b[1mfield       \u001b[0m\u001b[1m \u001b[0m \u001b[1m \u001b[0m\u001b[1mvalue                                                                                   \u001b[0m\u001b[1m \u001b[0m                               │\n",
       "│  ─────────────────────────────────────────────────────────────────────────────────────────────────────────                               │\n",
       "│  \u001b[1m \u001b[0m\u001b[1mtokens_array\u001b[0m\u001b[1m \u001b[0m \u001b[3m \u001b[0m\u001b[3m                                                                                        \u001b[0m\u001b[3m \u001b[0m                               │\n",
       "│  \u001b[1m              \u001b[0m \u001b[3m \u001b[0m\u001b[3m \u001b[0m\u001b[3m \u001b[0m\u001b[3m['LI', '1,111', '``', \"''\", \"''\", \"''\", '?', '$', ':', 'NUMERO', '1.', 'li', '!' ...\u001b[0m\u001b[3m \u001b[0m\u001b[3m \u001b[0m\u001b[3m \u001b[0m                               │\n",
       "│  \u001b[1m              \u001b[0m \u001b[3m \u001b[0m\u001b[3m \u001b[0m\u001b[3m \u001b[0m\u001b[3m['Ebdomadario', 'anarchico', 'di', 'propaganda', 'rivoluzionaria', '.', 'XJt', ' ...\u001b[0m\u001b[3m \u001b[0m\u001b[3m \u001b[0m\u001b[3m \u001b[0m                               │\n",
       "│  \u001b[1m              \u001b[0m \u001b[3m \u001b[0m\u001b[3m \u001b[0m\u001b[3m \u001b[0m\u001b[3m['ANNO', 'I.', 'NUMERO', '31', 'VVER', 'Ebdomadario', 'anarchico', 'di', 'propag ...\u001b[0m\u001b[3m \u001b[0m\u001b[3m \u001b[0m\u001b[3m \u001b[0m                               │\n",
       "│  \u001b[1m              \u001b[0m \u001b[3m \u001b[0m\u001b[3m \u001b[0m\u001b[3m \u001b[0m\u001b[3m['Ebdomadàrio', 'anarchico', 'di', 'propaganda', 'rivoluzionaria', '.', 'Ut', 'r ...\u001b[0m\u001b[3m \u001b[0m\u001b[3m \u001b[0m\u001b[3m \u001b[0m                               │\n",
       "│  \u001b[1m              \u001b[0m \u001b[3m \u001b[0m\u001b[3m \u001b[0m\u001b[3m \u001b[0m\u001b[3m['NUMERO', '5', 'Ebdomadario', 'anarchico', 'di', 'propaganda', 'rivoluzionaria' ...\u001b[0m\u001b[3m \u001b[0m\u001b[3m \u001b[0m\u001b[3m \u001b[0m                               │\n",
       "│  \u001b[1m              \u001b[0m \u001b[3m \u001b[0m\u001b[3m \u001b[0m\u001b[3m \u001b[0m\u001b[3m['ANNO', 'I.', 'KtJ', 'SIERO', '8', 'Ebdomadario', 'anarchico', 'di', 'propagand ...\u001b[0m\u001b[3m \u001b[0m\u001b[3m \u001b[0m\u001b[3m \u001b[0m                               │\n",
       "│  \u001b[1m              \u001b[0m \u001b[3m \u001b[0m\u001b[3m \u001b[0m\u001b[3m \u001b[0m\u001b[3m['ANNO', 'I.', 'NUMEHO', '9', 'Ebdomadario', 'anarchico', 'di', 'propaganda', 'r ...\u001b[0m\u001b[3m \u001b[0m\u001b[3m \u001b[0m\u001b[3m \u001b[0m                               │\n",
       "│  \u001b[1m              \u001b[0m \u001b[3m \u001b[0m\u001b[3m \u001b[0m\u001b[3m \u001b[0m\u001b[3m['Ciac', 'vtj', \"'\", 'y', 'inn', 'NUMERO', '10', 'Ebdomadario', 'anarchico', 'di ...\u001b[0m\u001b[3m \u001b[0m\u001b[3m \u001b[0m\u001b[3m \u001b[0m                               │\n",
       "│  \u001b[1m              \u001b[0m \u001b[3m \u001b[0m\u001b[3m \u001b[0m\u001b[3m \u001b[0m\u001b[3m['NUMERO', '11', 'Ebdomadario', 'anarchico', 'di', 'propaganda', 'rivoluzionaria ...\u001b[0m\u001b[3m \u001b[0m\u001b[3m \u001b[0m\u001b[3m \u001b[0m                               │\n",
       "│  \u001b[1m              \u001b[0m \u001b[3m \u001b[0m\u001b[3m \u001b[0m\u001b[3m \u001b[0m\u001b[3m['Ebdomadario', 'anarchico', 'di', 'propaganda', ':', 'rivoluzionaria', '.', 'Ut ...\u001b[0m\u001b[3m \u001b[0m\u001b[3m \u001b[0m\u001b[3m \u001b[0m                               │\n",
       "│  \u001b[1m              \u001b[0m \u001b[3m \u001b[0m\u001b[3m \u001b[0m\u001b[3m \u001b[0m\u001b[3m['SUMERO', '13', 'Ebdomadario', 'anarchico', 'di', 'propaganda', 'rivoluzionaria ...\u001b[0m\u001b[3m \u001b[0m\u001b[3m \u001b[0m\u001b[3m \u001b[0m                               │\n",
       "│  \u001b[1m              \u001b[0m \u001b[3m \u001b[0m\u001b[3m \u001b[0m\u001b[3m \u001b[0m\u001b[3m['Ebdomadario', 'anarchico', 'di', 'propaganda', 'rh', '.', \"'-'-\", \"'\", '--', \" ...\u001b[0m\u001b[3m \u001b[0m\u001b[3m \u001b[0m\u001b[3m \u001b[0m                               │\n",
       "│  \u001b[1m              \u001b[0m \u001b[3m \u001b[0m\u001b[3m \u001b[0m\u001b[3m \u001b[0m\u001b[3m['ANNO', 'I.', 'NUMERO', '15', '-', 'Ebdomadario', 'anarchico', 'di', 'propagand ...\u001b[0m\u001b[3m \u001b[0m\u001b[3m \u001b[0m\u001b[3m \u001b[0m                               │\n",
       "│  \u001b[1m              \u001b[0m \u001b[3m \u001b[0m\u001b[3m \u001b[0m\u001b[3m \u001b[0m\u001b[3m['ANNO', 'I.', 'NtLNJEKO', '16', 'SOVVERSIVA', 'Ebdomadario', 'anarchico', 'di', ...\u001b[0m\u001b[3m \u001b[0m\u001b[3m \u001b[0m\u001b[3m \u001b[0m                               │\n",
       "│  \u001b[1m              \u001b[0m \u001b[3m \u001b[0m\u001b[3m \u001b[0m\u001b[3m \u001b[0m\u001b[3m['NUMERO', '17', 'Ebdomadario', 'anarchico', 'di', 'propaganda', 'rivoluzionaria ...\u001b[0m\u001b[3m \u001b[0m\u001b[3m \u001b[0m\u001b[3m \u001b[0m                               │\n",
       "│  \u001b[1m              \u001b[0m \u001b[3m \u001b[0m\u001b[3m \u001b[0m\u001b[3m \u001b[0m\u001b[3m['li', 'ANNO', 'I.', 'NUMERO', '1S', '....', '.', 'Ebdomadario', 'anarchico', 'd ...\u001b[0m\u001b[3m \u001b[0m\u001b[3m \u001b[0m\u001b[3m \u001b[0m                               │\n",
       "│  \u001b[1m              \u001b[0m \u001b[3m \u001b[0m\u001b[3m \u001b[0m\u001b[3m \u001b[0m\u001b[3m...\u001b[0m\u001b[3m                                                                                 \u001b[0m\u001b[3m \u001b[0m\u001b[3m \u001b[0m\u001b[3m \u001b[0m                               │\n",
       "│  \u001b[1m              \u001b[0m \u001b[3m \u001b[0m\u001b[3m \u001b[0m\u001b[3m \u001b[0m\u001b[3m...\u001b[0m\u001b[3m                                                                                 \u001b[0m\u001b[3m \u001b[0m\u001b[3m \u001b[0m\u001b[3m \u001b[0m                               │\n",
       "│  \u001b[1m              \u001b[0m \u001b[3m \u001b[0m\u001b[3m \u001b[0m\u001b[3m \u001b[0m\u001b[3m['ANNO', 'XXXIII-', '«', 'PATRIA', 'E', 'UMANITÀ', '’', 'li', 'Piu', '*', 'Vecch ...\u001b[0m\u001b[3m \u001b[0m\u001b[3m \u001b[0m\u001b[3m \u001b[0m                               │\n",
       "│  \u001b[1m              \u001b[0m \u001b[3m \u001b[0m\u001b[3m \u001b[0m\u001b[3m \u001b[0m\u001b[3m['anno', 'xxxiii', '.', 'PATRIA', 'E', \"UMANITÀ'\", 'Il', 'Piu', '’', 'Vecchio',  ...\u001b[0m\u001b[3m \u001b[0m\u001b[3m \u001b[0m\u001b[3m \u001b[0m                               │\n",
       "│  \u001b[1m              \u001b[0m \u001b[3m \u001b[0m\u001b[3m \u001b[0m\u001b[3m \u001b[0m\u001b[3m['ANNO', 'XXXIII', 'PATRIA', 'E', 'UMANITÀ', '’', 'Il', 'Piu', '*', 'Vecchio', ' ...\u001b[0m\u001b[3m \u001b[0m\u001b[3m \u001b[0m\u001b[3m \u001b[0m                               │\n",
       "│  \u001b[1m              \u001b[0m \u001b[3m \u001b[0m\u001b[3m \u001b[0m\u001b[3m \u001b[0m\u001b[3m['anno', 'xxxiil', 'PATRIA', 'E', \"UMANITÀ'\", 'Il', 'Phi', '*', 'Vecchio', 'e',  ...\u001b[0m\u001b[3m \u001b[0m\u001b[3m \u001b[0m\u001b[3m \u001b[0m                               │\n",
       "│  \u001b[1m              \u001b[0m \u001b[3m \u001b[0m\u001b[3m \u001b[0m\u001b[3m \u001b[0m\u001b[3m['anno', 'XXXIII-', 'PATRIA', 'E', 'UMANITÀ', '’', 'Il', 'Piu', '’', 'Vecchio',  ...\u001b[0m\u001b[3m \u001b[0m\u001b[3m \u001b[0m\u001b[3m \u001b[0m                               │\n",
       "│  \u001b[1m              \u001b[0m \u001b[3m \u001b[0m\u001b[3m \u001b[0m\u001b[3m \u001b[0m\u001b[3m['anno', 'xxxiii-', 'PATRIA', 'E', 'UMANITÀ', '’', 'Il', 'Piu', '’', 'Vecchio',  ...\u001b[0m\u001b[3m \u001b[0m\u001b[3m \u001b[0m\u001b[3m \u001b[0m                               │\n",
       "│  \u001b[1m              \u001b[0m \u001b[3m \u001b[0m\u001b[3m \u001b[0m\u001b[3m \u001b[0m\u001b[3m['FIRST', 'SECTION', 'anno', 'XXXIII-', 'PATRIA', 'E', 'UMANITÀ', '’', 'Il', 'Pi ...\u001b[0m\u001b[3m \u001b[0m\u001b[3m \u001b[0m\u001b[3m \u001b[0m                               │\n",
       "│  \u001b[1m              \u001b[0m \u001b[3m \u001b[0m\u001b[3m \u001b[0m\u001b[3m \u001b[0m\u001b[3m['ANNO', 'XXXIII', 'PATRIA', 'E', 'UMANITÀ', '»', 'Il', 'Piu', '*', 'Vecchio', ' ...\u001b[0m\u001b[3m \u001b[0m\u001b[3m \u001b[0m\u001b[3m \u001b[0m                               │\n",
       "│  \u001b[1m              \u001b[0m \u001b[3m \u001b[0m\u001b[3m \u001b[0m\u001b[3m \u001b[0m\u001b[3m['ANNO', 'XXXIII', 'PATRIA', 'E', 'UMANITÀ', '’', 'Il', 'Piu', '’', 'Vecchio', ' ...\u001b[0m\u001b[3m \u001b[0m\u001b[3m \u001b[0m\u001b[3m \u001b[0m                               │\n",
       "│  \u001b[1m              \u001b[0m \u001b[3m \u001b[0m\u001b[3m \u001b[0m\u001b[3m \u001b[0m\u001b[3m['ANNO', 'XXXIII', 'PATRIA', 'E', 'UMANITÀ', '’', 'Il', 'Piu', '’', 'Vecchio', ' ...\u001b[0m\u001b[3m \u001b[0m\u001b[3m \u001b[0m\u001b[3m \u001b[0m                               │\n",
       "│  \u001b[1m              \u001b[0m \u001b[3m \u001b[0m\u001b[3m \u001b[0m\u001b[3m \u001b[0m\u001b[3m['ANNO', 'XXXI', 'li-', 'PATRIA', 'E', 'UMANITÀ', '’', 'Il', 'Piu', '*', 'Vecchi ...\u001b[0m\u001b[3m \u001b[0m\u001b[3m \u001b[0m\u001b[3m \u001b[0m                               │\n",
       "│  \u001b[1m              \u001b[0m \u001b[3m \u001b[0m\u001b[3m \u001b[0m\u001b[3m \u001b[0m\u001b[3m['ANNO', 'XXXIII', 'PATRIA', 'E', 'UMANITÀ', '’', 'li', 'PUT', 'Vecchio', 'e', ' ...\u001b[0m\u001b[3m \u001b[0m\u001b[3m \u001b[0m\u001b[3m \u001b[0m                               │\n",
       "│  \u001b[1m              \u001b[0m \u001b[3m \u001b[0m\u001b[3m \u001b[0m\u001b[3m \u001b[0m\u001b[3m['PATRIA', 'e', 'umanità', '*', 'il', 'Piu', '’', 'Vecchio', 'e', 'Diffuso', 'Qu ...\u001b[0m\u001b[3m \u001b[0m\u001b[3m \u001b[0m\u001b[3m \u001b[0m                               │\n",
       "│  \u001b[1m              \u001b[0m \u001b[3m \u001b[0m\u001b[3m \u001b[0m\u001b[3m \u001b[0m\u001b[3m['ANNO', 'XXXIII', '*', 'PATRIA', 'E', 'UMANITÀ', '’', 'li', 'Piu', '*', 'Vecchi ...\u001b[0m\u001b[3m \u001b[0m\u001b[3m \u001b[0m\u001b[3m \u001b[0m                               │\n",
       "│  \u001b[1m              \u001b[0m \u001b[3m \u001b[0m\u001b[3m \u001b[0m\u001b[3m \u001b[0m\u001b[3m['ANNO', 'XXXIII-', 'PATRIA', 'E', 'UMANITÀ', '’', 'Il', 'Piu', '’', 'Vecchio',  ...\u001b[0m\u001b[3m \u001b[0m\u001b[3m \u001b[0m\u001b[3m \u001b[0m                               │\n",
       "│  \u001b[1m              \u001b[0m \u001b[3m \u001b[0m\u001b[3m \u001b[0m\u001b[3m \u001b[0m\u001b[3m['\\\\\\\\\\\\ll', 'XXXIII', 'PATRIA', 'E', 'UMANITÀ', '’', 'Il', 'Piu', '’', 'Vecchio ...\u001b[0m\u001b[3m \u001b[0m\u001b[3m \u001b[0m\u001b[3m \u001b[0m                               │\n",
       "│  \u001b[1m              \u001b[0m \u001b[3m \u001b[0m\u001b[3m                                                                                        \u001b[0m\u001b[3m \u001b[0m                               │\n",
       "│                                                                                                                                          │\n",
       "╰──────────────────────────────────────────────────────────────────────────────────────────────────────────────────────────────────────────╯\n"
      ]
     },
     "execution_count": 20,
     "metadata": {},
     "output_type": "execute_result"
    }
   ],
   "source": [
    "tokenize_array_results"
   ]
  },
  {
   "cell_type": "code",
   "execution_count": null,
   "metadata": {},
   "outputs": [],
   "source": []
  }
 ],
 "metadata": {
  "kernelspec": {
   "display_name": "Python 3 (ipykernel)",
   "language": "python",
   "name": "python3"
  },
  "language_info": {
   "codemirror_mode": {
    "name": "ipython",
    "version": 3
   },
   "file_extension": ".py",
   "mimetype": "text/x-python",
   "name": "python",
   "nbconvert_exporter": "python",
   "pygments_lexer": "ipython3",
   "version": "3.12.3"
  }
 },
 "nbformat": 4,
 "nbformat_minor": 4
}
