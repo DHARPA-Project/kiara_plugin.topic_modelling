{
 "cells": [
  {
   "cell_type": "code",
   "execution_count": 1,
   "metadata": {},
   "outputs": [],
   "source": [
    "# install the package by running the command \"pip install git+https://github.com/DHARPA-Project/kiara_plugin.topic_modelling\"\n",
    "# in your virtual environment.\n",
    "# Alternatively, uncomment and run the line below.\n",
    "# ! pip install git+https://github.com/DHARPA-Project/kiara_plugin.topic_modelling"
   ]
  },
  {
   "cell_type": "code",
   "execution_count": 1,
   "metadata": {},
   "outputs": [],
   "source": [
    "from kiara.api import KiaraAPI\n",
    "kiara = KiaraAPI.instance()"
   ]
  },
  {
   "cell_type": "markdown",
   "metadata": {},
   "source": [
    "## 1. Data onboarding"
   ]
  },
  {
   "cell_type": "markdown",
   "metadata": {},
   "source": [
    "### 1.1. Get files from zenodo"
   ]
  },
  {
   "cell_type": "code",
   "execution_count": 2,
   "metadata": {},
   "outputs": [
    {
     "name": "stdout",
     "output_type": "stream",
     "text": [
      "\n",
      "╭─ Operation: \u001b[1;3mtopic_modelling.create_table_from_zenodo\u001b[0m ────────────────────────╮\n",
      "│                                                                              │\n",
      "│  \u001b[3m \u001b[0m\u001b[3mDocumentation\u001b[0m\u001b[3m \u001b[0m  This module retrieves text files from a specified folder   │\n",
      "│  \u001b[3m               \u001b[0m  hosted on Zenodo.                                          │\n",
      "│  \u001b[3m               \u001b[0m                                                             │\n",
      "│  \u001b[3m               \u001b[0m  It takes the DOI and the name of the file as inputs.       │\n",
      "│  \u001b[3m               \u001b[0m  It outputs a table with two columns: one for the file      │\n",
      "│  \u001b[3m               \u001b[0m  names and the other for the content of these files.        │\n",
      "│  \u001b[3m               \u001b[0m                                                             │\n",
      "│  \u001b[3m               \u001b[0m  Dependencies:                                              │\n",
      "│  \u001b[3m               \u001b[0m  - urllib.request:                                          │\n",
      "│  \u001b[3m               \u001b[0m  https://docs.python.org/3/library/urllib.request.html      │\n",
      "│  \u001b[3m               \u001b[0m  - zipfile:                                                 │\n",
      "│  \u001b[3m               \u001b[0m  https://docs.python.org/3/library/zipfile.html             │\n",
      "│  \u001b[3m               \u001b[0m  - polars: https://www.pola.rs/                             │\n",
      "│                                                                              │\n",
      "│  \u001b[3m \u001b[0m\u001b[3mInputs       \u001b[0m\u001b[3m \u001b[0m                                                             │\n",
      "│  \u001b[3m               \u001b[0m   \u001b[1m \u001b[0m\u001b[1mfield    \u001b[0m\u001b[1m \u001b[0m \u001b[1m        \u001b[0m \u001b[1m          \u001b[0m \u001b[1m          \u001b[0m \u001b[1m           \u001b[0m    │\n",
      "│  \u001b[3m               \u001b[0m   \u001b[1m \u001b[0m\u001b[1mname     \u001b[0m\u001b[1m \u001b[0m \u001b[1m \u001b[0m\u001b[1mtype  \u001b[0m\u001b[1m \u001b[0m \u001b[1m \u001b[0m\u001b[1mdescrip…\u001b[0m\u001b[1m \u001b[0m \u001b[1m \u001b[0m\u001b[1mRequired\u001b[0m\u001b[1m \u001b[0m \u001b[1m \u001b[0m\u001b[1mDefault  \u001b[0m\u001b[1m \u001b[0m    │\n",
      "│  \u001b[3m               \u001b[0m   ──────────────────────────────────────────────────────    │\n",
      "│  \u001b[3m               \u001b[0m   \u001b[3m \u001b[0m\u001b[3mdoi      \u001b[0m\u001b[3m \u001b[0m  string   The        \u001b[1myes\u001b[0m        -- no         │\n",
      "│  \u001b[3m               \u001b[0m   \u001b[3m           \u001b[0m           Digital               default       │\n",
      "│  \u001b[3m               \u001b[0m   \u001b[3m           \u001b[0m           Object                --            │\n",
      "│  \u001b[3m               \u001b[0m   \u001b[3m           \u001b[0m           Identif…                            │\n",
      "│  \u001b[3m               \u001b[0m   \u001b[3m           \u001b[0m           for the                             │\n",
      "│  \u001b[3m               \u001b[0m   \u001b[3m           \u001b[0m           resourc…                            │\n",
      "│  \u001b[3m               \u001b[0m   \u001b[3m \u001b[0m\u001b[3mfile_name\u001b[0m\u001b[3m \u001b[0m  string   The name   \u001b[1myes\u001b[0m        -- no         │\n",
      "│  \u001b[3m               \u001b[0m   \u001b[3m           \u001b[0m           of the                default       │\n",
      "│  \u001b[3m               \u001b[0m   \u001b[3m           \u001b[0m           file to               --            │\n",
      "│  \u001b[3m               \u001b[0m   \u001b[3m           \u001b[0m           be                                  │\n",
      "│  \u001b[3m               \u001b[0m   \u001b[3m           \u001b[0m           process…                            │\n",
      "│  \u001b[3m               \u001b[0m                                                             │\n",
      "│                                                                              │\n",
      "│  \u001b[3m \u001b[0m\u001b[3mOutputs      \u001b[0m\u001b[3m \u001b[0m                                                             │\n",
      "│  \u001b[3m               \u001b[0m   \u001b[1m \u001b[0m\u001b[1mfield name  \u001b[0m\u001b[1m \u001b[0m \u001b[1m \u001b[0m\u001b[1mtype \u001b[0m\u001b[1m \u001b[0m \u001b[1m \u001b[0m\u001b[1mdescription                  \u001b[0m\u001b[1m \u001b[0m    │\n",
      "│  \u001b[3m               \u001b[0m   ──────────────────────────────────────────────────────    │\n",
      "│  \u001b[3m               \u001b[0m   \u001b[3m \u001b[0m\u001b[3mcorpus_table\u001b[0m\u001b[3m \u001b[0m  table   A table with two columns:         │\n",
      "│  \u001b[3m               \u001b[0m   \u001b[3m              \u001b[0m          file names and their              │\n",
      "│  \u001b[3m               \u001b[0m   \u001b[3m              \u001b[0m          contents.                         │\n",
      "│  \u001b[3m               \u001b[0m                                                             │\n",
      "│                                                                              │\n",
      "╰──────────────────────────────────────────────────────────────────────────────╯\n"
     ]
    }
   ],
   "source": [
    "! kiara operation explain topic_modelling.create_table_from_zenodo"
   ]
  },
  {
   "cell_type": "code",
   "execution_count": 3,
   "metadata": {},
   "outputs": [],
   "source": [
    "create_table_from_zenodo_inputs = {\n",
    "    \"doi\": \"4596345\",\n",
    "    \"file_name\": \"ChroniclItaly_3.0_original.zip\"\n",
    "}"
   ]
  },
  {
   "cell_type": "code",
   "execution_count": 4,
   "metadata": {},
   "outputs": [],
   "source": [
    "create_table_from_zenodo_results = kiara.run_job('topic_modelling.create_table_from_zenodo', inputs=create_table_from_zenodo_inputs)"
   ]
  },
  {
   "cell_type": "code",
   "execution_count": 5,
   "metadata": {},
   "outputs": [
    {
     "data": {
      "text/html": [
       "<pre style=\"white-space:pre;overflow-x:auto;line-height:normal;font-family:Menlo,'DejaVu Sans Mono',consolas,'Courier New',monospace\">╭──────────────────────────────────────────────────────────────────────────────────────────────────────────────────────────────────────────╮\n",
       "│                                                                                                                                          │\n",
       "│  <span style=\"font-weight: bold\"> field        </span> <span style=\"font-weight: bold\"> value                                                                                                                 </span>  │\n",
       "│  ──────────────────────────────────────────────────────────────────────────────────────────────────────────────────────────────────────  │\n",
       "│  <span style=\"font-weight: bold\"> corpus_table </span> <span style=\"font-style: italic\">                                                                                                                       </span>  │\n",
       "│  <span style=\"font-weight: bold\">              </span> <span style=\"font-style: italic\">  </span><span style=\"font-weight: bold; font-style: italic\"> file_name                                               </span><span style=\"font-style: italic\"> </span><span style=\"font-weight: bold; font-style: italic\"> content                                                 </span><span style=\"font-style: italic\">  </span>  │\n",
       "│  <span style=\"font-weight: bold\">              </span> <span style=\"font-style: italic\">  ───────────────────────────────────────────────────────────────────────────────────────────────────────────────────  </span>  │\n",
       "│  <span style=\"font-weight: bold\">              </span> <span style=\"font-style: italic\">   CI_newspaper_subcorpora/Cronaca_Sovversiva/2012271201_1   -A Ci                                                     </span>  │\n",
       "│  <span style=\"font-weight: bold\">              </span> <span style=\"font-style: italic\">   CI_newspaper_subcorpora/Cronaca_Sovversiva/2012271201_1   This newspaper has no objection                           </span>  │\n",
       "│  <span style=\"font-weight: bold\">              </span> <span style=\"font-style: italic\">   CI_newspaper_subcorpora/Cronaca_Sovversiva/2012271201_1   4                                                         </span>  │\n",
       "│  <span style=\"font-weight: bold\">              </span> <span style=\"font-style: italic\">   CI_newspaper_subcorpora/Cronaca_Sovversiva/2012271201_1   M                                                         </span>  │\n",
       "│  <span style=\"font-weight: bold\">              </span> <span style=\"font-style: italic\">   CI_newspaper_subcorpora/Cronaca_Sovversiva/2012271201_1   This newspaper has no objection                           </span>  │\n",
       "│  <span style=\"font-weight: bold\">              </span> <span style=\"font-style: italic\">   CI_newspaper_subcorpora/Cronaca_Sovversiva/2012271201_1   This newspaper. has no bjèction                           </span>  │\n",
       "│  <span style=\"font-weight: bold\">              </span> <span style=\"font-style: italic\">   CI_newspaper_subcorpora/Cronaca_Sovversiva/2012271201_1   a !                                                       </span>  │\n",
       "│  <span style=\"font-weight: bold\">              </span> <span style=\"font-style: italic\">   CI_newspaper_subcorpora/Cronaca_Sovversiva/2012271201_1   This newspaper has no objection to filiti? with the Pos   </span>  │\n",
       "│  <span style=\"font-weight: bold\">              </span> <span style=\"font-style: italic\">   CI_newspaper_subcorpora/Cronaca_Sovversiva/2012271201_1   ANNO XVI                                                  </span>  │\n",
       "│  <span style=\"font-weight: bold\">              </span> <span style=\"font-style: italic\">   CI_newspaper_subcorpora/Cronaca_Sovversiva/2012271201_1   This newspapet, has no objection                          </span>  │\n",
       "│  <span style=\"font-weight: bold\">              </span> <span style=\"font-style: italic\">   CI_newspaper_subcorpora/Cronaca_Sovversiva/2012271201_1   Tfcis iscwspaper has no obectioa                          </span>  │\n",
       "│  <span style=\"font-weight: bold\">              </span> <span style=\"font-style: italic\">   CI_newspaper_subcorpora/Cronaca_Sovversiva/2012271201_1   !                                                         </span>  │\n",
       "│  <span style=\"font-weight: bold\">              </span> <span style=\"font-style: italic\">   CI_newspaper_subcorpora/Cronaca_Sovversiva/2012271201_1   This newspaper has no objection                           </span>  │\n",
       "│  <span style=\"font-weight: bold\">              </span> <span style=\"font-style: italic\">   CI_newspaper_subcorpora/Cronaca_Sovversiva/2012271201_1   This ncwspapcr has no objectlon to filini: with the Pos   </span>  │\n",
       "│  <span style=\"font-weight: bold\">              </span> <span style=\"font-style: italic\">   CI_newspaper_subcorpora/Cronaca_Sovversiva/2012271201_1   1                                                         </span>  │\n",
       "│  <span style=\"font-weight: bold\">              </span> <span style=\"font-style: italic\">   CI_newspaper_subcorpora/Cronaca_Sovversiva/2012271201_1   This newspaper has no objection                           </span>  │\n",
       "│  <span style=\"font-weight: bold\">              </span> <span style=\"font-style: italic\">   ...                                                       ...                                                       </span>  │\n",
       "│  <span style=\"font-weight: bold\">              </span> <span style=\"font-style: italic\">   ...                                                       ...                                                       </span>  │\n",
       "│  <span style=\"font-weight: bold\">              </span> <span style=\"font-style: italic\">   CI_newspaper_subcorpora/La_Sentinella/sn84020351_1920-0   A Cesare quel che                                         </span>  │\n",
       "│  <span style=\"font-weight: bold\">              </span> <span style=\"font-style: italic\">   CI_newspaper_subcorpora/La_Sentinella/sn84020351_1926-1   I Fatti E                                                 </span>  │\n",
       "│  <span style=\"font-weight: bold\">              </span> <span style=\"font-style: italic\">   CI_newspaper_subcorpora/La_Sentinella/sn84020351_1921-0   Il Comitato Generale Italiano                             </span>  │\n",
       "│  <span style=\"font-weight: bold\">              </span> <span style=\"font-style: italic\">   CI_newspaper_subcorpora/La_Sentinella/sn84020351_1922-1   ANCORA DI QU1GLEY!                                        </span>  │\n",
       "│  <span style=\"font-weight: bold\">              </span> <span style=\"font-style: italic\">   CI_newspaper_subcorpora/La_Sentinella/sn84020351_1925-1   R. L. VOLPE. MGR.                                         </span>  │\n",
       "│  <span style=\"font-weight: bold\">              </span> <span style=\"font-style: italic\">   CI_newspaper_subcorpora/La_Sentinella/sn84020351_1929-1   PICCOLE NOTE                                              </span>  │\n",
       "│  <span style=\"font-weight: bold\">              </span> <span style=\"font-style: italic\">   CI_newspaper_subcorpora/La_Sentinella/sn84020351_1925-0   P. ALTIERI. Editot                                        </span>  │\n",
       "│  <span style=\"font-weight: bold\">              </span> <span style=\"font-style: italic\">   CI_newspaper_subcorpora/La_Sentinella/sn84020351_1925-0   R. L. VOLPE., MGR.                                        </span>  │\n",
       "│  <span style=\"font-weight: bold\">              </span> <span style=\"font-style: italic\">   CI_newspaper_subcorpora/La_Sentinella/sn84020351_1923-0   IL CONC                                                   </span>  │\n",
       "│  <span style=\"font-weight: bold\">              </span> <span style=\"font-style: italic\">   CI_newspaper_subcorpora/La_Sentinella/sn84020351_1921-0   Published Every Saturday                                  </span>  │\n",
       "│  <span style=\"font-weight: bold\">              </span> <span style=\"font-style: italic\">   CI_newspaper_subcorpora/La_Sentinella/sn84020351_1925-0   P. ALTIERI. Editoi                                        </span>  │\n",
       "│  <span style=\"font-weight: bold\">              </span> <span style=\"font-style: italic\">   CI_newspaper_subcorpora/La_Sentinella/sn84020351_1922-0   I nuovi venuti, che hanno abilita'                        </span>  │\n",
       "│  <span style=\"font-weight: bold\">              </span> <span style=\"font-style: italic\">   CI_newspaper_subcorpora/La_Sentinella/sn84020351_1927-1   epoca ha fatto onore nor                                  </span>  │\n",
       "│  <span style=\"font-weight: bold\">              </span> <span style=\"font-style: italic\">   CI_newspaper_subcorpora/La_Sentinella/sn84020351_1921-0   By P. ALTIERI                                             </span>  │\n",
       "│  <span style=\"font-weight: bold\">              </span> <span style=\"font-style: italic\">   CI_newspaper_subcorpora/La_Sentinella/sn84020351_1922-0   Published Every Saturday                                  </span>  │\n",
       "│  <span style=\"font-weight: bold\">              </span> <span style=\"font-style: italic\">   CI_newspaper_subcorpora/La_Sentinella/sn84020351_1922-0   Sono stato fra i primi in Italia,                         </span>  │\n",
       "│  <span style=\"font-weight: bold\">              </span> <span style=\"font-style: italic\">                                                                                                                       </span>  │\n",
       "│                                                                                                                                          │\n",
       "╰──────────────────────────────────────────────────────────────────────────────────────────────────────────────────────────────────────────╯\n",
       "</pre>\n"
      ],
      "text/plain": [
       "╭──────────────────────────────────────────────────────────────────────────────────────────────────────────────────────────────────────────╮\n",
       "│                                                                                                                                          │\n",
       "│  \u001b[1m \u001b[0m\u001b[1mfield       \u001b[0m\u001b[1m \u001b[0m \u001b[1m \u001b[0m\u001b[1mvalue                                                                                                                \u001b[0m\u001b[1m \u001b[0m  │\n",
       "│  ──────────────────────────────────────────────────────────────────────────────────────────────────────────────────────────────────────  │\n",
       "│  \u001b[1m \u001b[0m\u001b[1mcorpus_table\u001b[0m\u001b[1m \u001b[0m \u001b[3m \u001b[0m\u001b[3m                                                                                                                     \u001b[0m\u001b[3m \u001b[0m  │\n",
       "│  \u001b[1m              \u001b[0m \u001b[3m \u001b[0m\u001b[3m \u001b[0m\u001b[1;3m \u001b[0m\u001b[1;3mfile_name\u001b[0m\u001b[1;3m                                              \u001b[0m\u001b[1;3m \u001b[0m\u001b[3m \u001b[0m\u001b[1;3m \u001b[0m\u001b[1;3mcontent\u001b[0m\u001b[1;3m                                                \u001b[0m\u001b[1;3m \u001b[0m\u001b[3m \u001b[0m\u001b[3m \u001b[0m  │\n",
       "│  \u001b[1m              \u001b[0m \u001b[3m \u001b[0m\u001b[3m ─────────────────────────────────────────────────────────────────────────────────────────────────────────────────── \u001b[0m\u001b[3m \u001b[0m  │\n",
       "│  \u001b[1m              \u001b[0m \u001b[3m \u001b[0m\u001b[3m \u001b[0m\u001b[3m \u001b[0m\u001b[3mCI_newspaper_subcorpora/Cronaca_Sovversiva/2012271201_1\u001b[0m\u001b[3m \u001b[0m\u001b[3m \u001b[0m\u001b[3m \u001b[0m\u001b[3m-A Ci\u001b[0m\u001b[3m                                                  \u001b[0m\u001b[3m \u001b[0m\u001b[3m \u001b[0m\u001b[3m \u001b[0m  │\n",
       "│  \u001b[1m              \u001b[0m \u001b[3m \u001b[0m\u001b[3m \u001b[0m\u001b[3m \u001b[0m\u001b[3mCI_newspaper_subcorpora/Cronaca_Sovversiva/2012271201_1\u001b[0m\u001b[3m \u001b[0m\u001b[3m \u001b[0m\u001b[3m \u001b[0m\u001b[3mThis newspaper has no objection\u001b[0m\u001b[3m                        \u001b[0m\u001b[3m \u001b[0m\u001b[3m \u001b[0m\u001b[3m \u001b[0m  │\n",
       "│  \u001b[1m              \u001b[0m \u001b[3m \u001b[0m\u001b[3m \u001b[0m\u001b[3m \u001b[0m\u001b[3mCI_newspaper_subcorpora/Cronaca_Sovversiva/2012271201_1\u001b[0m\u001b[3m \u001b[0m\u001b[3m \u001b[0m\u001b[3m \u001b[0m\u001b[3m4\u001b[0m\u001b[3m                                                      \u001b[0m\u001b[3m \u001b[0m\u001b[3m \u001b[0m\u001b[3m \u001b[0m  │\n",
       "│  \u001b[1m              \u001b[0m \u001b[3m \u001b[0m\u001b[3m \u001b[0m\u001b[3m \u001b[0m\u001b[3mCI_newspaper_subcorpora/Cronaca_Sovversiva/2012271201_1\u001b[0m\u001b[3m \u001b[0m\u001b[3m \u001b[0m\u001b[3m \u001b[0m\u001b[3mM\u001b[0m\u001b[3m                                                      \u001b[0m\u001b[3m \u001b[0m\u001b[3m \u001b[0m\u001b[3m \u001b[0m  │\n",
       "│  \u001b[1m              \u001b[0m \u001b[3m \u001b[0m\u001b[3m \u001b[0m\u001b[3m \u001b[0m\u001b[3mCI_newspaper_subcorpora/Cronaca_Sovversiva/2012271201_1\u001b[0m\u001b[3m \u001b[0m\u001b[3m \u001b[0m\u001b[3m \u001b[0m\u001b[3mThis newspaper has no objection\u001b[0m\u001b[3m                        \u001b[0m\u001b[3m \u001b[0m\u001b[3m \u001b[0m\u001b[3m \u001b[0m  │\n",
       "│  \u001b[1m              \u001b[0m \u001b[3m \u001b[0m\u001b[3m \u001b[0m\u001b[3m \u001b[0m\u001b[3mCI_newspaper_subcorpora/Cronaca_Sovversiva/2012271201_1\u001b[0m\u001b[3m \u001b[0m\u001b[3m \u001b[0m\u001b[3m \u001b[0m\u001b[3mThis newspaper. has no bjèction\u001b[0m\u001b[3m                        \u001b[0m\u001b[3m \u001b[0m\u001b[3m \u001b[0m\u001b[3m \u001b[0m  │\n",
       "│  \u001b[1m              \u001b[0m \u001b[3m \u001b[0m\u001b[3m \u001b[0m\u001b[3m \u001b[0m\u001b[3mCI_newspaper_subcorpora/Cronaca_Sovversiva/2012271201_1\u001b[0m\u001b[3m \u001b[0m\u001b[3m \u001b[0m\u001b[3m \u001b[0m\u001b[3ma !\u001b[0m\u001b[3m                                                    \u001b[0m\u001b[3m \u001b[0m\u001b[3m \u001b[0m\u001b[3m \u001b[0m  │\n",
       "│  \u001b[1m              \u001b[0m \u001b[3m \u001b[0m\u001b[3m \u001b[0m\u001b[3m \u001b[0m\u001b[3mCI_newspaper_subcorpora/Cronaca_Sovversiva/2012271201_1\u001b[0m\u001b[3m \u001b[0m\u001b[3m \u001b[0m\u001b[3m \u001b[0m\u001b[3mThis newspaper has no objection to filiti? with the Pos\u001b[0m\u001b[3m \u001b[0m\u001b[3m \u001b[0m\u001b[3m \u001b[0m  │\n",
       "│  \u001b[1m              \u001b[0m \u001b[3m \u001b[0m\u001b[3m \u001b[0m\u001b[3m \u001b[0m\u001b[3mCI_newspaper_subcorpora/Cronaca_Sovversiva/2012271201_1\u001b[0m\u001b[3m \u001b[0m\u001b[3m \u001b[0m\u001b[3m \u001b[0m\u001b[3mANNO XVI\u001b[0m\u001b[3m                                               \u001b[0m\u001b[3m \u001b[0m\u001b[3m \u001b[0m\u001b[3m \u001b[0m  │\n",
       "│  \u001b[1m              \u001b[0m \u001b[3m \u001b[0m\u001b[3m \u001b[0m\u001b[3m \u001b[0m\u001b[3mCI_newspaper_subcorpora/Cronaca_Sovversiva/2012271201_1\u001b[0m\u001b[3m \u001b[0m\u001b[3m \u001b[0m\u001b[3m \u001b[0m\u001b[3mThis newspapet, has no objection\u001b[0m\u001b[3m                       \u001b[0m\u001b[3m \u001b[0m\u001b[3m \u001b[0m\u001b[3m \u001b[0m  │\n",
       "│  \u001b[1m              \u001b[0m \u001b[3m \u001b[0m\u001b[3m \u001b[0m\u001b[3m \u001b[0m\u001b[3mCI_newspaper_subcorpora/Cronaca_Sovversiva/2012271201_1\u001b[0m\u001b[3m \u001b[0m\u001b[3m \u001b[0m\u001b[3m \u001b[0m\u001b[3mTfcis iscwspaper has no obectioa\u001b[0m\u001b[3m                       \u001b[0m\u001b[3m \u001b[0m\u001b[3m \u001b[0m\u001b[3m \u001b[0m  │\n",
       "│  \u001b[1m              \u001b[0m \u001b[3m \u001b[0m\u001b[3m \u001b[0m\u001b[3m \u001b[0m\u001b[3mCI_newspaper_subcorpora/Cronaca_Sovversiva/2012271201_1\u001b[0m\u001b[3m \u001b[0m\u001b[3m \u001b[0m\u001b[3m \u001b[0m\u001b[3m!\u001b[0m\u001b[3m                                                      \u001b[0m\u001b[3m \u001b[0m\u001b[3m \u001b[0m\u001b[3m \u001b[0m  │\n",
       "│  \u001b[1m              \u001b[0m \u001b[3m \u001b[0m\u001b[3m \u001b[0m\u001b[3m \u001b[0m\u001b[3mCI_newspaper_subcorpora/Cronaca_Sovversiva/2012271201_1\u001b[0m\u001b[3m \u001b[0m\u001b[3m \u001b[0m\u001b[3m \u001b[0m\u001b[3mThis newspaper has no objection\u001b[0m\u001b[3m                        \u001b[0m\u001b[3m \u001b[0m\u001b[3m \u001b[0m\u001b[3m \u001b[0m  │\n",
       "│  \u001b[1m              \u001b[0m \u001b[3m \u001b[0m\u001b[3m \u001b[0m\u001b[3m \u001b[0m\u001b[3mCI_newspaper_subcorpora/Cronaca_Sovversiva/2012271201_1\u001b[0m\u001b[3m \u001b[0m\u001b[3m \u001b[0m\u001b[3m \u001b[0m\u001b[3mThis ncwspapcr has no objectlon to filini: with the Pos\u001b[0m\u001b[3m \u001b[0m\u001b[3m \u001b[0m\u001b[3m \u001b[0m  │\n",
       "│  \u001b[1m              \u001b[0m \u001b[3m \u001b[0m\u001b[3m \u001b[0m\u001b[3m \u001b[0m\u001b[3mCI_newspaper_subcorpora/Cronaca_Sovversiva/2012271201_1\u001b[0m\u001b[3m \u001b[0m\u001b[3m \u001b[0m\u001b[3m \u001b[0m\u001b[3m1\u001b[0m\u001b[3m                                                      \u001b[0m\u001b[3m \u001b[0m\u001b[3m \u001b[0m\u001b[3m \u001b[0m  │\n",
       "│  \u001b[1m              \u001b[0m \u001b[3m \u001b[0m\u001b[3m \u001b[0m\u001b[3m \u001b[0m\u001b[3mCI_newspaper_subcorpora/Cronaca_Sovversiva/2012271201_1\u001b[0m\u001b[3m \u001b[0m\u001b[3m \u001b[0m\u001b[3m \u001b[0m\u001b[3mThis newspaper has no objection\u001b[0m\u001b[3m                        \u001b[0m\u001b[3m \u001b[0m\u001b[3m \u001b[0m\u001b[3m \u001b[0m  │\n",
       "│  \u001b[1m              \u001b[0m \u001b[3m \u001b[0m\u001b[3m \u001b[0m\u001b[3m \u001b[0m\u001b[3m...\u001b[0m\u001b[3m                                                    \u001b[0m\u001b[3m \u001b[0m\u001b[3m \u001b[0m\u001b[3m \u001b[0m\u001b[3m...\u001b[0m\u001b[3m                                                    \u001b[0m\u001b[3m \u001b[0m\u001b[3m \u001b[0m\u001b[3m \u001b[0m  │\n",
       "│  \u001b[1m              \u001b[0m \u001b[3m \u001b[0m\u001b[3m \u001b[0m\u001b[3m \u001b[0m\u001b[3m...\u001b[0m\u001b[3m                                                    \u001b[0m\u001b[3m \u001b[0m\u001b[3m \u001b[0m\u001b[3m \u001b[0m\u001b[3m...\u001b[0m\u001b[3m                                                    \u001b[0m\u001b[3m \u001b[0m\u001b[3m \u001b[0m\u001b[3m \u001b[0m  │\n",
       "│  \u001b[1m              \u001b[0m \u001b[3m \u001b[0m\u001b[3m \u001b[0m\u001b[3m \u001b[0m\u001b[3mCI_newspaper_subcorpora/La_Sentinella/sn84020351_1920-0\u001b[0m\u001b[3m \u001b[0m\u001b[3m \u001b[0m\u001b[3m \u001b[0m\u001b[3mA Cesare quel che\u001b[0m\u001b[3m                                      \u001b[0m\u001b[3m \u001b[0m\u001b[3m \u001b[0m\u001b[3m \u001b[0m  │\n",
       "│  \u001b[1m              \u001b[0m \u001b[3m \u001b[0m\u001b[3m \u001b[0m\u001b[3m \u001b[0m\u001b[3mCI_newspaper_subcorpora/La_Sentinella/sn84020351_1926-1\u001b[0m\u001b[3m \u001b[0m\u001b[3m \u001b[0m\u001b[3m \u001b[0m\u001b[3mI Fatti E\u001b[0m\u001b[3m                                              \u001b[0m\u001b[3m \u001b[0m\u001b[3m \u001b[0m\u001b[3m \u001b[0m  │\n",
       "│  \u001b[1m              \u001b[0m \u001b[3m \u001b[0m\u001b[3m \u001b[0m\u001b[3m \u001b[0m\u001b[3mCI_newspaper_subcorpora/La_Sentinella/sn84020351_1921-0\u001b[0m\u001b[3m \u001b[0m\u001b[3m \u001b[0m\u001b[3m \u001b[0m\u001b[3mIl Comitato Generale Italiano\u001b[0m\u001b[3m                          \u001b[0m\u001b[3m \u001b[0m\u001b[3m \u001b[0m\u001b[3m \u001b[0m  │\n",
       "│  \u001b[1m              \u001b[0m \u001b[3m \u001b[0m\u001b[3m \u001b[0m\u001b[3m \u001b[0m\u001b[3mCI_newspaper_subcorpora/La_Sentinella/sn84020351_1922-1\u001b[0m\u001b[3m \u001b[0m\u001b[3m \u001b[0m\u001b[3m \u001b[0m\u001b[3mANCORA DI QU1GLEY!\u001b[0m\u001b[3m                                     \u001b[0m\u001b[3m \u001b[0m\u001b[3m \u001b[0m\u001b[3m \u001b[0m  │\n",
       "│  \u001b[1m              \u001b[0m \u001b[3m \u001b[0m\u001b[3m \u001b[0m\u001b[3m \u001b[0m\u001b[3mCI_newspaper_subcorpora/La_Sentinella/sn84020351_1925-1\u001b[0m\u001b[3m \u001b[0m\u001b[3m \u001b[0m\u001b[3m \u001b[0m\u001b[3mR. L. VOLPE. MGR.\u001b[0m\u001b[3m                                      \u001b[0m\u001b[3m \u001b[0m\u001b[3m \u001b[0m\u001b[3m \u001b[0m  │\n",
       "│  \u001b[1m              \u001b[0m \u001b[3m \u001b[0m\u001b[3m \u001b[0m\u001b[3m \u001b[0m\u001b[3mCI_newspaper_subcorpora/La_Sentinella/sn84020351_1929-1\u001b[0m\u001b[3m \u001b[0m\u001b[3m \u001b[0m\u001b[3m \u001b[0m\u001b[3mPICCOLE NOTE\u001b[0m\u001b[3m                                           \u001b[0m\u001b[3m \u001b[0m\u001b[3m \u001b[0m\u001b[3m \u001b[0m  │\n",
       "│  \u001b[1m              \u001b[0m \u001b[3m \u001b[0m\u001b[3m \u001b[0m\u001b[3m \u001b[0m\u001b[3mCI_newspaper_subcorpora/La_Sentinella/sn84020351_1925-0\u001b[0m\u001b[3m \u001b[0m\u001b[3m \u001b[0m\u001b[3m \u001b[0m\u001b[3mP. ALTIERI. Editot\u001b[0m\u001b[3m                                     \u001b[0m\u001b[3m \u001b[0m\u001b[3m \u001b[0m\u001b[3m \u001b[0m  │\n",
       "│  \u001b[1m              \u001b[0m \u001b[3m \u001b[0m\u001b[3m \u001b[0m\u001b[3m \u001b[0m\u001b[3mCI_newspaper_subcorpora/La_Sentinella/sn84020351_1925-0\u001b[0m\u001b[3m \u001b[0m\u001b[3m \u001b[0m\u001b[3m \u001b[0m\u001b[3mR. L. VOLPE., MGR.\u001b[0m\u001b[3m                                     \u001b[0m\u001b[3m \u001b[0m\u001b[3m \u001b[0m\u001b[3m \u001b[0m  │\n",
       "│  \u001b[1m              \u001b[0m \u001b[3m \u001b[0m\u001b[3m \u001b[0m\u001b[3m \u001b[0m\u001b[3mCI_newspaper_subcorpora/La_Sentinella/sn84020351_1923-0\u001b[0m\u001b[3m \u001b[0m\u001b[3m \u001b[0m\u001b[3m \u001b[0m\u001b[3mIL CONC\u001b[0m\u001b[3m                                                \u001b[0m\u001b[3m \u001b[0m\u001b[3m \u001b[0m\u001b[3m \u001b[0m  │\n",
       "│  \u001b[1m              \u001b[0m \u001b[3m \u001b[0m\u001b[3m \u001b[0m\u001b[3m \u001b[0m\u001b[3mCI_newspaper_subcorpora/La_Sentinella/sn84020351_1921-0\u001b[0m\u001b[3m \u001b[0m\u001b[3m \u001b[0m\u001b[3m \u001b[0m\u001b[3mPublished Every Saturday\u001b[0m\u001b[3m                               \u001b[0m\u001b[3m \u001b[0m\u001b[3m \u001b[0m\u001b[3m \u001b[0m  │\n",
       "│  \u001b[1m              \u001b[0m \u001b[3m \u001b[0m\u001b[3m \u001b[0m\u001b[3m \u001b[0m\u001b[3mCI_newspaper_subcorpora/La_Sentinella/sn84020351_1925-0\u001b[0m\u001b[3m \u001b[0m\u001b[3m \u001b[0m\u001b[3m \u001b[0m\u001b[3mP. ALTIERI. Editoi\u001b[0m\u001b[3m                                     \u001b[0m\u001b[3m \u001b[0m\u001b[3m \u001b[0m\u001b[3m \u001b[0m  │\n",
       "│  \u001b[1m              \u001b[0m \u001b[3m \u001b[0m\u001b[3m \u001b[0m\u001b[3m \u001b[0m\u001b[3mCI_newspaper_subcorpora/La_Sentinella/sn84020351_1922-0\u001b[0m\u001b[3m \u001b[0m\u001b[3m \u001b[0m\u001b[3m \u001b[0m\u001b[3mI nuovi venuti, che hanno abilita'\u001b[0m\u001b[3m                     \u001b[0m\u001b[3m \u001b[0m\u001b[3m \u001b[0m\u001b[3m \u001b[0m  │\n",
       "│  \u001b[1m              \u001b[0m \u001b[3m \u001b[0m\u001b[3m \u001b[0m\u001b[3m \u001b[0m\u001b[3mCI_newspaper_subcorpora/La_Sentinella/sn84020351_1927-1\u001b[0m\u001b[3m \u001b[0m\u001b[3m \u001b[0m\u001b[3m \u001b[0m\u001b[3mepoca ha fatto onore nor\u001b[0m\u001b[3m                               \u001b[0m\u001b[3m \u001b[0m\u001b[3m \u001b[0m\u001b[3m \u001b[0m  │\n",
       "│  \u001b[1m              \u001b[0m \u001b[3m \u001b[0m\u001b[3m \u001b[0m\u001b[3m \u001b[0m\u001b[3mCI_newspaper_subcorpora/La_Sentinella/sn84020351_1921-0\u001b[0m\u001b[3m \u001b[0m\u001b[3m \u001b[0m\u001b[3m \u001b[0m\u001b[3mBy P. ALTIERI\u001b[0m\u001b[3m                                          \u001b[0m\u001b[3m \u001b[0m\u001b[3m \u001b[0m\u001b[3m \u001b[0m  │\n",
       "│  \u001b[1m              \u001b[0m \u001b[3m \u001b[0m\u001b[3m \u001b[0m\u001b[3m \u001b[0m\u001b[3mCI_newspaper_subcorpora/La_Sentinella/sn84020351_1922-0\u001b[0m\u001b[3m \u001b[0m\u001b[3m \u001b[0m\u001b[3m \u001b[0m\u001b[3mPublished Every Saturday\u001b[0m\u001b[3m                               \u001b[0m\u001b[3m \u001b[0m\u001b[3m \u001b[0m\u001b[3m \u001b[0m  │\n",
       "│  \u001b[1m              \u001b[0m \u001b[3m \u001b[0m\u001b[3m \u001b[0m\u001b[3m \u001b[0m\u001b[3mCI_newspaper_subcorpora/La_Sentinella/sn84020351_1922-0\u001b[0m\u001b[3m \u001b[0m\u001b[3m \u001b[0m\u001b[3m \u001b[0m\u001b[3mSono stato fra i primi in Italia,\u001b[0m\u001b[3m                      \u001b[0m\u001b[3m \u001b[0m\u001b[3m \u001b[0m\u001b[3m \u001b[0m  │\n",
       "│  \u001b[1m              \u001b[0m \u001b[3m \u001b[0m\u001b[3m                                                                                                                     \u001b[0m\u001b[3m \u001b[0m  │\n",
       "│                                                                                                                                          │\n",
       "╰──────────────────────────────────────────────────────────────────────────────────────────────────────────────────────────────────────────╯\n"
      ]
     },
     "execution_count": 5,
     "metadata": {},
     "output_type": "execute_result"
    }
   ],
   "source": [
    "create_table_from_zenodo_results"
   ]
  },
  {
   "cell_type": "markdown",
   "metadata": {},
   "source": [
    "### 1.2. Get files from .zip url"
   ]
  },
  {
   "cell_type": "code",
   "execution_count": 6,
   "metadata": {},
   "outputs": [
    {
     "name": "stdout",
     "output_type": "stream",
     "text": [
      "\n",
      "╭─ Operation: \u001b[1;3mtopic_modelling.create_table_from_url\u001b[0m ───────────────────────────╮\n",
      "│                                                                              │\n",
      "│  \u001b[3m \u001b[0m\u001b[3mDocumentation\u001b[0m\u001b[3m \u001b[0m  This module retrieves text files from a specified          │\n",
      "│  \u001b[3m               \u001b[0m  sub-path within a zip file hosted at a given URL.          │\n",
      "│  \u001b[3m               \u001b[0m                                                             │\n",
      "│  \u001b[3m               \u001b[0m  It outputs a table with two columns: one for the file      │\n",
      "│  \u001b[3m               \u001b[0m  names and the other for the content of these files.        │\n",
      "│  \u001b[3m               \u001b[0m                                                             │\n",
      "│  \u001b[3m               \u001b[0m  Dependencies:                                              │\n",
      "│  \u001b[3m               \u001b[0m  - urllib.request:                                          │\n",
      "│  \u001b[3m               \u001b[0m  https://docs.python.org/3/library/urllib.request.html      │\n",
      "│  \u001b[3m               \u001b[0m  - zipfile:                                                 │\n",
      "│  \u001b[3m               \u001b[0m  https://docs.python.org/3/library/zipfile.html             │\n",
      "│  \u001b[3m               \u001b[0m  - polars: https://www.pola.rs/                             │\n",
      "│                                                                              │\n",
      "│  \u001b[3m \u001b[0m\u001b[3mInputs       \u001b[0m\u001b[3m \u001b[0m                                                             │\n",
      "│  \u001b[3m               \u001b[0m   \u001b[1m \u001b[0m\u001b[1mfield    \u001b[0m\u001b[1m \u001b[0m \u001b[1m        \u001b[0m \u001b[1m          \u001b[0m \u001b[1m          \u001b[0m \u001b[1m           \u001b[0m    │\n",
      "│  \u001b[3m               \u001b[0m   \u001b[1m \u001b[0m\u001b[1mname     \u001b[0m\u001b[1m \u001b[0m \u001b[1m \u001b[0m\u001b[1mtype  \u001b[0m\u001b[1m \u001b[0m \u001b[1m \u001b[0m\u001b[1mdescrip…\u001b[0m\u001b[1m \u001b[0m \u001b[1m \u001b[0m\u001b[1mRequired\u001b[0m\u001b[1m \u001b[0m \u001b[1m \u001b[0m\u001b[1mDefault  \u001b[0m\u001b[1m \u001b[0m    │\n",
      "│  \u001b[3m               \u001b[0m   ──────────────────────────────────────────────────────    │\n",
      "│  \u001b[3m               \u001b[0m   \u001b[3m \u001b[0m\u001b[3murl      \u001b[0m\u001b[3m \u001b[0m  string   URL of     \u001b[1myes\u001b[0m        -- no         │\n",
      "│  \u001b[3m               \u001b[0m   \u001b[3m           \u001b[0m           the zip               default       │\n",
      "│  \u001b[3m               \u001b[0m   \u001b[3m           \u001b[0m           file to               --            │\n",
      "│  \u001b[3m               \u001b[0m   \u001b[3m           \u001b[0m           retrieve                            │\n",
      "│  \u001b[3m               \u001b[0m   \u001b[3m           \u001b[0m           text                                │\n",
      "│  \u001b[3m               \u001b[0m   \u001b[3m           \u001b[0m           files                               │\n",
      "│  \u001b[3m               \u001b[0m   \u001b[3m           \u001b[0m           from.                               │\n",
      "│  \u001b[3m               \u001b[0m   \u001b[3m \u001b[0m\u001b[3msub_path \u001b[0m\u001b[3m \u001b[0m  string   Sub-path   \u001b[1myes\u001b[0m        -- no         │\n",
      "│  \u001b[3m               \u001b[0m   \u001b[3m           \u001b[0m           within                default       │\n",
      "│  \u001b[3m               \u001b[0m   \u001b[3m           \u001b[0m           the zip               --            │\n",
      "│  \u001b[3m               \u001b[0m   \u001b[3m           \u001b[0m           file to                             │\n",
      "│  \u001b[3m               \u001b[0m   \u001b[3m           \u001b[0m           look for                            │\n",
      "│  \u001b[3m               \u001b[0m   \u001b[3m           \u001b[0m           text                                │\n",
      "│  \u001b[3m               \u001b[0m   \u001b[3m           \u001b[0m           files.                              │\n",
      "│  \u001b[3m               \u001b[0m                                                             │\n",
      "│                                                                              │\n",
      "│  \u001b[3m \u001b[0m\u001b[3mOutputs      \u001b[0m\u001b[3m \u001b[0m                                                             │\n",
      "│  \u001b[3m               \u001b[0m   \u001b[1m \u001b[0m\u001b[1mfield name  \u001b[0m\u001b[1m \u001b[0m \u001b[1m \u001b[0m\u001b[1mtype \u001b[0m\u001b[1m \u001b[0m \u001b[1m \u001b[0m\u001b[1mdescription                  \u001b[0m\u001b[1m \u001b[0m    │\n",
      "│  \u001b[3m               \u001b[0m   ──────────────────────────────────────────────────────    │\n",
      "│  \u001b[3m               \u001b[0m   \u001b[3m \u001b[0m\u001b[3mcorpus_table\u001b[0m\u001b[3m \u001b[0m  table   Table with file names and         │\n",
      "│  \u001b[3m               \u001b[0m   \u001b[3m              \u001b[0m          contents.                         │\n",
      "│  \u001b[3m               \u001b[0m                                                             │\n",
      "│                                                                              │\n",
      "╰──────────────────────────────────────────────────────────────────────────────╯\n"
     ]
    }
   ],
   "source": [
    "! kiara operation explain topic_modelling.create_table_from_url"
   ]
  },
  {
   "cell_type": "code",
   "execution_count": 7,
   "metadata": {},
   "outputs": [],
   "source": [
    "create_table_from_url_inputs = {\n",
    "    \"url\": \"https://github.com/DHARPA-Project/kiara.examples/archive/refs/heads/main.zip\",\n",
    "    \"sub_path\": \"kiara.examples-main/examples/workshops/dh_benelux_2023/data\"\n",
    "}"
   ]
  },
  {
   "cell_type": "code",
   "execution_count": 8,
   "metadata": {},
   "outputs": [],
   "source": [
    "create_table_from_url_results = kiara.run_job('topic_modelling.create_table_from_url', inputs=create_table_from_url_inputs)"
   ]
  },
  {
   "cell_type": "code",
   "execution_count": 9,
   "metadata": {},
   "outputs": [
    {
     "data": {
      "text/html": [
       "<pre style=\"white-space:pre;overflow-x:auto;line-height:normal;font-family:Menlo,'DejaVu Sans Mono',consolas,'Courier New',monospace\">╭──────────────────────────────────────────────────────────────────────────────────────────────────────────────────────────────────────────╮\n",
       "│                                                                                                                                          │\n",
       "│  <span style=\"font-weight: bold\"> field        </span> <span style=\"font-weight: bold\"> value                                                                                               </span>                    │\n",
       "│  ────────────────────────────────────────────────────────────────────────────────────────────────────────────────────                    │\n",
       "│  <span style=\"font-weight: bold\"> corpus_table </span> <span style=\"font-style: italic\">                                                                                                     </span>                    │\n",
       "│  <span style=\"font-weight: bold\">              </span> <span style=\"font-style: italic\">  </span><span style=\"font-weight: bold; font-style: italic\"> file_name                                </span><span style=\"font-style: italic\"> </span><span style=\"font-weight: bold; font-style: italic\"> content                                              </span><span style=\"font-style: italic\">  </span>                    │\n",
       "│  <span style=\"font-weight: bold\">              </span> <span style=\"font-style: italic\">  ─────────────────────────────────────────────────────────────────────────────────────────────────  </span>                    │\n",
       "│  <span style=\"font-weight: bold\">              </span> <span style=\"font-style: italic\">   2012271201_1903-06-06_ed-1_seq-1_ocr.txt   LI 1,111 \"\"\"\"                                          </span>                    │\n",
       "│  <span style=\"font-weight: bold\">              </span> <span style=\"font-style: italic\">   2012271201_1903-06-13_ed-1_seq-1_ocr.txt   Ebdomadario anarchico di propaganda rivoluzionaria.    </span>                    │\n",
       "│  <span style=\"font-weight: bold\">              </span> <span style=\"font-style: italic\">   2012271201_1903-06-20_ed-1_seq-1_ocr.txt   ANNO I.                                                </span>                    │\n",
       "│  <span style=\"font-weight: bold\">              </span> <span style=\"font-style: italic\">   2012271201_1903-06-27_ed-1_seq-1_ocr.txt   Ebdomadàrio anarchico di propaganda rivoluzionaria.    </span>                    │\n",
       "│  <span style=\"font-weight: bold\">              </span> <span style=\"font-style: italic\">   2012271201_1903-07-04_ed-1_seq-1_ocr.txt   NUMERO 5                                               </span>                    │\n",
       "│  <span style=\"font-weight: bold\">              </span> <span style=\"font-style: italic\">   2012271201_1903-07-25_ed-1_seq-1_ocr.txt   ANNO I.                                                </span>                    │\n",
       "│  <span style=\"font-weight: bold\">              </span> <span style=\"font-style: italic\">   2012271201_1903-08-01_ed-1_seq-1_ocr.txt   ANNO I.                                                </span>                    │\n",
       "│  <span style=\"font-weight: bold\">              </span> <span style=\"font-style: italic\">   2012271201_1903-08-08_ed-1_seq-1_ocr.txt   Ciac vtj'y inn                                         </span>                    │\n",
       "│  <span style=\"font-weight: bold\">              </span> <span style=\"font-style: italic\">   2012271201_1903-08-15_ed-1_seq-1_ocr.txt   NUMERO 11                                              </span>                    │\n",
       "│  <span style=\"font-weight: bold\">              </span> <span style=\"font-style: italic\">   2012271201_1903-08-22_ed-1_seq-1_ocr.txt   Ebdomadario anarchico di propaganda: rivoluzionaria.   </span>                    │\n",
       "│  <span style=\"font-weight: bold\">              </span> <span style=\"font-style: italic\">   2012271201_1903-08-29_ed-1_seq-1_ocr.txt   SUMERO 13                                              </span>                    │\n",
       "│  <span style=\"font-weight: bold\">              </span> <span style=\"font-style: italic\">   2012271201_1903-09-05_ed-1_seq-1_ocr.txt   Ebdomadario anarchico di propaganda rh                 </span>                    │\n",
       "│  <span style=\"font-weight: bold\">              </span> <span style=\"font-style: italic\">   2012271201_1903-09-12_ed-1_seq-1_ocr.txt   ANNO I.                                                </span>                    │\n",
       "│  <span style=\"font-weight: bold\">              </span> <span style=\"font-style: italic\">   2012271201_1903-09-19_ed-1_seq-1_ocr.txt   ANNO I.                                                </span>                    │\n",
       "│  <span style=\"font-weight: bold\">              </span> <span style=\"font-style: italic\">   2012271201_1903-09-26_ed-1_seq-1_ocr.txt   NUMERO 17                                              </span>                    │\n",
       "│  <span style=\"font-weight: bold\">              </span> <span style=\"font-style: italic\">   2012271201_1903-10-03_ed-1_seq-1_ocr.txt   li                                                     </span>                    │\n",
       "│  <span style=\"font-weight: bold\">              </span> <span style=\"font-style: italic\">   ...                                        ...                                                    </span>                    │\n",
       "│  <span style=\"font-weight: bold\">              </span> <span style=\"font-style: italic\">   ...                                        ...                                                    </span>                    │\n",
       "│  <span style=\"font-weight: bold\">              </span> <span style=\"font-style: italic\">   sn85066408_1919-12-15_ed-1_seq-1_ocr.txt   ANNO XXXIII-                                           </span>                    │\n",
       "│  <span style=\"font-weight: bold\">              </span> <span style=\"font-style: italic\">   sn85066408_1919-12-16_ed-1_seq-1_ocr.txt   anno xxxiii.                                           </span>                    │\n",
       "│  <span style=\"font-weight: bold\">              </span> <span style=\"font-style: italic\">   sn85066408_1919-12-17_ed-1_seq-1_ocr.txt   ANNO XXXIII                                            </span>                    │\n",
       "│  <span style=\"font-weight: bold\">              </span> <span style=\"font-style: italic\">   sn85066408_1919-12-18_ed-1_seq-1_ocr.txt   anno xxxiil                                            </span>                    │\n",
       "│  <span style=\"font-weight: bold\">              </span> <span style=\"font-style: italic\">   sn85066408_1919-12-19_ed-1_seq-1_ocr.txt   anno XXXIII-                                           </span>                    │\n",
       "│  <span style=\"font-weight: bold\">              </span> <span style=\"font-style: italic\">   sn85066408_1919-12-20_ed-1_seq-1_ocr.txt   anno xxxiii-                                           </span>                    │\n",
       "│  <span style=\"font-weight: bold\">              </span> <span style=\"font-style: italic\">   sn85066408_1919-12-21_ed-1_seq-1_ocr.txt   FIRST SECTION                                          </span>                    │\n",
       "│  <span style=\"font-weight: bold\">              </span> <span style=\"font-style: italic\">   sn85066408_1919-12-22_ed-1_seq-1_ocr.txt   ANNO XXXIII                                            </span>                    │\n",
       "│  <span style=\"font-weight: bold\">              </span> <span style=\"font-style: italic\">   sn85066408_1919-12-23_ed-1_seq-1_ocr.txt   ANNO XXXIII                                            </span>                    │\n",
       "│  <span style=\"font-weight: bold\">              </span> <span style=\"font-style: italic\">   sn85066408_1919-12-24_ed-1_seq-1_ocr.txt   ANNO XXXIII                                            </span>                    │\n",
       "│  <span style=\"font-weight: bold\">              </span> <span style=\"font-style: italic\">   sn85066408_1919-12-25_ed-1_seq-1_ocr.txt   ANNO XXXI li-                                          </span>                    │\n",
       "│  <span style=\"font-weight: bold\">              </span> <span style=\"font-style: italic\">   sn85066408_1919-12-27_ed-1_seq-1_ocr.txt   ANNO XXXIII                                            </span>                    │\n",
       "│  <span style=\"font-weight: bold\">              </span> <span style=\"font-style: italic\">   sn85066408_1919-12-28_ed-1_seq-1_ocr.txt   PATRIA e umanità*                                      </span>                    │\n",
       "│  <span style=\"font-weight: bold\">              </span> <span style=\"font-style: italic\">   sn85066408_1919-12-29_ed-1_seq-1_ocr.txt   ANNO XXXIII*                                           </span>                    │\n",
       "│  <span style=\"font-weight: bold\">              </span> <span style=\"font-style: italic\">   sn85066408_1919-12-30_ed-1_seq-1_ocr.txt   ANNO XXXIII-                                           </span>                    │\n",
       "│  <span style=\"font-weight: bold\">              </span> <span style=\"font-style: italic\">   sn85066408_1919-12-31_ed-1_seq-1_ocr.txt   \\\\\\ll XXXIII                                           </span>                    │\n",
       "│  <span style=\"font-weight: bold\">              </span> <span style=\"font-style: italic\">                                                                                                     </span>                    │\n",
       "│                                                                                                                                          │\n",
       "╰──────────────────────────────────────────────────────────────────────────────────────────────────────────────────────────────────────────╯\n",
       "</pre>\n"
      ],
      "text/plain": [
       "╭──────────────────────────────────────────────────────────────────────────────────────────────────────────────────────────────────────────╮\n",
       "│                                                                                                                                          │\n",
       "│  \u001b[1m \u001b[0m\u001b[1mfield       \u001b[0m\u001b[1m \u001b[0m \u001b[1m \u001b[0m\u001b[1mvalue                                                                                              \u001b[0m\u001b[1m \u001b[0m                    │\n",
       "│  ────────────────────────────────────────────────────────────────────────────────────────────────────────────────────                    │\n",
       "│  \u001b[1m \u001b[0m\u001b[1mcorpus_table\u001b[0m\u001b[1m \u001b[0m \u001b[3m \u001b[0m\u001b[3m                                                                                                   \u001b[0m\u001b[3m \u001b[0m                    │\n",
       "│  \u001b[1m              \u001b[0m \u001b[3m \u001b[0m\u001b[3m \u001b[0m\u001b[1;3m \u001b[0m\u001b[1;3mfile_name\u001b[0m\u001b[1;3m                               \u001b[0m\u001b[1;3m \u001b[0m\u001b[3m \u001b[0m\u001b[1;3m \u001b[0m\u001b[1;3mcontent\u001b[0m\u001b[1;3m                                             \u001b[0m\u001b[1;3m \u001b[0m\u001b[3m \u001b[0m\u001b[3m \u001b[0m                    │\n",
       "│  \u001b[1m              \u001b[0m \u001b[3m \u001b[0m\u001b[3m ───────────────────────────────────────────────────────────────────────────────────────────────── \u001b[0m\u001b[3m \u001b[0m                    │\n",
       "│  \u001b[1m              \u001b[0m \u001b[3m \u001b[0m\u001b[3m \u001b[0m\u001b[3m \u001b[0m\u001b[3m2012271201_1903-06-06_ed-1_seq-1_ocr.txt\u001b[0m\u001b[3m \u001b[0m\u001b[3m \u001b[0m\u001b[3m \u001b[0m\u001b[3mLI 1,111 \"\"\"\"\u001b[0m\u001b[3m                                       \u001b[0m\u001b[3m \u001b[0m\u001b[3m \u001b[0m\u001b[3m \u001b[0m                    │\n",
       "│  \u001b[1m              \u001b[0m \u001b[3m \u001b[0m\u001b[3m \u001b[0m\u001b[3m \u001b[0m\u001b[3m2012271201_1903-06-13_ed-1_seq-1_ocr.txt\u001b[0m\u001b[3m \u001b[0m\u001b[3m \u001b[0m\u001b[3m \u001b[0m\u001b[3mEbdomadario anarchico di propaganda rivoluzionaria.\u001b[0m\u001b[3m \u001b[0m\u001b[3m \u001b[0m\u001b[3m \u001b[0m\u001b[3m \u001b[0m                    │\n",
       "│  \u001b[1m              \u001b[0m \u001b[3m \u001b[0m\u001b[3m \u001b[0m\u001b[3m \u001b[0m\u001b[3m2012271201_1903-06-20_ed-1_seq-1_ocr.txt\u001b[0m\u001b[3m \u001b[0m\u001b[3m \u001b[0m\u001b[3m \u001b[0m\u001b[3mANNO I.\u001b[0m\u001b[3m                                             \u001b[0m\u001b[3m \u001b[0m\u001b[3m \u001b[0m\u001b[3m \u001b[0m                    │\n",
       "│  \u001b[1m              \u001b[0m \u001b[3m \u001b[0m\u001b[3m \u001b[0m\u001b[3m \u001b[0m\u001b[3m2012271201_1903-06-27_ed-1_seq-1_ocr.txt\u001b[0m\u001b[3m \u001b[0m\u001b[3m \u001b[0m\u001b[3m \u001b[0m\u001b[3mEbdomadàrio anarchico di propaganda rivoluzionaria.\u001b[0m\u001b[3m \u001b[0m\u001b[3m \u001b[0m\u001b[3m \u001b[0m\u001b[3m \u001b[0m                    │\n",
       "│  \u001b[1m              \u001b[0m \u001b[3m \u001b[0m\u001b[3m \u001b[0m\u001b[3m \u001b[0m\u001b[3m2012271201_1903-07-04_ed-1_seq-1_ocr.txt\u001b[0m\u001b[3m \u001b[0m\u001b[3m \u001b[0m\u001b[3m \u001b[0m\u001b[3mNUMERO 5\u001b[0m\u001b[3m                                            \u001b[0m\u001b[3m \u001b[0m\u001b[3m \u001b[0m\u001b[3m \u001b[0m                    │\n",
       "│  \u001b[1m              \u001b[0m \u001b[3m \u001b[0m\u001b[3m \u001b[0m\u001b[3m \u001b[0m\u001b[3m2012271201_1903-07-25_ed-1_seq-1_ocr.txt\u001b[0m\u001b[3m \u001b[0m\u001b[3m \u001b[0m\u001b[3m \u001b[0m\u001b[3mANNO I.\u001b[0m\u001b[3m                                             \u001b[0m\u001b[3m \u001b[0m\u001b[3m \u001b[0m\u001b[3m \u001b[0m                    │\n",
       "│  \u001b[1m              \u001b[0m \u001b[3m \u001b[0m\u001b[3m \u001b[0m\u001b[3m \u001b[0m\u001b[3m2012271201_1903-08-01_ed-1_seq-1_ocr.txt\u001b[0m\u001b[3m \u001b[0m\u001b[3m \u001b[0m\u001b[3m \u001b[0m\u001b[3mANNO I.\u001b[0m\u001b[3m                                             \u001b[0m\u001b[3m \u001b[0m\u001b[3m \u001b[0m\u001b[3m \u001b[0m                    │\n",
       "│  \u001b[1m              \u001b[0m \u001b[3m \u001b[0m\u001b[3m \u001b[0m\u001b[3m \u001b[0m\u001b[3m2012271201_1903-08-08_ed-1_seq-1_ocr.txt\u001b[0m\u001b[3m \u001b[0m\u001b[3m \u001b[0m\u001b[3m \u001b[0m\u001b[3mCiac vtj'y inn\u001b[0m\u001b[3m                                      \u001b[0m\u001b[3m \u001b[0m\u001b[3m \u001b[0m\u001b[3m \u001b[0m                    │\n",
       "│  \u001b[1m              \u001b[0m \u001b[3m \u001b[0m\u001b[3m \u001b[0m\u001b[3m \u001b[0m\u001b[3m2012271201_1903-08-15_ed-1_seq-1_ocr.txt\u001b[0m\u001b[3m \u001b[0m\u001b[3m \u001b[0m\u001b[3m \u001b[0m\u001b[3mNUMERO 11\u001b[0m\u001b[3m                                           \u001b[0m\u001b[3m \u001b[0m\u001b[3m \u001b[0m\u001b[3m \u001b[0m                    │\n",
       "│  \u001b[1m              \u001b[0m \u001b[3m \u001b[0m\u001b[3m \u001b[0m\u001b[3m \u001b[0m\u001b[3m2012271201_1903-08-22_ed-1_seq-1_ocr.txt\u001b[0m\u001b[3m \u001b[0m\u001b[3m \u001b[0m\u001b[3m \u001b[0m\u001b[3mEbdomadario anarchico di propaganda: rivoluzionaria.\u001b[0m\u001b[3m \u001b[0m\u001b[3m \u001b[0m\u001b[3m \u001b[0m                    │\n",
       "│  \u001b[1m              \u001b[0m \u001b[3m \u001b[0m\u001b[3m \u001b[0m\u001b[3m \u001b[0m\u001b[3m2012271201_1903-08-29_ed-1_seq-1_ocr.txt\u001b[0m\u001b[3m \u001b[0m\u001b[3m \u001b[0m\u001b[3m \u001b[0m\u001b[3mSUMERO 13\u001b[0m\u001b[3m                                           \u001b[0m\u001b[3m \u001b[0m\u001b[3m \u001b[0m\u001b[3m \u001b[0m                    │\n",
       "│  \u001b[1m              \u001b[0m \u001b[3m \u001b[0m\u001b[3m \u001b[0m\u001b[3m \u001b[0m\u001b[3m2012271201_1903-09-05_ed-1_seq-1_ocr.txt\u001b[0m\u001b[3m \u001b[0m\u001b[3m \u001b[0m\u001b[3m \u001b[0m\u001b[3mEbdomadario anarchico di propaganda rh\u001b[0m\u001b[3m              \u001b[0m\u001b[3m \u001b[0m\u001b[3m \u001b[0m\u001b[3m \u001b[0m                    │\n",
       "│  \u001b[1m              \u001b[0m \u001b[3m \u001b[0m\u001b[3m \u001b[0m\u001b[3m \u001b[0m\u001b[3m2012271201_1903-09-12_ed-1_seq-1_ocr.txt\u001b[0m\u001b[3m \u001b[0m\u001b[3m \u001b[0m\u001b[3m \u001b[0m\u001b[3mANNO I.\u001b[0m\u001b[3m                                             \u001b[0m\u001b[3m \u001b[0m\u001b[3m \u001b[0m\u001b[3m \u001b[0m                    │\n",
       "│  \u001b[1m              \u001b[0m \u001b[3m \u001b[0m\u001b[3m \u001b[0m\u001b[3m \u001b[0m\u001b[3m2012271201_1903-09-19_ed-1_seq-1_ocr.txt\u001b[0m\u001b[3m \u001b[0m\u001b[3m \u001b[0m\u001b[3m \u001b[0m\u001b[3mANNO I.\u001b[0m\u001b[3m                                             \u001b[0m\u001b[3m \u001b[0m\u001b[3m \u001b[0m\u001b[3m \u001b[0m                    │\n",
       "│  \u001b[1m              \u001b[0m \u001b[3m \u001b[0m\u001b[3m \u001b[0m\u001b[3m \u001b[0m\u001b[3m2012271201_1903-09-26_ed-1_seq-1_ocr.txt\u001b[0m\u001b[3m \u001b[0m\u001b[3m \u001b[0m\u001b[3m \u001b[0m\u001b[3mNUMERO 17\u001b[0m\u001b[3m                                           \u001b[0m\u001b[3m \u001b[0m\u001b[3m \u001b[0m\u001b[3m \u001b[0m                    │\n",
       "│  \u001b[1m              \u001b[0m \u001b[3m \u001b[0m\u001b[3m \u001b[0m\u001b[3m \u001b[0m\u001b[3m2012271201_1903-10-03_ed-1_seq-1_ocr.txt\u001b[0m\u001b[3m \u001b[0m\u001b[3m \u001b[0m\u001b[3m \u001b[0m\u001b[3mli\u001b[0m\u001b[3m                                                  \u001b[0m\u001b[3m \u001b[0m\u001b[3m \u001b[0m\u001b[3m \u001b[0m                    │\n",
       "│  \u001b[1m              \u001b[0m \u001b[3m \u001b[0m\u001b[3m \u001b[0m\u001b[3m \u001b[0m\u001b[3m...\u001b[0m\u001b[3m                                     \u001b[0m\u001b[3m \u001b[0m\u001b[3m \u001b[0m\u001b[3m \u001b[0m\u001b[3m...\u001b[0m\u001b[3m                                                 \u001b[0m\u001b[3m \u001b[0m\u001b[3m \u001b[0m\u001b[3m \u001b[0m                    │\n",
       "│  \u001b[1m              \u001b[0m \u001b[3m \u001b[0m\u001b[3m \u001b[0m\u001b[3m \u001b[0m\u001b[3m...\u001b[0m\u001b[3m                                     \u001b[0m\u001b[3m \u001b[0m\u001b[3m \u001b[0m\u001b[3m \u001b[0m\u001b[3m...\u001b[0m\u001b[3m                                                 \u001b[0m\u001b[3m \u001b[0m\u001b[3m \u001b[0m\u001b[3m \u001b[0m                    │\n",
       "│  \u001b[1m              \u001b[0m \u001b[3m \u001b[0m\u001b[3m \u001b[0m\u001b[3m \u001b[0m\u001b[3msn85066408_1919-12-15_ed-1_seq-1_ocr.txt\u001b[0m\u001b[3m \u001b[0m\u001b[3m \u001b[0m\u001b[3m \u001b[0m\u001b[3mANNO XXXIII-\u001b[0m\u001b[3m                                        \u001b[0m\u001b[3m \u001b[0m\u001b[3m \u001b[0m\u001b[3m \u001b[0m                    │\n",
       "│  \u001b[1m              \u001b[0m \u001b[3m \u001b[0m\u001b[3m \u001b[0m\u001b[3m \u001b[0m\u001b[3msn85066408_1919-12-16_ed-1_seq-1_ocr.txt\u001b[0m\u001b[3m \u001b[0m\u001b[3m \u001b[0m\u001b[3m \u001b[0m\u001b[3manno xxxiii.\u001b[0m\u001b[3m                                        \u001b[0m\u001b[3m \u001b[0m\u001b[3m \u001b[0m\u001b[3m \u001b[0m                    │\n",
       "│  \u001b[1m              \u001b[0m \u001b[3m \u001b[0m\u001b[3m \u001b[0m\u001b[3m \u001b[0m\u001b[3msn85066408_1919-12-17_ed-1_seq-1_ocr.txt\u001b[0m\u001b[3m \u001b[0m\u001b[3m \u001b[0m\u001b[3m \u001b[0m\u001b[3mANNO XXXIII\u001b[0m\u001b[3m                                         \u001b[0m\u001b[3m \u001b[0m\u001b[3m \u001b[0m\u001b[3m \u001b[0m                    │\n",
       "│  \u001b[1m              \u001b[0m \u001b[3m \u001b[0m\u001b[3m \u001b[0m\u001b[3m \u001b[0m\u001b[3msn85066408_1919-12-18_ed-1_seq-1_ocr.txt\u001b[0m\u001b[3m \u001b[0m\u001b[3m \u001b[0m\u001b[3m \u001b[0m\u001b[3manno xxxiil\u001b[0m\u001b[3m                                         \u001b[0m\u001b[3m \u001b[0m\u001b[3m \u001b[0m\u001b[3m \u001b[0m                    │\n",
       "│  \u001b[1m              \u001b[0m \u001b[3m \u001b[0m\u001b[3m \u001b[0m\u001b[3m \u001b[0m\u001b[3msn85066408_1919-12-19_ed-1_seq-1_ocr.txt\u001b[0m\u001b[3m \u001b[0m\u001b[3m \u001b[0m\u001b[3m \u001b[0m\u001b[3manno XXXIII-\u001b[0m\u001b[3m                                        \u001b[0m\u001b[3m \u001b[0m\u001b[3m \u001b[0m\u001b[3m \u001b[0m                    │\n",
       "│  \u001b[1m              \u001b[0m \u001b[3m \u001b[0m\u001b[3m \u001b[0m\u001b[3m \u001b[0m\u001b[3msn85066408_1919-12-20_ed-1_seq-1_ocr.txt\u001b[0m\u001b[3m \u001b[0m\u001b[3m \u001b[0m\u001b[3m \u001b[0m\u001b[3manno xxxiii-\u001b[0m\u001b[3m                                        \u001b[0m\u001b[3m \u001b[0m\u001b[3m \u001b[0m\u001b[3m \u001b[0m                    │\n",
       "│  \u001b[1m              \u001b[0m \u001b[3m \u001b[0m\u001b[3m \u001b[0m\u001b[3m \u001b[0m\u001b[3msn85066408_1919-12-21_ed-1_seq-1_ocr.txt\u001b[0m\u001b[3m \u001b[0m\u001b[3m \u001b[0m\u001b[3m \u001b[0m\u001b[3mFIRST SECTION\u001b[0m\u001b[3m                                       \u001b[0m\u001b[3m \u001b[0m\u001b[3m \u001b[0m\u001b[3m \u001b[0m                    │\n",
       "│  \u001b[1m              \u001b[0m \u001b[3m \u001b[0m\u001b[3m \u001b[0m\u001b[3m \u001b[0m\u001b[3msn85066408_1919-12-22_ed-1_seq-1_ocr.txt\u001b[0m\u001b[3m \u001b[0m\u001b[3m \u001b[0m\u001b[3m \u001b[0m\u001b[3mANNO XXXIII\u001b[0m\u001b[3m                                         \u001b[0m\u001b[3m \u001b[0m\u001b[3m \u001b[0m\u001b[3m \u001b[0m                    │\n",
       "│  \u001b[1m              \u001b[0m \u001b[3m \u001b[0m\u001b[3m \u001b[0m\u001b[3m \u001b[0m\u001b[3msn85066408_1919-12-23_ed-1_seq-1_ocr.txt\u001b[0m\u001b[3m \u001b[0m\u001b[3m \u001b[0m\u001b[3m \u001b[0m\u001b[3mANNO XXXIII\u001b[0m\u001b[3m                                         \u001b[0m\u001b[3m \u001b[0m\u001b[3m \u001b[0m\u001b[3m \u001b[0m                    │\n",
       "│  \u001b[1m              \u001b[0m \u001b[3m \u001b[0m\u001b[3m \u001b[0m\u001b[3m \u001b[0m\u001b[3msn85066408_1919-12-24_ed-1_seq-1_ocr.txt\u001b[0m\u001b[3m \u001b[0m\u001b[3m \u001b[0m\u001b[3m \u001b[0m\u001b[3mANNO XXXIII\u001b[0m\u001b[3m                                         \u001b[0m\u001b[3m \u001b[0m\u001b[3m \u001b[0m\u001b[3m \u001b[0m                    │\n",
       "│  \u001b[1m              \u001b[0m \u001b[3m \u001b[0m\u001b[3m \u001b[0m\u001b[3m \u001b[0m\u001b[3msn85066408_1919-12-25_ed-1_seq-1_ocr.txt\u001b[0m\u001b[3m \u001b[0m\u001b[3m \u001b[0m\u001b[3m \u001b[0m\u001b[3mANNO XXXI li-\u001b[0m\u001b[3m                                       \u001b[0m\u001b[3m \u001b[0m\u001b[3m \u001b[0m\u001b[3m \u001b[0m                    │\n",
       "│  \u001b[1m              \u001b[0m \u001b[3m \u001b[0m\u001b[3m \u001b[0m\u001b[3m \u001b[0m\u001b[3msn85066408_1919-12-27_ed-1_seq-1_ocr.txt\u001b[0m\u001b[3m \u001b[0m\u001b[3m \u001b[0m\u001b[3m \u001b[0m\u001b[3mANNO XXXIII\u001b[0m\u001b[3m                                         \u001b[0m\u001b[3m \u001b[0m\u001b[3m \u001b[0m\u001b[3m \u001b[0m                    │\n",
       "│  \u001b[1m              \u001b[0m \u001b[3m \u001b[0m\u001b[3m \u001b[0m\u001b[3m \u001b[0m\u001b[3msn85066408_1919-12-28_ed-1_seq-1_ocr.txt\u001b[0m\u001b[3m \u001b[0m\u001b[3m \u001b[0m\u001b[3m \u001b[0m\u001b[3mPATRIA e umanità*\u001b[0m\u001b[3m                                   \u001b[0m\u001b[3m \u001b[0m\u001b[3m \u001b[0m\u001b[3m \u001b[0m                    │\n",
       "│  \u001b[1m              \u001b[0m \u001b[3m \u001b[0m\u001b[3m \u001b[0m\u001b[3m \u001b[0m\u001b[3msn85066408_1919-12-29_ed-1_seq-1_ocr.txt\u001b[0m\u001b[3m \u001b[0m\u001b[3m \u001b[0m\u001b[3m \u001b[0m\u001b[3mANNO XXXIII*\u001b[0m\u001b[3m                                        \u001b[0m\u001b[3m \u001b[0m\u001b[3m \u001b[0m\u001b[3m \u001b[0m                    │\n",
       "│  \u001b[1m              \u001b[0m \u001b[3m \u001b[0m\u001b[3m \u001b[0m\u001b[3m \u001b[0m\u001b[3msn85066408_1919-12-30_ed-1_seq-1_ocr.txt\u001b[0m\u001b[3m \u001b[0m\u001b[3m \u001b[0m\u001b[3m \u001b[0m\u001b[3mANNO XXXIII-\u001b[0m\u001b[3m                                        \u001b[0m\u001b[3m \u001b[0m\u001b[3m \u001b[0m\u001b[3m \u001b[0m                    │\n",
       "│  \u001b[1m              \u001b[0m \u001b[3m \u001b[0m\u001b[3m \u001b[0m\u001b[3m \u001b[0m\u001b[3msn85066408_1919-12-31_ed-1_seq-1_ocr.txt\u001b[0m\u001b[3m \u001b[0m\u001b[3m \u001b[0m\u001b[3m \u001b[0m\u001b[3m\\\\\\ll XXXIII\u001b[0m\u001b[3m                                        \u001b[0m\u001b[3m \u001b[0m\u001b[3m \u001b[0m\u001b[3m \u001b[0m                    │\n",
       "│  \u001b[1m              \u001b[0m \u001b[3m \u001b[0m\u001b[3m                                                                                                   \u001b[0m\u001b[3m \u001b[0m                    │\n",
       "│                                                                                                                                          │\n",
       "╰──────────────────────────────────────────────────────────────────────────────────────────────────────────────────────────────────────────╯\n"
      ]
     },
     "execution_count": 9,
     "metadata": {},
     "output_type": "execute_result"
    }
   ],
   "source": [
    "create_table_from_url_results"
   ]
  }
 ],
 "metadata": {
  "kernelspec": {
   "display_name": "tm_2023",
   "language": "python",
   "name": "python3"
  },
  "language_info": {
   "codemirror_mode": {
    "name": "ipython",
    "version": 3
   },
   "file_extension": ".py",
   "mimetype": "text/x-python",
   "name": "python",
   "nbconvert_exporter": "python",
   "pygments_lexer": "ipython3",
   "version": "3.11.5"
  }
 },
 "nbformat": 4,
 "nbformat_minor": 2
}
