{
 "cells": [
  {
   "cell_type": "code",
   "execution_count": 1,
   "metadata": {},
   "outputs": [],
   "source": [
    "# install the package by running the command \"pip install git+https://github.com/DHARPA-Project/kiara_plugin.topic_modelling\"\n",
    "# in your virtual environment.\n",
    "# Alternatively, uncomment and run the line below.\n",
    "# ! pip install git+https://github.com/DHARPA-Project/kiara_plugin.topic_modelling"
   ]
  },
  {
   "cell_type": "code",
   "execution_count": 1,
   "metadata": {},
   "outputs": [],
   "source": [
    "from kiara.api import KiaraAPI\n",
    "kiara = KiaraAPI.instance()"
   ]
  },
  {
   "cell_type": "markdown",
   "metadata": {},
   "source": [
    "## 1. Data onboarding"
   ]
  },
  {
   "cell_type": "markdown",
   "metadata": {},
   "source": [
    "Choose one of the two options below (1.1 or 1.2) to onboard data."
   ]
  },
  {
   "cell_type": "markdown",
   "metadata": {},
   "source": [
    "### 1.1. Get files from zenodo"
   ]
  },
  {
   "cell_type": "code",
   "execution_count": 2,
   "metadata": {},
   "outputs": [
    {
     "name": "stdout",
     "output_type": "stream",
     "text": [
      "\n",
      "╭─ Operation: \u001b[1;3mtopic_modelling.create_table_from_zenodo\u001b[0m ────────────────────────╮\n",
      "│                                                                              │\n",
      "│  \u001b[3m \u001b[0m\u001b[3mDocumentation\u001b[0m\u001b[3m \u001b[0m  This module retrieves text files from a specified folder   │\n",
      "│  \u001b[3m               \u001b[0m  hosted on Zenodo.                                          │\n",
      "│  \u001b[3m               \u001b[0m                                                             │\n",
      "│  \u001b[3m               \u001b[0m  It takes the DOI and the name of the file as inputs.       │\n",
      "│  \u001b[3m               \u001b[0m  It outputs a table with two columns: one for the file      │\n",
      "│  \u001b[3m               \u001b[0m  names and the other for the content of these files.        │\n",
      "│  \u001b[3m               \u001b[0m                                                             │\n",
      "│  \u001b[3m               \u001b[0m  Dependencies:                                              │\n",
      "│  \u001b[3m               \u001b[0m  - urllib.request:                                          │\n",
      "│  \u001b[3m               \u001b[0m  https://docs.python.org/3/library/urllib.request.html      │\n",
      "│  \u001b[3m               \u001b[0m  - zipfile:                                                 │\n",
      "│  \u001b[3m               \u001b[0m  https://docs.python.org/3/library/zipfile.html             │\n",
      "│  \u001b[3m               \u001b[0m  - polars: https://www.pola.rs/                             │\n",
      "│                                                                              │\n",
      "│  \u001b[3m \u001b[0m\u001b[3mInputs       \u001b[0m\u001b[3m \u001b[0m                                                             │\n",
      "│  \u001b[3m               \u001b[0m   \u001b[1m \u001b[0m\u001b[1mfield    \u001b[0m\u001b[1m \u001b[0m \u001b[1m        \u001b[0m \u001b[1m          \u001b[0m \u001b[1m          \u001b[0m \u001b[1m           \u001b[0m    │\n",
      "│  \u001b[3m               \u001b[0m   \u001b[1m \u001b[0m\u001b[1mname     \u001b[0m\u001b[1m \u001b[0m \u001b[1m \u001b[0m\u001b[1mtype  \u001b[0m\u001b[1m \u001b[0m \u001b[1m \u001b[0m\u001b[1mdescrip…\u001b[0m\u001b[1m \u001b[0m \u001b[1m \u001b[0m\u001b[1mRequired\u001b[0m\u001b[1m \u001b[0m \u001b[1m \u001b[0m\u001b[1mDefault  \u001b[0m\u001b[1m \u001b[0m    │\n",
      "│  \u001b[3m               \u001b[0m   ──────────────────────────────────────────────────────    │\n",
      "│  \u001b[3m               \u001b[0m   \u001b[3m \u001b[0m\u001b[3mdoi      \u001b[0m\u001b[3m \u001b[0m  string   The        \u001b[1myes\u001b[0m        -- no         │\n",
      "│  \u001b[3m               \u001b[0m   \u001b[3m           \u001b[0m           Digital               default       │\n",
      "│  \u001b[3m               \u001b[0m   \u001b[3m           \u001b[0m           Object                --            │\n",
      "│  \u001b[3m               \u001b[0m   \u001b[3m           \u001b[0m           Identif…                            │\n",
      "│  \u001b[3m               \u001b[0m   \u001b[3m           \u001b[0m           for the                             │\n",
      "│  \u001b[3m               \u001b[0m   \u001b[3m           \u001b[0m           resourc…                            │\n",
      "│  \u001b[3m               \u001b[0m   \u001b[3m \u001b[0m\u001b[3mfile_name\u001b[0m\u001b[3m \u001b[0m  string   The name   \u001b[1myes\u001b[0m        -- no         │\n",
      "│  \u001b[3m               \u001b[0m   \u001b[3m           \u001b[0m           of the                default       │\n",
      "│  \u001b[3m               \u001b[0m   \u001b[3m           \u001b[0m           file to               --            │\n",
      "│  \u001b[3m               \u001b[0m   \u001b[3m           \u001b[0m           be                                  │\n",
      "│  \u001b[3m               \u001b[0m   \u001b[3m           \u001b[0m           process…                            │\n",
      "│  \u001b[3m               \u001b[0m                                                             │\n",
      "│                                                                              │\n",
      "│  \u001b[3m \u001b[0m\u001b[3mOutputs      \u001b[0m\u001b[3m \u001b[0m                                                             │\n",
      "│  \u001b[3m               \u001b[0m   \u001b[1m \u001b[0m\u001b[1mfield name  \u001b[0m\u001b[1m \u001b[0m \u001b[1m \u001b[0m\u001b[1mtype \u001b[0m\u001b[1m \u001b[0m \u001b[1m \u001b[0m\u001b[1mdescription                  \u001b[0m\u001b[1m \u001b[0m    │\n",
      "│  \u001b[3m               \u001b[0m   ──────────────────────────────────────────────────────    │\n",
      "│  \u001b[3m               \u001b[0m   \u001b[3m \u001b[0m\u001b[3mcorpus_table\u001b[0m\u001b[3m \u001b[0m  table   A table with two columns:         │\n",
      "│  \u001b[3m               \u001b[0m   \u001b[3m              \u001b[0m          file names and their              │\n",
      "│  \u001b[3m               \u001b[0m   \u001b[3m              \u001b[0m          contents.                         │\n",
      "│  \u001b[3m               \u001b[0m                                                             │\n",
      "│                                                                              │\n",
      "╰──────────────────────────────────────────────────────────────────────────────╯\n"
     ]
    }
   ],
   "source": [
    "! kiara operation explain topic_modelling.create_table_from_zenodo"
   ]
  },
  {
   "cell_type": "code",
   "execution_count": 3,
   "metadata": {},
   "outputs": [],
   "source": [
    "create_table_from_zenodo_inputs = {\n",
    "    \"doi\": \"4596345\",\n",
    "    \"file_name\": \"ChroniclItaly_3.0_original.zip\"\n",
    "}"
   ]
  },
  {
   "cell_type": "code",
   "execution_count": 4,
   "metadata": {},
   "outputs": [],
   "source": [
    "create_table_from_zenodo_results = kiara.run_job('topic_modelling.create_table_from_zenodo', inputs=create_table_from_zenodo_inputs)"
   ]
  },
  {
   "cell_type": "code",
   "execution_count": 5,
   "metadata": {},
   "outputs": [
    {
     "data": {
      "text/html": [
       "<pre style=\"white-space:pre;overflow-x:auto;line-height:normal;font-family:Menlo,'DejaVu Sans Mono',consolas,'Courier New',monospace\">╭──────────────────────────────────────────────────────────────────────────────────────────────────────────────────────────────────────────╮\n",
       "│                                                                                                                                          │\n",
       "│  <span style=\"font-weight: bold\"> field        </span> <span style=\"font-weight: bold\"> value                                                                                                                 </span>  │\n",
       "│  ──────────────────────────────────────────────────────────────────────────────────────────────────────────────────────────────────────  │\n",
       "│  <span style=\"font-weight: bold\"> corpus_table </span> <span style=\"font-style: italic\">                                                                                                                       </span>  │\n",
       "│  <span style=\"font-weight: bold\">              </span> <span style=\"font-style: italic\">  </span><span style=\"font-weight: bold; font-style: italic\"> file_name                                </span><span style=\"font-style: italic\"> </span><span style=\"font-weight: bold; font-style: italic\"> content                                                                </span><span style=\"font-style: italic\">  </span>  │\n",
       "│  <span style=\"font-weight: bold\">              </span> <span style=\"font-style: italic\">  ───────────────────────────────────────────────────────────────────────────────────────────────────────────────────  </span>  │\n",
       "│  <span style=\"font-weight: bold\">              </span> <span style=\"font-style: italic\">   2012271201_1918-03-30_ed-1_seq-1_ocr.txt   -A Ci                                                                    </span>  │\n",
       "│  <span style=\"font-weight: bold\">              </span> <span style=\"font-style: italic\">   2012271201_1918-03-16_ed-1_seq-1_ocr.txt   This newspaper has no objection                                          </span>  │\n",
       "│  <span style=\"font-weight: bold\">              </span> <span style=\"font-style: italic\">   2012271201_1918-02-02_ed-1_seq-1_ocr.txt   4                                                                        </span>  │\n",
       "│  <span style=\"font-weight: bold\">              </span> <span style=\"font-style: italic\">   2012271201_1918-02-09_ed-1_seq-1_ocr.txt   M                                                                        </span>  │\n",
       "│  <span style=\"font-weight: bold\">              </span> <span style=\"font-style: italic\">   2012271201_1918-01-05_ed-1_seq-1_ocr.txt   This newspaper has no objection                                          </span>  │\n",
       "│  <span style=\"font-weight: bold\">              </span> <span style=\"font-style: italic\">   2012271201_1918-03-23_ed-1_seq-1_ocr.txt   This newspaper. has no bjèction                                          </span>  │\n",
       "│  <span style=\"font-weight: bold\">              </span> <span style=\"font-style: italic\">   2012271201_1918-04-13_ed-1_seq-1_ocr.txt   a !                                                                      </span>  │\n",
       "│  <span style=\"font-weight: bold\">              </span> <span style=\"font-style: italic\">   2012271201_1918-01-19_ed-1_seq-1_ocr.txt   This newspaper has no objection to filiti? with the Postmasterof Lynn,   </span>  │\n",
       "│  <span style=\"font-weight: bold\">              </span> <span style=\"font-style: italic\">   2012271201_1918-06-06_ed-1_seq-1_ocr.txt   ANNO XVI                                                                 </span>  │\n",
       "│  <span style=\"font-weight: bold\">              </span> <span style=\"font-style: italic\">   2012271201_1918-03-09_ed-1_seq-1_ocr.txt   This newspapet, has no objection                                         </span>  │\n",
       "│  <span style=\"font-weight: bold\">              </span> <span style=\"font-style: italic\">   2012271201_1918-04-06_ed-1_seq-1_ocr.txt   Tfcis iscwspaper has no obectioa                                         </span>  │\n",
       "│  <span style=\"font-weight: bold\">              </span> <span style=\"font-style: italic\">   2012271201_1917-12-29_ed-1_seq-1_ocr.txt   !                                                                        </span>  │\n",
       "│  <span style=\"font-weight: bold\">              </span> <span style=\"font-style: italic\">   2012271201_1918-01-12_ed-1_seq-1_ocr.txt   This newspaper has no objection                                          </span>  │\n",
       "│  <span style=\"font-weight: bold\">              </span> <span style=\"font-style: italic\">   2012271201_1917-11-24_ed-1_seq-1_ocr.txt   This ncwspapcr has no objectlon to filini: with the Postmasterof Lynn,   </span>  │\n",
       "│  <span style=\"font-weight: bold\">              </span> <span style=\"font-style: italic\">   2012271201_1918-02-23_ed-1_seq-1_ocr.txt   1                                                                        </span>  │\n",
       "│  <span style=\"font-weight: bold\">              </span> <span style=\"font-style: italic\">   2012271201_1918-01-26_ed-1_seq-1_ocr.txt   This newspaper has no objection                                          </span>  │\n",
       "│  <span style=\"font-weight: bold\">              </span> <span style=\"font-style: italic\">   ...                                        ...                                                                      </span>  │\n",
       "│  <span style=\"font-weight: bold\">              </span> <span style=\"font-style: italic\">   ...                                        ...                                                                      </span>  │\n",
       "│  <span style=\"font-weight: bold\">              </span> <span style=\"font-style: italic\">   sn84020351_1920-09-25_ed-1_seq-1_ocr.txt   A Cesare quel che                                                        </span>  │\n",
       "│  <span style=\"font-weight: bold\">              </span> <span style=\"font-style: italic\">   sn84020351_1926-11-27_ed-1_seq-1_ocr.txt   I Fatti E                                                                </span>  │\n",
       "│  <span style=\"font-weight: bold\">              </span> <span style=\"font-style: italic\">   sn84020351_1921-02-19_ed-1_seq-1_ocr.txt   Il Comitato Generale Italiano                                            </span>  │\n",
       "│  <span style=\"font-weight: bold\">              </span> <span style=\"font-style: italic\">   sn84020351_1922-11-25_ed-1_seq-1_ocr.txt   ANCORA DI QU1GLEY!                                                       </span>  │\n",
       "│  <span style=\"font-weight: bold\">              </span> <span style=\"font-style: italic\">   sn84020351_1925-10-03_ed-1_seq-1_ocr.txt   R. L. VOLPE. MGR.                                                        </span>  │\n",
       "│  <span style=\"font-weight: bold\">              </span> <span style=\"font-style: italic\">   sn84020351_1929-11-09_ed-1_seq-1_ocr.txt   PICCOLE NOTE                                                             </span>  │\n",
       "│  <span style=\"font-weight: bold\">              </span> <span style=\"font-style: italic\">   sn84020351_1925-06-20_ed-1_seq-1_ocr.txt   P. ALTIERI. Editot                                                       </span>  │\n",
       "│  <span style=\"font-weight: bold\">              </span> <span style=\"font-style: italic\">   sn84020351_1925-02-21_ed-1_seq-1_ocr.txt   R. L. VOLPE., MGR.                                                       </span>  │\n",
       "│  <span style=\"font-weight: bold\">              </span> <span style=\"font-style: italic\">   sn84020351_1923-02-24_ed-1_seq-1_ocr.txt   IL CONC                                                                  </span>  │\n",
       "│  <span style=\"font-weight: bold\">              </span> <span style=\"font-style: italic\">   sn84020351_1921-02-12_ed-1_seq-1_ocr.txt   Published Every Saturday                                                 </span>  │\n",
       "│  <span style=\"font-weight: bold\">              </span> <span style=\"font-style: italic\">   sn84020351_1925-09-26_ed-1_seq-1_ocr.txt   P. ALTIERI. Editoi                                                       </span>  │\n",
       "│  <span style=\"font-weight: bold\">              </span> <span style=\"font-style: italic\">   sn84020351_1922-09-02_ed-1_seq-1_ocr.txt   I nuovi venuti, che hanno abilita'                                       </span>  │\n",
       "│  <span style=\"font-weight: bold\">              </span> <span style=\"font-style: italic\">   sn84020351_1927-10-29_ed-1_seq-1_ocr.txt   epoca ha fatto onore nor                                                 </span>  │\n",
       "│  <span style=\"font-weight: bold\">              </span> <span style=\"font-style: italic\">   sn84020351_1921-08-27_ed-1_seq-1_ocr.txt   By P. ALTIERI                                                            </span>  │\n",
       "│  <span style=\"font-weight: bold\">              </span> <span style=\"font-style: italic\">   sn84020351_1922-02-04_ed-1_seq-1_ocr.txt   Published Every Saturday                                                 </span>  │\n",
       "│  <span style=\"font-weight: bold\">              </span> <span style=\"font-style: italic\">   sn84020351_1922-08-05_ed-1_seq-1_ocr.txt   Sono stato fra i primi in Italia,                                        </span>  │\n",
       "│  <span style=\"font-weight: bold\">              </span> <span style=\"font-style: italic\">                                                                                                                       </span>  │\n",
       "│                                                                                                                                          │\n",
       "╰──────────────────────────────────────────────────────────────────────────────────────────────────────────────────────────────────────────╯\n",
       "</pre>\n"
      ],
      "text/plain": [
       "╭──────────────────────────────────────────────────────────────────────────────────────────────────────────────────────────────────────────╮\n",
       "│                                                                                                                                          │\n",
       "│  \u001b[1m \u001b[0m\u001b[1mfield       \u001b[0m\u001b[1m \u001b[0m \u001b[1m \u001b[0m\u001b[1mvalue                                                                                                                \u001b[0m\u001b[1m \u001b[0m  │\n",
       "│  ──────────────────────────────────────────────────────────────────────────────────────────────────────────────────────────────────────  │\n",
       "│  \u001b[1m \u001b[0m\u001b[1mcorpus_table\u001b[0m\u001b[1m \u001b[0m \u001b[3m \u001b[0m\u001b[3m                                                                                                                     \u001b[0m\u001b[3m \u001b[0m  │\n",
       "│  \u001b[1m              \u001b[0m \u001b[3m \u001b[0m\u001b[3m \u001b[0m\u001b[1;3m \u001b[0m\u001b[1;3mfile_name\u001b[0m\u001b[1;3m                               \u001b[0m\u001b[1;3m \u001b[0m\u001b[3m \u001b[0m\u001b[1;3m \u001b[0m\u001b[1;3mcontent\u001b[0m\u001b[1;3m                                                               \u001b[0m\u001b[1;3m \u001b[0m\u001b[3m \u001b[0m\u001b[3m \u001b[0m  │\n",
       "│  \u001b[1m              \u001b[0m \u001b[3m \u001b[0m\u001b[3m ─────────────────────────────────────────────────────────────────────────────────────────────────────────────────── \u001b[0m\u001b[3m \u001b[0m  │\n",
       "│  \u001b[1m              \u001b[0m \u001b[3m \u001b[0m\u001b[3m \u001b[0m\u001b[3m \u001b[0m\u001b[3m2012271201_1918-03-30_ed-1_seq-1_ocr.txt\u001b[0m\u001b[3m \u001b[0m\u001b[3m \u001b[0m\u001b[3m \u001b[0m\u001b[3m-A Ci\u001b[0m\u001b[3m                                                                 \u001b[0m\u001b[3m \u001b[0m\u001b[3m \u001b[0m\u001b[3m \u001b[0m  │\n",
       "│  \u001b[1m              \u001b[0m \u001b[3m \u001b[0m\u001b[3m \u001b[0m\u001b[3m \u001b[0m\u001b[3m2012271201_1918-03-16_ed-1_seq-1_ocr.txt\u001b[0m\u001b[3m \u001b[0m\u001b[3m \u001b[0m\u001b[3m \u001b[0m\u001b[3mThis newspaper has no objection\u001b[0m\u001b[3m                                       \u001b[0m\u001b[3m \u001b[0m\u001b[3m \u001b[0m\u001b[3m \u001b[0m  │\n",
       "│  \u001b[1m              \u001b[0m \u001b[3m \u001b[0m\u001b[3m \u001b[0m\u001b[3m \u001b[0m\u001b[3m2012271201_1918-02-02_ed-1_seq-1_ocr.txt\u001b[0m\u001b[3m \u001b[0m\u001b[3m \u001b[0m\u001b[3m \u001b[0m\u001b[3m4\u001b[0m\u001b[3m                                                                     \u001b[0m\u001b[3m \u001b[0m\u001b[3m \u001b[0m\u001b[3m \u001b[0m  │\n",
       "│  \u001b[1m              \u001b[0m \u001b[3m \u001b[0m\u001b[3m \u001b[0m\u001b[3m \u001b[0m\u001b[3m2012271201_1918-02-09_ed-1_seq-1_ocr.txt\u001b[0m\u001b[3m \u001b[0m\u001b[3m \u001b[0m\u001b[3m \u001b[0m\u001b[3mM\u001b[0m\u001b[3m                                                                     \u001b[0m\u001b[3m \u001b[0m\u001b[3m \u001b[0m\u001b[3m \u001b[0m  │\n",
       "│  \u001b[1m              \u001b[0m \u001b[3m \u001b[0m\u001b[3m \u001b[0m\u001b[3m \u001b[0m\u001b[3m2012271201_1918-01-05_ed-1_seq-1_ocr.txt\u001b[0m\u001b[3m \u001b[0m\u001b[3m \u001b[0m\u001b[3m \u001b[0m\u001b[3mThis newspaper has no objection\u001b[0m\u001b[3m                                       \u001b[0m\u001b[3m \u001b[0m\u001b[3m \u001b[0m\u001b[3m \u001b[0m  │\n",
       "│  \u001b[1m              \u001b[0m \u001b[3m \u001b[0m\u001b[3m \u001b[0m\u001b[3m \u001b[0m\u001b[3m2012271201_1918-03-23_ed-1_seq-1_ocr.txt\u001b[0m\u001b[3m \u001b[0m\u001b[3m \u001b[0m\u001b[3m \u001b[0m\u001b[3mThis newspaper. has no bjèction\u001b[0m\u001b[3m                                       \u001b[0m\u001b[3m \u001b[0m\u001b[3m \u001b[0m\u001b[3m \u001b[0m  │\n",
       "│  \u001b[1m              \u001b[0m \u001b[3m \u001b[0m\u001b[3m \u001b[0m\u001b[3m \u001b[0m\u001b[3m2012271201_1918-04-13_ed-1_seq-1_ocr.txt\u001b[0m\u001b[3m \u001b[0m\u001b[3m \u001b[0m\u001b[3m \u001b[0m\u001b[3ma !\u001b[0m\u001b[3m                                                                   \u001b[0m\u001b[3m \u001b[0m\u001b[3m \u001b[0m\u001b[3m \u001b[0m  │\n",
       "│  \u001b[1m              \u001b[0m \u001b[3m \u001b[0m\u001b[3m \u001b[0m\u001b[3m \u001b[0m\u001b[3m2012271201_1918-01-19_ed-1_seq-1_ocr.txt\u001b[0m\u001b[3m \u001b[0m\u001b[3m \u001b[0m\u001b[3m \u001b[0m\u001b[3mThis newspaper has no objection to filiti? with the Postmasterof Lynn,\u001b[0m\u001b[3m \u001b[0m\u001b[3m \u001b[0m\u001b[3m \u001b[0m  │\n",
       "│  \u001b[1m              \u001b[0m \u001b[3m \u001b[0m\u001b[3m \u001b[0m\u001b[3m \u001b[0m\u001b[3m2012271201_1918-06-06_ed-1_seq-1_ocr.txt\u001b[0m\u001b[3m \u001b[0m\u001b[3m \u001b[0m\u001b[3m \u001b[0m\u001b[3mANNO XVI\u001b[0m\u001b[3m                                                              \u001b[0m\u001b[3m \u001b[0m\u001b[3m \u001b[0m\u001b[3m \u001b[0m  │\n",
       "│  \u001b[1m              \u001b[0m \u001b[3m \u001b[0m\u001b[3m \u001b[0m\u001b[3m \u001b[0m\u001b[3m2012271201_1918-03-09_ed-1_seq-1_ocr.txt\u001b[0m\u001b[3m \u001b[0m\u001b[3m \u001b[0m\u001b[3m \u001b[0m\u001b[3mThis newspapet, has no objection\u001b[0m\u001b[3m                                      \u001b[0m\u001b[3m \u001b[0m\u001b[3m \u001b[0m\u001b[3m \u001b[0m  │\n",
       "│  \u001b[1m              \u001b[0m \u001b[3m \u001b[0m\u001b[3m \u001b[0m\u001b[3m \u001b[0m\u001b[3m2012271201_1918-04-06_ed-1_seq-1_ocr.txt\u001b[0m\u001b[3m \u001b[0m\u001b[3m \u001b[0m\u001b[3m \u001b[0m\u001b[3mTfcis iscwspaper has no obectioa\u001b[0m\u001b[3m                                      \u001b[0m\u001b[3m \u001b[0m\u001b[3m \u001b[0m\u001b[3m \u001b[0m  │\n",
       "│  \u001b[1m              \u001b[0m \u001b[3m \u001b[0m\u001b[3m \u001b[0m\u001b[3m \u001b[0m\u001b[3m2012271201_1917-12-29_ed-1_seq-1_ocr.txt\u001b[0m\u001b[3m \u001b[0m\u001b[3m \u001b[0m\u001b[3m \u001b[0m\u001b[3m!\u001b[0m\u001b[3m                                                                     \u001b[0m\u001b[3m \u001b[0m\u001b[3m \u001b[0m\u001b[3m \u001b[0m  │\n",
       "│  \u001b[1m              \u001b[0m \u001b[3m \u001b[0m\u001b[3m \u001b[0m\u001b[3m \u001b[0m\u001b[3m2012271201_1918-01-12_ed-1_seq-1_ocr.txt\u001b[0m\u001b[3m \u001b[0m\u001b[3m \u001b[0m\u001b[3m \u001b[0m\u001b[3mThis newspaper has no objection\u001b[0m\u001b[3m                                       \u001b[0m\u001b[3m \u001b[0m\u001b[3m \u001b[0m\u001b[3m \u001b[0m  │\n",
       "│  \u001b[1m              \u001b[0m \u001b[3m \u001b[0m\u001b[3m \u001b[0m\u001b[3m \u001b[0m\u001b[3m2012271201_1917-11-24_ed-1_seq-1_ocr.txt\u001b[0m\u001b[3m \u001b[0m\u001b[3m \u001b[0m\u001b[3m \u001b[0m\u001b[3mThis ncwspapcr has no objectlon to filini: with the Postmasterof Lynn,\u001b[0m\u001b[3m \u001b[0m\u001b[3m \u001b[0m\u001b[3m \u001b[0m  │\n",
       "│  \u001b[1m              \u001b[0m \u001b[3m \u001b[0m\u001b[3m \u001b[0m\u001b[3m \u001b[0m\u001b[3m2012271201_1918-02-23_ed-1_seq-1_ocr.txt\u001b[0m\u001b[3m \u001b[0m\u001b[3m \u001b[0m\u001b[3m \u001b[0m\u001b[3m1\u001b[0m\u001b[3m                                                                     \u001b[0m\u001b[3m \u001b[0m\u001b[3m \u001b[0m\u001b[3m \u001b[0m  │\n",
       "│  \u001b[1m              \u001b[0m \u001b[3m \u001b[0m\u001b[3m \u001b[0m\u001b[3m \u001b[0m\u001b[3m2012271201_1918-01-26_ed-1_seq-1_ocr.txt\u001b[0m\u001b[3m \u001b[0m\u001b[3m \u001b[0m\u001b[3m \u001b[0m\u001b[3mThis newspaper has no objection\u001b[0m\u001b[3m                                       \u001b[0m\u001b[3m \u001b[0m\u001b[3m \u001b[0m\u001b[3m \u001b[0m  │\n",
       "│  \u001b[1m              \u001b[0m \u001b[3m \u001b[0m\u001b[3m \u001b[0m\u001b[3m \u001b[0m\u001b[3m...\u001b[0m\u001b[3m                                     \u001b[0m\u001b[3m \u001b[0m\u001b[3m \u001b[0m\u001b[3m \u001b[0m\u001b[3m...\u001b[0m\u001b[3m                                                                   \u001b[0m\u001b[3m \u001b[0m\u001b[3m \u001b[0m\u001b[3m \u001b[0m  │\n",
       "│  \u001b[1m              \u001b[0m \u001b[3m \u001b[0m\u001b[3m \u001b[0m\u001b[3m \u001b[0m\u001b[3m...\u001b[0m\u001b[3m                                     \u001b[0m\u001b[3m \u001b[0m\u001b[3m \u001b[0m\u001b[3m \u001b[0m\u001b[3m...\u001b[0m\u001b[3m                                                                   \u001b[0m\u001b[3m \u001b[0m\u001b[3m \u001b[0m\u001b[3m \u001b[0m  │\n",
       "│  \u001b[1m              \u001b[0m \u001b[3m \u001b[0m\u001b[3m \u001b[0m\u001b[3m \u001b[0m\u001b[3msn84020351_1920-09-25_ed-1_seq-1_ocr.txt\u001b[0m\u001b[3m \u001b[0m\u001b[3m \u001b[0m\u001b[3m \u001b[0m\u001b[3mA Cesare quel che\u001b[0m\u001b[3m                                                     \u001b[0m\u001b[3m \u001b[0m\u001b[3m \u001b[0m\u001b[3m \u001b[0m  │\n",
       "│  \u001b[1m              \u001b[0m \u001b[3m \u001b[0m\u001b[3m \u001b[0m\u001b[3m \u001b[0m\u001b[3msn84020351_1926-11-27_ed-1_seq-1_ocr.txt\u001b[0m\u001b[3m \u001b[0m\u001b[3m \u001b[0m\u001b[3m \u001b[0m\u001b[3mI Fatti E\u001b[0m\u001b[3m                                                             \u001b[0m\u001b[3m \u001b[0m\u001b[3m \u001b[0m\u001b[3m \u001b[0m  │\n",
       "│  \u001b[1m              \u001b[0m \u001b[3m \u001b[0m\u001b[3m \u001b[0m\u001b[3m \u001b[0m\u001b[3msn84020351_1921-02-19_ed-1_seq-1_ocr.txt\u001b[0m\u001b[3m \u001b[0m\u001b[3m \u001b[0m\u001b[3m \u001b[0m\u001b[3mIl Comitato Generale Italiano\u001b[0m\u001b[3m                                         \u001b[0m\u001b[3m \u001b[0m\u001b[3m \u001b[0m\u001b[3m \u001b[0m  │\n",
       "│  \u001b[1m              \u001b[0m \u001b[3m \u001b[0m\u001b[3m \u001b[0m\u001b[3m \u001b[0m\u001b[3msn84020351_1922-11-25_ed-1_seq-1_ocr.txt\u001b[0m\u001b[3m \u001b[0m\u001b[3m \u001b[0m\u001b[3m \u001b[0m\u001b[3mANCORA DI QU1GLEY!\u001b[0m\u001b[3m                                                    \u001b[0m\u001b[3m \u001b[0m\u001b[3m \u001b[0m\u001b[3m \u001b[0m  │\n",
       "│  \u001b[1m              \u001b[0m \u001b[3m \u001b[0m\u001b[3m \u001b[0m\u001b[3m \u001b[0m\u001b[3msn84020351_1925-10-03_ed-1_seq-1_ocr.txt\u001b[0m\u001b[3m \u001b[0m\u001b[3m \u001b[0m\u001b[3m \u001b[0m\u001b[3mR. L. VOLPE. MGR.\u001b[0m\u001b[3m                                                     \u001b[0m\u001b[3m \u001b[0m\u001b[3m \u001b[0m\u001b[3m \u001b[0m  │\n",
       "│  \u001b[1m              \u001b[0m \u001b[3m \u001b[0m\u001b[3m \u001b[0m\u001b[3m \u001b[0m\u001b[3msn84020351_1929-11-09_ed-1_seq-1_ocr.txt\u001b[0m\u001b[3m \u001b[0m\u001b[3m \u001b[0m\u001b[3m \u001b[0m\u001b[3mPICCOLE NOTE\u001b[0m\u001b[3m                                                          \u001b[0m\u001b[3m \u001b[0m\u001b[3m \u001b[0m\u001b[3m \u001b[0m  │\n",
       "│  \u001b[1m              \u001b[0m \u001b[3m \u001b[0m\u001b[3m \u001b[0m\u001b[3m \u001b[0m\u001b[3msn84020351_1925-06-20_ed-1_seq-1_ocr.txt\u001b[0m\u001b[3m \u001b[0m\u001b[3m \u001b[0m\u001b[3m \u001b[0m\u001b[3mP. ALTIERI. Editot\u001b[0m\u001b[3m                                                    \u001b[0m\u001b[3m \u001b[0m\u001b[3m \u001b[0m\u001b[3m \u001b[0m  │\n",
       "│  \u001b[1m              \u001b[0m \u001b[3m \u001b[0m\u001b[3m \u001b[0m\u001b[3m \u001b[0m\u001b[3msn84020351_1925-02-21_ed-1_seq-1_ocr.txt\u001b[0m\u001b[3m \u001b[0m\u001b[3m \u001b[0m\u001b[3m \u001b[0m\u001b[3mR. L. VOLPE., MGR.\u001b[0m\u001b[3m                                                    \u001b[0m\u001b[3m \u001b[0m\u001b[3m \u001b[0m\u001b[3m \u001b[0m  │\n",
       "│  \u001b[1m              \u001b[0m \u001b[3m \u001b[0m\u001b[3m \u001b[0m\u001b[3m \u001b[0m\u001b[3msn84020351_1923-02-24_ed-1_seq-1_ocr.txt\u001b[0m\u001b[3m \u001b[0m\u001b[3m \u001b[0m\u001b[3m \u001b[0m\u001b[3mIL CONC\u001b[0m\u001b[3m                                                               \u001b[0m\u001b[3m \u001b[0m\u001b[3m \u001b[0m\u001b[3m \u001b[0m  │\n",
       "│  \u001b[1m              \u001b[0m \u001b[3m \u001b[0m\u001b[3m \u001b[0m\u001b[3m \u001b[0m\u001b[3msn84020351_1921-02-12_ed-1_seq-1_ocr.txt\u001b[0m\u001b[3m \u001b[0m\u001b[3m \u001b[0m\u001b[3m \u001b[0m\u001b[3mPublished Every Saturday\u001b[0m\u001b[3m                                              \u001b[0m\u001b[3m \u001b[0m\u001b[3m \u001b[0m\u001b[3m \u001b[0m  │\n",
       "│  \u001b[1m              \u001b[0m \u001b[3m \u001b[0m\u001b[3m \u001b[0m\u001b[3m \u001b[0m\u001b[3msn84020351_1925-09-26_ed-1_seq-1_ocr.txt\u001b[0m\u001b[3m \u001b[0m\u001b[3m \u001b[0m\u001b[3m \u001b[0m\u001b[3mP. ALTIERI. Editoi\u001b[0m\u001b[3m                                                    \u001b[0m\u001b[3m \u001b[0m\u001b[3m \u001b[0m\u001b[3m \u001b[0m  │\n",
       "│  \u001b[1m              \u001b[0m \u001b[3m \u001b[0m\u001b[3m \u001b[0m\u001b[3m \u001b[0m\u001b[3msn84020351_1922-09-02_ed-1_seq-1_ocr.txt\u001b[0m\u001b[3m \u001b[0m\u001b[3m \u001b[0m\u001b[3m \u001b[0m\u001b[3mI nuovi venuti, che hanno abilita'\u001b[0m\u001b[3m                                    \u001b[0m\u001b[3m \u001b[0m\u001b[3m \u001b[0m\u001b[3m \u001b[0m  │\n",
       "│  \u001b[1m              \u001b[0m \u001b[3m \u001b[0m\u001b[3m \u001b[0m\u001b[3m \u001b[0m\u001b[3msn84020351_1927-10-29_ed-1_seq-1_ocr.txt\u001b[0m\u001b[3m \u001b[0m\u001b[3m \u001b[0m\u001b[3m \u001b[0m\u001b[3mepoca ha fatto onore nor\u001b[0m\u001b[3m                                              \u001b[0m\u001b[3m \u001b[0m\u001b[3m \u001b[0m\u001b[3m \u001b[0m  │\n",
       "│  \u001b[1m              \u001b[0m \u001b[3m \u001b[0m\u001b[3m \u001b[0m\u001b[3m \u001b[0m\u001b[3msn84020351_1921-08-27_ed-1_seq-1_ocr.txt\u001b[0m\u001b[3m \u001b[0m\u001b[3m \u001b[0m\u001b[3m \u001b[0m\u001b[3mBy P. ALTIERI\u001b[0m\u001b[3m                                                         \u001b[0m\u001b[3m \u001b[0m\u001b[3m \u001b[0m\u001b[3m \u001b[0m  │\n",
       "│  \u001b[1m              \u001b[0m \u001b[3m \u001b[0m\u001b[3m \u001b[0m\u001b[3m \u001b[0m\u001b[3msn84020351_1922-02-04_ed-1_seq-1_ocr.txt\u001b[0m\u001b[3m \u001b[0m\u001b[3m \u001b[0m\u001b[3m \u001b[0m\u001b[3mPublished Every Saturday\u001b[0m\u001b[3m                                              \u001b[0m\u001b[3m \u001b[0m\u001b[3m \u001b[0m\u001b[3m \u001b[0m  │\n",
       "│  \u001b[1m              \u001b[0m \u001b[3m \u001b[0m\u001b[3m \u001b[0m\u001b[3m \u001b[0m\u001b[3msn84020351_1922-08-05_ed-1_seq-1_ocr.txt\u001b[0m\u001b[3m \u001b[0m\u001b[3m \u001b[0m\u001b[3m \u001b[0m\u001b[3mSono stato fra i primi in Italia,\u001b[0m\u001b[3m                                     \u001b[0m\u001b[3m \u001b[0m\u001b[3m \u001b[0m\u001b[3m \u001b[0m  │\n",
       "│  \u001b[1m              \u001b[0m \u001b[3m \u001b[0m\u001b[3m                                                                                                                     \u001b[0m\u001b[3m \u001b[0m  │\n",
       "│                                                                                                                                          │\n",
       "╰──────────────────────────────────────────────────────────────────────────────────────────────────────────────────────────────────────────╯\n"
      ]
     },
     "execution_count": 5,
     "metadata": {},
     "output_type": "execute_result"
    }
   ],
   "source": [
    "create_table_from_zenodo_results"
   ]
  },
  {
   "cell_type": "code",
   "execution_count": 6,
   "metadata": {},
   "outputs": [],
   "source": [
    "corpus_table_zenodo = create_table_from_zenodo_results['corpus_table']"
   ]
  },
  {
   "cell_type": "markdown",
   "metadata": {},
   "source": [
    "### 1.2. Get files from .zip url"
   ]
  },
  {
   "cell_type": "code",
   "execution_count": 7,
   "metadata": {},
   "outputs": [
    {
     "name": "stdout",
     "output_type": "stream",
     "text": [
      "\n",
      "╭─ Operation: \u001b[1;3mtopic_modelling.create_table_from_url\u001b[0m ───────────────────────────╮\n",
      "│                                                                              │\n",
      "│  \u001b[3m \u001b[0m\u001b[3mDocumentation\u001b[0m\u001b[3m \u001b[0m  This module retrieves text files from a specified          │\n",
      "│  \u001b[3m               \u001b[0m  sub-path within a zip file hosted at a given URL.          │\n",
      "│  \u001b[3m               \u001b[0m                                                             │\n",
      "│  \u001b[3m               \u001b[0m  It outputs a table with two columns: one for the file      │\n",
      "│  \u001b[3m               \u001b[0m  names and the other for the content of these files.        │\n",
      "│  \u001b[3m               \u001b[0m                                                             │\n",
      "│  \u001b[3m               \u001b[0m  Dependencies:                                              │\n",
      "│  \u001b[3m               \u001b[0m  - urllib.request:                                          │\n",
      "│  \u001b[3m               \u001b[0m  https://docs.python.org/3/library/urllib.request.html      │\n",
      "│  \u001b[3m               \u001b[0m  - zipfile:                                                 │\n",
      "│  \u001b[3m               \u001b[0m  https://docs.python.org/3/library/zipfile.html             │\n",
      "│  \u001b[3m               \u001b[0m  - polars: https://www.pola.rs/                             │\n",
      "│                                                                              │\n",
      "│  \u001b[3m \u001b[0m\u001b[3mInputs       \u001b[0m\u001b[3m \u001b[0m                                                             │\n",
      "│  \u001b[3m               \u001b[0m   \u001b[1m \u001b[0m\u001b[1mfield    \u001b[0m\u001b[1m \u001b[0m \u001b[1m        \u001b[0m \u001b[1m          \u001b[0m \u001b[1m          \u001b[0m \u001b[1m           \u001b[0m    │\n",
      "│  \u001b[3m               \u001b[0m   \u001b[1m \u001b[0m\u001b[1mname     \u001b[0m\u001b[1m \u001b[0m \u001b[1m \u001b[0m\u001b[1mtype  \u001b[0m\u001b[1m \u001b[0m \u001b[1m \u001b[0m\u001b[1mdescrip…\u001b[0m\u001b[1m \u001b[0m \u001b[1m \u001b[0m\u001b[1mRequired\u001b[0m\u001b[1m \u001b[0m \u001b[1m \u001b[0m\u001b[1mDefault  \u001b[0m\u001b[1m \u001b[0m    │\n",
      "│  \u001b[3m               \u001b[0m   ──────────────────────────────────────────────────────    │\n",
      "│  \u001b[3m               \u001b[0m   \u001b[3m \u001b[0m\u001b[3murl      \u001b[0m\u001b[3m \u001b[0m  string   URL of     \u001b[1myes\u001b[0m        -- no         │\n",
      "│  \u001b[3m               \u001b[0m   \u001b[3m           \u001b[0m           the zip               default       │\n",
      "│  \u001b[3m               \u001b[0m   \u001b[3m           \u001b[0m           file to               --            │\n",
      "│  \u001b[3m               \u001b[0m   \u001b[3m           \u001b[0m           retrieve                            │\n",
      "│  \u001b[3m               \u001b[0m   \u001b[3m           \u001b[0m           text                                │\n",
      "│  \u001b[3m               \u001b[0m   \u001b[3m           \u001b[0m           files                               │\n",
      "│  \u001b[3m               \u001b[0m   \u001b[3m           \u001b[0m           from.                               │\n",
      "│  \u001b[3m               \u001b[0m   \u001b[3m \u001b[0m\u001b[3msub_path \u001b[0m\u001b[3m \u001b[0m  string   Sub-path   no         -- no         │\n",
      "│  \u001b[3m               \u001b[0m   \u001b[3m           \u001b[0m           within                default       │\n",
      "│  \u001b[3m               \u001b[0m   \u001b[3m           \u001b[0m           the zip               --            │\n",
      "│  \u001b[3m               \u001b[0m   \u001b[3m           \u001b[0m           file to                             │\n",
      "│  \u001b[3m               \u001b[0m   \u001b[3m           \u001b[0m           look for                            │\n",
      "│  \u001b[3m               \u001b[0m   \u001b[3m           \u001b[0m           text                                │\n",
      "│  \u001b[3m               \u001b[0m   \u001b[3m           \u001b[0m           files.                              │\n",
      "│  \u001b[3m               \u001b[0m                                                             │\n",
      "│                                                                              │\n",
      "│  \u001b[3m \u001b[0m\u001b[3mOutputs      \u001b[0m\u001b[3m \u001b[0m                                                             │\n",
      "│  \u001b[3m               \u001b[0m   \u001b[1m \u001b[0m\u001b[1mfield name  \u001b[0m\u001b[1m \u001b[0m \u001b[1m \u001b[0m\u001b[1mtype \u001b[0m\u001b[1m \u001b[0m \u001b[1m \u001b[0m\u001b[1mdescription                  \u001b[0m\u001b[1m \u001b[0m    │\n",
      "│  \u001b[3m               \u001b[0m   ──────────────────────────────────────────────────────    │\n",
      "│  \u001b[3m               \u001b[0m   \u001b[3m \u001b[0m\u001b[3mcorpus_table\u001b[0m\u001b[3m \u001b[0m  table   Table with file names and         │\n",
      "│  \u001b[3m               \u001b[0m   \u001b[3m              \u001b[0m          contents.                         │\n",
      "│  \u001b[3m               \u001b[0m                                                             │\n",
      "│                                                                              │\n",
      "╰──────────────────────────────────────────────────────────────────────────────╯\n"
     ]
    }
   ],
   "source": [
    "! kiara operation explain topic_modelling.create_table_from_url"
   ]
  },
  {
   "cell_type": "code",
   "execution_count": 8,
   "metadata": {},
   "outputs": [],
   "source": [
    "create_table_from_url_inputs = {\n",
    "    \"url\": \"https://github.com/DHARPA-Project/kiara.examples/archive/refs/heads/main.zip\",\n",
    "    \"sub_path\": \"kiara.examples-main/examples/workshops/dh_benelux_2023/data\"\n",
    "}"
   ]
  },
  {
   "cell_type": "code",
   "execution_count": 9,
   "metadata": {},
   "outputs": [],
   "source": [
    "create_table_from_url_results = kiara.run_job('topic_modelling.create_table_from_url', inputs=create_table_from_url_inputs)"
   ]
  },
  {
   "cell_type": "code",
   "execution_count": 10,
   "metadata": {},
   "outputs": [
    {
     "data": {
      "text/html": [
       "<pre style=\"white-space:pre;overflow-x:auto;line-height:normal;font-family:Menlo,'DejaVu Sans Mono',consolas,'Courier New',monospace\">╭──────────────────────────────────────────────────────────────────────────────────────────────────────────────────────────────────────────╮\n",
       "│                                                                                                                                          │\n",
       "│  <span style=\"font-weight: bold\"> field        </span> <span style=\"font-weight: bold\"> value                                                                                               </span>                    │\n",
       "│  ────────────────────────────────────────────────────────────────────────────────────────────────────────────────────                    │\n",
       "│  <span style=\"font-weight: bold\"> corpus_table </span> <span style=\"font-style: italic\">                                                                                                     </span>                    │\n",
       "│  <span style=\"font-weight: bold\">              </span> <span style=\"font-style: italic\">  </span><span style=\"font-weight: bold; font-style: italic\"> file_name                                </span><span style=\"font-style: italic\"> </span><span style=\"font-weight: bold; font-style: italic\"> content                                              </span><span style=\"font-style: italic\">  </span>                    │\n",
       "│  <span style=\"font-weight: bold\">              </span> <span style=\"font-style: italic\">  ─────────────────────────────────────────────────────────────────────────────────────────────────  </span>                    │\n",
       "│  <span style=\"font-weight: bold\">              </span> <span style=\"font-style: italic\">   2012271201_1903-06-06_ed-1_seq-1_ocr.txt   LI 1,111 \"\"\"\"                                          </span>                    │\n",
       "│  <span style=\"font-weight: bold\">              </span> <span style=\"font-style: italic\">   2012271201_1903-06-13_ed-1_seq-1_ocr.txt   Ebdomadario anarchico di propaganda rivoluzionaria.    </span>                    │\n",
       "│  <span style=\"font-weight: bold\">              </span> <span style=\"font-style: italic\">   2012271201_1903-06-20_ed-1_seq-1_ocr.txt   ANNO I.                                                </span>                    │\n",
       "│  <span style=\"font-weight: bold\">              </span> <span style=\"font-style: italic\">   2012271201_1903-06-27_ed-1_seq-1_ocr.txt   Ebdomadàrio anarchico di propaganda rivoluzionaria.    </span>                    │\n",
       "│  <span style=\"font-weight: bold\">              </span> <span style=\"font-style: italic\">   2012271201_1903-07-04_ed-1_seq-1_ocr.txt   NUMERO 5                                               </span>                    │\n",
       "│  <span style=\"font-weight: bold\">              </span> <span style=\"font-style: italic\">   2012271201_1903-07-25_ed-1_seq-1_ocr.txt   ANNO I.                                                </span>                    │\n",
       "│  <span style=\"font-weight: bold\">              </span> <span style=\"font-style: italic\">   2012271201_1903-08-01_ed-1_seq-1_ocr.txt   ANNO I.                                                </span>                    │\n",
       "│  <span style=\"font-weight: bold\">              </span> <span style=\"font-style: italic\">   2012271201_1903-08-08_ed-1_seq-1_ocr.txt   Ciac vtj'y inn                                         </span>                    │\n",
       "│  <span style=\"font-weight: bold\">              </span> <span style=\"font-style: italic\">   2012271201_1903-08-15_ed-1_seq-1_ocr.txt   NUMERO 11                                              </span>                    │\n",
       "│  <span style=\"font-weight: bold\">              </span> <span style=\"font-style: italic\">   2012271201_1903-08-22_ed-1_seq-1_ocr.txt   Ebdomadario anarchico di propaganda: rivoluzionaria.   </span>                    │\n",
       "│  <span style=\"font-weight: bold\">              </span> <span style=\"font-style: italic\">   2012271201_1903-08-29_ed-1_seq-1_ocr.txt   SUMERO 13                                              </span>                    │\n",
       "│  <span style=\"font-weight: bold\">              </span> <span style=\"font-style: italic\">   2012271201_1903-09-05_ed-1_seq-1_ocr.txt   Ebdomadario anarchico di propaganda rh                 </span>                    │\n",
       "│  <span style=\"font-weight: bold\">              </span> <span style=\"font-style: italic\">   2012271201_1903-09-12_ed-1_seq-1_ocr.txt   ANNO I.                                                </span>                    │\n",
       "│  <span style=\"font-weight: bold\">              </span> <span style=\"font-style: italic\">   2012271201_1903-09-19_ed-1_seq-1_ocr.txt   ANNO I.                                                </span>                    │\n",
       "│  <span style=\"font-weight: bold\">              </span> <span style=\"font-style: italic\">   2012271201_1903-09-26_ed-1_seq-1_ocr.txt   NUMERO 17                                              </span>                    │\n",
       "│  <span style=\"font-weight: bold\">              </span> <span style=\"font-style: italic\">   2012271201_1903-10-03_ed-1_seq-1_ocr.txt   li                                                     </span>                    │\n",
       "│  <span style=\"font-weight: bold\">              </span> <span style=\"font-style: italic\">   ...                                        ...                                                    </span>                    │\n",
       "│  <span style=\"font-weight: bold\">              </span> <span style=\"font-style: italic\">   ...                                        ...                                                    </span>                    │\n",
       "│  <span style=\"font-weight: bold\">              </span> <span style=\"font-style: italic\">   sn85066408_1919-12-15_ed-1_seq-1_ocr.txt   ANNO XXXIII-                                           </span>                    │\n",
       "│  <span style=\"font-weight: bold\">              </span> <span style=\"font-style: italic\">   sn85066408_1919-12-16_ed-1_seq-1_ocr.txt   anno xxxiii.                                           </span>                    │\n",
       "│  <span style=\"font-weight: bold\">              </span> <span style=\"font-style: italic\">   sn85066408_1919-12-17_ed-1_seq-1_ocr.txt   ANNO XXXIII                                            </span>                    │\n",
       "│  <span style=\"font-weight: bold\">              </span> <span style=\"font-style: italic\">   sn85066408_1919-12-18_ed-1_seq-1_ocr.txt   anno xxxiil                                            </span>                    │\n",
       "│  <span style=\"font-weight: bold\">              </span> <span style=\"font-style: italic\">   sn85066408_1919-12-19_ed-1_seq-1_ocr.txt   anno XXXIII-                                           </span>                    │\n",
       "│  <span style=\"font-weight: bold\">              </span> <span style=\"font-style: italic\">   sn85066408_1919-12-20_ed-1_seq-1_ocr.txt   anno xxxiii-                                           </span>                    │\n",
       "│  <span style=\"font-weight: bold\">              </span> <span style=\"font-style: italic\">   sn85066408_1919-12-21_ed-1_seq-1_ocr.txt   FIRST SECTION                                          </span>                    │\n",
       "│  <span style=\"font-weight: bold\">              </span> <span style=\"font-style: italic\">   sn85066408_1919-12-22_ed-1_seq-1_ocr.txt   ANNO XXXIII                                            </span>                    │\n",
       "│  <span style=\"font-weight: bold\">              </span> <span style=\"font-style: italic\">   sn85066408_1919-12-23_ed-1_seq-1_ocr.txt   ANNO XXXIII                                            </span>                    │\n",
       "│  <span style=\"font-weight: bold\">              </span> <span style=\"font-style: italic\">   sn85066408_1919-12-24_ed-1_seq-1_ocr.txt   ANNO XXXIII                                            </span>                    │\n",
       "│  <span style=\"font-weight: bold\">              </span> <span style=\"font-style: italic\">   sn85066408_1919-12-25_ed-1_seq-1_ocr.txt   ANNO XXXI li-                                          </span>                    │\n",
       "│  <span style=\"font-weight: bold\">              </span> <span style=\"font-style: italic\">   sn85066408_1919-12-27_ed-1_seq-1_ocr.txt   ANNO XXXIII                                            </span>                    │\n",
       "│  <span style=\"font-weight: bold\">              </span> <span style=\"font-style: italic\">   sn85066408_1919-12-28_ed-1_seq-1_ocr.txt   PATRIA e umanità*                                      </span>                    │\n",
       "│  <span style=\"font-weight: bold\">              </span> <span style=\"font-style: italic\">   sn85066408_1919-12-29_ed-1_seq-1_ocr.txt   ANNO XXXIII*                                           </span>                    │\n",
       "│  <span style=\"font-weight: bold\">              </span> <span style=\"font-style: italic\">   sn85066408_1919-12-30_ed-1_seq-1_ocr.txt   ANNO XXXIII-                                           </span>                    │\n",
       "│  <span style=\"font-weight: bold\">              </span> <span style=\"font-style: italic\">   sn85066408_1919-12-31_ed-1_seq-1_ocr.txt   \\\\\\ll XXXIII                                           </span>                    │\n",
       "│  <span style=\"font-weight: bold\">              </span> <span style=\"font-style: italic\">                                                                                                     </span>                    │\n",
       "│                                                                                                                                          │\n",
       "╰──────────────────────────────────────────────────────────────────────────────────────────────────────────────────────────────────────────╯\n",
       "</pre>\n"
      ],
      "text/plain": [
       "╭──────────────────────────────────────────────────────────────────────────────────────────────────────────────────────────────────────────╮\n",
       "│                                                                                                                                          │\n",
       "│  \u001b[1m \u001b[0m\u001b[1mfield       \u001b[0m\u001b[1m \u001b[0m \u001b[1m \u001b[0m\u001b[1mvalue                                                                                              \u001b[0m\u001b[1m \u001b[0m                    │\n",
       "│  ────────────────────────────────────────────────────────────────────────────────────────────────────────────────────                    │\n",
       "│  \u001b[1m \u001b[0m\u001b[1mcorpus_table\u001b[0m\u001b[1m \u001b[0m \u001b[3m \u001b[0m\u001b[3m                                                                                                   \u001b[0m\u001b[3m \u001b[0m                    │\n",
       "│  \u001b[1m              \u001b[0m \u001b[3m \u001b[0m\u001b[3m \u001b[0m\u001b[1;3m \u001b[0m\u001b[1;3mfile_name\u001b[0m\u001b[1;3m                               \u001b[0m\u001b[1;3m \u001b[0m\u001b[3m \u001b[0m\u001b[1;3m \u001b[0m\u001b[1;3mcontent\u001b[0m\u001b[1;3m                                             \u001b[0m\u001b[1;3m \u001b[0m\u001b[3m \u001b[0m\u001b[3m \u001b[0m                    │\n",
       "│  \u001b[1m              \u001b[0m \u001b[3m \u001b[0m\u001b[3m ───────────────────────────────────────────────────────────────────────────────────────────────── \u001b[0m\u001b[3m \u001b[0m                    │\n",
       "│  \u001b[1m              \u001b[0m \u001b[3m \u001b[0m\u001b[3m \u001b[0m\u001b[3m \u001b[0m\u001b[3m2012271201_1903-06-06_ed-1_seq-1_ocr.txt\u001b[0m\u001b[3m \u001b[0m\u001b[3m \u001b[0m\u001b[3m \u001b[0m\u001b[3mLI 1,111 \"\"\"\"\u001b[0m\u001b[3m                                       \u001b[0m\u001b[3m \u001b[0m\u001b[3m \u001b[0m\u001b[3m \u001b[0m                    │\n",
       "│  \u001b[1m              \u001b[0m \u001b[3m \u001b[0m\u001b[3m \u001b[0m\u001b[3m \u001b[0m\u001b[3m2012271201_1903-06-13_ed-1_seq-1_ocr.txt\u001b[0m\u001b[3m \u001b[0m\u001b[3m \u001b[0m\u001b[3m \u001b[0m\u001b[3mEbdomadario anarchico di propaganda rivoluzionaria.\u001b[0m\u001b[3m \u001b[0m\u001b[3m \u001b[0m\u001b[3m \u001b[0m\u001b[3m \u001b[0m                    │\n",
       "│  \u001b[1m              \u001b[0m \u001b[3m \u001b[0m\u001b[3m \u001b[0m\u001b[3m \u001b[0m\u001b[3m2012271201_1903-06-20_ed-1_seq-1_ocr.txt\u001b[0m\u001b[3m \u001b[0m\u001b[3m \u001b[0m\u001b[3m \u001b[0m\u001b[3mANNO I.\u001b[0m\u001b[3m                                             \u001b[0m\u001b[3m \u001b[0m\u001b[3m \u001b[0m\u001b[3m \u001b[0m                    │\n",
       "│  \u001b[1m              \u001b[0m \u001b[3m \u001b[0m\u001b[3m \u001b[0m\u001b[3m \u001b[0m\u001b[3m2012271201_1903-06-27_ed-1_seq-1_ocr.txt\u001b[0m\u001b[3m \u001b[0m\u001b[3m \u001b[0m\u001b[3m \u001b[0m\u001b[3mEbdomadàrio anarchico di propaganda rivoluzionaria.\u001b[0m\u001b[3m \u001b[0m\u001b[3m \u001b[0m\u001b[3m \u001b[0m\u001b[3m \u001b[0m                    │\n",
       "│  \u001b[1m              \u001b[0m \u001b[3m \u001b[0m\u001b[3m \u001b[0m\u001b[3m \u001b[0m\u001b[3m2012271201_1903-07-04_ed-1_seq-1_ocr.txt\u001b[0m\u001b[3m \u001b[0m\u001b[3m \u001b[0m\u001b[3m \u001b[0m\u001b[3mNUMERO 5\u001b[0m\u001b[3m                                            \u001b[0m\u001b[3m \u001b[0m\u001b[3m \u001b[0m\u001b[3m \u001b[0m                    │\n",
       "│  \u001b[1m              \u001b[0m \u001b[3m \u001b[0m\u001b[3m \u001b[0m\u001b[3m \u001b[0m\u001b[3m2012271201_1903-07-25_ed-1_seq-1_ocr.txt\u001b[0m\u001b[3m \u001b[0m\u001b[3m \u001b[0m\u001b[3m \u001b[0m\u001b[3mANNO I.\u001b[0m\u001b[3m                                             \u001b[0m\u001b[3m \u001b[0m\u001b[3m \u001b[0m\u001b[3m \u001b[0m                    │\n",
       "│  \u001b[1m              \u001b[0m \u001b[3m \u001b[0m\u001b[3m \u001b[0m\u001b[3m \u001b[0m\u001b[3m2012271201_1903-08-01_ed-1_seq-1_ocr.txt\u001b[0m\u001b[3m \u001b[0m\u001b[3m \u001b[0m\u001b[3m \u001b[0m\u001b[3mANNO I.\u001b[0m\u001b[3m                                             \u001b[0m\u001b[3m \u001b[0m\u001b[3m \u001b[0m\u001b[3m \u001b[0m                    │\n",
       "│  \u001b[1m              \u001b[0m \u001b[3m \u001b[0m\u001b[3m \u001b[0m\u001b[3m \u001b[0m\u001b[3m2012271201_1903-08-08_ed-1_seq-1_ocr.txt\u001b[0m\u001b[3m \u001b[0m\u001b[3m \u001b[0m\u001b[3m \u001b[0m\u001b[3mCiac vtj'y inn\u001b[0m\u001b[3m                                      \u001b[0m\u001b[3m \u001b[0m\u001b[3m \u001b[0m\u001b[3m \u001b[0m                    │\n",
       "│  \u001b[1m              \u001b[0m \u001b[3m \u001b[0m\u001b[3m \u001b[0m\u001b[3m \u001b[0m\u001b[3m2012271201_1903-08-15_ed-1_seq-1_ocr.txt\u001b[0m\u001b[3m \u001b[0m\u001b[3m \u001b[0m\u001b[3m \u001b[0m\u001b[3mNUMERO 11\u001b[0m\u001b[3m                                           \u001b[0m\u001b[3m \u001b[0m\u001b[3m \u001b[0m\u001b[3m \u001b[0m                    │\n",
       "│  \u001b[1m              \u001b[0m \u001b[3m \u001b[0m\u001b[3m \u001b[0m\u001b[3m \u001b[0m\u001b[3m2012271201_1903-08-22_ed-1_seq-1_ocr.txt\u001b[0m\u001b[3m \u001b[0m\u001b[3m \u001b[0m\u001b[3m \u001b[0m\u001b[3mEbdomadario anarchico di propaganda: rivoluzionaria.\u001b[0m\u001b[3m \u001b[0m\u001b[3m \u001b[0m\u001b[3m \u001b[0m                    │\n",
       "│  \u001b[1m              \u001b[0m \u001b[3m \u001b[0m\u001b[3m \u001b[0m\u001b[3m \u001b[0m\u001b[3m2012271201_1903-08-29_ed-1_seq-1_ocr.txt\u001b[0m\u001b[3m \u001b[0m\u001b[3m \u001b[0m\u001b[3m \u001b[0m\u001b[3mSUMERO 13\u001b[0m\u001b[3m                                           \u001b[0m\u001b[3m \u001b[0m\u001b[3m \u001b[0m\u001b[3m \u001b[0m                    │\n",
       "│  \u001b[1m              \u001b[0m \u001b[3m \u001b[0m\u001b[3m \u001b[0m\u001b[3m \u001b[0m\u001b[3m2012271201_1903-09-05_ed-1_seq-1_ocr.txt\u001b[0m\u001b[3m \u001b[0m\u001b[3m \u001b[0m\u001b[3m \u001b[0m\u001b[3mEbdomadario anarchico di propaganda rh\u001b[0m\u001b[3m              \u001b[0m\u001b[3m \u001b[0m\u001b[3m \u001b[0m\u001b[3m \u001b[0m                    │\n",
       "│  \u001b[1m              \u001b[0m \u001b[3m \u001b[0m\u001b[3m \u001b[0m\u001b[3m \u001b[0m\u001b[3m2012271201_1903-09-12_ed-1_seq-1_ocr.txt\u001b[0m\u001b[3m \u001b[0m\u001b[3m \u001b[0m\u001b[3m \u001b[0m\u001b[3mANNO I.\u001b[0m\u001b[3m                                             \u001b[0m\u001b[3m \u001b[0m\u001b[3m \u001b[0m\u001b[3m \u001b[0m                    │\n",
       "│  \u001b[1m              \u001b[0m \u001b[3m \u001b[0m\u001b[3m \u001b[0m\u001b[3m \u001b[0m\u001b[3m2012271201_1903-09-19_ed-1_seq-1_ocr.txt\u001b[0m\u001b[3m \u001b[0m\u001b[3m \u001b[0m\u001b[3m \u001b[0m\u001b[3mANNO I.\u001b[0m\u001b[3m                                             \u001b[0m\u001b[3m \u001b[0m\u001b[3m \u001b[0m\u001b[3m \u001b[0m                    │\n",
       "│  \u001b[1m              \u001b[0m \u001b[3m \u001b[0m\u001b[3m \u001b[0m\u001b[3m \u001b[0m\u001b[3m2012271201_1903-09-26_ed-1_seq-1_ocr.txt\u001b[0m\u001b[3m \u001b[0m\u001b[3m \u001b[0m\u001b[3m \u001b[0m\u001b[3mNUMERO 17\u001b[0m\u001b[3m                                           \u001b[0m\u001b[3m \u001b[0m\u001b[3m \u001b[0m\u001b[3m \u001b[0m                    │\n",
       "│  \u001b[1m              \u001b[0m \u001b[3m \u001b[0m\u001b[3m \u001b[0m\u001b[3m \u001b[0m\u001b[3m2012271201_1903-10-03_ed-1_seq-1_ocr.txt\u001b[0m\u001b[3m \u001b[0m\u001b[3m \u001b[0m\u001b[3m \u001b[0m\u001b[3mli\u001b[0m\u001b[3m                                                  \u001b[0m\u001b[3m \u001b[0m\u001b[3m \u001b[0m\u001b[3m \u001b[0m                    │\n",
       "│  \u001b[1m              \u001b[0m \u001b[3m \u001b[0m\u001b[3m \u001b[0m\u001b[3m \u001b[0m\u001b[3m...\u001b[0m\u001b[3m                                     \u001b[0m\u001b[3m \u001b[0m\u001b[3m \u001b[0m\u001b[3m \u001b[0m\u001b[3m...\u001b[0m\u001b[3m                                                 \u001b[0m\u001b[3m \u001b[0m\u001b[3m \u001b[0m\u001b[3m \u001b[0m                    │\n",
       "│  \u001b[1m              \u001b[0m \u001b[3m \u001b[0m\u001b[3m \u001b[0m\u001b[3m \u001b[0m\u001b[3m...\u001b[0m\u001b[3m                                     \u001b[0m\u001b[3m \u001b[0m\u001b[3m \u001b[0m\u001b[3m \u001b[0m\u001b[3m...\u001b[0m\u001b[3m                                                 \u001b[0m\u001b[3m \u001b[0m\u001b[3m \u001b[0m\u001b[3m \u001b[0m                    │\n",
       "│  \u001b[1m              \u001b[0m \u001b[3m \u001b[0m\u001b[3m \u001b[0m\u001b[3m \u001b[0m\u001b[3msn85066408_1919-12-15_ed-1_seq-1_ocr.txt\u001b[0m\u001b[3m \u001b[0m\u001b[3m \u001b[0m\u001b[3m \u001b[0m\u001b[3mANNO XXXIII-\u001b[0m\u001b[3m                                        \u001b[0m\u001b[3m \u001b[0m\u001b[3m \u001b[0m\u001b[3m \u001b[0m                    │\n",
       "│  \u001b[1m              \u001b[0m \u001b[3m \u001b[0m\u001b[3m \u001b[0m\u001b[3m \u001b[0m\u001b[3msn85066408_1919-12-16_ed-1_seq-1_ocr.txt\u001b[0m\u001b[3m \u001b[0m\u001b[3m \u001b[0m\u001b[3m \u001b[0m\u001b[3manno xxxiii.\u001b[0m\u001b[3m                                        \u001b[0m\u001b[3m \u001b[0m\u001b[3m \u001b[0m\u001b[3m \u001b[0m                    │\n",
       "│  \u001b[1m              \u001b[0m \u001b[3m \u001b[0m\u001b[3m \u001b[0m\u001b[3m \u001b[0m\u001b[3msn85066408_1919-12-17_ed-1_seq-1_ocr.txt\u001b[0m\u001b[3m \u001b[0m\u001b[3m \u001b[0m\u001b[3m \u001b[0m\u001b[3mANNO XXXIII\u001b[0m\u001b[3m                                         \u001b[0m\u001b[3m \u001b[0m\u001b[3m \u001b[0m\u001b[3m \u001b[0m                    │\n",
       "│  \u001b[1m              \u001b[0m \u001b[3m \u001b[0m\u001b[3m \u001b[0m\u001b[3m \u001b[0m\u001b[3msn85066408_1919-12-18_ed-1_seq-1_ocr.txt\u001b[0m\u001b[3m \u001b[0m\u001b[3m \u001b[0m\u001b[3m \u001b[0m\u001b[3manno xxxiil\u001b[0m\u001b[3m                                         \u001b[0m\u001b[3m \u001b[0m\u001b[3m \u001b[0m\u001b[3m \u001b[0m                    │\n",
       "│  \u001b[1m              \u001b[0m \u001b[3m \u001b[0m\u001b[3m \u001b[0m\u001b[3m \u001b[0m\u001b[3msn85066408_1919-12-19_ed-1_seq-1_ocr.txt\u001b[0m\u001b[3m \u001b[0m\u001b[3m \u001b[0m\u001b[3m \u001b[0m\u001b[3manno XXXIII-\u001b[0m\u001b[3m                                        \u001b[0m\u001b[3m \u001b[0m\u001b[3m \u001b[0m\u001b[3m \u001b[0m                    │\n",
       "│  \u001b[1m              \u001b[0m \u001b[3m \u001b[0m\u001b[3m \u001b[0m\u001b[3m \u001b[0m\u001b[3msn85066408_1919-12-20_ed-1_seq-1_ocr.txt\u001b[0m\u001b[3m \u001b[0m\u001b[3m \u001b[0m\u001b[3m \u001b[0m\u001b[3manno xxxiii-\u001b[0m\u001b[3m                                        \u001b[0m\u001b[3m \u001b[0m\u001b[3m \u001b[0m\u001b[3m \u001b[0m                    │\n",
       "│  \u001b[1m              \u001b[0m \u001b[3m \u001b[0m\u001b[3m \u001b[0m\u001b[3m \u001b[0m\u001b[3msn85066408_1919-12-21_ed-1_seq-1_ocr.txt\u001b[0m\u001b[3m \u001b[0m\u001b[3m \u001b[0m\u001b[3m \u001b[0m\u001b[3mFIRST SECTION\u001b[0m\u001b[3m                                       \u001b[0m\u001b[3m \u001b[0m\u001b[3m \u001b[0m\u001b[3m \u001b[0m                    │\n",
       "│  \u001b[1m              \u001b[0m \u001b[3m \u001b[0m\u001b[3m \u001b[0m\u001b[3m \u001b[0m\u001b[3msn85066408_1919-12-22_ed-1_seq-1_ocr.txt\u001b[0m\u001b[3m \u001b[0m\u001b[3m \u001b[0m\u001b[3m \u001b[0m\u001b[3mANNO XXXIII\u001b[0m\u001b[3m                                         \u001b[0m\u001b[3m \u001b[0m\u001b[3m \u001b[0m\u001b[3m \u001b[0m                    │\n",
       "│  \u001b[1m              \u001b[0m \u001b[3m \u001b[0m\u001b[3m \u001b[0m\u001b[3m \u001b[0m\u001b[3msn85066408_1919-12-23_ed-1_seq-1_ocr.txt\u001b[0m\u001b[3m \u001b[0m\u001b[3m \u001b[0m\u001b[3m \u001b[0m\u001b[3mANNO XXXIII\u001b[0m\u001b[3m                                         \u001b[0m\u001b[3m \u001b[0m\u001b[3m \u001b[0m\u001b[3m \u001b[0m                    │\n",
       "│  \u001b[1m              \u001b[0m \u001b[3m \u001b[0m\u001b[3m \u001b[0m\u001b[3m \u001b[0m\u001b[3msn85066408_1919-12-24_ed-1_seq-1_ocr.txt\u001b[0m\u001b[3m \u001b[0m\u001b[3m \u001b[0m\u001b[3m \u001b[0m\u001b[3mANNO XXXIII\u001b[0m\u001b[3m                                         \u001b[0m\u001b[3m \u001b[0m\u001b[3m \u001b[0m\u001b[3m \u001b[0m                    │\n",
       "│  \u001b[1m              \u001b[0m \u001b[3m \u001b[0m\u001b[3m \u001b[0m\u001b[3m \u001b[0m\u001b[3msn85066408_1919-12-25_ed-1_seq-1_ocr.txt\u001b[0m\u001b[3m \u001b[0m\u001b[3m \u001b[0m\u001b[3m \u001b[0m\u001b[3mANNO XXXI li-\u001b[0m\u001b[3m                                       \u001b[0m\u001b[3m \u001b[0m\u001b[3m \u001b[0m\u001b[3m \u001b[0m                    │\n",
       "│  \u001b[1m              \u001b[0m \u001b[3m \u001b[0m\u001b[3m \u001b[0m\u001b[3m \u001b[0m\u001b[3msn85066408_1919-12-27_ed-1_seq-1_ocr.txt\u001b[0m\u001b[3m \u001b[0m\u001b[3m \u001b[0m\u001b[3m \u001b[0m\u001b[3mANNO XXXIII\u001b[0m\u001b[3m                                         \u001b[0m\u001b[3m \u001b[0m\u001b[3m \u001b[0m\u001b[3m \u001b[0m                    │\n",
       "│  \u001b[1m              \u001b[0m \u001b[3m \u001b[0m\u001b[3m \u001b[0m\u001b[3m \u001b[0m\u001b[3msn85066408_1919-12-28_ed-1_seq-1_ocr.txt\u001b[0m\u001b[3m \u001b[0m\u001b[3m \u001b[0m\u001b[3m \u001b[0m\u001b[3mPATRIA e umanità*\u001b[0m\u001b[3m                                   \u001b[0m\u001b[3m \u001b[0m\u001b[3m \u001b[0m\u001b[3m \u001b[0m                    │\n",
       "│  \u001b[1m              \u001b[0m \u001b[3m \u001b[0m\u001b[3m \u001b[0m\u001b[3m \u001b[0m\u001b[3msn85066408_1919-12-29_ed-1_seq-1_ocr.txt\u001b[0m\u001b[3m \u001b[0m\u001b[3m \u001b[0m\u001b[3m \u001b[0m\u001b[3mANNO XXXIII*\u001b[0m\u001b[3m                                        \u001b[0m\u001b[3m \u001b[0m\u001b[3m \u001b[0m\u001b[3m \u001b[0m                    │\n",
       "│  \u001b[1m              \u001b[0m \u001b[3m \u001b[0m\u001b[3m \u001b[0m\u001b[3m \u001b[0m\u001b[3msn85066408_1919-12-30_ed-1_seq-1_ocr.txt\u001b[0m\u001b[3m \u001b[0m\u001b[3m \u001b[0m\u001b[3m \u001b[0m\u001b[3mANNO XXXIII-\u001b[0m\u001b[3m                                        \u001b[0m\u001b[3m \u001b[0m\u001b[3m \u001b[0m\u001b[3m \u001b[0m                    │\n",
       "│  \u001b[1m              \u001b[0m \u001b[3m \u001b[0m\u001b[3m \u001b[0m\u001b[3m \u001b[0m\u001b[3msn85066408_1919-12-31_ed-1_seq-1_ocr.txt\u001b[0m\u001b[3m \u001b[0m\u001b[3m \u001b[0m\u001b[3m \u001b[0m\u001b[3m\\\\\\ll XXXIII\u001b[0m\u001b[3m                                        \u001b[0m\u001b[3m \u001b[0m\u001b[3m \u001b[0m\u001b[3m \u001b[0m                    │\n",
       "│  \u001b[1m              \u001b[0m \u001b[3m \u001b[0m\u001b[3m                                                                                                   \u001b[0m\u001b[3m \u001b[0m                    │\n",
       "│                                                                                                                                          │\n",
       "╰──────────────────────────────────────────────────────────────────────────────────────────────────────────────────────────────────────────╯\n"
      ]
     },
     "execution_count": 10,
     "metadata": {},
     "output_type": "execute_result"
    }
   ],
   "source": [
    "create_table_from_url_results"
   ]
  },
  {
   "cell_type": "code",
   "execution_count": 11,
   "metadata": {},
   "outputs": [],
   "source": [
    "corpus_table_url = create_table_from_url_results['corpus_table']"
   ]
  },
  {
   "cell_type": "markdown",
   "metadata": {},
   "source": [
    "## 2. Corpus preparation"
   ]
  },
  {
   "cell_type": "markdown",
   "metadata": {},
   "source": [
    "### 2.1. Get LCCN Metadata"
   ]
  },
  {
   "cell_type": "code",
   "execution_count": 12,
   "metadata": {},
   "outputs": [
    {
     "name": "stdout",
     "output_type": "stream",
     "text": [
      "\n",
      "╭─ Operation: \u001b[1;3mtopic_modelling.get_lccn_metadata\u001b[0m ───────────────────────────────╮\n",
      "│                                                                              │\n",
      "│  \u001b[3m \u001b[0m\u001b[3mDocumentation\u001b[0m\u001b[3m \u001b[0m  This module will get metadata from strings that comply     │\n",
      "│  \u001b[3m               \u001b[0m  with LCCN pattern: '/sn86069873/1900-01-05/' to get the    │\n",
      "│  \u001b[3m               \u001b[0m  publication references and the dates and add those         │\n",
      "│  \u001b[3m               \u001b[0m  informations as two new columns.                           │\n",
      "│  \u001b[3m               \u001b[0m                                                             │\n",
      "│  \u001b[3m               \u001b[0m  In addition, if a mapping scheme is provided between       │\n",
      "│  \u001b[3m               \u001b[0m  publication references and publication names, it will      │\n",
      "│  \u001b[3m               \u001b[0m  add a column with the publication names.                   │\n",
      "│  \u001b[3m               \u001b[0m  Such a map is provided in the form of a list of lists      │\n",
      "│  \u001b[3m               \u001b[0m  with publication references and publication names in the   │\n",
      "│  \u001b[3m               \u001b[0m  same order.                                                │\n",
      "│  \u001b[3m               \u001b[0m  Here is an example of how it should look:                  │\n",
      "│  \u001b[3m               \u001b[0m  [[\"2012271201\",\"sn85054967\",\"sn93053873\"],[\"Cronaca_Sov…   │\n",
      "│  \u001b[3m               \u001b[0m                                                             │\n",
      "│  \u001b[3m               \u001b[0m  Dependencies:                                              │\n",
      "│  \u001b[3m               \u001b[0m  - polars: https://www.pola.rs/                             │\n",
      "│  \u001b[3m               \u001b[0m  - pyarrow: https://arrow.apache.org/docs/python/           │\n",
      "│  \u001b[3m               \u001b[0m  - re: https://docs.python.org/3/library/re.html            │\n",
      "│                                                                              │\n",
      "│  \u001b[3m \u001b[0m\u001b[3mInputs       \u001b[0m\u001b[3m \u001b[0m                                                             │\n",
      "│  \u001b[3m               \u001b[0m   \u001b[1m \u001b[0m\u001b[1mfield    \u001b[0m\u001b[1m \u001b[0m \u001b[1m        \u001b[0m \u001b[1m           \u001b[0m \u001b[1m          \u001b[0m \u001b[1m          \u001b[0m    │\n",
      "│  \u001b[3m               \u001b[0m   \u001b[1m \u001b[0m\u001b[1mname     \u001b[0m\u001b[1m \u001b[0m \u001b[1m \u001b[0m\u001b[1mtype  \u001b[0m\u001b[1m \u001b[0m \u001b[1m \u001b[0m\u001b[1mdescript…\u001b[0m\u001b[1m \u001b[0m \u001b[1m \u001b[0m\u001b[1mRequired\u001b[0m\u001b[1m \u001b[0m \u001b[1m \u001b[0m\u001b[1mDefault \u001b[0m\u001b[1m \u001b[0m    │\n",
      "│  \u001b[3m               \u001b[0m   ──────────────────────────────────────────────────────    │\n",
      "│  \u001b[3m               \u001b[0m   \u001b[3m \u001b[0m\u001b[3mcorpus_ta\u001b[0m\u001b[3m \u001b[0m  table    The         \u001b[1myes\u001b[0m        -- no        │\n",
      "│  \u001b[3m               \u001b[0m   \u001b[3m \u001b[0m\u001b[3mble      \u001b[0m\u001b[3m \u001b[0m           corpus                 default      │\n",
      "│  \u001b[3m               \u001b[0m   \u001b[3m           \u001b[0m           for which              --           │\n",
      "│  \u001b[3m               \u001b[0m   \u001b[3m           \u001b[0m           we want                             │\n",
      "│  \u001b[3m               \u001b[0m   \u001b[3m           \u001b[0m           to get                              │\n",
      "│  \u001b[3m               \u001b[0m   \u001b[3m           \u001b[0m           metadata                            │\n",
      "│  \u001b[3m               \u001b[0m   \u001b[3m           \u001b[0m           from file                           │\n",
      "│  \u001b[3m               \u001b[0m   \u001b[3m           \u001b[0m           names.                              │\n",
      "│  \u001b[3m               \u001b[0m   \u001b[3m \u001b[0m\u001b[3mfile_name\u001b[0m\u001b[3m \u001b[0m  string   The         \u001b[1myes\u001b[0m        -- no        │\n",
      "│  \u001b[3m               \u001b[0m   \u001b[3m \u001b[0m\u001b[3m_col     \u001b[0m\u001b[3m \u001b[0m           column                 default      │\n",
      "│  \u001b[3m               \u001b[0m   \u001b[3m           \u001b[0m           containi…              --           │\n",
      "│  \u001b[3m               \u001b[0m   \u001b[3m           \u001b[0m           file                                │\n",
      "│  \u001b[3m               \u001b[0m   \u001b[3m           \u001b[0m           names                               │\n",
      "│  \u001b[3m               \u001b[0m   \u001b[3m           \u001b[0m           with                                │\n",
      "│  \u001b[3m               \u001b[0m   \u001b[3m           \u001b[0m           metadata.                           │\n",
      "│  \u001b[3m               \u001b[0m   \u001b[3m           \u001b[0m           In order                            │\n",
      "│  \u001b[3m               \u001b[0m   \u001b[3m           \u001b[0m           to work,                            │\n",
      "│  \u001b[3m               \u001b[0m   \u001b[3m           \u001b[0m           file                                │\n",
      "│  \u001b[3m               \u001b[0m   \u001b[3m           \u001b[0m           names                               │\n",
      "│  \u001b[3m               \u001b[0m   \u001b[3m           \u001b[0m           need to                             │\n",
      "│  \u001b[3m               \u001b[0m   \u001b[3m           \u001b[0m           comply                              │\n",
      "│  \u001b[3m               \u001b[0m   \u001b[3m           \u001b[0m           with LCCN                           │\n",
      "│  \u001b[3m               \u001b[0m   \u001b[3m           \u001b[0m           pattern                             │\n",
      "│  \u001b[3m               \u001b[0m   \u001b[3m           \u001b[0m           '/sn8606…                           │\n",
      "│  \u001b[3m               \u001b[0m   \u001b[3m           \u001b[0m           containi…                           │\n",
      "│  \u001b[3m               \u001b[0m   \u001b[3m           \u001b[0m           publicat…                           │\n",
      "│  \u001b[3m               \u001b[0m   \u001b[3m           \u001b[0m           reference                           │\n",
      "│  \u001b[3m               \u001b[0m   \u001b[3m           \u001b[0m           and date.                           │\n",
      "│  \u001b[3m               \u001b[0m   \u001b[3m \u001b[0m\u001b[3mmap      \u001b[0m\u001b[3m \u001b[0m  list     List of     no         -- no        │\n",
      "│  \u001b[3m               \u001b[0m   \u001b[3m           \u001b[0m           lists of               default      │\n",
      "│  \u001b[3m               \u001b[0m   \u001b[3m           \u001b[0m           unique                 --           │\n",
      "│  \u001b[3m               \u001b[0m   \u001b[3m           \u001b[0m           publicat…                           │\n",
      "│  \u001b[3m               \u001b[0m   \u001b[3m           \u001b[0m           referenc…                           │\n",
      "│  \u001b[3m               \u001b[0m   \u001b[3m           \u001b[0m           and                                 │\n",
      "│  \u001b[3m               \u001b[0m   \u001b[3m           \u001b[0m           publicat…                           │\n",
      "│  \u001b[3m               \u001b[0m   \u001b[3m           \u001b[0m           names in                            │\n",
      "│  \u001b[3m               \u001b[0m   \u001b[3m           \u001b[0m           the                                 │\n",
      "│  \u001b[3m               \u001b[0m   \u001b[3m           \u001b[0m           collecti…                           │\n",
      "│  \u001b[3m               \u001b[0m   \u001b[3m           \u001b[0m           provided                            │\n",
      "│  \u001b[3m               \u001b[0m   \u001b[3m           \u001b[0m           in the                              │\n",
      "│  \u001b[3m               \u001b[0m   \u001b[3m           \u001b[0m           same                                │\n",
      "│  \u001b[3m               \u001b[0m   \u001b[3m           \u001b[0m           order.                              │\n",
      "│  \u001b[3m               \u001b[0m                                                             │\n",
      "│                                                                              │\n",
      "│  \u001b[3m \u001b[0m\u001b[3mOutputs      \u001b[0m\u001b[3m \u001b[0m                                                             │\n",
      "│  \u001b[3m               \u001b[0m   \u001b[1m \u001b[0m\u001b[1mfield name  \u001b[0m\u001b[1m \u001b[0m \u001b[1m \u001b[0m\u001b[1mtype \u001b[0m\u001b[1m \u001b[0m \u001b[1m \u001b[0m\u001b[1mdescription                  \u001b[0m\u001b[1m \u001b[0m    │\n",
      "│  \u001b[3m               \u001b[0m   ──────────────────────────────────────────────────────    │\n",
      "│  \u001b[3m               \u001b[0m   \u001b[3m \u001b[0m\u001b[3mcorpus_table\u001b[0m\u001b[3m \u001b[0m  table   Augmented table containing        │\n",
      "│  \u001b[3m               \u001b[0m   \u001b[3m              \u001b[0m          extracted metadata.               │\n",
      "│  \u001b[3m               \u001b[0m                                                             │\n",
      "│                                                                              │\n",
      "╰──────────────────────────────────────────────────────────────────────────────╯\n"
     ]
    }
   ],
   "source": [
    "! kiara operation explain topic_modelling.get_lccn_metadata"
   ]
  },
  {
   "cell_type": "code",
   "execution_count": 13,
   "metadata": {},
   "outputs": [],
   "source": [
    "get_lccn_metadata_inputs = {\n",
    "    \"corpus_table\": corpus_table_zenodo,\n",
    "    \"file_name_col\": \"file_name\",\n",
    "    \"map\": [['2012271201','sn85054967','sn93053873','sn85066408','sn85055164','sn84037024','sn84037025','sn84020351','sn86092310','sn92051386'],['Cronaca_Sovversiva','Il_Patriota','L\\'Indipendente','L\\'Italia','La_Libera_Parola','La_Ragione','La_Rassegna','La_Sentinella','La_Sentinella_del_West','La_Tribuna_del_Connecticut']],\n",
    "}"
   ]
  },
  {
   "cell_type": "code",
   "execution_count": 14,
   "metadata": {},
   "outputs": [],
   "source": [
    "# variant with corpus table from url\n",
    "# get_lccn_metadata_inputs = {\n",
    "#     \"corpus_table\": corpus_table_url,\n",
    "#     \"column_name\": \"file_name\",\n",
    "#     \"map\": [['2012271201','sn85054967','sn93053873','sn85066408','sn85055164','sn84037024','sn84037025','sn84020351','sn86092310','sn92051386'],['Cronaca_Sovversiva','Il_Patriota','L\\'Indipendente','L\\'Italia','La_Libera_Parola','La_Ragione','La_Rassegna','La_Sentinella','La_Sentinella_del_West','La_Tribuna_del_Connecticut']],\n",
    "# }"
   ]
  },
  {
   "cell_type": "code",
   "execution_count": 15,
   "metadata": {},
   "outputs": [],
   "source": [
    "get_lccn_metadata_results = kiara.run_job('topic_modelling.get_lccn_metadata', inputs=get_lccn_metadata_inputs)"
   ]
  },
  {
   "cell_type": "code",
   "execution_count": 16,
   "metadata": {},
   "outputs": [
    {
     "data": {
      "text/html": [
       "<pre style=\"white-space:pre;overflow-x:auto;line-height:normal;font-family:Menlo,'DejaVu Sans Mono',consolas,'Courier New',monospace\">╭──────────────────────────────────────────────────────────────────────────────────────────────────────────────────────────────────────────╮\n",
       "│                                                                                                                                          │\n",
       "│  <span style=\"font-weight: bold\"> field        </span> <span style=\"font-weight: bold\"> value                                                                                                                 </span>  │\n",
       "│  ──────────────────────────────────────────────────────────────────────────────────────────────────────────────────────────────────────  │\n",
       "│  <span style=\"font-weight: bold\"> corpus_table </span> <span style=\"font-style: italic\">                                                                                                                       </span>  │\n",
       "│  <span style=\"font-weight: bold\">              </span> <span style=\"font-style: italic\">  </span><span style=\"font-weight: bold; font-style: italic\"> file_name                     </span><span style=\"font-style: italic\"> </span><span style=\"font-weight: bold; font-style: italic\"> content                       </span><span style=\"font-style: italic\"> </span><span style=\"font-weight: bold; font-style: italic\"> date       </span><span style=\"font-style: italic\"> </span><span style=\"font-weight: bold; font-style: italic\"> publication_ref </span><span style=\"font-style: italic\"> </span><span style=\"font-weight: bold; font-style: italic\"> publication_name   </span><span style=\"font-style: italic\">  </span>  │\n",
       "│  <span style=\"font-weight: bold\">              </span> <span style=\"font-style: italic\">  ───────────────────────────────────────────────────────────────────────────────────────────────────────────────────  </span>  │\n",
       "│  <span style=\"font-weight: bold\">              </span> <span style=\"font-style: italic\">   2012271201_1918-03-30_ed-1_se   -A Ci                           1918-03-30   2012271201        Cronaca_Sovversiva   </span>  │\n",
       "│  <span style=\"font-weight: bold\">              </span> <span style=\"font-style: italic\">   2012271201_1918-03-16_ed-1_se   This newspaper has no objecti   1918-03-16   2012271201        Cronaca_Sovversiva   </span>  │\n",
       "│  <span style=\"font-weight: bold\">              </span> <span style=\"font-style: italic\">   2012271201_1918-02-02_ed-1_se   4                               1918-02-02   2012271201        Cronaca_Sovversiva   </span>  │\n",
       "│  <span style=\"font-weight: bold\">              </span> <span style=\"font-style: italic\">   2012271201_1918-02-09_ed-1_se   M                               1918-02-09   2012271201        Cronaca_Sovversiva   </span>  │\n",
       "│  <span style=\"font-weight: bold\">              </span> <span style=\"font-style: italic\">   2012271201_1918-01-05_ed-1_se   This newspaper has no objecti   1918-01-05   2012271201        Cronaca_Sovversiva   </span>  │\n",
       "│  <span style=\"font-weight: bold\">              </span> <span style=\"font-style: italic\">   2012271201_1918-03-23_ed-1_se   This newspaper. has no bjècti   1918-03-23   2012271201        Cronaca_Sovversiva   </span>  │\n",
       "│  <span style=\"font-weight: bold\">              </span> <span style=\"font-style: italic\">   2012271201_1918-04-13_ed-1_se   a !                             1918-04-13   2012271201        Cronaca_Sovversiva   </span>  │\n",
       "│  <span style=\"font-weight: bold\">              </span> <span style=\"font-style: italic\">   2012271201_1918-01-19_ed-1_se   This newspaper has no objecti   1918-01-19   2012271201        Cronaca_Sovversiva   </span>  │\n",
       "│  <span style=\"font-weight: bold\">              </span> <span style=\"font-style: italic\">   2012271201_1918-06-06_ed-1_se   ANNO XVI                        1918-06-06   2012271201        Cronaca_Sovversiva   </span>  │\n",
       "│  <span style=\"font-weight: bold\">              </span> <span style=\"font-style: italic\">   2012271201_1918-03-09_ed-1_se   This newspapet, has no object   1918-03-09   2012271201        Cronaca_Sovversiva   </span>  │\n",
       "│  <span style=\"font-weight: bold\">              </span> <span style=\"font-style: italic\">   2012271201_1918-04-06_ed-1_se   Tfcis iscwspaper has no obect   1918-04-06   2012271201        Cronaca_Sovversiva   </span>  │\n",
       "│  <span style=\"font-weight: bold\">              </span> <span style=\"font-style: italic\">   2012271201_1917-12-29_ed-1_se   !                               1917-12-29   2012271201        Cronaca_Sovversiva   </span>  │\n",
       "│  <span style=\"font-weight: bold\">              </span> <span style=\"font-style: italic\">   2012271201_1918-01-12_ed-1_se   This newspaper has no objecti   1918-01-12   2012271201        Cronaca_Sovversiva   </span>  │\n",
       "│  <span style=\"font-weight: bold\">              </span> <span style=\"font-style: italic\">   2012271201_1917-11-24_ed-1_se   This ncwspapcr has no objectl   1917-11-24   2012271201        Cronaca_Sovversiva   </span>  │\n",
       "│  <span style=\"font-weight: bold\">              </span> <span style=\"font-style: italic\">   2012271201_1918-02-23_ed-1_se   1                               1918-02-23   2012271201        Cronaca_Sovversiva   </span>  │\n",
       "│  <span style=\"font-weight: bold\">              </span> <span style=\"font-style: italic\">   2012271201_1918-01-26_ed-1_se   This newspaper has no objecti   1918-01-26   2012271201        Cronaca_Sovversiva   </span>  │\n",
       "│  <span style=\"font-weight: bold\">              </span> <span style=\"font-style: italic\">   ...                             ...                             ...          ...               ...                  </span>  │\n",
       "│  <span style=\"font-weight: bold\">              </span> <span style=\"font-style: italic\">   ...                             ...                             ...          ...               ...                  </span>  │\n",
       "│  <span style=\"font-weight: bold\">              </span> <span style=\"font-style: italic\">   sn84020351_1920-09-25_ed-1_se   A Cesare quel che               1920-09-25   sn84020351        La_Sentinella        </span>  │\n",
       "│  <span style=\"font-weight: bold\">              </span> <span style=\"font-style: italic\">   sn84020351_1926-11-27_ed-1_se   I Fatti E                       1926-11-27   sn84020351        La_Sentinella        </span>  │\n",
       "│  <span style=\"font-weight: bold\">              </span> <span style=\"font-style: italic\">   sn84020351_1921-02-19_ed-1_se   Il Comitato Generale Italiano   1921-02-19   sn84020351        La_Sentinella        </span>  │\n",
       "│  <span style=\"font-weight: bold\">              </span> <span style=\"font-style: italic\">   sn84020351_1922-11-25_ed-1_se   ANCORA DI QU1GLEY!              1922-11-25   sn84020351        La_Sentinella        </span>  │\n",
       "│  <span style=\"font-weight: bold\">              </span> <span style=\"font-style: italic\">   sn84020351_1925-10-03_ed-1_se   R. L. VOLPE. MGR.               1925-10-03   sn84020351        La_Sentinella        </span>  │\n",
       "│  <span style=\"font-weight: bold\">              </span> <span style=\"font-style: italic\">   sn84020351_1929-11-09_ed-1_se   PICCOLE NOTE                    1929-11-09   sn84020351        La_Sentinella        </span>  │\n",
       "│  <span style=\"font-weight: bold\">              </span> <span style=\"font-style: italic\">   sn84020351_1925-06-20_ed-1_se   P. ALTIERI. Editot              1925-06-20   sn84020351        La_Sentinella        </span>  │\n",
       "│  <span style=\"font-weight: bold\">              </span> <span style=\"font-style: italic\">   sn84020351_1925-02-21_ed-1_se   R. L. VOLPE., MGR.              1925-02-21   sn84020351        La_Sentinella        </span>  │\n",
       "│  <span style=\"font-weight: bold\">              </span> <span style=\"font-style: italic\">   sn84020351_1923-02-24_ed-1_se   IL CONC                         1923-02-24   sn84020351        La_Sentinella        </span>  │\n",
       "│  <span style=\"font-weight: bold\">              </span> <span style=\"font-style: italic\">   sn84020351_1921-02-12_ed-1_se   Published Every Saturday        1921-02-12   sn84020351        La_Sentinella        </span>  │\n",
       "│  <span style=\"font-weight: bold\">              </span> <span style=\"font-style: italic\">   sn84020351_1925-09-26_ed-1_se   P. ALTIERI. Editoi              1925-09-26   sn84020351        La_Sentinella        </span>  │\n",
       "│  <span style=\"font-weight: bold\">              </span> <span style=\"font-style: italic\">   sn84020351_1922-09-02_ed-1_se   I nuovi venuti, che hanno abi   1922-09-02   sn84020351        La_Sentinella        </span>  │\n",
       "│  <span style=\"font-weight: bold\">              </span> <span style=\"font-style: italic\">   sn84020351_1927-10-29_ed-1_se   epoca ha fatto onore nor        1927-10-29   sn84020351        La_Sentinella        </span>  │\n",
       "│  <span style=\"font-weight: bold\">              </span> <span style=\"font-style: italic\">   sn84020351_1921-08-27_ed-1_se   By P. ALTIERI                   1921-08-27   sn84020351        La_Sentinella        </span>  │\n",
       "│  <span style=\"font-weight: bold\">              </span> <span style=\"font-style: italic\">   sn84020351_1922-02-04_ed-1_se   Published Every Saturday        1922-02-04   sn84020351        La_Sentinella        </span>  │\n",
       "│  <span style=\"font-weight: bold\">              </span> <span style=\"font-style: italic\">   sn84020351_1922-08-05_ed-1_se   Sono stato fra i primi in Ita   1922-08-05   sn84020351        La_Sentinella        </span>  │\n",
       "│  <span style=\"font-weight: bold\">              </span> <span style=\"font-style: italic\">                                                                                                                       </span>  │\n",
       "│                                                                                                                                          │\n",
       "╰──────────────────────────────────────────────────────────────────────────────────────────────────────────────────────────────────────────╯\n",
       "</pre>\n"
      ],
      "text/plain": [
       "╭──────────────────────────────────────────────────────────────────────────────────────────────────────────────────────────────────────────╮\n",
       "│                                                                                                                                          │\n",
       "│  \u001b[1m \u001b[0m\u001b[1mfield       \u001b[0m\u001b[1m \u001b[0m \u001b[1m \u001b[0m\u001b[1mvalue                                                                                                                \u001b[0m\u001b[1m \u001b[0m  │\n",
       "│  ──────────────────────────────────────────────────────────────────────────────────────────────────────────────────────────────────────  │\n",
       "│  \u001b[1m \u001b[0m\u001b[1mcorpus_table\u001b[0m\u001b[1m \u001b[0m \u001b[3m \u001b[0m\u001b[3m                                                                                                                     \u001b[0m\u001b[3m \u001b[0m  │\n",
       "│  \u001b[1m              \u001b[0m \u001b[3m \u001b[0m\u001b[3m \u001b[0m\u001b[1;3m \u001b[0m\u001b[1;3mfile_name\u001b[0m\u001b[1;3m                    \u001b[0m\u001b[1;3m \u001b[0m\u001b[3m \u001b[0m\u001b[1;3m \u001b[0m\u001b[1;3mcontent\u001b[0m\u001b[1;3m                      \u001b[0m\u001b[1;3m \u001b[0m\u001b[3m \u001b[0m\u001b[1;3m \u001b[0m\u001b[1;3mdate\u001b[0m\u001b[1;3m      \u001b[0m\u001b[1;3m \u001b[0m\u001b[3m \u001b[0m\u001b[1;3m \u001b[0m\u001b[1;3mpublication_ref\u001b[0m\u001b[1;3m \u001b[0m\u001b[3m \u001b[0m\u001b[1;3m \u001b[0m\u001b[1;3mpublication_name\u001b[0m\u001b[1;3m  \u001b[0m\u001b[1;3m \u001b[0m\u001b[3m \u001b[0m\u001b[3m \u001b[0m  │\n",
       "│  \u001b[1m              \u001b[0m \u001b[3m \u001b[0m\u001b[3m ─────────────────────────────────────────────────────────────────────────────────────────────────────────────────── \u001b[0m\u001b[3m \u001b[0m  │\n",
       "│  \u001b[1m              \u001b[0m \u001b[3m \u001b[0m\u001b[3m \u001b[0m\u001b[3m \u001b[0m\u001b[3m2012271201_1918-03-30_ed-1_se\u001b[0m\u001b[3m \u001b[0m\u001b[3m \u001b[0m\u001b[3m \u001b[0m\u001b[3m-A Ci\u001b[0m\u001b[3m                        \u001b[0m\u001b[3m \u001b[0m\u001b[3m \u001b[0m\u001b[3m \u001b[0m\u001b[3m1918-03-30\u001b[0m\u001b[3m \u001b[0m\u001b[3m \u001b[0m\u001b[3m \u001b[0m\u001b[3m2012271201\u001b[0m\u001b[3m     \u001b[0m\u001b[3m \u001b[0m\u001b[3m \u001b[0m\u001b[3m \u001b[0m\u001b[3mCronaca_Sovversiva\u001b[0m\u001b[3m \u001b[0m\u001b[3m \u001b[0m\u001b[3m \u001b[0m  │\n",
       "│  \u001b[1m              \u001b[0m \u001b[3m \u001b[0m\u001b[3m \u001b[0m\u001b[3m \u001b[0m\u001b[3m2012271201_1918-03-16_ed-1_se\u001b[0m\u001b[3m \u001b[0m\u001b[3m \u001b[0m\u001b[3m \u001b[0m\u001b[3mThis newspaper has no objecti\u001b[0m\u001b[3m \u001b[0m\u001b[3m \u001b[0m\u001b[3m \u001b[0m\u001b[3m1918-03-16\u001b[0m\u001b[3m \u001b[0m\u001b[3m \u001b[0m\u001b[3m \u001b[0m\u001b[3m2012271201\u001b[0m\u001b[3m     \u001b[0m\u001b[3m \u001b[0m\u001b[3m \u001b[0m\u001b[3m \u001b[0m\u001b[3mCronaca_Sovversiva\u001b[0m\u001b[3m \u001b[0m\u001b[3m \u001b[0m\u001b[3m \u001b[0m  │\n",
       "│  \u001b[1m              \u001b[0m \u001b[3m \u001b[0m\u001b[3m \u001b[0m\u001b[3m \u001b[0m\u001b[3m2012271201_1918-02-02_ed-1_se\u001b[0m\u001b[3m \u001b[0m\u001b[3m \u001b[0m\u001b[3m \u001b[0m\u001b[3m4\u001b[0m\u001b[3m                            \u001b[0m\u001b[3m \u001b[0m\u001b[3m \u001b[0m\u001b[3m \u001b[0m\u001b[3m1918-02-02\u001b[0m\u001b[3m \u001b[0m\u001b[3m \u001b[0m\u001b[3m \u001b[0m\u001b[3m2012271201\u001b[0m\u001b[3m     \u001b[0m\u001b[3m \u001b[0m\u001b[3m \u001b[0m\u001b[3m \u001b[0m\u001b[3mCronaca_Sovversiva\u001b[0m\u001b[3m \u001b[0m\u001b[3m \u001b[0m\u001b[3m \u001b[0m  │\n",
       "│  \u001b[1m              \u001b[0m \u001b[3m \u001b[0m\u001b[3m \u001b[0m\u001b[3m \u001b[0m\u001b[3m2012271201_1918-02-09_ed-1_se\u001b[0m\u001b[3m \u001b[0m\u001b[3m \u001b[0m\u001b[3m \u001b[0m\u001b[3mM\u001b[0m\u001b[3m                            \u001b[0m\u001b[3m \u001b[0m\u001b[3m \u001b[0m\u001b[3m \u001b[0m\u001b[3m1918-02-09\u001b[0m\u001b[3m \u001b[0m\u001b[3m \u001b[0m\u001b[3m \u001b[0m\u001b[3m2012271201\u001b[0m\u001b[3m     \u001b[0m\u001b[3m \u001b[0m\u001b[3m \u001b[0m\u001b[3m \u001b[0m\u001b[3mCronaca_Sovversiva\u001b[0m\u001b[3m \u001b[0m\u001b[3m \u001b[0m\u001b[3m \u001b[0m  │\n",
       "│  \u001b[1m              \u001b[0m \u001b[3m \u001b[0m\u001b[3m \u001b[0m\u001b[3m \u001b[0m\u001b[3m2012271201_1918-01-05_ed-1_se\u001b[0m\u001b[3m \u001b[0m\u001b[3m \u001b[0m\u001b[3m \u001b[0m\u001b[3mThis newspaper has no objecti\u001b[0m\u001b[3m \u001b[0m\u001b[3m \u001b[0m\u001b[3m \u001b[0m\u001b[3m1918-01-05\u001b[0m\u001b[3m \u001b[0m\u001b[3m \u001b[0m\u001b[3m \u001b[0m\u001b[3m2012271201\u001b[0m\u001b[3m     \u001b[0m\u001b[3m \u001b[0m\u001b[3m \u001b[0m\u001b[3m \u001b[0m\u001b[3mCronaca_Sovversiva\u001b[0m\u001b[3m \u001b[0m\u001b[3m \u001b[0m\u001b[3m \u001b[0m  │\n",
       "│  \u001b[1m              \u001b[0m \u001b[3m \u001b[0m\u001b[3m \u001b[0m\u001b[3m \u001b[0m\u001b[3m2012271201_1918-03-23_ed-1_se\u001b[0m\u001b[3m \u001b[0m\u001b[3m \u001b[0m\u001b[3m \u001b[0m\u001b[3mThis newspaper. has no bjècti\u001b[0m\u001b[3m \u001b[0m\u001b[3m \u001b[0m\u001b[3m \u001b[0m\u001b[3m1918-03-23\u001b[0m\u001b[3m \u001b[0m\u001b[3m \u001b[0m\u001b[3m \u001b[0m\u001b[3m2012271201\u001b[0m\u001b[3m     \u001b[0m\u001b[3m \u001b[0m\u001b[3m \u001b[0m\u001b[3m \u001b[0m\u001b[3mCronaca_Sovversiva\u001b[0m\u001b[3m \u001b[0m\u001b[3m \u001b[0m\u001b[3m \u001b[0m  │\n",
       "│  \u001b[1m              \u001b[0m \u001b[3m \u001b[0m\u001b[3m \u001b[0m\u001b[3m \u001b[0m\u001b[3m2012271201_1918-04-13_ed-1_se\u001b[0m\u001b[3m \u001b[0m\u001b[3m \u001b[0m\u001b[3m \u001b[0m\u001b[3ma !\u001b[0m\u001b[3m                          \u001b[0m\u001b[3m \u001b[0m\u001b[3m \u001b[0m\u001b[3m \u001b[0m\u001b[3m1918-04-13\u001b[0m\u001b[3m \u001b[0m\u001b[3m \u001b[0m\u001b[3m \u001b[0m\u001b[3m2012271201\u001b[0m\u001b[3m     \u001b[0m\u001b[3m \u001b[0m\u001b[3m \u001b[0m\u001b[3m \u001b[0m\u001b[3mCronaca_Sovversiva\u001b[0m\u001b[3m \u001b[0m\u001b[3m \u001b[0m\u001b[3m \u001b[0m  │\n",
       "│  \u001b[1m              \u001b[0m \u001b[3m \u001b[0m\u001b[3m \u001b[0m\u001b[3m \u001b[0m\u001b[3m2012271201_1918-01-19_ed-1_se\u001b[0m\u001b[3m \u001b[0m\u001b[3m \u001b[0m\u001b[3m \u001b[0m\u001b[3mThis newspaper has no objecti\u001b[0m\u001b[3m \u001b[0m\u001b[3m \u001b[0m\u001b[3m \u001b[0m\u001b[3m1918-01-19\u001b[0m\u001b[3m \u001b[0m\u001b[3m \u001b[0m\u001b[3m \u001b[0m\u001b[3m2012271201\u001b[0m\u001b[3m     \u001b[0m\u001b[3m \u001b[0m\u001b[3m \u001b[0m\u001b[3m \u001b[0m\u001b[3mCronaca_Sovversiva\u001b[0m\u001b[3m \u001b[0m\u001b[3m \u001b[0m\u001b[3m \u001b[0m  │\n",
       "│  \u001b[1m              \u001b[0m \u001b[3m \u001b[0m\u001b[3m \u001b[0m\u001b[3m \u001b[0m\u001b[3m2012271201_1918-06-06_ed-1_se\u001b[0m\u001b[3m \u001b[0m\u001b[3m \u001b[0m\u001b[3m \u001b[0m\u001b[3mANNO XVI\u001b[0m\u001b[3m                     \u001b[0m\u001b[3m \u001b[0m\u001b[3m \u001b[0m\u001b[3m \u001b[0m\u001b[3m1918-06-06\u001b[0m\u001b[3m \u001b[0m\u001b[3m \u001b[0m\u001b[3m \u001b[0m\u001b[3m2012271201\u001b[0m\u001b[3m     \u001b[0m\u001b[3m \u001b[0m\u001b[3m \u001b[0m\u001b[3m \u001b[0m\u001b[3mCronaca_Sovversiva\u001b[0m\u001b[3m \u001b[0m\u001b[3m \u001b[0m\u001b[3m \u001b[0m  │\n",
       "│  \u001b[1m              \u001b[0m \u001b[3m \u001b[0m\u001b[3m \u001b[0m\u001b[3m \u001b[0m\u001b[3m2012271201_1918-03-09_ed-1_se\u001b[0m\u001b[3m \u001b[0m\u001b[3m \u001b[0m\u001b[3m \u001b[0m\u001b[3mThis newspapet, has no object\u001b[0m\u001b[3m \u001b[0m\u001b[3m \u001b[0m\u001b[3m \u001b[0m\u001b[3m1918-03-09\u001b[0m\u001b[3m \u001b[0m\u001b[3m \u001b[0m\u001b[3m \u001b[0m\u001b[3m2012271201\u001b[0m\u001b[3m     \u001b[0m\u001b[3m \u001b[0m\u001b[3m \u001b[0m\u001b[3m \u001b[0m\u001b[3mCronaca_Sovversiva\u001b[0m\u001b[3m \u001b[0m\u001b[3m \u001b[0m\u001b[3m \u001b[0m  │\n",
       "│  \u001b[1m              \u001b[0m \u001b[3m \u001b[0m\u001b[3m \u001b[0m\u001b[3m \u001b[0m\u001b[3m2012271201_1918-04-06_ed-1_se\u001b[0m\u001b[3m \u001b[0m\u001b[3m \u001b[0m\u001b[3m \u001b[0m\u001b[3mTfcis iscwspaper has no obect\u001b[0m\u001b[3m \u001b[0m\u001b[3m \u001b[0m\u001b[3m \u001b[0m\u001b[3m1918-04-06\u001b[0m\u001b[3m \u001b[0m\u001b[3m \u001b[0m\u001b[3m \u001b[0m\u001b[3m2012271201\u001b[0m\u001b[3m     \u001b[0m\u001b[3m \u001b[0m\u001b[3m \u001b[0m\u001b[3m \u001b[0m\u001b[3mCronaca_Sovversiva\u001b[0m\u001b[3m \u001b[0m\u001b[3m \u001b[0m\u001b[3m \u001b[0m  │\n",
       "│  \u001b[1m              \u001b[0m \u001b[3m \u001b[0m\u001b[3m \u001b[0m\u001b[3m \u001b[0m\u001b[3m2012271201_1917-12-29_ed-1_se\u001b[0m\u001b[3m \u001b[0m\u001b[3m \u001b[0m\u001b[3m \u001b[0m\u001b[3m!\u001b[0m\u001b[3m                            \u001b[0m\u001b[3m \u001b[0m\u001b[3m \u001b[0m\u001b[3m \u001b[0m\u001b[3m1917-12-29\u001b[0m\u001b[3m \u001b[0m\u001b[3m \u001b[0m\u001b[3m \u001b[0m\u001b[3m2012271201\u001b[0m\u001b[3m     \u001b[0m\u001b[3m \u001b[0m\u001b[3m \u001b[0m\u001b[3m \u001b[0m\u001b[3mCronaca_Sovversiva\u001b[0m\u001b[3m \u001b[0m\u001b[3m \u001b[0m\u001b[3m \u001b[0m  │\n",
       "│  \u001b[1m              \u001b[0m \u001b[3m \u001b[0m\u001b[3m \u001b[0m\u001b[3m \u001b[0m\u001b[3m2012271201_1918-01-12_ed-1_se\u001b[0m\u001b[3m \u001b[0m\u001b[3m \u001b[0m\u001b[3m \u001b[0m\u001b[3mThis newspaper has no objecti\u001b[0m\u001b[3m \u001b[0m\u001b[3m \u001b[0m\u001b[3m \u001b[0m\u001b[3m1918-01-12\u001b[0m\u001b[3m \u001b[0m\u001b[3m \u001b[0m\u001b[3m \u001b[0m\u001b[3m2012271201\u001b[0m\u001b[3m     \u001b[0m\u001b[3m \u001b[0m\u001b[3m \u001b[0m\u001b[3m \u001b[0m\u001b[3mCronaca_Sovversiva\u001b[0m\u001b[3m \u001b[0m\u001b[3m \u001b[0m\u001b[3m \u001b[0m  │\n",
       "│  \u001b[1m              \u001b[0m \u001b[3m \u001b[0m\u001b[3m \u001b[0m\u001b[3m \u001b[0m\u001b[3m2012271201_1917-11-24_ed-1_se\u001b[0m\u001b[3m \u001b[0m\u001b[3m \u001b[0m\u001b[3m \u001b[0m\u001b[3mThis ncwspapcr has no objectl\u001b[0m\u001b[3m \u001b[0m\u001b[3m \u001b[0m\u001b[3m \u001b[0m\u001b[3m1917-11-24\u001b[0m\u001b[3m \u001b[0m\u001b[3m \u001b[0m\u001b[3m \u001b[0m\u001b[3m2012271201\u001b[0m\u001b[3m     \u001b[0m\u001b[3m \u001b[0m\u001b[3m \u001b[0m\u001b[3m \u001b[0m\u001b[3mCronaca_Sovversiva\u001b[0m\u001b[3m \u001b[0m\u001b[3m \u001b[0m\u001b[3m \u001b[0m  │\n",
       "│  \u001b[1m              \u001b[0m \u001b[3m \u001b[0m\u001b[3m \u001b[0m\u001b[3m \u001b[0m\u001b[3m2012271201_1918-02-23_ed-1_se\u001b[0m\u001b[3m \u001b[0m\u001b[3m \u001b[0m\u001b[3m \u001b[0m\u001b[3m1\u001b[0m\u001b[3m                            \u001b[0m\u001b[3m \u001b[0m\u001b[3m \u001b[0m\u001b[3m \u001b[0m\u001b[3m1918-02-23\u001b[0m\u001b[3m \u001b[0m\u001b[3m \u001b[0m\u001b[3m \u001b[0m\u001b[3m2012271201\u001b[0m\u001b[3m     \u001b[0m\u001b[3m \u001b[0m\u001b[3m \u001b[0m\u001b[3m \u001b[0m\u001b[3mCronaca_Sovversiva\u001b[0m\u001b[3m \u001b[0m\u001b[3m \u001b[0m\u001b[3m \u001b[0m  │\n",
       "│  \u001b[1m              \u001b[0m \u001b[3m \u001b[0m\u001b[3m \u001b[0m\u001b[3m \u001b[0m\u001b[3m2012271201_1918-01-26_ed-1_se\u001b[0m\u001b[3m \u001b[0m\u001b[3m \u001b[0m\u001b[3m \u001b[0m\u001b[3mThis newspaper has no objecti\u001b[0m\u001b[3m \u001b[0m\u001b[3m \u001b[0m\u001b[3m \u001b[0m\u001b[3m1918-01-26\u001b[0m\u001b[3m \u001b[0m\u001b[3m \u001b[0m\u001b[3m \u001b[0m\u001b[3m2012271201\u001b[0m\u001b[3m     \u001b[0m\u001b[3m \u001b[0m\u001b[3m \u001b[0m\u001b[3m \u001b[0m\u001b[3mCronaca_Sovversiva\u001b[0m\u001b[3m \u001b[0m\u001b[3m \u001b[0m\u001b[3m \u001b[0m  │\n",
       "│  \u001b[1m              \u001b[0m \u001b[3m \u001b[0m\u001b[3m \u001b[0m\u001b[3m \u001b[0m\u001b[3m...\u001b[0m\u001b[3m                          \u001b[0m\u001b[3m \u001b[0m\u001b[3m \u001b[0m\u001b[3m \u001b[0m\u001b[3m...\u001b[0m\u001b[3m                          \u001b[0m\u001b[3m \u001b[0m\u001b[3m \u001b[0m\u001b[3m \u001b[0m\u001b[3m...\u001b[0m\u001b[3m       \u001b[0m\u001b[3m \u001b[0m\u001b[3m \u001b[0m\u001b[3m \u001b[0m\u001b[3m...\u001b[0m\u001b[3m            \u001b[0m\u001b[3m \u001b[0m\u001b[3m \u001b[0m\u001b[3m \u001b[0m\u001b[3m...\u001b[0m\u001b[3m               \u001b[0m\u001b[3m \u001b[0m\u001b[3m \u001b[0m\u001b[3m \u001b[0m  │\n",
       "│  \u001b[1m              \u001b[0m \u001b[3m \u001b[0m\u001b[3m \u001b[0m\u001b[3m \u001b[0m\u001b[3m...\u001b[0m\u001b[3m                          \u001b[0m\u001b[3m \u001b[0m\u001b[3m \u001b[0m\u001b[3m \u001b[0m\u001b[3m...\u001b[0m\u001b[3m                          \u001b[0m\u001b[3m \u001b[0m\u001b[3m \u001b[0m\u001b[3m \u001b[0m\u001b[3m...\u001b[0m\u001b[3m       \u001b[0m\u001b[3m \u001b[0m\u001b[3m \u001b[0m\u001b[3m \u001b[0m\u001b[3m...\u001b[0m\u001b[3m            \u001b[0m\u001b[3m \u001b[0m\u001b[3m \u001b[0m\u001b[3m \u001b[0m\u001b[3m...\u001b[0m\u001b[3m               \u001b[0m\u001b[3m \u001b[0m\u001b[3m \u001b[0m\u001b[3m \u001b[0m  │\n",
       "│  \u001b[1m              \u001b[0m \u001b[3m \u001b[0m\u001b[3m \u001b[0m\u001b[3m \u001b[0m\u001b[3msn84020351_1920-09-25_ed-1_se\u001b[0m\u001b[3m \u001b[0m\u001b[3m \u001b[0m\u001b[3m \u001b[0m\u001b[3mA Cesare quel che\u001b[0m\u001b[3m            \u001b[0m\u001b[3m \u001b[0m\u001b[3m \u001b[0m\u001b[3m \u001b[0m\u001b[3m1920-09-25\u001b[0m\u001b[3m \u001b[0m\u001b[3m \u001b[0m\u001b[3m \u001b[0m\u001b[3msn84020351\u001b[0m\u001b[3m     \u001b[0m\u001b[3m \u001b[0m\u001b[3m \u001b[0m\u001b[3m \u001b[0m\u001b[3mLa_Sentinella\u001b[0m\u001b[3m     \u001b[0m\u001b[3m \u001b[0m\u001b[3m \u001b[0m\u001b[3m \u001b[0m  │\n",
       "│  \u001b[1m              \u001b[0m \u001b[3m \u001b[0m\u001b[3m \u001b[0m\u001b[3m \u001b[0m\u001b[3msn84020351_1926-11-27_ed-1_se\u001b[0m\u001b[3m \u001b[0m\u001b[3m \u001b[0m\u001b[3m \u001b[0m\u001b[3mI Fatti E\u001b[0m\u001b[3m                    \u001b[0m\u001b[3m \u001b[0m\u001b[3m \u001b[0m\u001b[3m \u001b[0m\u001b[3m1926-11-27\u001b[0m\u001b[3m \u001b[0m\u001b[3m \u001b[0m\u001b[3m \u001b[0m\u001b[3msn84020351\u001b[0m\u001b[3m     \u001b[0m\u001b[3m \u001b[0m\u001b[3m \u001b[0m\u001b[3m \u001b[0m\u001b[3mLa_Sentinella\u001b[0m\u001b[3m     \u001b[0m\u001b[3m \u001b[0m\u001b[3m \u001b[0m\u001b[3m \u001b[0m  │\n",
       "│  \u001b[1m              \u001b[0m \u001b[3m \u001b[0m\u001b[3m \u001b[0m\u001b[3m \u001b[0m\u001b[3msn84020351_1921-02-19_ed-1_se\u001b[0m\u001b[3m \u001b[0m\u001b[3m \u001b[0m\u001b[3m \u001b[0m\u001b[3mIl Comitato Generale Italiano\u001b[0m\u001b[3m \u001b[0m\u001b[3m \u001b[0m\u001b[3m \u001b[0m\u001b[3m1921-02-19\u001b[0m\u001b[3m \u001b[0m\u001b[3m \u001b[0m\u001b[3m \u001b[0m\u001b[3msn84020351\u001b[0m\u001b[3m     \u001b[0m\u001b[3m \u001b[0m\u001b[3m \u001b[0m\u001b[3m \u001b[0m\u001b[3mLa_Sentinella\u001b[0m\u001b[3m     \u001b[0m\u001b[3m \u001b[0m\u001b[3m \u001b[0m\u001b[3m \u001b[0m  │\n",
       "│  \u001b[1m              \u001b[0m \u001b[3m \u001b[0m\u001b[3m \u001b[0m\u001b[3m \u001b[0m\u001b[3msn84020351_1922-11-25_ed-1_se\u001b[0m\u001b[3m \u001b[0m\u001b[3m \u001b[0m\u001b[3m \u001b[0m\u001b[3mANCORA DI QU1GLEY!\u001b[0m\u001b[3m           \u001b[0m\u001b[3m \u001b[0m\u001b[3m \u001b[0m\u001b[3m \u001b[0m\u001b[3m1922-11-25\u001b[0m\u001b[3m \u001b[0m\u001b[3m \u001b[0m\u001b[3m \u001b[0m\u001b[3msn84020351\u001b[0m\u001b[3m     \u001b[0m\u001b[3m \u001b[0m\u001b[3m \u001b[0m\u001b[3m \u001b[0m\u001b[3mLa_Sentinella\u001b[0m\u001b[3m     \u001b[0m\u001b[3m \u001b[0m\u001b[3m \u001b[0m\u001b[3m \u001b[0m  │\n",
       "│  \u001b[1m              \u001b[0m \u001b[3m \u001b[0m\u001b[3m \u001b[0m\u001b[3m \u001b[0m\u001b[3msn84020351_1925-10-03_ed-1_se\u001b[0m\u001b[3m \u001b[0m\u001b[3m \u001b[0m\u001b[3m \u001b[0m\u001b[3mR. L. VOLPE. MGR.\u001b[0m\u001b[3m            \u001b[0m\u001b[3m \u001b[0m\u001b[3m \u001b[0m\u001b[3m \u001b[0m\u001b[3m1925-10-03\u001b[0m\u001b[3m \u001b[0m\u001b[3m \u001b[0m\u001b[3m \u001b[0m\u001b[3msn84020351\u001b[0m\u001b[3m     \u001b[0m\u001b[3m \u001b[0m\u001b[3m \u001b[0m\u001b[3m \u001b[0m\u001b[3mLa_Sentinella\u001b[0m\u001b[3m     \u001b[0m\u001b[3m \u001b[0m\u001b[3m \u001b[0m\u001b[3m \u001b[0m  │\n",
       "│  \u001b[1m              \u001b[0m \u001b[3m \u001b[0m\u001b[3m \u001b[0m\u001b[3m \u001b[0m\u001b[3msn84020351_1929-11-09_ed-1_se\u001b[0m\u001b[3m \u001b[0m\u001b[3m \u001b[0m\u001b[3m \u001b[0m\u001b[3mPICCOLE NOTE\u001b[0m\u001b[3m                 \u001b[0m\u001b[3m \u001b[0m\u001b[3m \u001b[0m\u001b[3m \u001b[0m\u001b[3m1929-11-09\u001b[0m\u001b[3m \u001b[0m\u001b[3m \u001b[0m\u001b[3m \u001b[0m\u001b[3msn84020351\u001b[0m\u001b[3m     \u001b[0m\u001b[3m \u001b[0m\u001b[3m \u001b[0m\u001b[3m \u001b[0m\u001b[3mLa_Sentinella\u001b[0m\u001b[3m     \u001b[0m\u001b[3m \u001b[0m\u001b[3m \u001b[0m\u001b[3m \u001b[0m  │\n",
       "│  \u001b[1m              \u001b[0m \u001b[3m \u001b[0m\u001b[3m \u001b[0m\u001b[3m \u001b[0m\u001b[3msn84020351_1925-06-20_ed-1_se\u001b[0m\u001b[3m \u001b[0m\u001b[3m \u001b[0m\u001b[3m \u001b[0m\u001b[3mP. ALTIERI. Editot\u001b[0m\u001b[3m           \u001b[0m\u001b[3m \u001b[0m\u001b[3m \u001b[0m\u001b[3m \u001b[0m\u001b[3m1925-06-20\u001b[0m\u001b[3m \u001b[0m\u001b[3m \u001b[0m\u001b[3m \u001b[0m\u001b[3msn84020351\u001b[0m\u001b[3m     \u001b[0m\u001b[3m \u001b[0m\u001b[3m \u001b[0m\u001b[3m \u001b[0m\u001b[3mLa_Sentinella\u001b[0m\u001b[3m     \u001b[0m\u001b[3m \u001b[0m\u001b[3m \u001b[0m\u001b[3m \u001b[0m  │\n",
       "│  \u001b[1m              \u001b[0m \u001b[3m \u001b[0m\u001b[3m \u001b[0m\u001b[3m \u001b[0m\u001b[3msn84020351_1925-02-21_ed-1_se\u001b[0m\u001b[3m \u001b[0m\u001b[3m \u001b[0m\u001b[3m \u001b[0m\u001b[3mR. L. VOLPE., MGR.\u001b[0m\u001b[3m           \u001b[0m\u001b[3m \u001b[0m\u001b[3m \u001b[0m\u001b[3m \u001b[0m\u001b[3m1925-02-21\u001b[0m\u001b[3m \u001b[0m\u001b[3m \u001b[0m\u001b[3m \u001b[0m\u001b[3msn84020351\u001b[0m\u001b[3m     \u001b[0m\u001b[3m \u001b[0m\u001b[3m \u001b[0m\u001b[3m \u001b[0m\u001b[3mLa_Sentinella\u001b[0m\u001b[3m     \u001b[0m\u001b[3m \u001b[0m\u001b[3m \u001b[0m\u001b[3m \u001b[0m  │\n",
       "│  \u001b[1m              \u001b[0m \u001b[3m \u001b[0m\u001b[3m \u001b[0m\u001b[3m \u001b[0m\u001b[3msn84020351_1923-02-24_ed-1_se\u001b[0m\u001b[3m \u001b[0m\u001b[3m \u001b[0m\u001b[3m \u001b[0m\u001b[3mIL CONC\u001b[0m\u001b[3m                      \u001b[0m\u001b[3m \u001b[0m\u001b[3m \u001b[0m\u001b[3m \u001b[0m\u001b[3m1923-02-24\u001b[0m\u001b[3m \u001b[0m\u001b[3m \u001b[0m\u001b[3m \u001b[0m\u001b[3msn84020351\u001b[0m\u001b[3m     \u001b[0m\u001b[3m \u001b[0m\u001b[3m \u001b[0m\u001b[3m \u001b[0m\u001b[3mLa_Sentinella\u001b[0m\u001b[3m     \u001b[0m\u001b[3m \u001b[0m\u001b[3m \u001b[0m\u001b[3m \u001b[0m  │\n",
       "│  \u001b[1m              \u001b[0m \u001b[3m \u001b[0m\u001b[3m \u001b[0m\u001b[3m \u001b[0m\u001b[3msn84020351_1921-02-12_ed-1_se\u001b[0m\u001b[3m \u001b[0m\u001b[3m \u001b[0m\u001b[3m \u001b[0m\u001b[3mPublished Every Saturday\u001b[0m\u001b[3m     \u001b[0m\u001b[3m \u001b[0m\u001b[3m \u001b[0m\u001b[3m \u001b[0m\u001b[3m1921-02-12\u001b[0m\u001b[3m \u001b[0m\u001b[3m \u001b[0m\u001b[3m \u001b[0m\u001b[3msn84020351\u001b[0m\u001b[3m     \u001b[0m\u001b[3m \u001b[0m\u001b[3m \u001b[0m\u001b[3m \u001b[0m\u001b[3mLa_Sentinella\u001b[0m\u001b[3m     \u001b[0m\u001b[3m \u001b[0m\u001b[3m \u001b[0m\u001b[3m \u001b[0m  │\n",
       "│  \u001b[1m              \u001b[0m \u001b[3m \u001b[0m\u001b[3m \u001b[0m\u001b[3m \u001b[0m\u001b[3msn84020351_1925-09-26_ed-1_se\u001b[0m\u001b[3m \u001b[0m\u001b[3m \u001b[0m\u001b[3m \u001b[0m\u001b[3mP. ALTIERI. Editoi\u001b[0m\u001b[3m           \u001b[0m\u001b[3m \u001b[0m\u001b[3m \u001b[0m\u001b[3m \u001b[0m\u001b[3m1925-09-26\u001b[0m\u001b[3m \u001b[0m\u001b[3m \u001b[0m\u001b[3m \u001b[0m\u001b[3msn84020351\u001b[0m\u001b[3m     \u001b[0m\u001b[3m \u001b[0m\u001b[3m \u001b[0m\u001b[3m \u001b[0m\u001b[3mLa_Sentinella\u001b[0m\u001b[3m     \u001b[0m\u001b[3m \u001b[0m\u001b[3m \u001b[0m\u001b[3m \u001b[0m  │\n",
       "│  \u001b[1m              \u001b[0m \u001b[3m \u001b[0m\u001b[3m \u001b[0m\u001b[3m \u001b[0m\u001b[3msn84020351_1922-09-02_ed-1_se\u001b[0m\u001b[3m \u001b[0m\u001b[3m \u001b[0m\u001b[3m \u001b[0m\u001b[3mI nuovi venuti, che hanno abi\u001b[0m\u001b[3m \u001b[0m\u001b[3m \u001b[0m\u001b[3m \u001b[0m\u001b[3m1922-09-02\u001b[0m\u001b[3m \u001b[0m\u001b[3m \u001b[0m\u001b[3m \u001b[0m\u001b[3msn84020351\u001b[0m\u001b[3m     \u001b[0m\u001b[3m \u001b[0m\u001b[3m \u001b[0m\u001b[3m \u001b[0m\u001b[3mLa_Sentinella\u001b[0m\u001b[3m     \u001b[0m\u001b[3m \u001b[0m\u001b[3m \u001b[0m\u001b[3m \u001b[0m  │\n",
       "│  \u001b[1m              \u001b[0m \u001b[3m \u001b[0m\u001b[3m \u001b[0m\u001b[3m \u001b[0m\u001b[3msn84020351_1927-10-29_ed-1_se\u001b[0m\u001b[3m \u001b[0m\u001b[3m \u001b[0m\u001b[3m \u001b[0m\u001b[3mepoca ha fatto onore nor\u001b[0m\u001b[3m     \u001b[0m\u001b[3m \u001b[0m\u001b[3m \u001b[0m\u001b[3m \u001b[0m\u001b[3m1927-10-29\u001b[0m\u001b[3m \u001b[0m\u001b[3m \u001b[0m\u001b[3m \u001b[0m\u001b[3msn84020351\u001b[0m\u001b[3m     \u001b[0m\u001b[3m \u001b[0m\u001b[3m \u001b[0m\u001b[3m \u001b[0m\u001b[3mLa_Sentinella\u001b[0m\u001b[3m     \u001b[0m\u001b[3m \u001b[0m\u001b[3m \u001b[0m\u001b[3m \u001b[0m  │\n",
       "│  \u001b[1m              \u001b[0m \u001b[3m \u001b[0m\u001b[3m \u001b[0m\u001b[3m \u001b[0m\u001b[3msn84020351_1921-08-27_ed-1_se\u001b[0m\u001b[3m \u001b[0m\u001b[3m \u001b[0m\u001b[3m \u001b[0m\u001b[3mBy P. ALTIERI\u001b[0m\u001b[3m                \u001b[0m\u001b[3m \u001b[0m\u001b[3m \u001b[0m\u001b[3m \u001b[0m\u001b[3m1921-08-27\u001b[0m\u001b[3m \u001b[0m\u001b[3m \u001b[0m\u001b[3m \u001b[0m\u001b[3msn84020351\u001b[0m\u001b[3m     \u001b[0m\u001b[3m \u001b[0m\u001b[3m \u001b[0m\u001b[3m \u001b[0m\u001b[3mLa_Sentinella\u001b[0m\u001b[3m     \u001b[0m\u001b[3m \u001b[0m\u001b[3m \u001b[0m\u001b[3m \u001b[0m  │\n",
       "│  \u001b[1m              \u001b[0m \u001b[3m \u001b[0m\u001b[3m \u001b[0m\u001b[3m \u001b[0m\u001b[3msn84020351_1922-02-04_ed-1_se\u001b[0m\u001b[3m \u001b[0m\u001b[3m \u001b[0m\u001b[3m \u001b[0m\u001b[3mPublished Every Saturday\u001b[0m\u001b[3m     \u001b[0m\u001b[3m \u001b[0m\u001b[3m \u001b[0m\u001b[3m \u001b[0m\u001b[3m1922-02-04\u001b[0m\u001b[3m \u001b[0m\u001b[3m \u001b[0m\u001b[3m \u001b[0m\u001b[3msn84020351\u001b[0m\u001b[3m     \u001b[0m\u001b[3m \u001b[0m\u001b[3m \u001b[0m\u001b[3m \u001b[0m\u001b[3mLa_Sentinella\u001b[0m\u001b[3m     \u001b[0m\u001b[3m \u001b[0m\u001b[3m \u001b[0m\u001b[3m \u001b[0m  │\n",
       "│  \u001b[1m              \u001b[0m \u001b[3m \u001b[0m\u001b[3m \u001b[0m\u001b[3m \u001b[0m\u001b[3msn84020351_1922-08-05_ed-1_se\u001b[0m\u001b[3m \u001b[0m\u001b[3m \u001b[0m\u001b[3m \u001b[0m\u001b[3mSono stato fra i primi in Ita\u001b[0m\u001b[3m \u001b[0m\u001b[3m \u001b[0m\u001b[3m \u001b[0m\u001b[3m1922-08-05\u001b[0m\u001b[3m \u001b[0m\u001b[3m \u001b[0m\u001b[3m \u001b[0m\u001b[3msn84020351\u001b[0m\u001b[3m     \u001b[0m\u001b[3m \u001b[0m\u001b[3m \u001b[0m\u001b[3m \u001b[0m\u001b[3mLa_Sentinella\u001b[0m\u001b[3m     \u001b[0m\u001b[3m \u001b[0m\u001b[3m \u001b[0m\u001b[3m \u001b[0m  │\n",
       "│  \u001b[1m              \u001b[0m \u001b[3m \u001b[0m\u001b[3m                                                                                                                     \u001b[0m\u001b[3m \u001b[0m  │\n",
       "│                                                                                                                                          │\n",
       "╰──────────────────────────────────────────────────────────────────────────────────────────────────────────────────────────────────────────╯\n"
      ]
     },
     "execution_count": 16,
     "metadata": {},
     "output_type": "execute_result"
    }
   ],
   "source": [
    "get_lccn_metadata_results"
   ]
  }
 ],
 "metadata": {
  "kernelspec": {
   "display_name": "tm_2023",
   "language": "python",
   "name": "python3"
  },
  "language_info": {
   "codemirror_mode": {
    "name": "ipython",
    "version": 3
   },
   "file_extension": ".py",
   "mimetype": "text/x-python",
   "name": "python",
   "nbconvert_exporter": "python",
   "pygments_lexer": "ipython3",
   "version": "3.11.5"
  }
 },
 "nbformat": 4,
 "nbformat_minor": 2
}
