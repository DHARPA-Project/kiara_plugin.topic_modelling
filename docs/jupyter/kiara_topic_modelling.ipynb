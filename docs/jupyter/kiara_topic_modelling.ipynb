{
 "cells": [
  {
   "cell_type": "code",
   "execution_count": 1,
   "metadata": {},
   "outputs": [],
   "source": [
    "# install the package by running the command \"pip install git+https://github.com/DHARPA-Project/kiara_plugin.topic_modelling\"\n",
    "# in your virtual environment.\n",
    "# Alternatively, uncomment and run the line below.\n",
    "# ! pip install git+https://github.com/DHARPA-Project/kiara_plugin.topic_modelling"
   ]
  },
  {
   "cell_type": "code",
   "execution_count": 26,
   "metadata": {},
   "outputs": [],
   "source": [
    "from kiara.api import KiaraAPI\n",
    "kiara = KiaraAPI.instance()"
   ]
  },
  {
   "cell_type": "code",
   "execution_count": 27,
   "metadata": {},
   "outputs": [],
   "source": [
    "import kiara_plugin.tabular.models.table\n",
    "\n",
    "def _repr_mimebundle_(\n",
    "    self,\n",
    "    include,\n",
    "    exclude,\n",
    "    **kwargs,\n",
    "):\n",
    "    df = self.to_pandas_dataframe()\n",
    "    result = {}\n",
    "    result[\"text/html\"] = df._repr_html_()\n",
    "    return df\n",
    "\n",
    "kiara_plugin.tabular.models.table.KiaraTable._repr_mimebundle_ = _repr_mimebundle_"
   ]
  },
  {
   "cell_type": "markdown",
   "metadata": {},
   "source": [
    "## 1. Data onboarding"
   ]
  },
  {
   "cell_type": "markdown",
   "metadata": {},
   "source": [
    "Choose one of the two options below (1.1 or 1.2) to onboard data."
   ]
  },
  {
   "cell_type": "markdown",
   "metadata": {},
   "source": [
    "### 1.1. Get files from zenodo"
   ]
  },
  {
   "cell_type": "code",
   "execution_count": 28,
   "metadata": {},
   "outputs": [
    {
     "name": "stdout",
     "output_type": "stream",
     "text": [
      "\n",
      "╭─ Operation: \u001b[1;3mtopic_modelling.create_table_from_zenodo\u001b[0m ────────────────────────╮\n",
      "│                                                                              │\n",
      "│  \u001b[3m \u001b[0m\u001b[3mDocumentation\u001b[0m\u001b[3m \u001b[0m  This module retrieves text files from a specified folder   │\n",
      "│  \u001b[3m               \u001b[0m  hosted on Zenodo.                                          │\n",
      "│  \u001b[3m               \u001b[0m                                                             │\n",
      "│  \u001b[3m               \u001b[0m  It takes the DOI and the name of the file as inputs.       │\n",
      "│  \u001b[3m               \u001b[0m  It outputs a table with two columns: one for the file      │\n",
      "│  \u001b[3m               \u001b[0m  names and the other for the content of these files.        │\n",
      "│  \u001b[3m               \u001b[0m                                                             │\n",
      "│  \u001b[3m               \u001b[0m  Dependencies:                                              │\n",
      "│  \u001b[3m               \u001b[0m  - urllib.request:                                          │\n",
      "│  \u001b[3m               \u001b[0m  https://docs.python.org/3/library/urllib.request.html      │\n",
      "│  \u001b[3m               \u001b[0m  - zipfile:                                                 │\n",
      "│  \u001b[3m               \u001b[0m  https://docs.python.org/3/library/zipfile.html             │\n",
      "│  \u001b[3m               \u001b[0m  - polars: https://www.pola.rs/                             │\n",
      "│                                                                              │\n",
      "│  \u001b[3m \u001b[0m\u001b[3mInputs       \u001b[0m\u001b[3m \u001b[0m                                                             │\n",
      "│  \u001b[3m               \u001b[0m   \u001b[1m \u001b[0m\u001b[1mfield    \u001b[0m\u001b[1m \u001b[0m \u001b[1m        \u001b[0m \u001b[1m          \u001b[0m \u001b[1m          \u001b[0m \u001b[1m           \u001b[0m    │\n",
      "│  \u001b[3m               \u001b[0m   \u001b[1m \u001b[0m\u001b[1mname     \u001b[0m\u001b[1m \u001b[0m \u001b[1m \u001b[0m\u001b[1mtype  \u001b[0m\u001b[1m \u001b[0m \u001b[1m \u001b[0m\u001b[1mdescrip…\u001b[0m\u001b[1m \u001b[0m \u001b[1m \u001b[0m\u001b[1mRequired\u001b[0m\u001b[1m \u001b[0m \u001b[1m \u001b[0m\u001b[1mDefault  \u001b[0m\u001b[1m \u001b[0m    │\n",
      "│  \u001b[3m               \u001b[0m   ──────────────────────────────────────────────────────    │\n",
      "│  \u001b[3m               \u001b[0m   \u001b[3m \u001b[0m\u001b[3mdoi      \u001b[0m\u001b[3m \u001b[0m  string   The        \u001b[1myes\u001b[0m        -- no         │\n",
      "│  \u001b[3m               \u001b[0m   \u001b[3m           \u001b[0m           Digital               default       │\n",
      "│  \u001b[3m               \u001b[0m   \u001b[3m           \u001b[0m           Object                --            │\n",
      "│  \u001b[3m               \u001b[0m   \u001b[3m           \u001b[0m           Identif…                            │\n",
      "│  \u001b[3m               \u001b[0m   \u001b[3m           \u001b[0m           for the                             │\n",
      "│  \u001b[3m               \u001b[0m   \u001b[3m           \u001b[0m           resourc…                            │\n",
      "│  \u001b[3m               \u001b[0m   \u001b[3m \u001b[0m\u001b[3mfile_name\u001b[0m\u001b[3m \u001b[0m  string   The name   \u001b[1myes\u001b[0m        -- no         │\n",
      "│  \u001b[3m               \u001b[0m   \u001b[3m           \u001b[0m           of the                default       │\n",
      "│  \u001b[3m               \u001b[0m   \u001b[3m           \u001b[0m           file to               --            │\n",
      "│  \u001b[3m               \u001b[0m   \u001b[3m           \u001b[0m           be                                  │\n",
      "│  \u001b[3m               \u001b[0m   \u001b[3m           \u001b[0m           process…                            │\n",
      "│  \u001b[3m               \u001b[0m                                                             │\n",
      "│                                                                              │\n",
      "│  \u001b[3m \u001b[0m\u001b[3mOutputs      \u001b[0m\u001b[3m \u001b[0m                                                             │\n",
      "│  \u001b[3m               \u001b[0m   \u001b[1m \u001b[0m\u001b[1mfield name  \u001b[0m\u001b[1m \u001b[0m \u001b[1m \u001b[0m\u001b[1mtype \u001b[0m\u001b[1m \u001b[0m \u001b[1m \u001b[0m\u001b[1mdescription                  \u001b[0m\u001b[1m \u001b[0m    │\n",
      "│  \u001b[3m               \u001b[0m   ──────────────────────────────────────────────────────    │\n",
      "│  \u001b[3m               \u001b[0m   \u001b[3m \u001b[0m\u001b[3mcorpus_table\u001b[0m\u001b[3m \u001b[0m  table   A table with two columns:         │\n",
      "│  \u001b[3m               \u001b[0m   \u001b[3m              \u001b[0m          file names and their              │\n",
      "│  \u001b[3m               \u001b[0m   \u001b[3m              \u001b[0m          contents.                         │\n",
      "│  \u001b[3m               \u001b[0m                                                             │\n",
      "│                                                                              │\n",
      "╰──────────────────────────────────────────────────────────────────────────────╯\n"
     ]
    }
   ],
   "source": [
    "! kiara operation explain topic_modelling.create_table_from_zenodo"
   ]
  },
  {
   "cell_type": "code",
   "execution_count": 29,
   "metadata": {},
   "outputs": [],
   "source": [
    "create_table_from_zenodo_inputs = {\n",
    "    \"doi\": \"4596345\",\n",
    "    \"file_name\": \"ChroniclItaly_3.0_original.zip\"\n",
    "}"
   ]
  },
  {
   "cell_type": "code",
   "execution_count": 30,
   "metadata": {},
   "outputs": [],
   "source": [
    "create_table_from_zenodo_results = kiara.run_job('topic_modelling.create_table_from_zenodo', inputs=create_table_from_zenodo_inputs)"
   ]
  },
  {
   "cell_type": "code",
   "execution_count": 31,
   "metadata": {},
   "outputs": [
    {
     "name": "stderr",
     "output_type": "stream",
     "text": [
      "/opt/miniconda3/envs/tm_2023/lib/python3.11/site-packages/IPython/core/formatters.py:367: FormatterWarning: text/plain formatter returned invalid type <class 'pandas.core.frame.DataFrame'> (expected <class 'dict'>) for object: KiaraTable(model_id=-- n/a --, category=kiara_table, fields=[data_path])\n",
      "  warnings.warn(\n"
     ]
    },
    {
     "data": {
      "text/plain": [
       "KiaraTable(model_id=-- n/a --, category=kiara_table, fields=[data_path])"
      ]
     },
     "execution_count": 31,
     "metadata": {},
     "output_type": "execute_result"
    }
   ],
   "source": [
    "create_table_from_zenodo_results.get_value_data('corpus_table')"
   ]
  },
  {
   "cell_type": "code",
   "execution_count": 13,
   "metadata": {},
   "outputs": [],
   "source": [
    "corpus_table_zenodo = create_table_from_zenodo_results['corpus_table']"
   ]
  },
  {
   "cell_type": "markdown",
   "metadata": {},
   "source": [
    "### 1.2. Get files from .zip url"
   ]
  },
  {
   "cell_type": "code",
   "execution_count": 7,
   "metadata": {},
   "outputs": [
    {
     "name": "stdout",
     "output_type": "stream",
     "text": [
      "\n",
      "╭─ Operation: \u001b[1;3mtopic_modelling.create_table_from_url\u001b[0m ───────────────────────────╮\n",
      "│                                                                              │\n",
      "│  \u001b[3m \u001b[0m\u001b[3mDocumentation\u001b[0m\u001b[3m \u001b[0m  This module retrieves text files from a specified          │\n",
      "│  \u001b[3m               \u001b[0m  sub-path within a zip file hosted at a given URL.          │\n",
      "│  \u001b[3m               \u001b[0m                                                             │\n",
      "│  \u001b[3m               \u001b[0m  It outputs a table with two columns: one for the file      │\n",
      "│  \u001b[3m               \u001b[0m  names and the other for the content of these files.        │\n",
      "│  \u001b[3m               \u001b[0m                                                             │\n",
      "│  \u001b[3m               \u001b[0m  Dependencies:                                              │\n",
      "│  \u001b[3m               \u001b[0m  - urllib.request:                                          │\n",
      "│  \u001b[3m               \u001b[0m  https://docs.python.org/3/library/urllib.request.html      │\n",
      "│  \u001b[3m               \u001b[0m  - zipfile:                                                 │\n",
      "│  \u001b[3m               \u001b[0m  https://docs.python.org/3/library/zipfile.html             │\n",
      "│  \u001b[3m               \u001b[0m  - polars: https://www.pola.rs/                             │\n",
      "│                                                                              │\n",
      "│  \u001b[3m \u001b[0m\u001b[3mInputs       \u001b[0m\u001b[3m \u001b[0m                                                             │\n",
      "│  \u001b[3m               \u001b[0m   \u001b[1m \u001b[0m\u001b[1mfield    \u001b[0m\u001b[1m \u001b[0m \u001b[1m        \u001b[0m \u001b[1m          \u001b[0m \u001b[1m          \u001b[0m \u001b[1m           \u001b[0m    │\n",
      "│  \u001b[3m               \u001b[0m   \u001b[1m \u001b[0m\u001b[1mname     \u001b[0m\u001b[1m \u001b[0m \u001b[1m \u001b[0m\u001b[1mtype  \u001b[0m\u001b[1m \u001b[0m \u001b[1m \u001b[0m\u001b[1mdescrip…\u001b[0m\u001b[1m \u001b[0m \u001b[1m \u001b[0m\u001b[1mRequired\u001b[0m\u001b[1m \u001b[0m \u001b[1m \u001b[0m\u001b[1mDefault  \u001b[0m\u001b[1m \u001b[0m    │\n",
      "│  \u001b[3m               \u001b[0m   ──────────────────────────────────────────────────────    │\n",
      "│  \u001b[3m               \u001b[0m   \u001b[3m \u001b[0m\u001b[3murl      \u001b[0m\u001b[3m \u001b[0m  string   URL of     \u001b[1myes\u001b[0m        -- no         │\n",
      "│  \u001b[3m               \u001b[0m   \u001b[3m           \u001b[0m           the zip               default       │\n",
      "│  \u001b[3m               \u001b[0m   \u001b[3m           \u001b[0m           file to               --            │\n",
      "│  \u001b[3m               \u001b[0m   \u001b[3m           \u001b[0m           retrieve                            │\n",
      "│  \u001b[3m               \u001b[0m   \u001b[3m           \u001b[0m           text                                │\n",
      "│  \u001b[3m               \u001b[0m   \u001b[3m           \u001b[0m           files                               │\n",
      "│  \u001b[3m               \u001b[0m   \u001b[3m           \u001b[0m           from.                               │\n",
      "│  \u001b[3m               \u001b[0m   \u001b[3m \u001b[0m\u001b[3msub_path \u001b[0m\u001b[3m \u001b[0m  string   Sub-path   no         -- no         │\n",
      "│  \u001b[3m               \u001b[0m   \u001b[3m           \u001b[0m           within                default       │\n",
      "│  \u001b[3m               \u001b[0m   \u001b[3m           \u001b[0m           the zip               --            │\n",
      "│  \u001b[3m               \u001b[0m   \u001b[3m           \u001b[0m           file to                             │\n",
      "│  \u001b[3m               \u001b[0m   \u001b[3m           \u001b[0m           look for                            │\n",
      "│  \u001b[3m               \u001b[0m   \u001b[3m           \u001b[0m           text                                │\n",
      "│  \u001b[3m               \u001b[0m   \u001b[3m           \u001b[0m           files.                              │\n",
      "│  \u001b[3m               \u001b[0m                                                             │\n",
      "│                                                                              │\n",
      "│  \u001b[3m \u001b[0m\u001b[3mOutputs      \u001b[0m\u001b[3m \u001b[0m                                                             │\n",
      "│  \u001b[3m               \u001b[0m   \u001b[1m \u001b[0m\u001b[1mfield name  \u001b[0m\u001b[1m \u001b[0m \u001b[1m \u001b[0m\u001b[1mtype \u001b[0m\u001b[1m \u001b[0m \u001b[1m \u001b[0m\u001b[1mdescription                  \u001b[0m\u001b[1m \u001b[0m    │\n",
      "│  \u001b[3m               \u001b[0m   ──────────────────────────────────────────────────────    │\n",
      "│  \u001b[3m               \u001b[0m   \u001b[3m \u001b[0m\u001b[3mcorpus_table\u001b[0m\u001b[3m \u001b[0m  table   Table with file names and         │\n",
      "│  \u001b[3m               \u001b[0m   \u001b[3m              \u001b[0m          contents.                         │\n",
      "│  \u001b[3m               \u001b[0m                                                             │\n",
      "│                                                                              │\n",
      "╰──────────────────────────────────────────────────────────────────────────────╯\n"
     ]
    }
   ],
   "source": [
    "! kiara operation explain topic_modelling.create_table_from_url"
   ]
  },
  {
   "cell_type": "code",
   "execution_count": 8,
   "metadata": {},
   "outputs": [],
   "source": [
    "create_table_from_url_inputs = {\n",
    "    \"url\": \"https://github.com/DHARPA-Project/kiara.examples/archive/refs/heads/main.zip\",\n",
    "    \"sub_path\": \"kiara.examples-main/examples/workshops/dh_benelux_2023/data\"\n",
    "}"
   ]
  },
  {
   "cell_type": "code",
   "execution_count": 9,
   "metadata": {},
   "outputs": [],
   "source": [
    "create_table_from_url_results = kiara.run_job('topic_modelling.create_table_from_url', inputs=create_table_from_url_inputs)"
   ]
  },
  {
   "cell_type": "code",
   "execution_count": 11,
   "metadata": {},
   "outputs": [
    {
     "data": {
      "text/html": [
       "<div>\n",
       "<style scoped>\n",
       "    .dataframe tbody tr th:only-of-type {\n",
       "        vertical-align: middle;\n",
       "    }\n",
       "\n",
       "    .dataframe tbody tr th {\n",
       "        vertical-align: top;\n",
       "    }\n",
       "\n",
       "    .dataframe thead th {\n",
       "        text-align: right;\n",
       "    }\n",
       "</style>\n",
       "<table border=\"1\" class=\"dataframe\">\n",
       "  <thead>\n",
       "    <tr style=\"text-align: right;\">\n",
       "      <th></th>\n",
       "      <th>file_name</th>\n",
       "      <th>content</th>\n",
       "    </tr>\n",
       "  </thead>\n",
       "  <tbody>\n",
       "    <tr>\n",
       "      <th>0</th>\n",
       "      <td>2012271201_1903-06-06_ed-1_seq-1_ocr.txt</td>\n",
       "      <td>LI 1,111 \"\"\"\"\\n?\\n$\\n: NUMERO 1. li\\n! V\\nH\\n-...</td>\n",
       "    </tr>\n",
       "    <tr>\n",
       "      <th>1</th>\n",
       "      <td>2012271201_1903-06-13_ed-1_seq-1_ocr.txt</td>\n",
       "      <td>Ebdomadario anarchico di propaganda rivoluzion...</td>\n",
       "    </tr>\n",
       "    <tr>\n",
       "      <th>2</th>\n",
       "      <td>2012271201_1903-06-20_ed-1_seq-1_ocr.txt</td>\n",
       "      <td>ANNO I.\\nNUMERO 31\\nVVER\\nEbdomadario anarchic...</td>\n",
       "    </tr>\n",
       "    <tr>\n",
       "      <th>3</th>\n",
       "      <td>2012271201_1903-06-27_ed-1_seq-1_ocr.txt</td>\n",
       "      <td>Ebdomadàrio anarchico di propaganda rivoluzion...</td>\n",
       "    </tr>\n",
       "    <tr>\n",
       "      <th>4</th>\n",
       "      <td>2012271201_1903-07-04_ed-1_seq-1_ocr.txt</td>\n",
       "      <td>NUMERO 5\\nEbdomadario anarchico di propaganda ...</td>\n",
       "    </tr>\n",
       "    <tr>\n",
       "      <th>...</th>\n",
       "      <td>...</td>\n",
       "      <td>...</td>\n",
       "    </tr>\n",
       "    <tr>\n",
       "      <th>7255</th>\n",
       "      <td>sn85066408_1919-12-27_ed-1_seq-1_ocr.txt</td>\n",
       "      <td>ANNO XXXIII\\nPATRIA E UMANITÀ’\\nli PUT Vecchio...</td>\n",
       "    </tr>\n",
       "    <tr>\n",
       "      <th>7256</th>\n",
       "      <td>sn85066408_1919-12-28_ed-1_seq-1_ocr.txt</td>\n",
       "      <td>PATRIA e umanità*\\nil Piu’ Vecchio e Diffuso Q...</td>\n",
       "    </tr>\n",
       "    <tr>\n",
       "      <th>7257</th>\n",
       "      <td>sn85066408_1919-12-29_ed-1_seq-1_ocr.txt</td>\n",
       "      <td>ANNO XXXIII*\\nPATRIA E UMANITÀ’\\nli Piu* Vecch...</td>\n",
       "    </tr>\n",
       "    <tr>\n",
       "      <th>7258</th>\n",
       "      <td>sn85066408_1919-12-30_ed-1_seq-1_ocr.txt</td>\n",
       "      <td>ANNO XXXIII-\\nPATRIA E UMANITÀ’\\nIl Piu’ Vecch...</td>\n",
       "    </tr>\n",
       "    <tr>\n",
       "      <th>7259</th>\n",
       "      <td>sn85066408_1919-12-31_ed-1_seq-1_ocr.txt</td>\n",
       "      <td>\\\\\\ll XXXIII\\nPATRIA E UMANITÀ’\\nIl Piu’ Vecch...</td>\n",
       "    </tr>\n",
       "  </tbody>\n",
       "</table>\n",
       "<p>7260 rows × 2 columns</p>\n",
       "</div>"
      ],
      "text/plain": [
       "KiaraTable(model_id=-- n/a --, category=kiara_table, fields=[data_path])"
      ]
     },
     "execution_count": 11,
     "metadata": {},
     "output_type": "execute_result"
    }
   ],
   "source": [
    "create_table_from_url_results.get_value_data('corpus_table')"
   ]
  },
  {
   "cell_type": "code",
   "execution_count": 12,
   "metadata": {},
   "outputs": [],
   "source": [
    "corpus_table_url = create_table_from_url_results['corpus_table']"
   ]
  },
  {
   "cell_type": "code",
   "execution_count": null,
   "metadata": {},
   "outputs": [],
   "source": []
  }
 ],
 "metadata": {
  "kernelspec": {
   "display_name": "tm_2023",
   "language": "python",
   "name": "python3"
  },
  "language_info": {
   "codemirror_mode": {
    "name": "ipython",
    "version": 3
   },
   "file_extension": ".py",
   "mimetype": "text/x-python",
   "name": "python",
   "nbconvert_exporter": "python",
   "pygments_lexer": "ipython3",
   "version": "3.11.5"
  }
 },
 "nbformat": 4,
 "nbformat_minor": 2
}
